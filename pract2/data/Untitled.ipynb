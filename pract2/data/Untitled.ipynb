{
 "cells": [
  {
   "cell_type": "code",
   "execution_count": 2,
   "id": "cfd67219-5794-46cc-9fdd-3daafd1a1c4d",
   "metadata": {},
   "outputs": [],
   "source": [
    "import pandas as pd\n",
    "df_entrenamiento = pd.read_csv('hyperparameter_tuning_sin_norm.csv')"
   ]
  },
  {
   "cell_type": "code",
   "execution_count": 3,
   "id": "08f0752d-bdcb-4bcf-8ca3-d383249ceedc",
   "metadata": {},
   "outputs": [
    {
     "name": "stdout",
     "output_type": "stream",
     "text": [
      "Index(['Unnamed: 0', 'problema', 'alpha', 'capa_oculta', 'num_epocas',\n",
      "       'score'],\n",
      "      dtype='object')\n"
     ]
    }
   ],
   "source": [
    "print(df_entrenamiento.columns)"
   ]
  },
  {
   "cell_type": "code",
   "execution_count": null,
   "id": "0410c43c-fcf1-46aa-a21c-09602cf37791",
   "metadata": {},
   "outputs": [],
   "source": []
  }
 ],
 "metadata": {
  "kernelspec": {
   "display_name": "Python 3 (ipykernel)",
   "language": "python",
   "name": "python3"
  },
  "language_info": {
   "codemirror_mode": {
    "name": "ipython",
    "version": 3
   },
   "file_extension": ".py",
   "mimetype": "text/x-python",
   "name": "python",
   "nbconvert_exporter": "python",
   "pygments_lexer": "ipython3",
   "version": "3.9.7"
  }
 },
 "nbformat": 4,
 "nbformat_minor": 5
}
