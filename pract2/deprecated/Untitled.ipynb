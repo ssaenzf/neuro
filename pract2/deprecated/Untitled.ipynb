{
 "cells": [
  {
   "cell_type": "code",
   "execution_count": 1,
   "id": "6ff0421e",
   "metadata": {},
   "outputs": [],
   "source": [
    "from sklearn.model_selection import train_test_split\n",
    "import numpy as np\n",
    "from sklearn.preprocessing import StandardScaler"
   ]
  },
  {
   "cell_type": "code",
   "execution_count": 2,
   "id": "cb7aac95",
   "metadata": {},
   "outputs": [],
   "source": [
    "f = open('data/problema_real6.txt', 'r')\n",
    "\n",
    "n_atr, n_class = f.readline().replace('\\n', '').split()\n",
    "n_atr = int(n_atr)\n",
    "n_class = int(n_class)\n",
    "X, y = [], []\n",
    "for row in f.readlines():\n",
    "    row = row.replace('\\n', '').split()\n",
    "    X.append(row[:-n_class])\n",
    "    y_fix = [-1 if int(value) == 0 else int(value) for value in row[-n_class:]]\n",
    "    y.append(y_fix)\n",
    "f.close()\n",
    "\n",
    "X = np.array(X, dtype=float)\n",
    "y = np.array(y, dtype=int)\n",
    "X_train, X_test, y_train, y_test = train_test_split(X, y, test_size=float(0.3))\n",
    "\n",
    "\n",
    "scaler = StandardScaler()\n",
    "scaler.fit(X_train)\n",
    "X_train = scaler.transform(X_train)\n",
    "X_test = scaler.transform(X_test)"
   ]
  },
  {
   "cell_type": "code",
   "execution_count": 11,
   "id": "833d553c",
   "metadata": {},
   "outputs": [
    {
     "data": {
      "text/plain": [
       "56.20484792742992"
      ]
     },
     "execution_count": 11,
     "metadata": {},
     "output_type": "execute_result"
    }
   ],
   "source": [
    "X_train[:, 9].max()"
   ]
  },
  {
   "cell_type": "code",
   "execution_count": 5,
   "id": "a295636d",
   "metadata": {},
   "outputs": [
    {
     "data": {
      "text/plain": [
       "-72.55610992956188"
      ]
     },
     "execution_count": 5,
     "metadata": {},
     "output_type": "execute_result"
    }
   ],
   "source": [
    "X_train.min()"
   ]
  },
  {
   "cell_type": "code",
   "execution_count": null,
   "id": "b03278b2",
   "metadata": {},
   "outputs": [],
   "source": []
  }
 ],
 "metadata": {
  "kernelspec": {
   "display_name": "Python 3 (ipykernel)",
   "language": "python",
   "name": "python3"
  },
  "language_info": {
   "codemirror_mode": {
    "name": "ipython",
    "version": 3
   },
   "file_extension": ".py",
   "mimetype": "text/x-python",
   "name": "python",
   "nbconvert_exporter": "python",
   "pygments_lexer": "ipython3",
   "version": "3.9.7"
  }
 },
 "nbformat": 4,
 "nbformat_minor": 5
}
