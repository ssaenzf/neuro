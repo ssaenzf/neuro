{
 "cells": [
  {
   "cell_type": "code",
   "execution_count": 16,
   "metadata": {
    "colab": {
     "base_uri": "https://localhost:8080/"
    },
    "executionInfo": {
     "elapsed": 24663,
     "status": "ok",
     "timestamp": 1651496205077,
     "user": {
      "displayName": "Zhi jie Qian",
      "userId": "17587581155014799590"
     },
     "user_tz": -120
    },
    "id": "i0iByM16ywAk",
    "outputId": "4c0f4d4f-1ad4-4ab2-d935-57062922946a"
   },
   "outputs": [
    {
     "name": "stdout",
     "output_type": "stream",
     "text": [
      "Requirement already satisfied: keras-tuner in /home/zhijie/anaconda3/envs/neuro/lib/python3.8/site-packages (1.1.2)\n",
      "Requirement already satisfied: numpy in /home/zhijie/.local/lib/python3.8/site-packages (from keras-tuner) (1.21.4)\n",
      "Requirement already satisfied: ipython in /home/zhijie/anaconda3/envs/neuro/lib/python3.8/site-packages (from keras-tuner) (8.3.0)\n",
      "Requirement already satisfied: tensorboard in /home/zhijie/anaconda3/envs/neuro/lib/python3.8/site-packages (from keras-tuner) (2.8.0)\n",
      "Requirement already satisfied: packaging in /home/zhijie/.local/lib/python3.8/site-packages (from keras-tuner) (21.3)\n",
      "Requirement already satisfied: requests in /home/zhijie/.local/lib/python3.8/site-packages (from keras-tuner) (2.27.1)\n",
      "Requirement already satisfied: kt-legacy in /home/zhijie/anaconda3/envs/neuro/lib/python3.8/site-packages (from keras-tuner) (1.0.4)\n",
      "Requirement already satisfied: jedi>=0.16 in /home/zhijie/anaconda3/envs/neuro/lib/python3.8/site-packages (from ipython->keras-tuner) (0.18.1)\n",
      "Requirement already satisfied: decorator in /home/zhijie/anaconda3/envs/neuro/lib/python3.8/site-packages (from ipython->keras-tuner) (5.1.1)\n",
      "Requirement already satisfied: backcall in /home/zhijie/anaconda3/envs/neuro/lib/python3.8/site-packages (from ipython->keras-tuner) (0.2.0)\n",
      "Requirement already satisfied: pexpect>4.3 in /home/zhijie/anaconda3/envs/neuro/lib/python3.8/site-packages (from ipython->keras-tuner) (4.8.0)\n",
      "Requirement already satisfied: matplotlib-inline in /home/zhijie/anaconda3/envs/neuro/lib/python3.8/site-packages (from ipython->keras-tuner) (0.1.3)\n",
      "Requirement already satisfied: traitlets>=5 in /home/zhijie/anaconda3/envs/neuro/lib/python3.8/site-packages (from ipython->keras-tuner) (5.1.1)\n",
      "Requirement already satisfied: prompt-toolkit!=3.0.0,!=3.0.1,<3.1.0,>=2.0.0 in /home/zhijie/anaconda3/envs/neuro/lib/python3.8/site-packages (from ipython->keras-tuner) (3.0.29)\n",
      "Requirement already satisfied: setuptools>=18.5 in /home/zhijie/anaconda3/envs/neuro/lib/python3.8/site-packages (from ipython->keras-tuner) (61.2.0)\n",
      "Requirement already satisfied: stack-data in /home/zhijie/anaconda3/envs/neuro/lib/python3.8/site-packages (from ipython->keras-tuner) (0.2.0)\n",
      "Requirement already satisfied: pygments>=2.4.0 in /home/zhijie/anaconda3/envs/neuro/lib/python3.8/site-packages (from ipython->keras-tuner) (2.12.0)\n",
      "Requirement already satisfied: pickleshare in /home/zhijie/anaconda3/envs/neuro/lib/python3.8/site-packages (from ipython->keras-tuner) (0.7.5)\n",
      "Requirement already satisfied: parso<0.9.0,>=0.8.0 in /home/zhijie/anaconda3/envs/neuro/lib/python3.8/site-packages (from jedi>=0.16->ipython->keras-tuner) (0.8.3)\n",
      "Requirement already satisfied: ptyprocess>=0.5 in /home/zhijie/anaconda3/envs/neuro/lib/python3.8/site-packages (from pexpect>4.3->ipython->keras-tuner) (0.7.0)\n",
      "Requirement already satisfied: wcwidth in /home/zhijie/.local/lib/python3.8/site-packages (from prompt-toolkit!=3.0.0,!=3.0.1,<3.1.0,>=2.0.0->ipython->keras-tuner) (0.1.9)\n",
      "Requirement already satisfied: pyparsing!=3.0.5,>=2.0.2 in /home/zhijie/.local/lib/python3.8/site-packages (from packaging->keras-tuner) (3.0.6)\n",
      "Requirement already satisfied: certifi>=2017.4.17 in /home/zhijie/anaconda3/envs/neuro/lib/python3.8/site-packages (from requests->keras-tuner) (2021.10.8)\n",
      "Requirement already satisfied: idna<4,>=2.5 in /home/zhijie/anaconda3/envs/neuro/lib/python3.8/site-packages (from requests->keras-tuner) (3.3)\n",
      "Requirement already satisfied: urllib3<1.27,>=1.21.1 in /home/zhijie/.local/lib/python3.8/site-packages (from requests->keras-tuner) (1.26.8)\n",
      "Requirement already satisfied: charset-normalizer~=2.0.0 in /home/zhijie/.local/lib/python3.8/site-packages (from requests->keras-tuner) (2.0.12)\n",
      "Requirement already satisfied: executing in /home/zhijie/anaconda3/envs/neuro/lib/python3.8/site-packages (from stack-data->ipython->keras-tuner) (0.8.3)\n",
      "Requirement already satisfied: asttokens in /home/zhijie/anaconda3/envs/neuro/lib/python3.8/site-packages (from stack-data->ipython->keras-tuner) (2.0.5)\n",
      "Requirement already satisfied: pure-eval in /home/zhijie/anaconda3/envs/neuro/lib/python3.8/site-packages (from stack-data->ipython->keras-tuner) (0.2.2)\n",
      "Requirement already satisfied: six in /home/zhijie/anaconda3/envs/neuro/lib/python3.8/site-packages (from asttokens->stack-data->ipython->keras-tuner) (1.16.0)\n",
      "Requirement already satisfied: werkzeug>=0.11.15 in /home/zhijie/anaconda3/envs/neuro/lib/python3.8/site-packages (from tensorboard->keras-tuner) (2.1.2)\n",
      "Requirement already satisfied: tensorboard-plugin-wit>=1.6.0 in /home/zhijie/anaconda3/envs/neuro/lib/python3.8/site-packages (from tensorboard->keras-tuner) (1.8.1)\n",
      "Requirement already satisfied: wheel>=0.26 in /home/zhijie/anaconda3/envs/neuro/lib/python3.8/site-packages (from tensorboard->keras-tuner) (0.37.1)\n",
      "Requirement already satisfied: protobuf>=3.6.0 in /home/zhijie/anaconda3/envs/neuro/lib/python3.8/site-packages (from tensorboard->keras-tuner) (3.20.1)\n",
      "Requirement already satisfied: google-auth-oauthlib<0.5,>=0.4.1 in /home/zhijie/anaconda3/envs/neuro/lib/python3.8/site-packages (from tensorboard->keras-tuner) (0.4.6)\n",
      "Requirement already satisfied: markdown>=2.6.8 in /home/zhijie/anaconda3/envs/neuro/lib/python3.8/site-packages (from tensorboard->keras-tuner) (3.3.6)\n",
      "Requirement already satisfied: tensorboard-data-server<0.7.0,>=0.6.0 in /home/zhijie/anaconda3/envs/neuro/lib/python3.8/site-packages (from tensorboard->keras-tuner) (0.6.1)\n",
      "Requirement already satisfied: absl-py>=0.4 in /home/zhijie/anaconda3/envs/neuro/lib/python3.8/site-packages (from tensorboard->keras-tuner) (1.0.0)\n",
      "Requirement already satisfied: google-auth<3,>=1.6.3 in /home/zhijie/anaconda3/envs/neuro/lib/python3.8/site-packages (from tensorboard->keras-tuner) (2.6.6)\n",
      "Requirement already satisfied: grpcio>=1.24.3 in /home/zhijie/anaconda3/envs/neuro/lib/python3.8/site-packages (from tensorboard->keras-tuner) (1.46.0)\n",
      "Requirement already satisfied: rsa<5,>=3.1.4 in /home/zhijie/anaconda3/envs/neuro/lib/python3.8/site-packages (from google-auth<3,>=1.6.3->tensorboard->keras-tuner) (4.8)\n",
      "Requirement already satisfied: pyasn1-modules>=0.2.1 in /home/zhijie/anaconda3/envs/neuro/lib/python3.8/site-packages (from google-auth<3,>=1.6.3->tensorboard->keras-tuner) (0.2.8)\n",
      "Requirement already satisfied: cachetools<6.0,>=2.0.0 in /home/zhijie/anaconda3/envs/neuro/lib/python3.8/site-packages (from google-auth<3,>=1.6.3->tensorboard->keras-tuner) (5.0.0)\n",
      "Requirement already satisfied: requests-oauthlib>=0.7.0 in /home/zhijie/anaconda3/envs/neuro/lib/python3.8/site-packages (from google-auth-oauthlib<0.5,>=0.4.1->tensorboard->keras-tuner) (1.3.1)\n",
      "Requirement already satisfied: importlib-metadata>=4.4 in /home/zhijie/anaconda3/envs/neuro/lib/python3.8/site-packages (from markdown>=2.6.8->tensorboard->keras-tuner) (4.11.3)\n",
      "Requirement already satisfied: zipp>=0.5 in /home/zhijie/anaconda3/envs/neuro/lib/python3.8/site-packages (from importlib-metadata>=4.4->markdown>=2.6.8->tensorboard->keras-tuner) (3.8.0)\n",
      "Requirement already satisfied: pyasn1<0.5.0,>=0.4.6 in /home/zhijie/anaconda3/envs/neuro/lib/python3.8/site-packages (from pyasn1-modules>=0.2.1->google-auth<3,>=1.6.3->tensorboard->keras-tuner) (0.4.8)\n",
      "Requirement already satisfied: oauthlib>=3.0.0 in /home/zhijie/anaconda3/envs/neuro/lib/python3.8/site-packages (from requests-oauthlib>=0.7.0->google-auth-oauthlib<0.5,>=0.4.1->tensorboard->keras-tuner) (3.2.0)\n",
      "Requirement already satisfied: tensorflow in /home/zhijie/anaconda3/envs/neuro/lib/python3.8/site-packages (2.8.0)\n",
      "Requirement already satisfied: astunparse>=1.6.0 in /home/zhijie/anaconda3/envs/neuro/lib/python3.8/site-packages (from tensorflow) (1.6.3)\n",
      "Requirement already satisfied: grpcio<2.0,>=1.24.3 in /home/zhijie/anaconda3/envs/neuro/lib/python3.8/site-packages (from tensorflow) (1.46.0)\n",
      "Requirement already satisfied: gast>=0.2.1 in /home/zhijie/anaconda3/envs/neuro/lib/python3.8/site-packages (from tensorflow) (0.5.3)\n",
      "Requirement already satisfied: protobuf>=3.9.2 in /home/zhijie/anaconda3/envs/neuro/lib/python3.8/site-packages (from tensorflow) (3.20.1)\n",
      "Requirement already satisfied: flatbuffers>=1.12 in /home/zhijie/anaconda3/envs/neuro/lib/python3.8/site-packages (from tensorflow) (2.0)\n"
     ]
    },
    {
     "name": "stdout",
     "output_type": "stream",
     "text": [
      "Requirement already satisfied: opt-einsum>=2.3.2 in /home/zhijie/anaconda3/envs/neuro/lib/python3.8/site-packages (from tensorflow) (3.3.0)\n",
      "Requirement already satisfied: libclang>=9.0.1 in /home/zhijie/anaconda3/envs/neuro/lib/python3.8/site-packages (from tensorflow) (14.0.1)\n",
      "Requirement already satisfied: termcolor>=1.1.0 in /home/zhijie/.local/lib/python3.8/site-packages (from tensorflow) (1.1.0)\n",
      "Requirement already satisfied: absl-py>=0.4.0 in /home/zhijie/anaconda3/envs/neuro/lib/python3.8/site-packages (from tensorflow) (1.0.0)\n",
      "Requirement already satisfied: tensorflow-io-gcs-filesystem>=0.23.1 in /home/zhijie/anaconda3/envs/neuro/lib/python3.8/site-packages (from tensorflow) (0.25.0)\n",
      "Requirement already satisfied: h5py>=2.9.0 in /home/zhijie/anaconda3/envs/neuro/lib/python3.8/site-packages (from tensorflow) (3.6.0)\n",
      "Requirement already satisfied: setuptools in /home/zhijie/anaconda3/envs/neuro/lib/python3.8/site-packages (from tensorflow) (61.2.0)\n",
      "Requirement already satisfied: tf-estimator-nightly==2.8.0.dev2021122109 in /home/zhijie/anaconda3/envs/neuro/lib/python3.8/site-packages (from tensorflow) (2.8.0.dev2021122109)\n",
      "Requirement already satisfied: keras-preprocessing>=1.1.1 in /home/zhijie/anaconda3/envs/neuro/lib/python3.8/site-packages (from tensorflow) (1.1.2)\n",
      "Requirement already satisfied: tensorboard<2.9,>=2.8 in /home/zhijie/anaconda3/envs/neuro/lib/python3.8/site-packages (from tensorflow) (2.8.0)\n",
      "Requirement already satisfied: typing-extensions>=3.6.6 in /home/zhijie/anaconda3/envs/neuro/lib/python3.8/site-packages (from tensorflow) (4.2.0)\n",
      "Requirement already satisfied: six>=1.12.0 in /home/zhijie/anaconda3/envs/neuro/lib/python3.8/site-packages (from tensorflow) (1.16.0)\n",
      "Requirement already satisfied: wrapt>=1.11.0 in /home/zhijie/anaconda3/envs/neuro/lib/python3.8/site-packages (from tensorflow) (1.14.1)\n",
      "Requirement already satisfied: keras<2.9,>=2.8.0rc0 in /home/zhijie/anaconda3/envs/neuro/lib/python3.8/site-packages (from tensorflow) (2.8.0)\n",
      "Requirement already satisfied: google-pasta>=0.1.1 in /home/zhijie/anaconda3/envs/neuro/lib/python3.8/site-packages (from tensorflow) (0.2.0)\n",
      "Requirement already satisfied: numpy>=1.20 in /home/zhijie/.local/lib/python3.8/site-packages (from tensorflow) (1.21.4)\n",
      "Requirement already satisfied: wheel<1.0,>=0.23.0 in /home/zhijie/anaconda3/envs/neuro/lib/python3.8/site-packages (from astunparse>=1.6.0->tensorflow) (0.37.1)\n",
      "Requirement already satisfied: markdown>=2.6.8 in /home/zhijie/anaconda3/envs/neuro/lib/python3.8/site-packages (from tensorboard<2.9,>=2.8->tensorflow) (3.3.6)\n",
      "Requirement already satisfied: google-auth-oauthlib<0.5,>=0.4.1 in /home/zhijie/anaconda3/envs/neuro/lib/python3.8/site-packages (from tensorboard<2.9,>=2.8->tensorflow) (0.4.6)\n",
      "Requirement already satisfied: tensorboard-data-server<0.7.0,>=0.6.0 in /home/zhijie/anaconda3/envs/neuro/lib/python3.8/site-packages (from tensorboard<2.9,>=2.8->tensorflow) (0.6.1)\n",
      "Requirement already satisfied: tensorboard-plugin-wit>=1.6.0 in /home/zhijie/anaconda3/envs/neuro/lib/python3.8/site-packages (from tensorboard<2.9,>=2.8->tensorflow) (1.8.1)\n",
      "Requirement already satisfied: werkzeug>=0.11.15 in /home/zhijie/anaconda3/envs/neuro/lib/python3.8/site-packages (from tensorboard<2.9,>=2.8->tensorflow) (2.1.2)\n",
      "Requirement already satisfied: requests<3,>=2.21.0 in /home/zhijie/.local/lib/python3.8/site-packages (from tensorboard<2.9,>=2.8->tensorflow) (2.27.1)\n",
      "Requirement already satisfied: google-auth<3,>=1.6.3 in /home/zhijie/anaconda3/envs/neuro/lib/python3.8/site-packages (from tensorboard<2.9,>=2.8->tensorflow) (2.6.6)\n",
      "Requirement already satisfied: cachetools<6.0,>=2.0.0 in /home/zhijie/anaconda3/envs/neuro/lib/python3.8/site-packages (from google-auth<3,>=1.6.3->tensorboard<2.9,>=2.8->tensorflow) (5.0.0)\n",
      "Requirement already satisfied: pyasn1-modules>=0.2.1 in /home/zhijie/anaconda3/envs/neuro/lib/python3.8/site-packages (from google-auth<3,>=1.6.3->tensorboard<2.9,>=2.8->tensorflow) (0.2.8)\n",
      "Requirement already satisfied: rsa<5,>=3.1.4 in /home/zhijie/anaconda3/envs/neuro/lib/python3.8/site-packages (from google-auth<3,>=1.6.3->tensorboard<2.9,>=2.8->tensorflow) (4.8)\n",
      "Requirement already satisfied: requests-oauthlib>=0.7.0 in /home/zhijie/anaconda3/envs/neuro/lib/python3.8/site-packages (from google-auth-oauthlib<0.5,>=0.4.1->tensorboard<2.9,>=2.8->tensorflow) (1.3.1)\n",
      "Requirement already satisfied: importlib-metadata>=4.4 in /home/zhijie/anaconda3/envs/neuro/lib/python3.8/site-packages (from markdown>=2.6.8->tensorboard<2.9,>=2.8->tensorflow) (4.11.3)\n",
      "Requirement already satisfied: zipp>=0.5 in /home/zhijie/anaconda3/envs/neuro/lib/python3.8/site-packages (from importlib-metadata>=4.4->markdown>=2.6.8->tensorboard<2.9,>=2.8->tensorflow) (3.8.0)\n",
      "Requirement already satisfied: pyasn1<0.5.0,>=0.4.6 in /home/zhijie/anaconda3/envs/neuro/lib/python3.8/site-packages (from pyasn1-modules>=0.2.1->google-auth<3,>=1.6.3->tensorboard<2.9,>=2.8->tensorflow) (0.4.8)\n",
      "Requirement already satisfied: charset-normalizer~=2.0.0 in /home/zhijie/.local/lib/python3.8/site-packages (from requests<3,>=2.21.0->tensorboard<2.9,>=2.8->tensorflow) (2.0.12)\n",
      "Requirement already satisfied: certifi>=2017.4.17 in /home/zhijie/anaconda3/envs/neuro/lib/python3.8/site-packages (from requests<3,>=2.21.0->tensorboard<2.9,>=2.8->tensorflow) (2021.10.8)\n",
      "Requirement already satisfied: urllib3<1.27,>=1.21.1 in /home/zhijie/.local/lib/python3.8/site-packages (from requests<3,>=2.21.0->tensorboard<2.9,>=2.8->tensorflow) (1.26.8)\n",
      "Requirement already satisfied: idna<4,>=2.5 in /home/zhijie/anaconda3/envs/neuro/lib/python3.8/site-packages (from requests<3,>=2.21.0->tensorboard<2.9,>=2.8->tensorflow) (3.3)\n",
      "Requirement already satisfied: oauthlib>=3.0.0 in /home/zhijie/anaconda3/envs/neuro/lib/python3.8/site-packages (from requests-oauthlib>=0.7.0->google-auth-oauthlib<0.5,>=0.4.1->tensorboard<2.9,>=2.8->tensorflow) (3.2.0)\n"
     ]
    }
   ],
   "source": [
    "!pip3 install -U keras-tuner\n",
    "!pip3 install tensorflow\n",
    "import keras_tuner\n",
    "from kerastuner.tuners import RandomSearch\n",
    "\n",
    "import numpy as np\n",
    "import matplotlib.pyplot as plt\n",
    "import tensorflow as tf\n",
    "from tensorflow import keras\n",
    "import keras as k\n",
    "from keras.models import Sequential\n",
    "from keras.layers import Dense\n",
    "from sklearn.metrics import classification_report, confusion_matrix\n",
    "import json\n",
    "from sklearn.metrics import f1_score"
   ]
  },
  {
   "cell_type": "code",
   "execution_count": 4,
   "metadata": {},
   "outputs": [],
   "source": [
    "gpu_devices = tf.config.experimental.list_physical_devices('GPU')\n",
    "for device in gpu_devices:\n",
    "    tf.config.experimental.set_memory_growth(device, True)"
   ]
  },
  {
   "cell_type": "code",
   "execution_count": 5,
   "metadata": {
    "colab": {
     "base_uri": "https://localhost:8080/"
    },
    "executionInfo": {
     "elapsed": 27,
     "status": "ok",
     "timestamp": 1651496205078,
     "user": {
      "displayName": "Zhi jie Qian",
      "userId": "17587581155014799590"
     },
     "user_tz": -120
    },
    "id": "mVMv6vx9D5dS",
    "outputId": "f3502884-b9b5-419f-d8b5-128c3b03c2d0"
   },
   "outputs": [],
   "source": [
    "dataset_url = 'https://www.openml.org/data/get_csv/4965303/flare.arff' \n",
    "\n",
    "dataset = np.genfromtxt(dataset_url, delimiter=',', skip_header=1)\n",
    "x = dataset[:,:-4]\n",
    "x_size = x.shape[1]\n",
    "y = dataset[:,-1]\n",
    "\n",
    "\n",
    "from sklearn.model_selection import train_test_split\n",
    "x_train, x_val, y_train, y_val = train_test_split(x, y, stratify=y, test_size=0.2)"
   ]
  },
  {
   "cell_type": "code",
   "execution_count": 9,
   "metadata": {
    "executionInfo": {
     "elapsed": 2717,
     "status": "ok",
     "timestamp": 1651496207789,
     "user": {
      "displayName": "Zhi jie Qian",
      "userId": "17587581155014799590"
     },
     "user_tz": -120
    },
    "id": "1G20DLNTERXh"
   },
   "outputs": [],
   "source": [
    "metrics = [keras.metrics.BinaryAccuracy(name='ACC')]"
   ]
  },
  {
   "cell_type": "code",
   "execution_count": 12,
   "metadata": {
    "executionInfo": {
     "elapsed": 26,
     "status": "ok",
     "timestamp": 1651496207791,
     "user": {
      "displayName": "Zhi jie Qian",
      "userId": "17587581155014799590"
     },
     "user_tz": -120
    },
    "id": "RZD1IJBTClgw"
   },
   "outputs": [],
   "source": [
    "def work(build_model, max_trials=50, epochs=50):\n",
    "    !rm -rf untitled_project/\n",
    "    tuner = RandomSearch(build_model, objective='val_ACC', max_trials=max_trials, executions_per_trial=3)\n",
    "    tuner.search_space_summary()\n",
    "    tuner.search(x_train, y_train, epochs=epochs, class_weight=class_weights, validation_data=(x_val, y_val), verbose=0)\n",
    "    tuner.results_summary()\n",
    "    return tuner"
   ]
  },
  {
   "cell_type": "code",
   "execution_count": null,
   "metadata": {},
   "outputs": [],
   "source": [
    "def find_F1_score(tuner):\n",
    "    best_nn = tuner.get_best_models()\n",
    "    best_model = None\n",
    "    best_score = 0\n",
    "    for model in best_nn:\n",
    "        y_pred = model.predict(x_val)\n",
    "        y_pred = y_pred > 0.5\n",
    "        f1_score = f1_score(y_val, y_pred, average='weighted')\n",
    "        if f1_score > best_score:\n",
    "            best_model = model\n",
    "            best_score = f1_score\n",
    "\n",
    "\n",
    "    y_pred = best_model.predict(x_val)\n",
    "    y_pred = y_pred > 0.5\n",
    "    print(confusion_matrix(y_val, y_pred))\n",
    "    print(classification_report(y_val, y_pred, zero_division=0))\n",
    "    config = json.dumps(best_model.get_config(), indent=2)\n",
    "    print(config)"
   ]
  },
  {
   "cell_type": "markdown",
   "metadata": {
    "id": "5sZft7AQFToI"
   },
   "source": [
    "### Loss = binary_crossentropy"
   ]
  },
  {
   "cell_type": "code",
   "execution_count": 13,
   "metadata": {
    "colab": {
     "base_uri": "https://localhost:8080/",
     "height": 522
    },
    "executionInfo": {
     "elapsed": 7844,
     "status": "error",
     "timestamp": 1651491003895,
     "user": {
      "displayName": "Zhi jie Qian",
      "userId": "17587581155014799590"
     },
     "user_tz": -120
    },
    "id": "Yi9hlEqpGBSH",
    "outputId": "c7052264-30bd-46e5-bea3-621e1a53bc87"
   },
   "outputs": [
    {
     "name": "stdout",
     "output_type": "stream",
     "text": [
      "Search space summary\n",
      "Default search space size: 3\n",
      "units (Int)\n",
      "{'default': None, 'conditions': [], 'min_value': 1, 'max_value': 100, 'step': 1, 'sampling': None}\n",
      "dense_activation1 (Choice)\n",
      "{'default': 'relu', 'conditions': [], 'values': ['relu', 'tanh', 'sigmoid'], 'ordered': False}\n",
      "learning_rate (Choice)\n",
      "{'default': 0.01, 'conditions': [], 'values': [0.01, 0.003, 0.001, 0.0003, 0.0001], 'ordered': True}\n",
      "INFO:tensorflow:Oracle triggered exit\n",
      "Results summary\n",
      "Results in ./untitled_project\n",
      "Showing 10 best trials\n",
      "<keras_tuner.engine.objective.Objective object at 0x7fd6e84788e0>\n",
      "Trial summary\n",
      "Hyperparameters:\n",
      "units: 64\n",
      "dense_activation1: sigmoid\n",
      "learning_rate: 0.0001\n",
      "Score: 0.7975077827771505\n",
      "Trial summary\n",
      "Hyperparameters:\n",
      "units: 32\n",
      "dense_activation1: tanh\n",
      "learning_rate: 0.0001\n",
      "Score: 0.7133956352869669\n"
     ]
    }
   ],
   "source": [
    "def build_model_mse_1(hp):\n",
    "    nn = Sequential()\n",
    "    nn.add(Dense(units=hp.Int('units', 5, 40), activation=hp.Choice('dense_activation1', values= ['relu', \"tanh\", 'sigmoid'])))\n",
    "    nn.add(Dense(1, activation=\"sigmoid\"))\n",
    "    nn.compile(optimizer=keras.optimizers.Adam(hp.Choice('learning_rate', values=[0.01, 0.003, 0.001, 0.0003, 0.0001])), loss=\"mse\", metrics=metrics)\n",
    "    return nn\n",
    "\n",
    "tuner = work(build_model_mse_1, max_trials=200)\n",
    "find_F1_score(tuner)"
   ]
  },
  {
   "cell_type": "code",
   "execution_count": 14,
   "metadata": {
    "colab": {
     "base_uri": "https://localhost:8080/"
    },
    "executionInfo": {
     "elapsed": 34695,
     "status": "ok",
     "timestamp": 1651450183979,
     "user": {
      "displayName": "Zhi jie Qian",
      "userId": "17587581155014799590"
     },
     "user_tz": -120
    },
    "id": "hX-g6IXdF_qd",
    "outputId": "ffa61bee-8168-4dbe-b4d6-b5d8241826e8"
   },
   "outputs": [
    {
     "name": "stdout",
     "output_type": "stream",
     "text": [
      "Search space summary\n",
      "Default search space size: 5\n",
      "units_1 (Int)\n",
      "{'default': None, 'conditions': [], 'min_value': 1, 'max_value': 100, 'step': 1, 'sampling': None}\n",
      "activation_1 (Choice)\n",
      "{'default': 'relu', 'conditions': [], 'values': ['relu', 'tanh', 'sigmoid'], 'ordered': False}\n",
      "units_2 (Int)\n",
      "{'default': None, 'conditions': [], 'min_value': 1, 'max_value': 100, 'step': 1, 'sampling': None}\n",
      "activation_2 (Choice)\n",
      "{'default': 'relu', 'conditions': [], 'values': ['relu', 'tanh', 'sigmoid'], 'ordered': False}\n",
      "learning_rate (Choice)\n",
      "{'default': 0.01, 'conditions': [], 'values': [0.01, 0.003, 0.001, 0.0003, 0.0001], 'ordered': True}\n",
      "INFO:tensorflow:Oracle triggered exit\n",
      "Results summary\n",
      "Results in ./untitled_project\n",
      "Showing 10 best trials\n",
      "<keras_tuner.engine.objective.Objective object at 0x7efc36d1c040>\n",
      "Trial summary\n",
      "Hyperparameters:\n",
      "units_1: 70\n",
      "activation_1: relu\n",
      "units_2: 79\n",
      "activation_2: sigmoid\n",
      "learning_rate: 0.0001\n",
      "Score: 0.8317757050196329\n",
      "Trial summary\n",
      "Hyperparameters:\n",
      "units_1: 8\n",
      "activation_1: tanh\n",
      "units_2: 2\n",
      "activation_2: sigmoid\n",
      "learning_rate: 0.001\n",
      "Score: 0.8317756851514181\n",
      "Trial summary\n",
      "Hyperparameters:\n",
      "units_1: 92\n",
      "activation_1: tanh\n",
      "units_2: 30\n",
      "activation_2: sigmoid\n",
      "learning_rate: 0.0001\n",
      "Score: 0.8286604285240173\n",
      "Trial summary\n",
      "Hyperparameters:\n",
      "units_1: 71\n",
      "activation_1: sigmoid\n",
      "units_2: 60\n",
      "activation_2: sigmoid\n",
      "learning_rate: 0.0001\n",
      "Score: 0.8286604285240173\n",
      "Trial summary\n",
      "Hyperparameters:\n",
      "units_1: 58\n",
      "activation_1: sigmoid\n",
      "units_2: 5\n",
      "activation_2: sigmoid\n",
      "learning_rate: 0.0001\n",
      "Score: 0.8286604285240173\n",
      "Trial summary\n",
      "Hyperparameters:\n",
      "units_1: 11\n",
      "activation_1: sigmoid\n",
      "units_2: 13\n",
      "activation_2: sigmoid\n",
      "learning_rate: 0.0003\n",
      "Score: 0.827102780342102\n",
      "Trial summary\n",
      "Hyperparameters:\n",
      "units_1: 65\n",
      "activation_1: sigmoid\n",
      "units_2: 69\n",
      "activation_2: sigmoid\n",
      "learning_rate: 0.0001\n",
      "Score: 0.8208722670873007\n",
      "Trial summary\n",
      "Hyperparameters:\n",
      "units_1: 29\n",
      "activation_1: tanh\n",
      "units_2: 74\n",
      "activation_2: sigmoid\n",
      "learning_rate: 0.0003\n",
      "Score: 0.8193146387736002\n",
      "Trial summary\n",
      "Hyperparameters:\n",
      "units_1: 4\n",
      "activation_1: sigmoid\n",
      "units_2: 63\n",
      "activation_2: sigmoid\n",
      "learning_rate: 0.001\n",
      "Score: 0.8193146387736002\n",
      "Trial summary\n",
      "Hyperparameters:\n",
      "units_1: 93\n",
      "activation_1: sigmoid\n",
      "units_2: 68\n",
      "activation_2: relu\n",
      "learning_rate: 0.0001\n",
      "Score: 0.8193146387736002\n"
     ]
    }
   ],
   "source": [
    "def build_model_mse_2(hp):\n",
    "    nn = Sequential()\n",
    "    nn.add(Dense(units=hp.Int('units_1', 5, 40), activation=hp.Choice(f\"activation_1\", [\"relu\", \"tanh\", 'sigmoid'])))\n",
    "    nn.add(Dense(units=hp.Int('units_2', 4, 20), activation=hp.Choice(f\"activation_2\", [\"relu\", \"tanh\", 'sigmoid'])))\n",
    "    nn.add(Dense(1, activation=\"sigmoid\"))\n",
    "    nn.compile(optimizer=keras.optimizers.Adam(hp.Choice('learning_rate', values=[0.01, 0.003, 0.001, 0.0003, 0.0001])), loss=\"mse\", metrics=metrics)\n",
    "    return nn\n",
    "\n",
    "tuner = work(build_model_mse_2, max_trials=200)\n",
    "find_F1_score(tuner)"
   ]
  },
  {
   "cell_type": "code",
   "execution_count": null,
   "metadata": {
    "id": "0XoP7wLsF90-"
   },
   "outputs": [],
   "source": [
    "def build_model_mse_3(hp):\n",
    "    nn = Sequential()\n",
    "    nn.add(Dense(units=hp.Int('units_1', 5, 40), activation=hp.Choice(f\"activation_1\", [\"relu\", \"tanh\", 'sigmoid'])))\n",
    "    nn.add(Dense(units=hp.Int('units_2', 4, 20), activation=hp.Choice(f\"activation_2\", [\"relu\", \"tanh\", 'sigmoid'])))\n",
    "    nn.add(Dense(units=hp.Int('units_3', 3, 10), activation=hp.Choice(f\"activation_3\", [\"relu\", \"tanh\", 'sigmoid'])))\n",
    "    nn.add(Dense(1, activation=\"sigmoid\"))\n",
    "    nn.compile(optimizer=keras.optimizers.Adam(hp.Choice('learning_rate', values=[0.01, 0.003, 0.001, 0.0003, 0.0001])), loss=\"mse\", metrics=metrics)\n",
    "    return nn\n",
    "\n",
    "tuner = work(build_model_mse_3, max_trials=200)\n",
    "find_F1_score(tuner)"
   ]
  },
  {
   "cell_type": "code",
   "execution_count": null,
   "metadata": {
    "colab": {
     "base_uri": "https://localhost:8080/"
    },
    "id": "z5blFah2F7tu",
    "outputId": "60c3c199-8a4d-45ee-c879-1bb9f23b9a20"
   },
   "outputs": [
    {
     "name": "stdout",
     "output_type": "stream",
     "text": [
      "Search space summary\n",
      "Default search space size: 9\n",
      "units_1 (Int)\n",
      "{'default': None, 'conditions': [], 'min_value': 1, 'max_value': 100, 'step': 1, 'sampling': None}\n",
      "activation_1 (Choice)\n",
      "{'default': 'relu', 'conditions': [], 'values': ['relu', 'tanh', 'sigmoid'], 'ordered': False}\n",
      "units_2 (Int)\n",
      "{'default': None, 'conditions': [], 'min_value': 1, 'max_value': 100, 'step': 1, 'sampling': None}\n",
      "activation_2 (Choice)\n",
      "{'default': 'relu', 'conditions': [], 'values': ['relu', 'tanh', 'sigmoid'], 'ordered': False}\n",
      "units_3 (Int)\n",
      "{'default': None, 'conditions': [], 'min_value': 1, 'max_value': 100, 'step': 1, 'sampling': None}\n",
      "activation_3 (Choice)\n",
      "{'default': 'relu', 'conditions': [], 'values': ['relu', 'tanh', 'sigmoid'], 'ordered': False}\n",
      "units_4 (Int)\n",
      "{'default': None, 'conditions': [], 'min_value': 1, 'max_value': 100, 'step': 1, 'sampling': None}\n",
      "activation_4 (Choice)\n",
      "{'default': 'relu', 'conditions': [], 'values': ['relu', 'tanh', 'sigmoid'], 'ordered': False}\n",
      "learning_rate (Choice)\n",
      "{'default': 0.01, 'conditions': [], 'values': [0.01, 0.001, 0.0001], 'ordered': True}\n"
     ]
    }
   ],
   "source": [
    "def build_model_mse_4(hp):\n",
    "    nn = Sequential()\n",
    "    nn.add(Dense(units=hp.Int('units_1', 5, 40), activation=hp.Choice(f\"activation_1\", [\"relu\", \"tanh\", 'sigmoid'])))\n",
    "    nn.add(Dense(units=hp.Int('units_2', 4, 20), activation=hp.Choice(f\"activation_2\", [\"relu\", \"tanh\", 'sigmoid'])))\n",
    "    nn.add(Dense(units=hp.Int('units_3', 3, 10), activation=hp.Choice(f\"activation_3\", [\"relu\", \"tanh\", 'sigmoid'])))\n",
    "    nn.add(Dense(units=hp.Int('units_4', 2, 5), activation=hp.Choice(f\"activation_4\", [\"relu\", \"tanh\", 'sigmoid'])))\n",
    "    nn.add(Dense(1, activation=\"sigmoid\"))\n",
    "    nn.compile(optimizer=keras.optimizers.Adam(hp.Choice('learning_rate', values=[0.01, 0.003, 0.001, 0.0003, 0.0001)), loss=\"mse\", metrics=metrics)\n",
    "    return nn\n",
    "\n",
    "tuner = work(build_model_mse_4, max_trials=200)\n",
    "find_F1_score(tuner)"
   ]
  },
  {
   "cell_type": "code",
   "execution_count": null,
   "metadata": {},
   "outputs": [],
   "source": []
  }
 ],
 "metadata": {
  "accelerator": "GPU",
  "colab": {
   "collapsed_sections": [],
   "name": "Neuro_P3_mse.ipynb",
   "provenance": []
  },
  "kernelspec": {
   "display_name": "Python 3 (ipykernel)",
   "language": "python",
   "name": "python3"
  },
  "language_info": {
   "codemirror_mode": {
    "name": "ipython",
    "version": 3
   },
   "file_extension": ".py",
   "mimetype": "text/x-python",
   "name": "python",
   "nbconvert_exporter": "python",
   "pygments_lexer": "ipython3",
   "version": "3.8.13"
  }
 },
 "nbformat": 4,
 "nbformat_minor": 1
}
