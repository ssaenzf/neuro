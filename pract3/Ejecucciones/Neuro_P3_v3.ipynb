{
 "cells": [
  {
   "cell_type": "markdown",
   "metadata": {
    "id": "PTK5XDjA81SI"
   },
   "source": [
    "---\n",
    "# <font color=\"#CA3532\">Práctica 3 de Neurocomputación</font>\n",
    "### Curso 2021-2022\n",
    "### Escuela Politécnica Superior – Universidad Autónoma de Madrid\n",
    "\n",
    "---\n",
    "\n",
    "Fechas de entrega:\n",
    "- Grupo 2462: lunes 16 de mayo de 2022\n",
    "- Grupo 2461: martes 17 de mayo de 2022\n",
    "\n",
    "---\n",
    "\n",
    "Última actualización: 31-03-2022\n",
    "\n",
    "---"
   ]
  },
  {
   "cell_type": "markdown",
   "metadata": {
    "id": "jqWSLi9F9lTn"
   },
   "source": [
    "*Sesión 1*:\n",
    "\n",
    "- Esta práctica está centrada en [Keras](https://keras.io/).\n",
    "\n",
    "- Keras es una biblioteca de redes neuronales de código abierto, diseñada para la experimentación con redes neuronales profundas. Keras es modular, extensible y fácil de usar.\n",
    "\n",
    "- Keras puede usar distintos motores. Aquí se usará con TensorFlow.\n",
    "\n"
   ]
  },
  {
   "cell_type": "code",
   "execution_count": 1,
   "metadata": {
    "id": "d7Wiw7iJCbgi"
   },
   "outputs": [],
   "source": [
    "### Incluid vuestros nombres, pareja y grupo aquí:\n",
    "estudiantes = [{'nombre': 'Zhijie Qian', 'pareja': 'P05', 'grupo': '2461'},\n",
    "               {'nombre': 'Santo Saenz Ferrero', 'pareja': 'P05', 'grupo': '2461'}]\n"
   ]
  },
  {
   "cell_type": "markdown",
   "metadata": {
    "id": "Y7vp1DQU_2KC"
   },
   "source": [
    "### <font color=\"#CA3532\">Importación de bibliotecas</font>\n",
    "\n",
    "TensorFlow 2.0 incluye oficialmente Keras."
   ]
  },
  {
   "cell_type": "code",
   "execution_count": 2,
   "metadata": {
    "executionInfo": {
     "elapsed": 6553,
     "status": "ok",
     "timestamp": 1651591610369,
     "user": {
      "displayName": "Zhi jie Qian",
      "userId": "17587581155014799590"
     },
     "user_tz": -120
    },
    "id": "oY36uRqOavkU"
   },
   "outputs": [],
   "source": [
    "# Importaciones\n",
    "\n",
    "import numpy as np\n",
    "import matplotlib.pyplot as plt\n",
    "\n",
    "import tensorflow as tf\n",
    "from tensorflow import keras\n",
    "\n",
    "import keras as k\n",
    "from keras.models import Sequential\n",
    "from keras.layers import Dense"
   ]
  },
  {
   "cell_type": "markdown",
   "metadata": {
    "id": "a4vpTFrKAfG-"
   },
   "source": [
    "### <font color=\"#CA3532\">Datos del problema</font>\n",
    "\n",
    "El problema consiste en predecir si va a haber una erupción solar (*solar flares*) en ciertas regiones solares en función de las características de la región solar. El conjunto datos y la caracterización de sus atributos puede encontrarse en https://www.openml.org/d/40702. El siguiente fragmento de código permite cargar estos datos."
   ]
  },
  {
   "cell_type": "code",
   "execution_count": 3,
   "metadata": {
    "executionInfo": {
     "elapsed": 1424,
     "status": "ok",
     "timestamp": 1651591611772,
     "user": {
      "displayName": "Zhi jie Qian",
      "userId": "17587581155014799590"
     },
     "user_tz": -120
    },
    "id": "nH2J34Gfbv_C"
   },
   "outputs": [],
   "source": [
    "dataset_url = 'https://www.openml.org/data/get_csv/4965303/flare.arff' \n",
    "\n",
    "dataset = np.genfromtxt(dataset_url, delimiter=',', skip_header=1)\n",
    "\n",
    "### -------------------------------------------------------------------------------\n",
    "### Dividid los ejemplos en atributos y clases. Guardad el número de atributos.\n",
    "### -------------------------------------------------------------------------------\n",
    "\n",
    "x = dataset[:,:-1]\n",
    "x_size = x.shape[1]\n",
    "y = dataset[:,-1]"
   ]
  },
  {
   "cell_type": "code",
   "execution_count": 4,
   "metadata": {
    "colab": {
     "base_uri": "https://localhost:8080/"
    },
    "executionInfo": {
     "elapsed": 258,
     "status": "ok",
     "timestamp": 1651591612016,
     "user": {
      "displayName": "Zhi jie Qian",
      "userId": "17587581155014799590"
     },
     "user_tz": -120
    },
    "id": "6bhpFdYNCVKk",
    "outputId": "d7857d4e-ee3b-4b0a-a320-feddfbb867e9"
   },
   "outputs": [
    {
     "name": "stdout",
     "output_type": "stream",
     "text": [
      "Ejemplo 0: [5. 4. 3. 1. 3. 1. 1. 2. 1. 1.] 0.0\n",
      "Atributos: 10\n",
      "Clases: [0. 1.]\n",
      "Recuento de clases: 884 182\n",
      "Examplos: 1066\n"
     ]
    }
   ],
   "source": [
    "# Resultados de la división y el número de atributos\n",
    "\n",
    "print('Ejemplo 0:', x[0], y[1])\n",
    "print('Atributos:', x_size)\n",
    "print('Clases:', np.unique(y))\n",
    "print('Recuento de clases:', y.tolist().count(0), y.tolist().count(1))\n",
    "print('Examplos:', len(x))"
   ]
  },
  {
   "cell_type": "code",
   "execution_count": 5,
   "metadata": {
    "colab": {
     "base_uri": "https://localhost:8080/",
     "height": 281
    },
    "executionInfo": {
     "elapsed": 3007,
     "status": "ok",
     "timestamp": 1651591615019,
     "user": {
      "displayName": "Zhi jie Qian",
      "userId": "17587581155014799590"
     },
     "user_tz": -120
    },
    "id": "5oBLBAWR7N92",
    "outputId": "c439b318-397b-491a-a347-5675e5f29ea3"
   },
   "outputs": [
    {
     "data": {
      "image/png": "[encoded data removed]",
      "text/plain": [
       "<Figure size 432x288 with 12 Axes>"
      ]
     },
     "metadata": {
      "needs_background": "light"
     },
     "output_type": "display_data"
    }
   ],
   "source": [
    "# create pairwise scatter plots of numeric input variables\n",
    "from pandas import read_csv\n",
    "from pandas import DataFrame\n",
    "from pandas.plotting import scatter_matrix\n",
    "from matplotlib import pyplot\n",
    "\n",
    "# load the csv file as a data frame\n",
    "df = read_csv(dataset_url, header=1)\n",
    "\n",
    "# histograms of all variables \n",
    "df.hist()\n",
    "pyplot.show()"
   ]
  },
  {
   "cell_type": "code",
   "execution_count": 6,
   "metadata": {
    "id": "Vn7n9Y-12oHV",
    "outputId": "0f42bf72-f2ef-464f-8dac-90847ec34d7a"
   },
   "outputs": [
    {
     "name": "stdout",
     "output_type": "stream",
     "text": [
      "   5  4  3  1  3.1  1.1  1.2  2  1.3  1.4  0\n",
      "0  1  3  1  1    2    1    1  2    1    1  0\n",
      "1  2  3  2  1    3    1    1  2    1    1  1\n",
      "2  5  4  3  2    2    1    2  2    1    1  0\n",
      "3  1  4  2  1    3    1    1  2    1    1  0\n",
      "4  1  4  2  1    2    1    2  2    1    1  0\n"
     ]
    }
   ],
   "source": [
    "print(df.head(5))"
   ]
  },
  {
   "cell_type": "code",
   "execution_count": 7,
   "metadata": {
    "id": "RV-nes8H2oHV",
    "outputId": "288bb370-b86e-4b35-fe1e-bde7bf0a558b"
   },
   "outputs": [
    {
     "name": "stdout",
     "output_type": "stream",
     "text": [
      "                 5            4            3            1          3.1  \\\n",
      "count  1065.000000  1065.000000  1065.000000  1065.000000  1065.000000   \n",
      "mean      2.625352     2.957746     2.034742     1.153991     2.400939   \n",
      "std       1.844397     1.703904     0.806293     0.361109     0.620604   \n",
      "min       0.000000     0.000000     0.000000     1.000000     1.000000   \n",
      "25%       1.000000     2.000000     2.000000     1.000000     2.000000   \n",
      "50%       2.000000     4.000000     2.000000     1.000000     2.000000   \n",
      "75%       5.000000     4.000000     3.000000     1.000000     3.000000   \n",
      "max       5.000000     5.000000     3.000000     2.000000     3.000000   \n",
      "\n",
      "               1.1          1.2            2          1.3     1.4            0  \n",
      "count  1065.000000  1065.000000  1065.000000  1065.000000  1065.0  1065.000000  \n",
      "mean      1.059155     1.404695     1.875117     1.025352     1.0     0.170892  \n",
      "std       0.320469     0.491063     0.330741     0.157266     0.0     0.376591  \n",
      "min       1.000000     1.000000     1.000000     1.000000     1.0     0.000000  \n",
      "25%       1.000000     1.000000     2.000000     1.000000     1.0     0.000000  \n",
      "50%       1.000000     1.000000     2.000000     1.000000     1.0     0.000000  \n",
      "75%       1.000000     2.000000     2.000000     1.000000     1.0     0.000000  \n",
      "max       3.000000     2.000000     2.000000     2.000000     1.0     1.000000  \n"
     ]
    }
   ],
   "source": [
    "print(df.describe())"
   ]
  },
  {
   "cell_type": "code",
   "execution_count": 8,
   "metadata": {
    "id": "CHMR1k6adBxU"
   },
   "outputs": [],
   "source": [
    "# Normalizad los datos (si es necesario)\n",
    "# Los datos se encuentran en diferentes intervalos de valores por lo que el modelo puede tender \n",
    "# a ponderar más los datos con rangos de valores mayores, por ello se ha decidico escalar los \n",
    "# datos de la forma que se nos proporciona.\n",
    "from sklearn.preprocessing import StandardScaler\n",
    "scaler = StandardScaler()\n",
    "scaler.fit(x)\n",
    "x = scaler.transform(x)"
   ]
  },
  {
   "cell_type": "code",
   "execution_count": 9,
   "metadata": {
    "id": "19yJetIA2oHW",
    "outputId": "80552e86-758d-4566-d5c7-21cc3ea0e00b"
   },
   "outputs": [
    {
     "name": "stdout",
     "output_type": "stream",
     "text": [
      "(1066, 10)\n"
     ]
    }
   ],
   "source": [
    "print(x.shape)"
   ]
  },
  {
   "cell_type": "markdown",
   "metadata": {
    "id": "QKjVzq5PFAa5"
   },
   "source": [
    "### <font color=\"#CA3532\">Definición del modelo</font>\n",
    "\n",
    "- Cada capa del modelo lleva definidas una serie de propiedades (tamaño, función de activación, conectividad, etc.). \n",
    "\n",
    "- Usaremos el modelo secuencial que Keras para crear una red neuronal multicapa con propagación hacia adelante.\n",
    "\n"
   ]
  },
  {
   "cell_type": "code",
   "execution_count": 10,
   "metadata": {
    "executionInfo": {
     "elapsed": 3178,
     "status": "ok",
     "timestamp": 1651591619079,
     "user": {
      "displayName": "Zhi jie Qian",
      "userId": "17587581155014799590"
     },
     "user_tz": -120
    },
    "id": "jSiN2kBpfJH2"
   },
   "outputs": [],
   "source": [
    "# Definid el modelo con Keras\n",
    "\n",
    "nn = Sequential()\n",
    "\n",
    "### -------------------------------------------------------------------------------\n",
    "### Añadir la capas completamente conectadas que consideréis al modelo\n",
    "### -------------------------------------------------------------------------------\n",
    "nn.add(Dense(12, activation=\"sigmoid\"))\n",
    "nn.add(Dense(12, activation=\"sigmoid\"))\n",
    "nn.add(Dense(1, activation=\"sigmoid\"))"
   ]
  },
  {
   "cell_type": "markdown",
   "metadata": {
    "id": "XYS0uGZZjLqA"
   },
   "source": [
    "### <font color=\"#CA3532\">Compilación de la red neuronal</font>\n",
    "\n",
    "- La compilación es la operación que contruye la red neuronal.\n",
    "\n",
    "- La compilación incluye aspectos que se tendrán en cuenta en el entrenamiento de la red neuronal.\n",
    "\n",
    "- En la secciones de abajo encontraréis enlaces a la documentación oficial donde podréis encontrar información sobre las distintas estrategias de cada uno de los aspectos.\n",
    "\n",
    "- También es posible definid vuestras propias funciones.\n",
    "\n",
    "#### <font color=\"#CA3532\">Optimizador</font>\n",
    "\n",
    "El optimizador es la estrategia para calcular las correcciones de los pesos.\n",
    "\n",
    "https://keras.io/api/optimizers/\n",
    "\n",
    "\n",
    "#### <font color=\"#CA3532\"> Función de error (*Loss function*)</font>\n",
    "\n",
    "La función de error calcula la cantidad que el modelo debe minimizar durante el entrenamiento.\n",
    "\n",
    "https://keras.io/api/losses/\n",
    "\n",
    "#### <font color=\"#CA3532\">Métricas</font>\n",
    "\n",
    "Una métrica es una función que juzga la actuación del modelo. Son funciones similares a las funciones de error pero, a diferencia de estas, no se aplican durante el entrenamiento, sino sobre los resultados. Aprende al menos el significado y las diferencias de las métricas *accuracy*, *precision*, *recall* y *AUC*. También pueden usarse las funciones de error como metricas.\n",
    "\n",
    "https://keras.io/api/metrics/"
   ]
  },
  {
   "cell_type": "code",
   "execution_count": 11,
   "metadata": {
    "executionInfo": {
     "elapsed": 10,
     "status": "ok",
     "timestamp": 1651591619678,
     "user": {
      "displayName": "Zhi jie Qian",
      "userId": "17587581155014799590"
     },
     "user_tz": -120
    },
    "id": "tU7t0cyMf-pL"
   },
   "outputs": [],
   "source": [
    "# Compilación\n",
    "\n",
    "### -------------------------------------------------------------------------------\n",
    "### Compilad vuestro modelo de red neuronal\n",
    "### -------------------------------------------------------------------------------\n",
    "\n",
    "metrics = [\n",
    "            #keras.metrics.TruePositives(name='tp'),\n",
    "            #keras.metrics.FalsePositives(name='fp'),\n",
    "            #keras.metrics.TrueNegatives(name='tn'),\n",
    "            #keras.metrics.FalseNegatives(name='fn'),\n",
    "            keras.metrics.BinaryAccuracy(name='ACC'),\n",
    "            keras.metrics.Precision(name='Prec'),\n",
    "            keras.metrics.Recall(name='Rec'),\n",
    "            keras.metrics.AUC(name='AUC'),\n",
    "            #keras.metrics.AUC(name='PRC', curve='PR'),\n",
    "          ]\n",
    "\n",
    "nn.compile(optimizer='SGD', loss=\"mse\", metrics=metrics)\n",
    "# nn.compile(optimizer='Adam', loss=\"binary_crossentropy\", metrics=metrics)"
   ]
  },
  {
   "cell_type": "markdown",
   "metadata": {
    "id": "7dRac4W1t69B"
   },
   "source": [
    "### <font color=\"#CA3532\">Conjuntos de entrenamiento y validación</font>\n",
    "\n",
    "Usaremos el 80 % de los datos para entrenamiento y el 20 % para validación. Usaremos también la técnica de muestreo estratificado (también están permitidas otras formas de validación). Averigua qué es y para qué sirve."
   ]
  },
  {
   "cell_type": "code",
   "execution_count": 12,
   "metadata": {
    "executionInfo": {
     "elapsed": 599,
     "status": "ok",
     "timestamp": 1651591631978,
     "user": {
      "displayName": "Zhi jie Qian",
      "userId": "17587581155014799590"
     },
     "user_tz": -120
    },
    "id": "QA3AW4y7j_Ar"
   },
   "outputs": [],
   "source": [
    "# Contrucción de los conjuntos de entrenamiento y validación\n",
    "\n",
    "from sklearn.model_selection import train_test_split\n",
    "\n",
    "x_train, x_val, y_train, y_val = train_test_split(x, y, stratify=y, test_size=0.2) "
   ]
  },
  {
   "cell_type": "code",
   "execution_count": 13,
   "metadata": {
    "colab": {
     "base_uri": "https://localhost:8080/"
    },
    "executionInfo": {
     "elapsed": 263,
     "status": "ok",
     "timestamp": 1651447913416,
     "user": {
      "displayName": "Zhi jie Qian",
      "userId": "17587581155014799590"
     },
     "user_tz": -120
    },
    "id": "QG53BRIu2oHY",
    "outputId": "aeeb8df3-182f-4353-b33e-cd433d86172c"
   },
   "outputs": [
    {
     "data": {
      "text/plain": [
       "{0.0: 707, 1.0: 145}"
      ]
     },
     "execution_count": 13,
     "metadata": {},
     "output_type": "execute_result"
    }
   ],
   "source": [
    "unique, counts = np.unique(y_train, return_counts=True)\n",
    "dict(zip(unique, counts))"
   ]
  },
  {
   "cell_type": "code",
   "execution_count": 14,
   "metadata": {
    "colab": {
     "base_uri": "https://localhost:8080/"
    },
    "executionInfo": {
     "elapsed": 4,
     "status": "ok",
     "timestamp": 1651447913996,
     "user": {
      "displayName": "Zhi jie Qian",
      "userId": "17587581155014799590"
     },
     "user_tz": -120
    },
    "id": "iChC28EE2oHZ",
    "outputId": "395fde94-b202-411f-b0c1-e6a65975ba03"
   },
   "outputs": [
    {
     "data": {
      "text/plain": [
       "{0.0: 177, 1.0: 37}"
      ]
     },
     "execution_count": 14,
     "metadata": {},
     "output_type": "execute_result"
    }
   ],
   "source": [
    "unique, counts = np.unique(y_val, return_counts=True)\n",
    "dict(zip(unique, counts))"
   ]
  },
  {
   "cell_type": "markdown",
   "metadata": {
    "id": "ZsK6smmS2oHZ"
   },
   "source": [
    "### Respuesta\n",
    "A partir de la técnica de muestreo estratificado los datos se dividen por una característica común, en este caso por la clase objetivo, por ello los datos se obtienen en train y validación de forma equilibrada teniendo en ambos proporcion especificada por test_size para cada clase objetivo\n",
    "\n",
    "Un ejemplo sería que si y tiene 20% de 0s y 80% de 1s, el ramdon split realizado también asegurá que haya 20% de 0s y 80% de 1s."
   ]
  },
  {
   "cell_type": "markdown",
   "metadata": {
    "id": "dDFUBCUVugVj"
   },
   "source": [
    "### <font color=\"#CA3532\">Visualización de resultados</font>\n",
    "\n",
    "Para la visualización de los resultados utilizaremos gráficas con la evolución de la función de pérdida y las métricas en cada época del entrenamiento, tanto para los datos de entrenamiento como para los de validación.\n",
    "\n",
    "También obtendremos la matriz de confusión y alguna métricas sobre cada clase del problema. Observaremos especialmente la medida macro-F1."
   ]
  },
  {
   "cell_type": "code",
   "execution_count": 15,
   "metadata": {
    "executionInfo": {
     "elapsed": 302,
     "status": "ok",
     "timestamp": 1651591636637,
     "user": {
      "displayName": "Zhi jie Qian",
      "userId": "17587581155014799590"
     },
     "user_tz": -120
    },
    "id": "6pgKzRcysRwv"
   },
   "outputs": [],
   "source": [
    "from sklearn.metrics import classification_report, confusion_matrix\n",
    "\n",
    "def show_metrics(history):\n",
    "    for metric in history.history.keys():\n",
    "        if not metric.startswith('val_'):\n",
    "            plt.plot(history.history[metric], label=metric)\n",
    "            plt.plot(history.history[f'val_{metric}'], label=f'val_{metric}')\n",
    "            plt.title(metric)\n",
    "            plt.ylabel('')\n",
    "            plt.xlabel('Epoch')\n",
    "            plt.legend(loc=\"upper left\")\n",
    "            plt.show()"
   ]
  },
  {
   "cell_type": "markdown",
   "metadata": {
    "id": "x-rNfZzqINgY"
   },
   "source": [
    "### <font color=\"#CA3532\">Entrenamiento de la red neuronal y evaluación</font>\n",
    "\n",
    "El método \"fit\" entrena una red neuronal con los datos que se le proporcionen.\n",
    "\n",
    "https://keras.io/api/models/model_training_apis/#fit-method"
   ]
  },
  {
   "cell_type": "code",
   "execution_count": 16,
   "metadata": {
    "colab": {
     "base_uri": "https://localhost:8080/",
     "height": 1000
    },
    "executionInfo": {
     "elapsed": 22760,
     "status": "ok",
     "timestamp": 1651447940195,
     "user": {
      "displayName": "Zhi jie Qian",
      "userId": "17587581155014799590"
     },
     "user_tz": -120
    },
    "id": "iEhDqXzLIISj",
    "outputId": "f8ae0e6a-6775-49b0-9f1f-d1ce3ad732ba"
   },
   "outputs": [
    {
     "name": "stdout",
     "output_type": "stream",
     "text": [
      "Model: \"sequential\"\n",
      "_________________________________________________________________\n",
      " Layer (type)                Output Shape              Param #   \n",
      "=================================================================\n",
      " dense (Dense)               (None, 12)                132       \n",
      "                                                                 \n",
      " dense_1 (Dense)             (None, 12)                156       \n",
      "                                                                 \n",
      " dense_2 (Dense)             (None, 1)                 13        \n",
      "                                                                 \n",
      "=================================================================\n",
      "Total params: 301\n",
      "Trainable params: 301\n",
      "Non-trainable params: 0\n",
      "_________________________________________________________________\n",
      "\n",
      "\n",
      "\n"
     ]
    },
    {
     "data": {
      "image/png": "[encoded data removed]",
      "text/plain": [
       "<Figure size 432x288 with 1 Axes>"
      ]
     },
     "metadata": {
      "needs_background": "light"
     },
     "output_type": "display_data"
    },
    {
     "data": {
      "image/png": "[encoded data removed]",
      "text/plain": [
       "<Figure size 432x288 with 1 Axes>"
      ]
     },
     "metadata": {
      "needs_background": "light"
     },
     "output_type": "display_data"
    },
    {
     "data": {
      "image/png": "[encoded data removed]",
      "text/plain": [
       "<Figure size 432x288 with 1 Axes>"
      ]
     },
     "metadata": {
      "needs_background": "light"
     },
     "output_type": "display_data"
    },
    {
     "data": {
      "image/png": "[encoded data removed]",
      "text/plain": [
       "<Figure size 432x288 with 1 Axes>"
      ]
     },
     "metadata": {
      "needs_background": "light"
     },
     "output_type": "display_data"
    },
    {
     "data": {
      "image/png": "[encoded data removed]",
      "text/plain": [
       "<Figure size 432x288 with 1 Axes>"
      ]
     },
     "metadata": {
      "needs_background": "light"
     },
     "output_type": "display_data"
    },
    {
     "name": "stdout",
     "output_type": "stream",
     "text": [
      "[[177   0]\n",
      " [ 37   0]]\n",
      "              precision    recall  f1-score   support\n",
      "\n",
      "         0.0       0.83      1.00      0.91       177\n",
      "         1.0       0.00      0.00      0.00        37\n",
      "\n",
      "    accuracy                           0.83       214\n",
      "   macro avg       0.41      0.50      0.45       214\n",
      "weighted avg       0.68      0.83      0.75       214\n",
      "\n"
     ]
    }
   ],
   "source": [
    "# Entrenamiento\n",
    "\n",
    "epochs = 50\n",
    "\n",
    "history = nn.fit(x_train, y_train, epochs=epochs, verbose=0, validation_data=(x_val, y_val))\n",
    "\n",
    "# Predicciones del conjunto de evaluación\n",
    "\n",
    "y_pred = nn.predict(x_val)\n",
    "y_pred = y_pred > 0.5\n",
    "\n",
    "# Detalles de la red neuronal\n",
    "\n",
    "nn.summary()\n",
    "print('\\n\\n')\n",
    "\n",
    "# Visualización de las métricas \n",
    "\n",
    "show_metrics(history)\n",
    "\n",
    "# Matriz de confusión\n",
    "\n",
    "print(confusion_matrix(y_val, y_pred))\n",
    "\n",
    "# Observa la medida macro-f1 del siguiente informe\n",
    "\n",
    "print(classification_report(y_val, y_pred, zero_division=0))\n"
   ]
  },
  {
   "cell_type": "markdown",
   "metadata": {
    "id": "zo8KQlCaGEw9"
   },
   "source": [
    "### <font color=\"#CA3532\">Entrenamiento de la red neuronal y evaluación</font>\n",
    "Como podrás haber observado en problema no está balanceado (o está bastante desequilibrado), porque el número de ejemplos de cada clase es muy diferente."
   ]
  },
  {
   "cell_type": "markdown",
   "metadata": {
    "id": "amDlvLOgHw2J"
   },
   "source": [
    "Existen varias técnicas para abortar este tipo de problemas. Una de ellas consiste seleccionar un subconjunto de datos equilibrados en el que las dos clases esten representadas en la misma proporción.\n"
   ]
  },
  {
   "cell_type": "code",
   "execution_count": 17,
   "metadata": {
    "colab": {
     "base_uri": "https://localhost:8080/"
    },
    "executionInfo": {
     "elapsed": 4525,
     "status": "ok",
     "timestamp": 1651591800861,
     "user": {
      "displayName": "Zhi jie Qian",
      "userId": "17587581155014799590"
     },
     "user_tz": -120
    },
    "id": "hEMA__KiiIR2",
    "outputId": "1c8134e1-2824-4fe3-d8c8-b9fd34f8e1bd"
   },
   "outputs": [
    {
     "name": "stdout",
     "output_type": "stream",
     "text": [
      "Requirement already satisfied: imbalanced-learn in c:\\users\\santo\\anaconda3\\lib\\site-packages (0.9.0)\n",
      "Requirement already satisfied: joblib>=0.11 in c:\\users\\santo\\anaconda3\\lib\\site-packages (from imbalanced-learn) (1.0.1)\n",
      "Requirement already satisfied: scikit-learn>=1.0.1 in c:\\users\\santo\\anaconda3\\lib\\site-packages (from imbalanced-learn) (1.0.2)\n",
      "Requirement already satisfied: threadpoolctl>=2.0.0 in c:\\users\\santo\\anaconda3\\lib\\site-packages (from imbalanced-learn) (2.2.0)\n",
      "Requirement already satisfied: numpy>=1.14.6 in c:\\users\\santo\\anaconda3\\lib\\site-packages (from imbalanced-learn) (1.22.3)\n",
      "Requirement already satisfied: scipy>=1.1.0 in c:\\users\\santo\\anaconda3\\lib\\site-packages (from imbalanced-learn) (1.6.3)\n"
     ]
    }
   ],
   "source": [
    "!pip3 install imbalanced-learn"
   ]
  },
  {
   "cell_type": "code",
   "execution_count": 18,
   "metadata": {
    "executionInfo": {
     "elapsed": 519,
     "status": "ok",
     "timestamp": 1651592085533,
     "user": {
      "displayName": "Zhi jie Qian",
      "userId": "17587581155014799590"
     },
     "user_tz": -120
    },
    "id": "5BGYvZXUivZb"
   },
   "outputs": [],
   "source": [
    "import imblearn\n",
    "from imblearn.under_sampling import RandomUnderSampler\n",
    "from imblearn.over_sampling import RandomOverSampler\n",
    "from collections import Counter"
   ]
  },
  {
   "cell_type": "markdown",
   "metadata": {
    "id": "mjhswZou2oHb"
   },
   "source": [
    "### Separar datos para que haya misma clase de 0 y 1\n",
    "El problema de esta técnica es que estamos desperdiciando los datos, ya que si existiese 1000 datos de clase 0 y 100 de calse 1, tendríamos que tirar 900 datos de clase 0 para poder equilibrarlo. Si llevamos esta situación al extremo como 10k datos de clase 0 y sólo 100 casos de clase 1, por ejemplo apareción de una nueva enfermedad donde sólo unas pocas personas los tiene, no podemos sólo tomar 100 pacientes sanas con 100 pacientes enfermas.\n",
    "\n",
    "Para realizar esto, sólo vamos a despreciar los datos del training, para que se entrena de forma equilibrada y luego validamos el Test con el desequilibro de datos."
   ]
  },
  {
   "cell_type": "code",
   "execution_count": 19,
   "metadata": {
    "executionInfo": {
     "elapsed": 3,
     "status": "ok",
     "timestamp": 1651592762005,
     "user": {
      "displayName": "Zhi jie Qian",
      "userId": "17587581155014799590"
     },
     "user_tz": -120
    },
    "id": "Bxm0VENEjiO1"
   },
   "outputs": [],
   "source": [
    "undersample = RandomUnderSampler(sampling_strategy='majority')\n",
    "X_under_train, y_under_train = undersample.fit_resample(x_train, y_train)"
   ]
  },
  {
   "cell_type": "code",
   "execution_count": 20,
   "metadata": {
    "colab": {
     "base_uri": "https://localhost:8080/"
    },
    "executionInfo": {
     "elapsed": 383,
     "status": "ok",
     "timestamp": 1651592764612,
     "user": {
      "displayName": "Zhi jie Qian",
      "userId": "17587581155014799590"
     },
     "user_tz": -120
    },
    "id": "HYXikC_0j-Uw",
    "outputId": "cf9d328d-e75b-4b01-af20-da1c48ab30e0"
   },
   "outputs": [
    {
     "name": "stdout",
     "output_type": "stream",
     "text": [
      "Counter({0.0: 145, 1.0: 145})\n"
     ]
    }
   ],
   "source": [
    "print(Counter(y_under_train))"
   ]
  },
  {
   "cell_type": "code",
   "execution_count": 21,
   "metadata": {
    "colab": {
     "base_uri": "https://localhost:8080/"
    },
    "executionInfo": {
     "elapsed": 4754,
     "status": "ok",
     "timestamp": 1651592771369,
     "user": {
      "displayName": "Zhi jie Qian",
      "userId": "17587581155014799590"
     },
     "user_tz": -120
    },
    "id": "5V5-pLhikC2R",
    "outputId": "0e75e06f-b50a-4c96-e0f6-dd66cfbc3ba9"
   },
   "outputs": [
    {
     "name": "stdout",
     "output_type": "stream",
     "text": [
      "Model: \"sequential\"\n",
      "_________________________________________________________________\n",
      " Layer (type)                Output Shape              Param #   \n",
      "=================================================================\n",
      " dense (Dense)               (None, 12)                132       \n",
      "                                                                 \n",
      " dense_1 (Dense)             (None, 12)                156       \n",
      "                                                                 \n",
      " dense_2 (Dense)             (None, 1)                 13        \n",
      "                                                                 \n",
      "=================================================================\n",
      "Total params: 301\n",
      "Trainable params: 301\n",
      "Non-trainable params: 0\n",
      "_________________________________________________________________\n",
      "\n",
      "\n",
      "\n",
      "              precision    recall  f1-score   support\n",
      "\n",
      "         0.0       0.84      0.98      0.90       177\n",
      "         1.0       0.50      0.08      0.14        37\n",
      "\n",
      "    accuracy                           0.83       214\n",
      "   macro avg       0.67      0.53      0.52       214\n",
      "weighted avg       0.78      0.83      0.77       214\n",
      "\n",
      "[[174   3]\n",
      " [ 34   3]]\n"
     ]
    }
   ],
   "source": [
    "epochs = 50\n",
    "history = nn.fit(X_under_train, y_under_train, epochs=epochs, verbose=0, validation_data=(x_val, y_val))\n",
    "\n",
    "# Detalles de la red neuronal\n",
    "\n",
    "nn.summary()\n",
    "print('\\n\\n')\n",
    "\n",
    "y_pred = nn.predict(x_val)\n",
    "y_pred = y_pred > 0.5\n",
    "\n",
    "print(classification_report(y_val, y_pred, zero_division=0))\n",
    "\n",
    "print(confusion_matrix(y_val, y_pred))\n",
    "# La matriz de confusión en funcion del valor se le de a los pesos tiene una \n",
    "# precisión total para los registros de una clase y precisión nula para la otra clase"
   ]
  },
  {
   "cell_type": "markdown",
   "metadata": {
    "id": "6WEG4KLU2oHc"
   },
   "source": [
    "#### Resultado\n",
    "Esta vez, aunque la accuracy ha bajado bastante, pero conseguimos que la red pueda clasificar algunos datos de la clase 1."
   ]
  },
  {
   "cell_type": "markdown",
   "metadata": {
    "id": "lzOQYVSCkx0g"
   },
   "source": [
    "### Aumentar los datos para que haya misma clase de 0 y 1\n",
    "La técnica planteada es muy parecido al sección anterior, solo que en vez de reducir el dataset para que haya mismo número de 0s y 1s, vamos a aumentar la clase con menor dato para que sea más equilibrado. "
   ]
  },
  {
   "cell_type": "code",
   "execution_count": 22,
   "metadata": {
    "executionInfo": {
     "elapsed": 262,
     "status": "ok",
     "timestamp": 1651592899702,
     "user": {
      "displayName": "Zhi jie Qian",
      "userId": "17587581155014799590"
     },
     "user_tz": -120
    },
    "id": "MR_N0WmEiOwR"
   },
   "outputs": [],
   "source": [
    "oversample = RandomOverSampler(sampling_strategy='minority')\n",
    "X_over_train, y_over_train = oversample.fit_resample(x_train, y_train)"
   ]
  },
  {
   "cell_type": "code",
   "execution_count": 23,
   "metadata": {
    "colab": {
     "base_uri": "https://localhost:8080/"
    },
    "executionInfo": {
     "elapsed": 15,
     "status": "ok",
     "timestamp": 1651592900954,
     "user": {
      "displayName": "Zhi jie Qian",
      "userId": "17587581155014799590"
     },
     "user_tz": -120
    },
    "id": "AAwE_npxjGui",
    "outputId": "9192f3b9-1f4d-4a98-e0c8-726cb7ddf354"
   },
   "outputs": [
    {
     "name": "stdout",
     "output_type": "stream",
     "text": [
      "Counter({0.0: 707, 1.0: 707})\n"
     ]
    }
   ],
   "source": [
    "print(Counter(y_over_train))"
   ]
  },
  {
   "cell_type": "code",
   "execution_count": 24,
   "metadata": {
    "colab": {
     "base_uri": "https://localhost:8080/"
    },
    "executionInfo": {
     "elapsed": 21967,
     "status": "ok",
     "timestamp": 1651592924363,
     "user": {
      "displayName": "Zhi jie Qian",
      "userId": "17587581155014799590"
     },
     "user_tz": -120
    },
    "id": "7J2rLncm2oHc",
    "outputId": "3459c9be-9de1-4324-f7a4-a5fecba81355"
   },
   "outputs": [
    {
     "name": "stdout",
     "output_type": "stream",
     "text": [
      "Model: \"sequential\"\n",
      "_________________________________________________________________\n",
      " Layer (type)                Output Shape              Param #   \n",
      "=================================================================\n",
      " dense (Dense)               (None, 12)                132       \n",
      "                                                                 \n",
      " dense_1 (Dense)             (None, 12)                156       \n",
      "                                                                 \n",
      " dense_2 (Dense)             (None, 1)                 13        \n",
      "                                                                 \n",
      "=================================================================\n",
      "Total params: 301\n",
      "Trainable params: 301\n",
      "Non-trainable params: 0\n",
      "_________________________________________________________________\n",
      "\n",
      "\n",
      "\n",
      "              precision    recall  f1-score   support\n",
      "\n",
      "         0.0       0.92      0.64      0.76       177\n",
      "         1.0       0.30      0.73      0.43        37\n",
      "\n",
      "    accuracy                           0.66       214\n",
      "   macro avg       0.61      0.69      0.59       214\n",
      "weighted avg       0.81      0.66      0.70       214\n",
      "\n",
      "[[114  63]\n",
      " [ 10  27]]\n"
     ]
    }
   ],
   "source": [
    "epochs = 50\n",
    "history = nn.fit(X_over_train, y_over_train, epochs=epochs, verbose=0, validation_data=(x_val, y_val))\n",
    "\n",
    "# Detalles de la red neuronal\n",
    "\n",
    "nn.summary()\n",
    "print('\\n\\n')\n",
    "\n",
    "y_pred = nn.predict(x_val)\n",
    "y_pred = y_pred > 0.5\n",
    "\n",
    "print(classification_report(y_val, y_pred, zero_division=0))\n",
    "\n",
    "print(confusion_matrix(y_val, y_pred))\n",
    "# La matriz de confusión en funcion del valor se le de a los pesos tiene una \n",
    "# precisión total para los registros de una clase y precisión nula para la otra clase"
   ]
  },
  {
   "cell_type": "markdown",
   "metadata": {
    "id": "gxbtaBV1m9jS"
   },
   "source": [
    "#### Resultado\n",
    "Con esta ténica, volvamos a tener resultados parecidos, donde hemos conseguido mejorar f1-score de la clase 1."
   ]
  },
  {
   "cell_type": "markdown",
   "metadata": {
    "id": "eUMBdOam2oHd"
   },
   "source": [
    "### Uso de class_weight pero con paquete que nos proporciona"
   ]
  },
  {
   "cell_type": "markdown",
   "metadata": {
    "id": "UCtSYvuRvpBy"
   },
   "source": [
    "Otra técnica consiste en asignar un peso a cada clase para que lo tenga en cuenta en algoritmo de entrenamiento.\n",
    "Aprende lo que hace el parámetro ```class_weight``` de ```fit``` (https://keras.io/api/models/model_training_apis/#fit-method) y explícalo."
   ]
  },
  {
   "cell_type": "markdown",
   "metadata": {
    "id": "xNJ5dCdTyTBc"
   },
   "source": [
    "Vuelve a entrenar considerando distintos pesos y observa como varía el resultado de la matriz de confusión. Si es posible, intenta conseguir un modelo mejor y describe los resultados alcanzados."
   ]
  },
  {
   "cell_type": "code",
   "execution_count": 25,
   "metadata": {
    "colab": {
     "base_uri": "https://localhost:8080/"
    },
    "executionInfo": {
     "elapsed": 425,
     "status": "ok",
     "timestamp": 1651593020367,
     "user": {
      "displayName": "Zhi jie Qian",
      "userId": "17587581155014799590"
     },
     "user_tz": -120
    },
    "id": "CJfmolAdkGDY",
    "outputId": "30657156-34d5-438e-d42c-9feeb0f9e2dc"
   },
   "outputs": [
    {
     "name": "stdout",
     "output_type": "stream",
     "text": [
      "{0: 0.6025459688826026, 1: 2.9379310344827587}\n"
     ]
    }
   ],
   "source": [
    "### -------------------------------------------------------------------------------\n",
    "### Assigna diferentes pesos a cada una de las clases\n",
    "### -------------------------------------------------------------------------------\n",
    "\n",
    "from sklearn.utils import class_weight\n",
    "class_weights = class_weight.compute_class_weight('balanced', classes=np.unique(y_train), y=y_train)\n",
    "class_weights = {0: class_weights[0], 1: class_weights[1]}\n",
    "print(class_weights)"
   ]
  },
  {
   "cell_type": "markdown",
   "metadata": {
    "id": "pLyRxSJ92oHe"
   },
   "source": [
    "El modelo para el atributo class_weights lo que hace es mutiplicarlo por el error obtenido en la función de error dependiendo de la clase objetivo, con el fin de que el optimizador, al computar los errores de ciertas clases de forma mayor, tenderá a minimizar el error en esas clases si tienen un weight en class_weights alto."
   ]
  },
  {
   "cell_type": "code",
   "execution_count": 26,
   "metadata": {
    "colab": {
     "base_uri": "https://localhost:8080/"
    },
    "executionInfo": {
     "elapsed": 12110,
     "status": "ok",
     "timestamp": 1651593036974,
     "user": {
      "displayName": "Zhi jie Qian",
      "userId": "17587581155014799590"
     },
     "user_tz": -120
    },
    "id": "j4hMiyuSkQgK",
    "outputId": "21147a17-abc2-42a3-fe41-25c0ab23d0dd"
   },
   "outputs": [
    {
     "name": "stdout",
     "output_type": "stream",
     "text": [
      "Model: \"sequential\"\n",
      "_________________________________________________________________\n",
      " Layer (type)                Output Shape              Param #   \n",
      "=================================================================\n",
      " dense (Dense)               (None, 12)                132       \n",
      "                                                                 \n",
      " dense_1 (Dense)             (None, 12)                156       \n",
      "                                                                 \n",
      " dense_2 (Dense)             (None, 1)                 13        \n",
      "                                                                 \n",
      "=================================================================\n",
      "Total params: 301\n",
      "Trainable params: 301\n",
      "Non-trainable params: 0\n",
      "_________________________________________________________________\n",
      "\n",
      "\n",
      "\n",
      "              precision    recall  f1-score   support\n",
      "\n",
      "         0.0       0.92      0.65      0.76       177\n",
      "         1.0       0.30      0.73      0.43        37\n",
      "\n",
      "    accuracy                           0.66       214\n",
      "   macro avg       0.61      0.69      0.60       214\n",
      "weighted avg       0.81      0.66      0.70       214\n",
      "\n",
      "[[115  62]\n",
      " [ 10  27]]\n"
     ]
    }
   ],
   "source": [
    "epochs = 50\n",
    "\n",
    "history = nn.fit(x_train, y_train, epochs=epochs, verbose=0, class_weight=class_weights, validation_data=(x_val, y_val))\n",
    "\n",
    "# Detalles de la red neuronal\n",
    "\n",
    "nn.summary()\n",
    "print('\\n\\n')\n",
    "\n",
    "y_pred = nn.predict(x_val)\n",
    "y_pred = y_pred > 0.5\n",
    "\n",
    "print(classification_report(y_val, y_pred, zero_division=0))\n",
    "\n",
    "print(confusion_matrix(y_val, y_pred))"
   ]
  },
  {
   "cell_type": "markdown",
   "metadata": {
    "id": "H_mCj2ER2oHe"
   },
   "source": [
    "#### Resultado\n",
    "Esta vez, con el uso del método class_weight.compute_class_weight, nos permite ajutar mejor los pesos incrementando f1-score de clase 1, aunque el resultado producido es similar a las 2 técnicas que hemos aplicado anteriormente, pero no hemos tenido que eliminar información que puede ser relevante ni duplicar datos."
   ]
  },
  {
   "cell_type": "markdown",
   "metadata": {
    "id": "aeHlBkW9oDdQ"
   },
   "source": [
    "### Aplicar todas las ténicas a la vez.\n",
    "La idea es que vamos a intentar reducir algunos datos de la clase mayoritaria pero no eliminar todas sino sólo algunas de ellas para no perder mucha información y vamos a ampliar datos de la clase minoritaria para compensar un poco.\n",
    "Imagina que tenemos un desbalanceo de 1:100, aplicamos oversampling para tener un desbalanceo de 1:10 y luego aplicamos undersampling para eliminar dato y tener un desbalanceo de 1:2.\n",
    "\n",
    "Finalmente, como seguimos teniendo un desbalanceo de datos, usamos class_weight para ajustar."
   ]
  },
  {
   "cell_type": "code",
   "execution_count": 27,
   "metadata": {
    "colab": {
     "base_uri": "https://localhost:8080/"
    },
    "executionInfo": {
     "elapsed": 332,
     "status": "ok",
     "timestamp": 1651594936712,
     "user": {
      "displayName": "Zhi jie Qian",
      "userId": "17587581155014799590"
     },
     "user_tz": -120
    },
    "id": "OhLi7HIpqF0u",
    "outputId": "9c8b411b-021d-4254-db76-18c4550486c2"
   },
   "outputs": [
    {
     "name": "stdout",
     "output_type": "stream",
     "text": [
      "Counter({0.0: 707, 1.0: 145})\n",
      "Counter({0.0: 707, 1.0: 282})\n",
      "Counter({0.0: 564, 1.0: 282})\n",
      "{0: 0.75, 1: 1.5}\n"
     ]
    }
   ],
   "source": [
    "import imblearn\n",
    "from imblearn.under_sampling import RandomUnderSampler\n",
    "from imblearn.over_sampling import RandomOverSampler\n",
    "from collections import Counter\n",
    "from sklearn.utils import class_weight\n",
    "\n",
    "print(Counter(y_train))\n",
    "\n",
    "oversample = RandomOverSampler(sampling_strategy=0.4)\n",
    "X_over_train, y_over_train = oversample.fit_resample(x_train, y_train)\n",
    "print(Counter(y_over_train))\n",
    "\n",
    "undersample = RandomUnderSampler(sampling_strategy=0.5)\n",
    "X_ajust_train, y_ajust_train = undersample.fit_resample(X_over_train, y_over_train)\n",
    "print(Counter(y_ajust_train))\n",
    "\n",
    "\n",
    "class_weights = class_weight.compute_class_weight('balanced', classes=np.unique(y_ajust_train), y=y_ajust_train)\n",
    "class_weights = {0: class_weights[0], 1: class_weights[1]}\n",
    "print(class_weights)"
   ]
  },
  {
   "cell_type": "code",
   "execution_count": 28,
   "metadata": {
    "colab": {
     "base_uri": "https://localhost:8080/"
    },
    "executionInfo": {
     "elapsed": 8043,
     "status": "ok",
     "timestamp": 1651594982861,
     "user": {
      "displayName": "Zhi jie Qian",
      "userId": "17587581155014799590"
     },
     "user_tz": -120
    },
    "id": "6wsZ4r5Oul7o",
    "outputId": "9df9d5dc-dc06-4ef7-a089-11c122bf4a76"
   },
   "outputs": [
    {
     "name": "stdout",
     "output_type": "stream",
     "text": [
      "Model: \"sequential\"\n",
      "_________________________________________________________________\n",
      " Layer (type)                Output Shape              Param #   \n",
      "=================================================================\n",
      " dense (Dense)               (None, 12)                132       \n",
      "                                                                 \n",
      " dense_1 (Dense)             (None, 12)                156       \n",
      "                                                                 \n",
      " dense_2 (Dense)             (None, 1)                 13        \n",
      "                                                                 \n",
      "=================================================================\n",
      "Total params: 301\n",
      "Trainable params: 301\n",
      "Non-trainable params: 0\n",
      "_________________________________________________________________\n",
      "\n",
      "\n",
      "\n",
      "              precision    recall  f1-score   support\n",
      "\n",
      "         0.0       0.92      0.66      0.77       177\n",
      "         1.0       0.31      0.73      0.44        37\n",
      "\n",
      "    accuracy                           0.67       214\n",
      "   macro avg       0.62      0.70      0.60       214\n",
      "weighted avg       0.82      0.67      0.71       214\n",
      "\n",
      "[[117  60]\n",
      " [ 10  27]]\n"
     ]
    }
   ],
   "source": [
    "epochs = 50\n",
    "\n",
    "history = nn.fit(X_ajust_train, y_ajust_train, epochs=epochs, verbose=0, class_weight=class_weights, validation_data=(x_val, y_val))\n",
    "\n",
    "# Detalles de la red neuronal\n",
    "\n",
    "nn.summary()\n",
    "print('\\n\\n')\n",
    "\n",
    "y_pred = nn.predict(x_val)\n",
    "y_pred = y_pred > 0.5\n",
    "\n",
    "print(classification_report(y_val, y_pred, zero_division=0))\n",
    "\n",
    "print(confusion_matrix(y_val, y_pred))"
   ]
  },
  {
   "cell_type": "markdown",
   "metadata": {
    "id": "Z8E37UJTNqtg"
   },
   "source": [
    "### <font color=\"#CA3532\">Optimización del diseño de la red neuronal</font>\n",
    "\n",
    "- Cambiad la arquitectura de la red neuronal introduciendo más capas y neuronas para conseguir mejores resultados:\n",
    " - Añadid más capas o diferente tipo de capas.\n",
    " - Cambiad las funciones de activación.\n",
    " - Cambiad la función de error o el optimizador.\n",
    "\n",
    "- Utilizad ```tuner``` para la búsqueda de estos hiperparámetros (https://keras.io/keras_tuner/).\n"
   ]
  },
  {
   "cell_type": "code",
   "execution_count": 29,
   "metadata": {},
   "outputs": [],
   "source": [
    "metrics = [keras.metrics.BinaryAccuracy(name='ACC')]\n",
    "import tensorflow as tf\n",
    "import keras.backend as K\n",
    "\n",
    "def f1(y_true, y_pred):\n",
    "    y_pred = K.round(y_pred)\n",
    "    tp = K.sum(K.cast(y_true*y_pred, 'float'), axis=0)\n",
    "    tn = K.sum(K.cast((1-y_true)*(1-y_pred), 'float'), axis=0)\n",
    "    fp = K.sum(K.cast((1-y_true)*y_pred, 'float'), axis=0)\n",
    "    fn = K.sum(K.cast(y_true*(1-y_pred), 'float'), axis=0)\n",
    "\n",
    "    p = tp / (tp + fp + K.epsilon())\n",
    "    r = tp / (tp + fn + K.epsilon())\n",
    "\n",
    "    f1 = 2*p*r / (p+r+K.epsilon())\n",
    "    f1 = tf.where(tf.math.is_nan(f1), tf.zeros_like(f1), f1)\n",
    "    return K.mean(f1)\n",
    "\n",
    "def f1_loss(y_true, y_pred):\n",
    "    \n",
    "    tp = K.sum(K.cast(y_true*y_pred, 'float'), axis=0)\n",
    "    tn = K.sum(K.cast((1-y_true)*(1-y_pred), 'float'), axis=0)\n",
    "    fp = K.sum(K.cast((1-y_true)*y_pred, 'float'), axis=0)\n",
    "    fn = K.sum(K.cast(y_true*(1-y_pred), 'float'), axis=0)\n",
    "\n",
    "    p = tp / (tp + fp + K.epsilon())\n",
    "    r = tp / (tp + fn + K.epsilon())\n",
    "\n",
    "    f1 = 2*p*r / (p+r+K.epsilon())\n",
    "    f1 = tf.where(tf.math.is_nan(f1), tf.zeros_like(f1), f1)\n",
    "    return 1 - K.mean(f1)"
   ]
  },
  {
   "cell_type": "code",
   "execution_count": 30,
   "metadata": {},
   "outputs": [
    {
     "name": "stdout",
     "output_type": "stream",
     "text": [
      "Requirement already satisfied: keras-tuner in c:\\users\\santo\\anaconda3\\lib\\site-packages (1.1.2)\n",
      "Requirement already satisfied: tensorboard in c:\\users\\santo\\anaconda3\\lib\\site-packages (from keras-tuner) (2.8.0)\n",
      "Requirement already satisfied: packaging in c:\\users\\santo\\anaconda3\\lib\\site-packages (from keras-tuner) (21.0)\n",
      "Requirement already satisfied: ipython in c:\\users\\santo\\anaconda3\\lib\\site-packages (from keras-tuner) (7.29.0)\n",
      "Requirement already satisfied: requests in c:\\users\\santo\\anaconda3\\lib\\site-packages (from keras-tuner) (2.25.1)\n",
      "Requirement already satisfied: numpy in c:\\users\\santo\\anaconda3\\lib\\site-packages (from keras-tuner) (1.22.3)\n",
      "Requirement already satisfied: kt-legacy in c:\\users\\santo\\anaconda3\\lib\\site-packages (from keras-tuner) (1.0.4)\n",
      "Requirement already satisfied: setuptools>=18.5 in c:\\users\\santo\\anaconda3\\lib\\site-packages (from ipython->keras-tuner) (58.0.4)\n",
      "Requirement already satisfied: matplotlib-inline in c:\\users\\santo\\anaconda3\\lib\\site-packages (from ipython->keras-tuner) (0.1.2)\n",
      "Requirement already satisfied: traitlets>=4.2 in c:\\users\\santo\\anaconda3\\lib\\site-packages (from ipython->keras-tuner) (5.1.0)\n",
      "Requirement already satisfied: jedi>=0.16 in c:\\users\\santo\\anaconda3\\lib\\site-packages (from ipython->keras-tuner) (0.18.0)\n",
      "Requirement already satisfied: colorama in c:\\users\\santo\\anaconda3\\lib\\site-packages (from ipython->keras-tuner) (0.4.4)\n",
      "Requirement already satisfied: pygments in c:\\users\\santo\\anaconda3\\lib\\site-packages (from ipython->keras-tuner) (2.10.0)\n",
      "Requirement already satisfied: decorator in c:\\users\\santo\\anaconda3\\lib\\site-packages (from ipython->keras-tuner) (5.1.0)\n",
      "Requirement already satisfied: backcall in c:\\users\\santo\\anaconda3\\lib\\site-packages (from ipython->keras-tuner) (0.2.0)\n",
      "Requirement already satisfied: pickleshare in c:\\users\\santo\\anaconda3\\lib\\site-packages (from ipython->keras-tuner) (0.7.5)\n",
      "Requirement already satisfied: prompt-toolkit!=3.0.0,!=3.0.1,<3.1.0,>=2.0.0 in c:\\users\\santo\\anaconda3\\lib\\site-packages (from ipython->keras-tuner) (3.0.20)\n",
      "Requirement already satisfied: parso<0.9.0,>=0.8.0 in c:\\users\\santo\\anaconda3\\lib\\site-packages (from jedi>=0.16->ipython->keras-tuner) (0.8.2)\n",
      "Requirement already satisfied: wcwidth in c:\\users\\santo\\anaconda3\\lib\\site-packages (from prompt-toolkit!=3.0.0,!=3.0.1,<3.1.0,>=2.0.0->ipython->keras-tuner) (0.2.5)\n",
      "Requirement already satisfied: pyparsing>=2.0.2 in c:\\users\\santo\\anaconda3\\lib\\site-packages (from packaging->keras-tuner) (3.0.4)\n",
      "Requirement already satisfied: chardet<5,>=3.0.2 in c:\\users\\santo\\anaconda3\\lib\\site-packages (from requests->keras-tuner) (4.0.0)\n",
      "Requirement already satisfied: idna<3,>=2.5 in c:\\users\\santo\\anaconda3\\lib\\site-packages (from requests->keras-tuner) (2.10)\n",
      "Requirement already satisfied: certifi>=2017.4.17 in c:\\users\\santo\\anaconda3\\lib\\site-packages (from requests->keras-tuner) (2021.10.8)\n",
      "Requirement already satisfied: urllib3<1.27,>=1.21.1 in c:\\users\\santo\\anaconda3\\lib\\site-packages (from requests->keras-tuner) (1.26.7)\n",
      "Requirement already satisfied: absl-py>=0.4 in c:\\users\\santo\\anaconda3\\lib\\site-packages (from tensorboard->keras-tuner) (1.0.0)\n",
      "Requirement already satisfied: google-auth-oauthlib<0.5,>=0.4.1 in c:\\users\\santo\\anaconda3\\lib\\site-packages (from tensorboard->keras-tuner) (0.4.6)\n",
      "Requirement already satisfied: google-auth<3,>=1.6.3 in c:\\users\\santo\\anaconda3\\lib\\site-packages (from tensorboard->keras-tuner) (2.6.0)\n",
      "Requirement already satisfied: tensorboard-data-server<0.7.0,>=0.6.0 in c:\\users\\santo\\anaconda3\\lib\\site-packages (from tensorboard->keras-tuner) (0.6.1)\n",
      "Requirement already satisfied: wheel>=0.26 in c:\\users\\santo\\anaconda3\\lib\\site-packages (from tensorboard->keras-tuner) (0.37.0)\n",
      "Requirement already satisfied: grpcio>=1.24.3 in c:\\users\\santo\\anaconda3\\lib\\site-packages (from tensorboard->keras-tuner) (1.44.0)\n",
      "Requirement already satisfied: werkzeug>=0.11.15 in c:\\users\\santo\\anaconda3\\lib\\site-packages (from tensorboard->keras-tuner) (2.0.2)\n",
      "Requirement already satisfied: tensorboard-plugin-wit>=1.6.0 in c:\\users\\santo\\anaconda3\\lib\\site-packages (from tensorboard->keras-tuner) (1.8.1)\n",
      "Requirement already satisfied: markdown>=2.6.8 in c:\\users\\santo\\anaconda3\\lib\\site-packages (from tensorboard->keras-tuner) (3.3.6)\n",
      "Requirement already satisfied: protobuf>=3.6.0 in c:\\users\\santo\\anaconda3\\lib\\site-packages (from tensorboard->keras-tuner) (3.19.4)\n",
      "Requirement already satisfied: six in c:\\users\\santo\\anaconda3\\lib\\site-packages (from absl-py>=0.4->tensorboard->keras-tuner) (1.16.0)\n",
      "Requirement already satisfied: rsa<5,>=3.1.4 in c:\\users\\santo\\anaconda3\\lib\\site-packages (from google-auth<3,>=1.6.3->tensorboard->keras-tuner) (4.8)\n",
      "Requirement already satisfied: pyasn1-modules>=0.2.1 in c:\\users\\santo\\anaconda3\\lib\\site-packages (from google-auth<3,>=1.6.3->tensorboard->keras-tuner) (0.2.8)\n",
      "Requirement already satisfied: cachetools<6.0,>=2.0.0 in c:\\users\\santo\\anaconda3\\lib\\site-packages (from google-auth<3,>=1.6.3->tensorboard->keras-tuner) (5.0.0)\n",
      "Requirement already satisfied: requests-oauthlib>=0.7.0 in c:\\users\\santo\\anaconda3\\lib\\site-packages (from google-auth-oauthlib<0.5,>=0.4.1->tensorboard->keras-tuner) (1.3.1)\n",
      "Requirement already satisfied: importlib-metadata>=4.4 in c:\\users\\santo\\anaconda3\\lib\\site-packages (from markdown>=2.6.8->tensorboard->keras-tuner) (4.8.1)\n",
      "Requirement already satisfied: zipp>=0.5 in c:\\users\\santo\\anaconda3\\lib\\site-packages (from importlib-metadata>=4.4->markdown>=2.6.8->tensorboard->keras-tuner) (3.6.0)\n",
      "Requirement already satisfied: pyasn1<0.5.0,>=0.4.6 in c:\\users\\santo\\anaconda3\\lib\\site-packages (from pyasn1-modules>=0.2.1->google-auth<3,>=1.6.3->tensorboard->keras-tuner) (0.4.8)\n",
      "Requirement already satisfied: oauthlib>=3.0.0 in c:\\users\\santo\\anaconda3\\lib\\site-packages (from requests-oauthlib>=0.7.0->google-auth-oauthlib<0.5,>=0.4.1->tensorboard->keras-tuner) (3.2.0)\n"
     ]
    },
    {
     "name": "stderr",
     "output_type": "stream",
     "text": [
      "C:\\Users\\santo\\AppData\\Local\\Temp/ipykernel_23860/338409175.py:3: DeprecationWarning: `import kerastuner` is deprecated, please use `import keras_tuner`.\n",
      "  from kerastuner.tuners import RandomSearch\n"
     ]
    }
   ],
   "source": [
    "!pip3 install -U keras-tuner\n",
    "import keras_tuner\n",
    "from kerastuner.tuners import RandomSearch\n",
    "\n",
    "import numpy as np\n",
    "import matplotlib.pyplot as plt\n",
    "import tensorflow as tf\n",
    "from tensorflow import keras\n",
    "import keras as k\n",
    "from keras.models import Sequential\n",
    "from keras.layers import Dense\n",
    "from sklearn.metrics import classification_report, confusion_matrix\n",
    "import json"
   ]
  },
  {
   "cell_type": "code",
   "execution_count": 31,
   "metadata": {},
   "outputs": [],
   "source": [
    "x_train, y_train = X_ajust_train, y_ajust_train\n",
    "def work(build_model, epochs=50):\n",
    "  !rm -rf untitled_project/\n",
    "  tuner = RandomSearch(build_model, objective='val_ACC', max_trials=1200, executions_per_trial=3)\n",
    "  tuner.search_space_summary()\n",
    "  tuner.search(x_train, y_train, epochs=epochs, class_weight=class_weights, validation_data=(x_val, y_val), verbose=0)\n",
    "  tuner.results_summary()\n",
    "  best_nn = tuner.get_best_models(num_models=1)\n",
    "  y_pred = best_nn[0].predict(x_val)\n",
    "  y_pred = y_pred > 0.5\n",
    "  print(confusion_matrix(y_val, y_pred))\n",
    "  print(classification_report(y_val, y_pred, zero_division=0))\n",
    "  config = json.dumps(best_nn[0].get_config(), indent=2)\n",
    "  print(config)"
   ]
  },
  {
   "cell_type": "code",
   "execution_count": 32,
   "metadata": {},
   "outputs": [
    {
     "name": "stdout",
     "output_type": "stream",
     "text": [
      "INFO:tensorflow:Reloading Oracle from existing project .\\untitled_project\\oracle.json\n"
     ]
    },
    {
     "name": "stderr",
     "output_type": "stream",
     "text": [
      "\"rm\" no se reconoce como un comando interno o externo,\n",
      "programa o archivo por lotes ejecutable.\n"
     ]
    },
    {
     "name": "stdout",
     "output_type": "stream",
     "text": [
      "INFO:tensorflow:Reloading Tuner from .\\untitled_project\\tuner0.json\n",
      "Search space summary\n",
      "Default search space size: 3\n",
      "units (Int)\n",
      "{'default': None, 'conditions': [], 'min_value': 1, 'max_value': 100, 'step': 1, 'sampling': None}\n",
      "activations (Choice)\n",
      "{'default': 'relu', 'conditions': [], 'values': ['relu', 'tanh', 'sigmoid'], 'ordered': False}\n",
      "learning_rate (Choice)\n",
      "{'default': 0.01, 'conditions': [], 'values': [0.01, 0.001, 0.0001], 'ordered': True}\n",
      "INFO:tensorflow:Oracle triggered exit\n",
      "Results summary\n",
      "Results in .\\untitled_project\n",
      "Showing 10 best trials\n",
      "<keras_tuner.engine.objective.Objective object at 0x0000021B561159D0>\n",
      "Trial summary\n",
      "Hyperparameters:\n",
      "units: 24\n",
      "activations: sigmoid\n",
      "learning_rate: 0.001\n",
      "Score: 0.8302180568377177\n",
      "Trial summary\n",
      "Hyperparameters:\n",
      "units: 72\n",
      "activations: sigmoid\n",
      "learning_rate: 0.0001\n",
      "Score: 0.827102780342102\n",
      "Trial summary\n",
      "Hyperparameters:\n",
      "units: 60\n",
      "activations: relu\n",
      "learning_rate: 0.01\n",
      "Score: 0.822429895401001\n",
      "Trial summary\n",
      "Hyperparameters:\n",
      "units: 8\n",
      "activations: tanh\n",
      "learning_rate: 0.01\n",
      "Score: 0.8099688490231832\n",
      "Trial summary\n",
      "Hyperparameters:\n",
      "units: 74\n",
      "activations: sigmoid\n",
      "learning_rate: 0.01\n",
      "Score: 0.8099688490231832\n",
      "Trial summary\n",
      "Hyperparameters:\n",
      "units: 63\n",
      "activations: sigmoid\n",
      "learning_rate: 0.01\n",
      "Score: 0.8068535725275675\n",
      "Trial summary\n",
      "Hyperparameters:\n",
      "units: 75\n",
      "activations: relu\n",
      "learning_rate: 0.001\n",
      "Score: 0.8052959442138672\n",
      "Trial summary\n",
      "Hyperparameters:\n",
      "units: 19\n",
      "activations: sigmoid\n",
      "learning_rate: 0.0001\n",
      "Score: 0.7975077827771505\n",
      "Trial summary\n",
      "Hyperparameters:\n",
      "units: 20\n",
      "activations: sigmoid\n",
      "learning_rate: 0.001\n",
      "Score: 0.7943925062815348\n",
      "Trial summary\n",
      "Hyperparameters:\n",
      "units: 46\n",
      "activations: sigmoid\n",
      "learning_rate: 0.0001\n",
      "Score: 0.7928348779678345\n",
      "[[176   1]\n",
      " [ 36   1]]\n",
      "              precision    recall  f1-score   support\n",
      "\n",
      "         0.0       0.83      0.99      0.90       177\n",
      "         1.0       0.50      0.03      0.05        37\n",
      "\n",
      "    accuracy                           0.83       214\n",
      "   macro avg       0.67      0.51      0.48       214\n",
      "weighted avg       0.77      0.83      0.76       214\n",
      "\n",
      "{\n",
      "  \"name\": \"sequential\",\n",
      "  \"layers\": [\n",
      "    {\n",
      "      \"class_name\": \"InputLayer\",\n",
      "      \"config\": {\n",
      "        \"batch_input_shape\": [\n",
      "          null,\n",
      "          10\n",
      "        ],\n",
      "        \"dtype\": \"float32\",\n",
      "        \"sparse\": false,\n",
      "        \"ragged\": false,\n",
      "        \"name\": \"dense_input\"\n",
      "      }\n",
      "    },\n",
      "    {\n",
      "      \"class_name\": \"Dense\",\n",
      "      \"config\": {\n",
      "        \"name\": \"dense\",\n",
      "        \"trainable\": true,\n",
      "        \"dtype\": \"float32\",\n",
      "        \"units\": 24,\n",
      "        \"activation\": \"sigmoid\",\n",
      "        \"use_bias\": true,\n",
      "        \"kernel_initializer\": {\n",
      "          \"class_name\": \"GlorotUniform\",\n",
      "          \"config\": {\n",
      "            \"seed\": null\n",
      "          }\n",
      "        },\n",
      "        \"bias_initializer\": {\n",
      "          \"class_name\": \"Zeros\",\n",
      "          \"config\": {}\n",
      "        },\n",
      "        \"kernel_regularizer\": null,\n",
      "        \"bias_regularizer\": null,\n",
      "        \"activity_regularizer\": null,\n",
      "        \"kernel_constraint\": null,\n",
      "        \"bias_constraint\": null\n",
      "      }\n",
      "    },\n",
      "    {\n",
      "      \"class_name\": \"Dense\",\n",
      "      \"config\": {\n",
      "        \"name\": \"dense_1\",\n",
      "        \"trainable\": true,\n",
      "        \"dtype\": \"float32\",\n",
      "        \"units\": 1,\n",
      "        \"activation\": \"sigmoid\",\n",
      "        \"use_bias\": true,\n",
      "        \"kernel_initializer\": {\n",
      "          \"class_name\": \"GlorotUniform\",\n",
      "          \"config\": {\n",
      "            \"seed\": null\n",
      "          }\n",
      "        },\n",
      "        \"bias_initializer\": {\n",
      "          \"class_name\": \"Zeros\",\n",
      "          \"config\": {}\n",
      "        },\n",
      "        \"kernel_regularizer\": null,\n",
      "        \"bias_regularizer\": null,\n",
      "        \"activity_regularizer\": null,\n",
      "        \"kernel_constraint\": null,\n",
      "        \"bias_constraint\": null\n",
      "      }\n",
      "    }\n",
      "  ]\n",
      "}\n"
     ]
    }
   ],
   "source": [
    "def build_model_binary_1(hp):\n",
    "    nn = Sequential()\n",
    "    nn.add(Dense(units=hp.Int(f\"units\", 1, 100), activation=hp.Choice(f\"activations\", [\"relu\", \"tanh\", 'sigmoid'])))\n",
    "    nn.add(Dense(1, activation=\"sigmoid\"))\n",
    "    nn.compile(optimizer=keras.optimizers.Adam(hp.Choice('learning_rate', values=[1e-2, 1e-3, 1e-4])), loss=f1_loss, metrics=metrics)\n",
    "    return nn\n",
    "\n",
    "work(build_model_binary_1)"
   ]
  },
  {
   "cell_type": "code",
   "execution_count": 33,
   "metadata": {},
   "outputs": [
    {
     "name": "stdout",
     "output_type": "stream",
     "text": [
      "INFO:tensorflow:Reloading Oracle from existing project .\\untitled_project\\oracle.json\n"
     ]
    },
    {
     "name": "stderr",
     "output_type": "stream",
     "text": [
      "\"rm\" no se reconoce como un comando interno o externo,\n",
      "programa o archivo por lotes ejecutable.\n"
     ]
    },
    {
     "name": "stdout",
     "output_type": "stream",
     "text": [
      "WARNING:tensorflow:Detecting that an object or model or tf.train.Checkpoint is being deleted with unrestored values. See the following logs for the specific values in question. To silence these warnings, use `status.expect_partial()`. See https://www.tensorflow.org/api_docs/python/tf/train/Checkpoint#restorefor details about the status object returned by the restore function.\n",
      "WARNING:tensorflow:Value in checkpoint could not be found in the restored object: (root).optimizer.iter\n",
      "WARNING:tensorflow:Value in checkpoint could not be found in the restored object: (root).optimizer.beta_1\n",
      "WARNING:tensorflow:Value in checkpoint could not be found in the restored object: (root).optimizer.beta_2\n",
      "WARNING:tensorflow:Value in checkpoint could not be found in the restored object: (root).optimizer.decay\n",
      "WARNING:tensorflow:Value in checkpoint could not be found in the restored object: (root).optimizer.learning_rate\n",
      "WARNING:tensorflow:Value in checkpoint could not be found in the restored object: (root).optimizer's state 'm' for (root).layer_with_weights-0.kernel\n",
      "WARNING:tensorflow:Value in checkpoint could not be found in the restored object: (root).optimizer's state 'm' for (root).layer_with_weights-0.bias\n",
      "WARNING:tensorflow:Value in checkpoint could not be found in the restored object: (root).optimizer's state 'm' for (root).layer_with_weights-1.kernel\n",
      "WARNING:tensorflow:Value in checkpoint could not be found in the restored object: (root).optimizer's state 'm' for (root).layer_with_weights-1.bias\n",
      "WARNING:tensorflow:Value in checkpoint could not be found in the restored object: (root).optimizer's state 'v' for (root).layer_with_weights-0.kernel\n",
      "WARNING:tensorflow:Value in checkpoint could not be found in the restored object: (root).optimizer's state 'v' for (root).layer_with_weights-0.bias\n",
      "WARNING:tensorflow:Value in checkpoint could not be found in the restored object: (root).optimizer's state 'v' for (root).layer_with_weights-1.kernel\n",
      "WARNING:tensorflow:Value in checkpoint could not be found in the restored object: (root).optimizer's state 'v' for (root).layer_with_weights-1.bias\n",
      "INFO:tensorflow:Reloading Tuner from .\\untitled_project\\tuner0.json\n",
      "Search space summary\n",
      "Default search space size: 3\n",
      "units (Int)\n",
      "{'default': None, 'conditions': [], 'min_value': 1, 'max_value': 100, 'step': 1, 'sampling': None}\n",
      "activations (Choice)\n",
      "{'default': 'relu', 'conditions': [], 'values': ['relu', 'tanh', 'sigmoid'], 'ordered': False}\n",
      "learning_rate (Choice)\n",
      "{'default': 0.01, 'conditions': [], 'values': [0.01, 0.001, 0.0001], 'ordered': True}\n",
      "INFO:tensorflow:Oracle triggered exit\n",
      "Results summary\n",
      "Results in .\\untitled_project\n",
      "Showing 10 best trials\n",
      "<keras_tuner.engine.objective.Objective object at 0x0000021B4AA2BD30>\n",
      "Trial summary\n",
      "Hyperparameters:\n",
      "units: 24\n",
      "activations: sigmoid\n",
      "learning_rate: 0.001\n",
      "Score: 0.8302180568377177\n",
      "Trial summary\n",
      "Hyperparameters:\n",
      "units: 72\n",
      "activations: sigmoid\n",
      "learning_rate: 0.0001\n",
      "Score: 0.827102780342102\n",
      "Trial summary\n",
      "Hyperparameters:\n",
      "units: 60\n",
      "activations: relu\n",
      "learning_rate: 0.01\n",
      "Score: 0.822429895401001\n",
      "Trial summary\n",
      "Hyperparameters:\n",
      "units: 8\n",
      "activations: tanh\n",
      "learning_rate: 0.01\n",
      "Score: 0.8099688490231832\n",
      "Trial summary\n",
      "Hyperparameters:\n",
      "units: 74\n",
      "activations: sigmoid\n",
      "learning_rate: 0.01\n",
      "Score: 0.8099688490231832\n",
      "Trial summary\n",
      "Hyperparameters:\n",
      "units: 63\n",
      "activations: sigmoid\n",
      "learning_rate: 0.01\n",
      "Score: 0.8068535725275675\n",
      "Trial summary\n",
      "Hyperparameters:\n",
      "units: 75\n",
      "activations: relu\n",
      "learning_rate: 0.001\n",
      "Score: 0.8052959442138672\n",
      "Trial summary\n",
      "Hyperparameters:\n",
      "units: 19\n",
      "activations: sigmoid\n",
      "learning_rate: 0.0001\n",
      "Score: 0.7975077827771505\n",
      "Trial summary\n",
      "Hyperparameters:\n",
      "units: 20\n",
      "activations: sigmoid\n",
      "learning_rate: 0.001\n",
      "Score: 0.7943925062815348\n",
      "Trial summary\n",
      "Hyperparameters:\n",
      "units: 46\n",
      "activations: sigmoid\n",
      "learning_rate: 0.0001\n",
      "Score: 0.7928348779678345\n",
      "[[83 94]\n",
      " [ 4 33]]\n",
      "              precision    recall  f1-score   support\n",
      "\n",
      "         0.0       0.95      0.47      0.63       177\n",
      "         1.0       0.26      0.89      0.40        37\n",
      "\n",
      "    accuracy                           0.54       214\n",
      "   macro avg       0.61      0.68      0.52       214\n",
      "weighted avg       0.83      0.54      0.59       214\n",
      "\n",
      "{\n",
      "  \"name\": \"sequential\",\n",
      "  \"layers\": [\n",
      "    {\n",
      "      \"class_name\": \"InputLayer\",\n",
      "      \"config\": {\n",
      "        \"batch_input_shape\": [\n",
      "          null,\n",
      "          10\n",
      "        ],\n",
      "        \"dtype\": \"float32\",\n",
      "        \"sparse\": false,\n",
      "        \"ragged\": false,\n",
      "        \"name\": \"dense_input\"\n",
      "      }\n",
      "    },\n",
      "    {\n",
      "      \"class_name\": \"Dense\",\n",
      "      \"config\": {\n",
      "        \"name\": \"dense\",\n",
      "        \"trainable\": true,\n",
      "        \"dtype\": \"float32\",\n",
      "        \"units\": 1,\n",
      "        \"activation\": \"relu\",\n",
      "        \"use_bias\": true,\n",
      "        \"kernel_initializer\": {\n",
      "          \"class_name\": \"GlorotUniform\",\n",
      "          \"config\": {\n",
      "            \"seed\": null\n",
      "          }\n",
      "        },\n",
      "        \"bias_initializer\": {\n",
      "          \"class_name\": \"Zeros\",\n",
      "          \"config\": {}\n",
      "        },\n",
      "        \"kernel_regularizer\": null,\n",
      "        \"bias_regularizer\": null,\n",
      "        \"activity_regularizer\": null,\n",
      "        \"kernel_constraint\": null,\n",
      "        \"bias_constraint\": null\n",
      "      }\n",
      "    },\n",
      "    {\n",
      "      \"class_name\": \"Dense\",\n",
      "      \"config\": {\n",
      "        \"name\": \"dense_1\",\n",
      "        \"trainable\": true,\n",
      "        \"dtype\": \"float32\",\n",
      "        \"units\": 1,\n",
      "        \"activation\": \"relu\",\n",
      "        \"use_bias\": true,\n",
      "        \"kernel_initializer\": {\n",
      "          \"class_name\": \"GlorotUniform\",\n",
      "          \"config\": {\n",
      "            \"seed\": null\n",
      "          }\n",
      "        },\n",
      "        \"bias_initializer\": {\n",
      "          \"class_name\": \"Zeros\",\n",
      "          \"config\": {}\n",
      "        },\n",
      "        \"kernel_regularizer\": null,\n",
      "        \"bias_regularizer\": null,\n",
      "        \"activity_regularizer\": null,\n",
      "        \"kernel_constraint\": null,\n",
      "        \"bias_constraint\": null\n",
      "      }\n",
      "    },\n",
      "    {\n",
      "      \"class_name\": \"Dense\",\n",
      "      \"config\": {\n",
      "        \"name\": \"dense_2\",\n",
      "        \"trainable\": true,\n",
      "        \"dtype\": \"float32\",\n",
      "        \"units\": 1,\n",
      "        \"activation\": \"sigmoid\",\n",
      "        \"use_bias\": true,\n",
      "        \"kernel_initializer\": {\n",
      "          \"class_name\": \"GlorotUniform\",\n",
      "          \"config\": {\n",
      "            \"seed\": null\n",
      "          }\n",
      "        },\n",
      "        \"bias_initializer\": {\n",
      "          \"class_name\": \"Zeros\",\n",
      "          \"config\": {}\n",
      "        },\n",
      "        \"kernel_regularizer\": null,\n",
      "        \"bias_regularizer\": null,\n",
      "        \"activity_regularizer\": null,\n",
      "        \"kernel_constraint\": null,\n",
      "        \"bias_constraint\": null\n",
      "      }\n",
      "    }\n",
      "  ]\n",
      "}\n"
     ]
    }
   ],
   "source": [
    "def build_model_binary_2(hp):\n",
    "    nn = Sequential()\n",
    "    nn.add(Dense(units=hp.Int(f\"units_1\", 1, 100), activation=hp.Choice(f\"activation_1\", [\"relu\", \"tanh\", 'sigmoid'])))\n",
    "    nn.add(Dense(units=hp.Int(f\"units_2\", 1, 100), activation=hp.Choice(f\"activation_2\", [\"relu\", \"tanh\", 'sigmoid'])))\n",
    "    nn.add(Dense(1, activation=\"sigmoid\"))\n",
    "    nn.compile(optimizer=keras.optimizers.Adam(hp.Choice('learning_rate', values=[1e-2, 1e-3, 1e-4])), loss=\"binary_crossentropy\", metrics=metrics)\n",
    "    return nn\n",
    "\n",
    "work(build_model_binary_2)"
   ]
  },
  {
   "cell_type": "code",
   "execution_count": 34,
   "metadata": {},
   "outputs": [
    {
     "name": "stdout",
     "output_type": "stream",
     "text": [
      "INFO:tensorflow:Reloading Oracle from existing project .\\untitled_project\\oracle.json\n"
     ]
    },
    {
     "name": "stderr",
     "output_type": "stream",
     "text": [
      "\"rm\" no se reconoce como un comando interno o externo,\n",
      "programa o archivo por lotes ejecutable.\n"
     ]
    },
    {
     "name": "stdout",
     "output_type": "stream",
     "text": [
      "WARNING:tensorflow:Detecting that an object or model or tf.train.Checkpoint is being deleted with unrestored values. See the following logs for the specific values in question. To silence these warnings, use `status.expect_partial()`. See https://www.tensorflow.org/api_docs/python/tf/train/Checkpoint#restorefor details about the status object returned by the restore function.\n",
      "WARNING:tensorflow:Value in checkpoint could not be found in the restored object: (root).optimizer.iter\n",
      "WARNING:tensorflow:Value in checkpoint could not be found in the restored object: (root).optimizer.beta_1\n",
      "WARNING:tensorflow:Value in checkpoint could not be found in the restored object: (root).optimizer.beta_2\n",
      "WARNING:tensorflow:Value in checkpoint could not be found in the restored object: (root).optimizer.decay\n",
      "WARNING:tensorflow:Value in checkpoint could not be found in the restored object: (root).optimizer.learning_rate\n",
      "WARNING:tensorflow:Value in checkpoint could not be found in the restored object: (root).optimizer's state 'm' for (root).layer_with_weights-0.kernel\n",
      "WARNING:tensorflow:Value in checkpoint could not be found in the restored object: (root).optimizer's state 'm' for (root).layer_with_weights-0.bias\n",
      "WARNING:tensorflow:Value in checkpoint could not be found in the restored object: (root).optimizer's state 'm' for (root).layer_with_weights-1.kernel\n",
      "WARNING:tensorflow:Value in checkpoint could not be found in the restored object: (root).optimizer's state 'm' for (root).layer_with_weights-1.bias\n",
      "WARNING:tensorflow:Value in checkpoint could not be found in the restored object: (root).optimizer's state 'v' for (root).layer_with_weights-0.kernel\n",
      "WARNING:tensorflow:Value in checkpoint could not be found in the restored object: (root).optimizer's state 'v' for (root).layer_with_weights-0.bias\n",
      "WARNING:tensorflow:Value in checkpoint could not be found in the restored object: (root).optimizer's state 'v' for (root).layer_with_weights-1.kernel\n",
      "WARNING:tensorflow:Value in checkpoint could not be found in the restored object: (root).optimizer's state 'v' for (root).layer_with_weights-1.bias\n",
      "INFO:tensorflow:Reloading Tuner from .\\untitled_project\\tuner0.json\n",
      "Search space summary\n",
      "Default search space size: 3\n",
      "units (Int)\n",
      "{'default': None, 'conditions': [], 'min_value': 1, 'max_value': 100, 'step': 1, 'sampling': None}\n",
      "activations (Choice)\n",
      "{'default': 'relu', 'conditions': [], 'values': ['relu', 'tanh', 'sigmoid'], 'ordered': False}\n",
      "learning_rate (Choice)\n",
      "{'default': 0.01, 'conditions': [], 'values': [0.01, 0.001, 0.0001], 'ordered': True}\n",
      "INFO:tensorflow:Oracle triggered exit\n",
      "Results summary\n",
      "Results in .\\untitled_project\n",
      "Showing 10 best trials\n",
      "<keras_tuner.engine.objective.Objective object at 0x0000021B4AA18640>\n",
      "Trial summary\n",
      "Hyperparameters:\n",
      "units: 24\n",
      "activations: sigmoid\n",
      "learning_rate: 0.001\n",
      "Score: 0.8302180568377177\n",
      "Trial summary\n",
      "Hyperparameters:\n",
      "units: 72\n",
      "activations: sigmoid\n",
      "learning_rate: 0.0001\n",
      "Score: 0.827102780342102\n",
      "Trial summary\n",
      "Hyperparameters:\n",
      "units: 60\n",
      "activations: relu\n",
      "learning_rate: 0.01\n",
      "Score: 0.822429895401001\n",
      "Trial summary\n",
      "Hyperparameters:\n",
      "units: 74\n",
      "activations: sigmoid\n",
      "learning_rate: 0.01\n",
      "Score: 0.8099688490231832\n",
      "Trial summary\n",
      "Hyperparameters:\n",
      "units: 8\n",
      "activations: tanh\n",
      "learning_rate: 0.01\n",
      "Score: 0.8099688490231832\n",
      "Trial summary\n",
      "Hyperparameters:\n",
      "units: 63\n",
      "activations: sigmoid\n",
      "learning_rate: 0.01\n",
      "Score: 0.8068535725275675\n",
      "Trial summary\n",
      "Hyperparameters:\n",
      "units: 75\n",
      "activations: relu\n",
      "learning_rate: 0.001\n",
      "Score: 0.8052959442138672\n",
      "Trial summary\n",
      "Hyperparameters:\n",
      "units: 19\n",
      "activations: sigmoid\n",
      "learning_rate: 0.0001\n",
      "Score: 0.7975077827771505\n",
      "Trial summary\n",
      "Hyperparameters:\n",
      "units: 20\n",
      "activations: sigmoid\n",
      "learning_rate: 0.001\n",
      "Score: 0.7943925062815348\n",
      "Trial summary\n",
      "Hyperparameters:\n",
      "units: 46\n",
      "activations: sigmoid\n",
      "learning_rate: 0.0001\n",
      "Score: 0.7928348779678345\n",
      "[[177   0]\n",
      " [ 37   0]]\n",
      "              precision    recall  f1-score   support\n",
      "\n",
      "         0.0       0.83      1.00      0.91       177\n",
      "         1.0       0.00      0.00      0.00        37\n",
      "\n",
      "    accuracy                           0.83       214\n",
      "   macro avg       0.41      0.50      0.45       214\n",
      "weighted avg       0.68      0.83      0.75       214\n",
      "\n",
      "{\n",
      "  \"name\": \"sequential\",\n",
      "  \"layers\": [\n",
      "    {\n",
      "      \"class_name\": \"InputLayer\",\n",
      "      \"config\": {\n",
      "        \"batch_input_shape\": [\n",
      "          null,\n",
      "          10\n",
      "        ],\n",
      "        \"dtype\": \"float32\",\n",
      "        \"sparse\": false,\n",
      "        \"ragged\": false,\n",
      "        \"name\": \"dense_input\"\n",
      "      }\n",
      "    },\n",
      "    {\n",
      "      \"class_name\": \"Dense\",\n",
      "      \"config\": {\n",
      "        \"name\": \"dense\",\n",
      "        \"trainable\": true,\n",
      "        \"dtype\": \"float32\",\n",
      "        \"units\": 1,\n",
      "        \"activation\": \"relu\",\n",
      "        \"use_bias\": true,\n",
      "        \"kernel_initializer\": {\n",
      "          \"class_name\": \"GlorotUniform\",\n",
      "          \"config\": {\n",
      "            \"seed\": null\n",
      "          }\n",
      "        },\n",
      "        \"bias_initializer\": {\n",
      "          \"class_name\": \"Zeros\",\n",
      "          \"config\": {}\n",
      "        },\n",
      "        \"kernel_regularizer\": null,\n",
      "        \"bias_regularizer\": null,\n",
      "        \"activity_regularizer\": null,\n",
      "        \"kernel_constraint\": null,\n",
      "        \"bias_constraint\": null\n",
      "      }\n",
      "    },\n",
      "    {\n",
      "      \"class_name\": \"Dense\",\n",
      "      \"config\": {\n",
      "        \"name\": \"dense_1\",\n",
      "        \"trainable\": true,\n",
      "        \"dtype\": \"float32\",\n",
      "        \"units\": 1,\n",
      "        \"activation\": \"relu\",\n",
      "        \"use_bias\": true,\n",
      "        \"kernel_initializer\": {\n",
      "          \"class_name\": \"GlorotUniform\",\n",
      "          \"config\": {\n",
      "            \"seed\": null\n",
      "          }\n",
      "        },\n",
      "        \"bias_initializer\": {\n",
      "          \"class_name\": \"Zeros\",\n",
      "          \"config\": {}\n",
      "        },\n",
      "        \"kernel_regularizer\": null,\n",
      "        \"bias_regularizer\": null,\n",
      "        \"activity_regularizer\": null,\n",
      "        \"kernel_constraint\": null,\n",
      "        \"bias_constraint\": null\n",
      "      }\n",
      "    },\n",
      "    {\n",
      "      \"class_name\": \"Dense\",\n",
      "      \"config\": {\n",
      "        \"name\": \"dense_2\",\n",
      "        \"trainable\": true,\n",
      "        \"dtype\": \"float32\",\n",
      "        \"units\": 1,\n",
      "        \"activation\": \"relu\",\n",
      "        \"use_bias\": true,\n",
      "        \"kernel_initializer\": {\n",
      "          \"class_name\": \"GlorotUniform\",\n",
      "          \"config\": {\n",
      "            \"seed\": null\n",
      "          }\n",
      "        },\n",
      "        \"bias_initializer\": {\n",
      "          \"class_name\": \"Zeros\",\n",
      "          \"config\": {}\n",
      "        },\n",
      "        \"kernel_regularizer\": null,\n",
      "        \"bias_regularizer\": null,\n",
      "        \"activity_regularizer\": null,\n",
      "        \"kernel_constraint\": null,\n",
      "        \"bias_constraint\": null\n",
      "      }\n",
      "    },\n",
      "    {\n",
      "      \"class_name\": \"Dense\",\n",
      "      \"config\": {\n",
      "        \"name\": \"dense_3\",\n",
      "        \"trainable\": true,\n",
      "        \"dtype\": \"float32\",\n",
      "        \"units\": 1,\n",
      "        \"activation\": \"sigmoid\",\n",
      "        \"use_bias\": true,\n",
      "        \"kernel_initializer\": {\n",
      "          \"class_name\": \"GlorotUniform\",\n",
      "          \"config\": {\n",
      "            \"seed\": null\n",
      "          }\n",
      "        },\n",
      "        \"bias_initializer\": {\n",
      "          \"class_name\": \"Zeros\",\n",
      "          \"config\": {}\n",
      "        },\n",
      "        \"kernel_regularizer\": null,\n",
      "        \"bias_regularizer\": null,\n",
      "        \"activity_regularizer\": null,\n",
      "        \"kernel_constraint\": null,\n",
      "        \"bias_constraint\": null\n",
      "      }\n",
      "    }\n",
      "  ]\n",
      "}\n"
     ]
    }
   ],
   "source": [
    "def build_model_binary_3(hp):\n",
    "    nn = Sequential()\n",
    "    nn.add(Dense(units=hp.Int(f\"units_1\", 1, 100), activation=hp.Choice(f\"activation_1\", [\"relu\", \"tanh\", 'sigmoid'])))\n",
    "    nn.add(Dense(units=hp.Int(f\"units_2\", 1, 100), activation=hp.Choice(f\"activation_2\", [\"relu\", \"tanh\", 'sigmoid'])))\n",
    "    nn.add(Dense(units=hp.Int(f\"units_3\", 1, 100), activation=hp.Choice(f\"activation_3\", [\"relu\", \"tanh\", 'sigmoid'])))\n",
    "    nn.add(Dense(1, activation=\"sigmoid\"))\n",
    "    nn.compile(optimizer=keras.optimizers.Adam(hp.Choice('learning_rate', values=[1e-2, 1e-3, 1e-4])), loss=\"binary_crossentropy\", metrics=metrics)\n",
    "    return nn\n",
    "\n",
    "work(build_model_binary_3)"
   ]
  },
  {
   "cell_type": "markdown",
   "metadata": {
    "id": "NnY8rX6HzZXU"
   },
   "source": [
    "### <font color=\"#CA3532\">Diseño final de la red neuronal</font>\n",
    "Define ahora tu modelo final y muestra los resultados de su evaluación."
   ]
  },
  {
   "cell_type": "code",
   "execution_count": 35,
   "metadata": {
    "id": "Dn7fBHo_zfaz",
    "outputId": "1271263b-2dc7-4d01-da4f-eb5940b42279"
   },
   "outputs": [
    {
     "name": "stdout",
     "output_type": "stream",
     "text": [
      "Epoch 1/50\n",
      "WARNING:tensorflow:Detecting that an object or model or tf.train.Checkpoint is being deleted with unrestored values. See the following logs for the specific values in question. To silence these warnings, use `status.expect_partial()`. See https://www.tensorflow.org/api_docs/python/tf/train/Checkpoint#restorefor details about the status object returned by the restore function.\n",
      "WARNING:tensorflow:Value in checkpoint could not be found in the restored object: (root).optimizer.iter\n",
      "WARNING:tensorflow:Value in checkpoint could not be found in the restored object: (root).optimizer.beta_1\n",
      "WARNING:tensorflow:Value in checkpoint could not be found in the restored object: (root).optimizer.beta_2\n",
      "WARNING:tensorflow:Value in checkpoint could not be found in the restored object: (root).optimizer.decay\n",
      "WARNING:tensorflow:Value in checkpoint could not be found in the restored object: (root).optimizer.learning_rate\n",
      "WARNING:tensorflow:Value in checkpoint could not be found in the restored object: (root).optimizer's state 'm' for (root).layer_with_weights-0.kernel\n",
      "WARNING:tensorflow:Value in checkpoint could not be found in the restored object: (root).optimizer's state 'm' for (root).layer_with_weights-0.bias\n",
      "WARNING:tensorflow:Value in checkpoint could not be found in the restored object: (root).optimizer's state 'm' for (root).layer_with_weights-1.kernel\n",
      "WARNING:tensorflow:Value in checkpoint could not be found in the restored object: (root).optimizer's state 'm' for (root).layer_with_weights-1.bias\n",
      "WARNING:tensorflow:Value in checkpoint could not be found in the restored object: (root).optimizer's state 'v' for (root).layer_with_weights-0.kernel\n",
      "WARNING:tensorflow:Value in checkpoint could not be found in the restored object: (root).optimizer's state 'v' for (root).layer_with_weights-0.bias\n",
      "WARNING:tensorflow:Value in checkpoint could not be found in the restored object: (root).optimizer's state 'v' for (root).layer_with_weights-1.kernel\n",
      "WARNING:tensorflow:Value in checkpoint could not be found in the restored object: (root).optimizer's state 'v' for (root).layer_with_weights-1.bias\n",
      "27/27 [==============================] - 1s 1ms/step - loss: 0.2524 - auc: 0.5492\n",
      "Epoch 2/50\n",
      "27/27 [==============================] - 0s 1ms/step - loss: 0.2436 - auc: 0.6993\n",
      "Epoch 3/50\n",
      "27/27 [==============================] - 0s 1ms/step - loss: 0.2378 - auc: 0.7240\n",
      "Epoch 4/50\n",
      "27/27 [==============================] - 0s 1ms/step - loss: 0.2327 - auc: 0.7256\n",
      "Epoch 5/50\n",
      "27/27 [==============================] - 0s 2ms/step - loss: 0.2281 - auc: 0.7228\n",
      "Epoch 6/50\n",
      "27/27 [==============================] - 0s 1ms/step - loss: 0.2233 - auc: 0.7142\n",
      "Epoch 7/50\n",
      "27/27 [==============================] - 0s 1ms/step - loss: 0.2195 - auc: 0.7214\n",
      "Epoch 8/50\n",
      "27/27 [==============================] - 0s 1ms/step - loss: 0.2159 - auc: 0.7229\n",
      "Epoch 9/50\n",
      "27/27 [==============================] - 0s 1ms/step - loss: 0.2133 - auc: 0.7296\n",
      "Epoch 10/50\n",
      "27/27 [==============================] - 0s 1ms/step - loss: 0.2114 - auc: 0.7230\n",
      "Epoch 11/50\n",
      "27/27 [==============================] - 0s 1ms/step - loss: 0.2100 - auc: 0.7288\n",
      "Epoch 12/50\n",
      "27/27 [==============================] - 0s 1ms/step - loss: 0.2089 - auc: 0.7177\n",
      "Epoch 13/50\n",
      "27/27 [==============================] - 0s 1ms/step - loss: 0.2081 - auc: 0.7162\n",
      "Epoch 14/50\n",
      "27/27 [==============================] - 0s 1ms/step - loss: 0.2073 - auc: 0.7238\n",
      "Epoch 15/50\n",
      "27/27 [==============================] - 0s 1ms/step - loss: 0.2069 - auc: 0.7276\n",
      "Epoch 16/50\n",
      "27/27 [==============================] - 0s 1ms/step - loss: 0.2066 - auc: 0.7181\n",
      "Epoch 17/50\n",
      "27/27 [==============================] - 0s 1ms/step - loss: 0.2053 - auc: 0.7198\n",
      "Epoch 18/50\n",
      "27/27 [==============================] - 0s 2ms/step - loss: 0.2055 - auc: 0.7076\n",
      "Epoch 19/50\n",
      "27/27 [==============================] - 0s 1ms/step - loss: 0.2043 - auc: 0.7121\n",
      "Epoch 20/50\n",
      "27/27 [==============================] - 0s 1ms/step - loss: 0.2036 - auc: 0.7183\n",
      "Epoch 21/50\n",
      "27/27 [==============================] - 0s 2ms/step - loss: 0.2035 - auc: 0.7242\n",
      "Epoch 22/50\n",
      "27/27 [==============================] - 0s 1ms/step - loss: 0.2028 - auc: 0.7100\n",
      "Epoch 23/50\n",
      "27/27 [==============================] - 0s 1ms/step - loss: 0.2025 - auc: 0.7196\n",
      "Epoch 24/50\n",
      "27/27 [==============================] - 0s 1ms/step - loss: 0.2027 - auc: 0.7259\n",
      "Epoch 25/50\n",
      "27/27 [==============================] - 0s 1ms/step - loss: 0.2021 - auc: 0.7291\n",
      "Epoch 26/50\n",
      "27/27 [==============================] - 0s 1ms/step - loss: 0.2018 - auc: 0.7232\n",
      "Epoch 27/50\n",
      "27/27 [==============================] - 0s 2ms/step - loss: 0.2017 - auc: 0.7172\n",
      "Epoch 28/50\n",
      "27/27 [==============================] - 0s 1ms/step - loss: 0.2014 - auc: 0.7152\n",
      "Epoch 29/50\n",
      "27/27 [==============================] - 0s 2ms/step - loss: 0.2013 - auc: 0.7314\n",
      "Epoch 30/50\n",
      "27/27 [==============================] - 0s 1ms/step - loss: 0.2018 - auc: 0.7148\n",
      "Epoch 31/50\n",
      "27/27 [==============================] - 0s 1ms/step - loss: 0.2015 - auc: 0.7070\n",
      "Epoch 32/50\n",
      "27/27 [==============================] - 0s 1ms/step - loss: 0.2013 - auc: 0.7151\n",
      "Epoch 33/50\n",
      "27/27 [==============================] - 0s 851us/step - loss: 0.2016 - auc: 0.7196\n",
      "Epoch 34/50\n",
      "27/27 [==============================] - 0s 1ms/step - loss: 0.2007 - auc: 0.7220\n",
      "Epoch 35/50\n",
      "27/27 [==============================] - 0s 1ms/step - loss: 0.2006 - auc: 0.7182\n",
      "Epoch 36/50\n",
      "27/27 [==============================] - 0s 1ms/step - loss: 0.2002 - auc: 0.7206\n",
      "Epoch 37/50\n",
      "27/27 [==============================] - 0s 2ms/step - loss: 0.2003 - auc: 0.7182\n",
      "Epoch 38/50\n",
      "27/27 [==============================] - 0s 1ms/step - loss: 0.2003 - auc: 0.7185\n",
      "Epoch 39/50\n",
      "27/27 [==============================] - 0s 1ms/step - loss: 0.2001 - auc: 0.7206\n",
      "Epoch 40/50\n",
      "27/27 [==============================] - 0s 1ms/step - loss: 0.2007 - auc: 0.7177\n",
      "Epoch 41/50\n",
      "27/27 [==============================] - 0s 852us/step - loss: 0.2003 - auc: 0.7212\n",
      "Epoch 42/50\n",
      "27/27 [==============================] - 0s 1ms/step - loss: 0.2004 - auc: 0.7166\n",
      "Epoch 43/50\n",
      "27/27 [==============================] - 0s 1ms/step - loss: 0.1997 - auc: 0.7147\n",
      "Epoch 44/50\n",
      "27/27 [==============================] - 0s 1ms/step - loss: 0.2000 - auc: 0.7181\n",
      "Epoch 45/50\n",
      "27/27 [==============================] - 0s 2ms/step - loss: 0.1997 - auc: 0.7190\n",
      "Epoch 46/50\n",
      "27/27 [==============================] - 0s 1ms/step - loss: 0.1995 - auc: 0.7225\n",
      "Epoch 47/50\n",
      "27/27 [==============================] - 0s 1ms/step - loss: 0.1992 - auc: 0.7216\n",
      "Epoch 48/50\n",
      "27/27 [==============================] - 0s 1ms/step - loss: 0.1991 - auc: 0.7189\n",
      "Epoch 49/50\n",
      "27/27 [==============================] - 0s 1ms/step - loss: 0.1989 - auc: 0.7193\n",
      "Epoch 50/50\n",
      "27/27 [==============================] - 0s 1ms/step - loss: 0.1988 - auc: 0.7220\n",
      "[[129  48]\n",
      " [ 10  27]]\n",
      "              precision    recall  f1-score   support\n",
      "\n",
      "         0.0       0.93      0.73      0.82       177\n",
      "         1.0       0.36      0.73      0.48        37\n",
      "\n",
      "    accuracy                           0.73       214\n",
      "   macro avg       0.64      0.73      0.65       214\n",
      "weighted avg       0.83      0.73      0.76       214\n",
      "\n"
     ]
    }
   ],
   "source": [
    "### ---------------------------------------------------------------------------\n",
    "### Modelo final y evaluación\n",
    "### ---------------------------------------------------------------------------\n",
    "\n",
    "nn_final = Sequential()\n",
    "nn_final.add(Dense(x_size, activation=\"sigmoid\"))\n",
    "nn_final.add(Dense(1, activation=\"sigmoid\"))\n",
    "nn_final.add(Dense(1, activation=\"sigmoid\"))\n",
    "nn_final.add(Dense(1, activation=\"sigmoid\"))\n",
    "nn_final.compile(optimizer=keras.optimizers.Adam(learning_rate = 0.01), metrics=[tf.keras.metrics.AUC(from_logits=True)], loss=\"mse\")\n",
    "\n",
    "nn_final.fit(x=x_train, y=y_train, epochs=epochs, class_weight=class_weights)\n",
    "y_pred = nn_final.predict(x_val)\n",
    "y_pred = y_pred > 0.5\n",
    "\n",
    "print(confusion_matrix(y_val, y_pred))\n",
    "print(classification_report(y_val, y_pred, zero_division=0))"
   ]
  },
  {
   "cell_type": "code",
   "execution_count": null,
   "metadata": {
    "id": "QeHeod2g2oHh"
   },
   "outputs": [],
   "source": []
  }
 ],
 "metadata": {
  "accelerator": "GPU",
  "colab": {
   "collapsed_sections": [],
   "name": "Neuro_P3.ipynb",
   "provenance": []
  },
  "kernelspec": {
   "display_name": "Python 3 (ipykernel)",
   "language": "python",
   "name": "python3"
  },
  "language_info": {
   "codemirror_mode": {
    "name": "ipython",
    "version": 3
   },
   "file_extension": ".py",
   "mimetype": "text/x-python",
   "name": "python",
   "nbconvert_exporter": "python",
   "pygments_lexer": "ipython3",
   "version": "3.9.7"
  }
 },
 "nbformat": 4,
 "nbformat_minor": 4
}
