{
 "cells": [
  {
   "cell_type": "markdown",
   "metadata": {
    "id": "PTK5XDjA81SI"
   },
   "source": [
    "---\n",
    "# <font color=\"#CA3532\">Práctica 3 de Neurocomputación</font>\n",
    "### Curso 2021-2022\n",
    "### Escuela Politécnica Superior – Universidad Autónoma de Madrid\n",
    "\n",
    "---\n",
    "\n",
    "Fechas de entrega:\n",
    "- Grupo 2462: lunes 16 de mayo de 2022\n",
    "- Grupo 2461: martes 17 de mayo de 2022\n",
    "\n",
    "---\n",
    "\n",
    "Última actualización: 31-03-2022\n",
    "\n",
    "---"
   ]
  },
  {
   "cell_type": "markdown",
   "metadata": {
    "id": "jqWSLi9F9lTn"
   },
   "source": [
    "*Sesión 1*:\n",
    "\n",
    "- Esta práctica está centrada en [Keras](https://keras.io/).\n",
    "\n",
    "- Keras es una biblioteca de redes neuronales de código abierto, diseñada para la experimentación con redes neuronales profundas. Keras es modular, extensible y fácil de usar.\n",
    "\n",
    "- Keras puede usar distintos motores. Aquí se usará con TensorFlow.\n",
    "\n"
   ]
  },
  {
   "cell_type": "code",
   "execution_count": null,
   "metadata": {
    "id": "d7Wiw7iJCbgi"
   },
   "outputs": [],
   "source": [
    "### Incluid vuestros nombres, pareja y grupo aquí:\n",
    "estudiantes = [{'nombre': 'Zhijie Qian', 'pareja': 'P05', 'grupo': '2461'},\n",
    "               {'nombre': 'Santo Saenz Ferrero', 'pareja': 'P05', 'grupo': '2461'}]\n"
   ]
  },
  {
   "cell_type": "markdown",
   "metadata": {
    "id": "Y7vp1DQU_2KC"
   },
   "source": [
    "### <font color=\"#CA3532\">Importación de bibliotecas</font>\n",
    "\n",
    "TensorFlow 2.0 incluye oficialmente Keras."
   ]
  },
  {
   "cell_type": "code",
   "execution_count": 1,
   "metadata": {
    "executionInfo": {
     "elapsed": 6080,
     "status": "ok",
     "timestamp": 1651663841425,
     "user": {
      "displayName": "Zhi jie Qian",
      "userId": "17587581155014799590"
     },
     "user_tz": -120
    },
    "id": "oY36uRqOavkU"
   },
   "outputs": [],
   "source": [
    "# Importaciones\n",
    "\n",
    "import numpy as np\n",
    "import matplotlib.pyplot as plt\n",
    "\n",
    "import tensorflow as tf\n",
    "from tensorflow import keras\n",
    "\n",
    "import keras as k\n",
    "from keras.models import Sequential\n",
    "from keras.layers import Dense"
   ]
  },
  {
   "cell_type": "markdown",
   "metadata": {
    "id": "a4vpTFrKAfG-"
   },
   "source": [
    "### <font color=\"#CA3532\">Datos del problema</font>\n",
    "\n",
    "El problema consiste en predecir si va a haber una erupción solar (*solar flares*) en ciertas regiones solares en función de las características de la región solar. El conjunto datos y la caracterización de sus atributos puede encontrarse en https://www.openml.org/d/40702. El siguiente fragmento de código permite cargar estos datos."
   ]
  },
  {
   "cell_type": "code",
   "execution_count": 2,
   "metadata": {
    "executionInfo": {
     "elapsed": 2563,
     "status": "ok",
     "timestamp": 1651663847828,
     "user": {
      "displayName": "Zhi jie Qian",
      "userId": "17587581155014799590"
     },
     "user_tz": -120
    },
    "id": "nH2J34Gfbv_C"
   },
   "outputs": [],
   "source": [
    "dataset_url = 'https://www.openml.org/data/get_csv/4965303/flare.arff' \n",
    "\n",
    "dataset = np.genfromtxt(dataset_url, delimiter=',', skip_header=1)\n",
    "\n",
    "### -------------------------------------------------------------------------------\n",
    "### Dividid los ejemplos en atributos y clases. Guardad el número de atributos.\n",
    "### -------------------------------------------------------------------------------\n",
    "\n",
    "x = dataset[:,:-1]\n",
    "x_size = x.shape[1]\n",
    "y = dataset[:,-1]"
   ]
  },
  {
   "cell_type": "code",
   "execution_count": 3,
   "metadata": {
    "colab": {
     "base_uri": "https://localhost:8080/"
    },
    "executionInfo": {
     "elapsed": 6,
     "status": "ok",
     "timestamp": 1651663849483,
     "user": {
      "displayName": "Zhi jie Qian",
      "userId": "17587581155014799590"
     },
     "user_tz": -120
    },
    "id": "6bhpFdYNCVKk",
    "outputId": "fc8c1842-72ca-41d2-bd43-40f66148a4c7"
   },
   "outputs": [
    {
     "name": "stdout",
     "output_type": "stream",
     "text": [
      "Ejemplo 0: [5. 4. 3. 1. 3. 1. 1. 2. 1. 1.] 0.0\n",
      "Atributos: 10\n",
      "Clases: [0. 1.]\n",
      "Recuento de clases: 884 182\n",
      "Examplos: 1066\n"
     ]
    }
   ],
   "source": [
    "# Resultados de la división y el número de atributos\n",
    "\n",
    "print('Ejemplo 0:', x[0], y[1])\n",
    "print('Atributos:', x_size)\n",
    "print('Clases:', np.unique(y))\n",
    "print('Recuento de clases:', y.tolist().count(0), y.tolist().count(1))\n",
    "print('Examplos:', len(x))"
   ]
  },
  {
   "cell_type": "code",
   "execution_count": 4,
   "metadata": {
    "colab": {
     "base_uri": "https://localhost:8080/",
     "height": 281
    },
    "executionInfo": {
     "elapsed": 3135,
     "status": "ok",
     "timestamp": 1651663854197,
     "user": {
      "displayName": "Zhi jie Qian",
      "userId": "17587581155014799590"
     },
     "user_tz": -120
    },
    "id": "5oBLBAWR7N92",
    "outputId": "8bb4fbd0-9d5d-44c8-c623-fad425e54c3e"
   },
   "outputs": [
    {
     "data": {
      "image/png": "[encoded data removed]",
      "text/plain": [
       "<Figure size 432x288 with 12 Axes>"
      ]
     },
     "metadata": {
      "needs_background": "light"
     },
     "output_type": "display_data"
    }
   ],
   "source": [
    "# create pairwise scatter plots of numeric input variables\n",
    "from pandas import read_csv\n",
    "from pandas import DataFrame\n",
    "from pandas.plotting import scatter_matrix\n",
    "from matplotlib import pyplot\n",
    "\n",
    "# load the csv file as a data frame\n",
    "df = read_csv(dataset_url, header=1)\n",
    "\n",
    "# histograms of all variables \n",
    "df.hist()\n",
    "pyplot.show()"
   ]
  },
  {
   "cell_type": "code",
   "execution_count": null,
   "metadata": {
    "id": "Vn7n9Y-12oHV",
    "outputId": "0f42bf72-f2ef-464f-8dac-90847ec34d7a"
   },
   "outputs": [
    {
     "name": "stdout",
     "output_type": "stream",
     "text": [
      "   5  4  3  1  3.1  1.1  1.2  2  1.3  1.4  0\n",
      "0  1  3  1  1    2    1    1  2    1    1  0\n",
      "1  2  3  2  1    3    1    1  2    1    1  1\n",
      "2  5  4  3  2    2    1    2  2    1    1  0\n",
      "3  1  4  2  1    3    1    1  2    1    1  0\n",
      "4  1  4  2  1    2    1    2  2    1    1  0\n"
     ]
    }
   ],
   "source": [
    "print(df.head(5))"
   ]
  },
  {
   "cell_type": "code",
   "execution_count": null,
   "metadata": {
    "colab": {
     "base_uri": "https://localhost:8080/"
    },
    "executionInfo": {
     "elapsed": 488,
     "status": "ok",
     "timestamp": 1651606474648,
     "user": {
      "displayName": "Zhi jie Qian",
      "userId": "17587581155014799590"
     },
     "user_tz": -120
    },
    "id": "RV-nes8H2oHV",
    "outputId": "b6d375af-4349-4968-aa0a-00d994656672"
   },
   "outputs": [
    {
     "name": "stdout",
     "output_type": "stream",
     "text": [
      "                 5            4            3            1          3.1  \\\n",
      "count  1065.000000  1065.000000  1065.000000  1065.000000  1065.000000   \n",
      "mean      2.625352     2.957746     2.034742     1.153991     2.400939   \n",
      "std       1.844397     1.703904     0.806293     0.361109     0.620604   \n",
      "min       0.000000     0.000000     0.000000     1.000000     1.000000   \n",
      "25%       1.000000     2.000000     2.000000     1.000000     2.000000   \n",
      "50%       2.000000     4.000000     2.000000     1.000000     2.000000   \n",
      "75%       5.000000     4.000000     3.000000     1.000000     3.000000   \n",
      "max       5.000000     5.000000     3.000000     2.000000     3.000000   \n",
      "\n",
      "               1.1          1.2            2          1.3     1.4            0  \n",
      "count  1065.000000  1065.000000  1065.000000  1065.000000  1065.0  1065.000000  \n",
      "mean      1.059155     1.404695     1.875117     1.025352     1.0     0.170892  \n",
      "std       0.320469     0.491063     0.330741     0.157266     0.0     0.376591  \n",
      "min       1.000000     1.000000     1.000000     1.000000     1.0     0.000000  \n",
      "25%       1.000000     1.000000     2.000000     1.000000     1.0     0.000000  \n",
      "50%       1.000000     1.000000     2.000000     1.000000     1.0     0.000000  \n",
      "75%       1.000000     2.000000     2.000000     1.000000     1.0     0.000000  \n",
      "max       3.000000     2.000000     2.000000     2.000000     1.0     1.000000  \n"
     ]
    }
   ],
   "source": [
    "print(df.describe())"
   ]
  },
  {
   "cell_type": "markdown",
   "metadata": {
    "id": "mkghIVUiacnv"
   },
   "source": [
    "### Eliminacion de la columna\n",
    "Visualizando las medias y las desviaciones estándares, la última columna no nos aporta información puesto que siempre será 1, asi que vamos a eliminarlo. Este detalle también se puede ver en la página https://www.openml.org/search?type=data&sort=runs&id=40702&status=active apartado de análisis, donde la columna Area_of_the_largest_spot es irrelevante. \n",
    "\n",
    "También se elimina la columna Area que es la columna 1.3 del df.describe() donde apenas hay datos de valor 2 y volvamos a tener una desviación mínima.\n",
    "\n",
    "Finalmente, la columna Become_complex se puede eliminar o no, que es la columna 2 del df.describe(). Nosotros hemos eliminado esta columna por 2 motivos, la primera es que con este atributo, aunque en ocasiones se genera unos resultados buenos, pero también se genera modelos con resultados mucho más aleatorios, en cambio, quitando este atributo, los resultados en general se empeora pero por lo menos se estandariza un poco los resultados. El segundo motivo es que viendo la página https://www.openml.org/search?type=data&sort=runs&id=40702&status=active apartado de análisis, la importancia con RandomForest es muy bajo, indicando que es un atributo sin mucho importancia.\n",
    "\n",
    "Para este apartado tampoco normalizamos los datos puesto que los datos son categóricos."
   ]
  },
  {
   "cell_type": "code",
   "execution_count": 7,
   "metadata": {
    "colab": {
     "base_uri": "https://localhost:8080/"
    },
    "executionInfo": {
     "elapsed": 1182,
     "status": "ok",
     "timestamp": 1651663864381,
     "user": {
      "displayName": "Zhi jie Qian",
      "userId": "17587581155014799590"
     },
     "user_tz": -120
    },
    "id": "V73REDiPbulX",
    "outputId": "37cdf0d1-114d-44d4-b6b8-0ded10c4dca2"
   },
   "outputs": [
    {
     "data": {
      "text/plain": [
       "(1066, 9)"
      ]
     },
     "execution_count": 7,
     "metadata": {},
     "output_type": "execute_result"
    }
   ],
   "source": [
    "x = dataset[:,:-2]\n",
    "df = read_csv(dataset_url, header=1)\n",
    "del df['1.4']\n",
    "x.shape"
   ]
  },
  {
   "cell_type": "code",
   "execution_count": null,
   "metadata": {
    "colab": {
     "base_uri": "https://localhost:8080/",
     "height": 300
    },
    "executionInfo": {
     "elapsed": 1259,
     "status": "ok",
     "timestamp": 1651606750019,
     "user": {
      "displayName": "Zhi jie Qian",
      "userId": "17587581155014799590"
     },
     "user_tz": -120
    },
    "id": "fMGfFvIEbZ3U",
    "outputId": "1531c70e-bc8b-4962-945c-7b3a9cfd6a0f"
   },
   "outputs": [
    {
     "data": {
      "text/html": [
       "\n",
       "  <div id=\"df-4c9e5769-fb73-4e42-bb5b-322cdcd6b850\">\n",
       "    <div class=\"colab-df-container\">\n",
       "      <div>\n",
       "<style scoped>\n",
       "    .dataframe tbody tr th:only-of-type {\n",
       "        vertical-align: middle;\n",
       "    }\n",
       "\n",
       "    .dataframe tbody tr th {\n",
       "        vertical-align: top;\n",
       "    }\n",
       "\n",
       "    .dataframe thead th {\n",
       "        text-align: right;\n",
       "    }\n",
       "</style>\n",
       "<table border=\"1\" class=\"dataframe\">\n",
       "  <thead>\n",
       "    <tr style=\"text-align: right;\">\n",
       "      <th></th>\n",
       "      <th>5</th>\n",
       "      <th>4</th>\n",
       "      <th>3</th>\n",
       "      <th>1</th>\n",
       "      <th>3.1</th>\n",
       "      <th>1.1</th>\n",
       "      <th>1.2</th>\n",
       "      <th>2</th>\n",
       "      <th>1.3</th>\n",
       "      <th>0</th>\n",
       "    </tr>\n",
       "  </thead>\n",
       "  <tbody>\n",
       "    <tr>\n",
       "      <th>count</th>\n",
       "      <td>1065.000000</td>\n",
       "      <td>1065.000000</td>\n",
       "      <td>1065.000000</td>\n",
       "      <td>1065.000000</td>\n",
       "      <td>1065.000000</td>\n",
       "      <td>1065.000000</td>\n",
       "      <td>1065.000000</td>\n",
       "      <td>1065.000000</td>\n",
       "      <td>1065.000000</td>\n",
       "      <td>1065.000000</td>\n",
       "    </tr>\n",
       "    <tr>\n",
       "      <th>mean</th>\n",
       "      <td>2.625352</td>\n",
       "      <td>2.957746</td>\n",
       "      <td>2.034742</td>\n",
       "      <td>1.153991</td>\n",
       "      <td>2.400939</td>\n",
       "      <td>1.059155</td>\n",
       "      <td>1.404695</td>\n",
       "      <td>1.875117</td>\n",
       "      <td>1.025352</td>\n",
       "      <td>0.170892</td>\n",
       "    </tr>\n",
       "    <tr>\n",
       "      <th>std</th>\n",
       "      <td>1.844397</td>\n",
       "      <td>1.703904</td>\n",
       "      <td>0.806293</td>\n",
       "      <td>0.361109</td>\n",
       "      <td>0.620604</td>\n",
       "      <td>0.320469</td>\n",
       "      <td>0.491063</td>\n",
       "      <td>0.330741</td>\n",
       "      <td>0.157266</td>\n",
       "      <td>0.376591</td>\n",
       "    </tr>\n",
       "    <tr>\n",
       "      <th>min</th>\n",
       "      <td>0.000000</td>\n",
       "      <td>0.000000</td>\n",
       "      <td>0.000000</td>\n",
       "      <td>1.000000</td>\n",
       "      <td>1.000000</td>\n",
       "      <td>1.000000</td>\n",
       "      <td>1.000000</td>\n",
       "      <td>1.000000</td>\n",
       "      <td>1.000000</td>\n",
       "      <td>0.000000</td>\n",
       "    </tr>\n",
       "    <tr>\n",
       "      <th>25%</th>\n",
       "      <td>1.000000</td>\n",
       "      <td>2.000000</td>\n",
       "      <td>2.000000</td>\n",
       "      <td>1.000000</td>\n",
       "      <td>2.000000</td>\n",
       "      <td>1.000000</td>\n",
       "      <td>1.000000</td>\n",
       "      <td>2.000000</td>\n",
       "      <td>1.000000</td>\n",
       "      <td>0.000000</td>\n",
       "    </tr>\n",
       "    <tr>\n",
       "      <th>50%</th>\n",
       "      <td>2.000000</td>\n",
       "      <td>4.000000</td>\n",
       "      <td>2.000000</td>\n",
       "      <td>1.000000</td>\n",
       "      <td>2.000000</td>\n",
       "      <td>1.000000</td>\n",
       "      <td>1.000000</td>\n",
       "      <td>2.000000</td>\n",
       "      <td>1.000000</td>\n",
       "      <td>0.000000</td>\n",
       "    </tr>\n",
       "    <tr>\n",
       "      <th>75%</th>\n",
       "      <td>5.000000</td>\n",
       "      <td>4.000000</td>\n",
       "      <td>3.000000</td>\n",
       "      <td>1.000000</td>\n",
       "      <td>3.000000</td>\n",
       "      <td>1.000000</td>\n",
       "      <td>2.000000</td>\n",
       "      <td>2.000000</td>\n",
       "      <td>1.000000</td>\n",
       "      <td>0.000000</td>\n",
       "    </tr>\n",
       "    <tr>\n",
       "      <th>max</th>\n",
       "      <td>5.000000</td>\n",
       "      <td>5.000000</td>\n",
       "      <td>3.000000</td>\n",
       "      <td>2.000000</td>\n",
       "      <td>3.000000</td>\n",
       "      <td>3.000000</td>\n",
       "      <td>2.000000</td>\n",
       "      <td>2.000000</td>\n",
       "      <td>2.000000</td>\n",
       "      <td>1.000000</td>\n",
       "    </tr>\n",
       "  </tbody>\n",
       "</table>\n",
       "</div>\n",
       "      <button class=\"colab-df-convert\" onclick=\"convertToInteractive('df-4c9e5769-fb73-4e42-bb5b-322cdcd6b850')\"\n",
       "              title=\"Convert this dataframe to an interactive table.\"\n",
       "              style=\"display:none;\">\n",
       "        \n",
       "  <svg xmlns=\"http://www.w3.org/2000/svg\" height=\"24px\"viewBox=\"0 0 24 24\"\n",
       "       width=\"24px\">\n",
       "    <path d=\"M0 0h24v24H0V0z\" fill=\"none\"/>\n",
       "    <path d=\"M18.56 5.44l.94 2.06.94-2.06 2.06-.94-2.06-.94-.94-2.06-.94 2.06-2.06.94zm-11 1L8.5 8.5l.94-2.06 2.06-.94-2.06-.94L8.5 2.5l-.94 2.06-2.06.94zm10 10l.94 2.06.94-2.06 2.06-.94-2.06-.94-.94-2.06-.94 2.06-2.06.94z\"/><path d=\"M17.41 7.96l-1.37-1.37c-.4-.4-.92-.59-1.43-.59-.52 0-1.04.2-1.43.59L10.3 9.45l-7.72 7.72c-.78.78-.78 2.05 0 2.83L4 21.41c.39.39.9.59 1.41.59.51 0 1.02-.2 1.41-.59l7.78-7.78 2.81-2.81c.8-.78.8-2.07 0-2.86zM5.41 20L4 18.59l7.72-7.72 1.47 1.35L5.41 20z\"/>\n",
       "  </svg>\n",
       "      </button>\n",
       "      \n",
       "  <style>\n",
       "    .colab-df-container {\n",
       "      display:flex;\n",
       "      flex-wrap:wrap;\n",
       "      gap: 12px;\n",
       "    }\n",
       "\n",
       "    .colab-df-convert {\n",
       "      background-color: #E8F0FE;\n",
       "      border: none;\n",
       "      border-radius: 50%;\n",
       "      cursor: pointer;\n",
       "      display: none;\n",
       "      fill: #1967D2;\n",
       "      height: 32px;\n",
       "      padding: 0 0 0 0;\n",
       "      width: 32px;\n",
       "    }\n",
       "\n",
       "    .colab-df-convert:hover {\n",
       "      background-color: #E2EBFA;\n",
       "      box-shadow: 0px 1px 2px rgba(60, 64, 67, 0.3), 0px 1px 3px 1px rgba(60, 64, 67, 0.15);\n",
       "      fill: #174EA6;\n",
       "    }\n",
       "\n",
       "    [theme=dark] .colab-df-convert {\n",
       "      background-color: #3B4455;\n",
       "      fill: #D2E3FC;\n",
       "    }\n",
       "\n",
       "    [theme=dark] .colab-df-convert:hover {\n",
       "      background-color: #434B5C;\n",
       "      box-shadow: 0px 1px 3px 1px rgba(0, 0, 0, 0.15);\n",
       "      filter: drop-shadow(0px 1px 2px rgba(0, 0, 0, 0.3));\n",
       "      fill: #FFFFFF;\n",
       "    }\n",
       "  </style>\n",
       "\n",
       "      <script>\n",
       "        const buttonEl =\n",
       "          document.querySelector('#df-4c9e5769-fb73-4e42-bb5b-322cdcd6b850 button.colab-df-convert');\n",
       "        buttonEl.style.display =\n",
       "          google.colab.kernel.accessAllowed ? 'block' : 'none';\n",
       "\n",
       "        async function convertToInteractive(key) {\n",
       "          const element = document.querySelector('#df-4c9e5769-fb73-4e42-bb5b-322cdcd6b850');\n",
       "          const dataTable =\n",
       "            await google.colab.kernel.invokeFunction('convertToInteractive',\n",
       "                                                     [key], {});\n",
       "          if (!dataTable) return;\n",
       "\n",
       "          const docLinkHtml = 'Like what you see? Visit the ' +\n",
       "            '<a target=\"_blank\" href=https://colab.research.google.com/notebooks/data_table.ipynb>data table notebook</a>'\n",
       "            + ' to learn more about interactive tables.';\n",
       "          element.innerHTML = '';\n",
       "          dataTable['output_type'] = 'display_data';\n",
       "          await google.colab.output.renderOutput(dataTable, element);\n",
       "          const docLink = document.createElement('div');\n",
       "          docLink.innerHTML = docLinkHtml;\n",
       "          element.appendChild(docLink);\n",
       "        }\n",
       "      </script>\n",
       "    </div>\n",
       "  </div>\n",
       "  "
      ],
      "text/plain": [
       "                 5            4            3            1          3.1  \\\n",
       "count  1065.000000  1065.000000  1065.000000  1065.000000  1065.000000   \n",
       "mean      2.625352     2.957746     2.034742     1.153991     2.400939   \n",
       "std       1.844397     1.703904     0.806293     0.361109     0.620604   \n",
       "min       0.000000     0.000000     0.000000     1.000000     1.000000   \n",
       "25%       1.000000     2.000000     2.000000     1.000000     2.000000   \n",
       "50%       2.000000     4.000000     2.000000     1.000000     2.000000   \n",
       "75%       5.000000     4.000000     3.000000     1.000000     3.000000   \n",
       "max       5.000000     5.000000     3.000000     2.000000     3.000000   \n",
       "\n",
       "               1.1          1.2            2          1.3            0  \n",
       "count  1065.000000  1065.000000  1065.000000  1065.000000  1065.000000  \n",
       "mean      1.059155     1.404695     1.875117     1.025352     0.170892  \n",
       "std       0.320469     0.491063     0.330741     0.157266     0.376591  \n",
       "min       1.000000     1.000000     1.000000     1.000000     0.000000  \n",
       "25%       1.000000     1.000000     2.000000     1.000000     0.000000  \n",
       "50%       1.000000     1.000000     2.000000     1.000000     0.000000  \n",
       "75%       1.000000     2.000000     2.000000     1.000000     0.000000  \n",
       "max       3.000000     2.000000     2.000000     2.000000     1.000000  "
      ]
     },
     "execution_count": 10,
     "metadata": {},
     "output_type": "execute_result"
    }
   ],
   "source": [
    "df.describe()"
   ]
  },
  {
   "cell_type": "code",
   "execution_count": null,
   "metadata": {
    "id": "CHMR1k6adBxU"
   },
   "outputs": [],
   "source": [
    "# Normalizad los datos (si es necesario)\n",
    "# Los datos se encuentran en diferentes intervalos de valores por lo que el modelo puede tender \n",
    "# a ponderar más los datos con rangos de valores mayores, por ello se ha decidico escalar los \n",
    "# datos de la forma que se nos proporciona.\n",
    "# from sklearn.preprocessing import StandardScaler\n",
    "# scaler = StandardScaler()\n",
    "# scaler.fit(x)\n",
    "# x = scaler.transform(x)"
   ]
  },
  {
   "cell_type": "code",
   "execution_count": null,
   "metadata": {
    "colab": {
     "base_uri": "https://localhost:8080/"
    },
    "executionInfo": {
     "elapsed": 4,
     "status": "ok",
     "timestamp": 1651607500512,
     "user": {
      "displayName": "Zhi jie Qian",
      "userId": "17587581155014799590"
     },
     "user_tz": -120
    },
    "id": "19yJetIA2oHW",
    "outputId": "69bcab71-a784-4981-d397-07cc8d992100"
   },
   "outputs": [
    {
     "name": "stdout",
     "output_type": "stream",
     "text": [
      "(1066, 9)\n"
     ]
    }
   ],
   "source": [
    "print(x.shape)"
   ]
  },
  {
   "cell_type": "markdown",
   "metadata": {
    "id": "w2luagLKhXi4"
   },
   "source": [
    "### Otra propuesta, OneHotEncoder\n",
    "En el apartado anterior hemos eliminado 3 columnas, pero aun así, los resultados no son tan buenos como nosotros esperaba, para ello, el atributo Class_code y Largest_spot_code que son las 2 primeras columnas, como tiene 6 valores cada uno y además con uan media y una desviación alta, vamos a convertir en versión OneHot.\n",
    "\n",
    "TODO: Explicar un poco OneHotEncoder."
   ]
  },
  {
   "cell_type": "code",
   "execution_count": 89,
   "metadata": {
    "executionInfo": {
     "elapsed": 337,
     "status": "ok",
     "timestamp": 1651665317543,
     "user": {
      "displayName": "Zhi jie Qian",
      "userId": "17587581155014799590"
     },
     "user_tz": -120
    },
    "id": "gBOUO3CWhc6O"
   },
   "outputs": [],
   "source": [
    "from sklearn.preprocessing import OneHotEncoder\n",
    "from sklearn.compose import ColumnTransformer\n",
    "\n",
    "x = dataset[:,:-2]\n",
    "ct = ColumnTransformer([(\"columns\", OneHotEncoder(), [0,1])], remainder = 'passthrough')\n",
    "x = ct.fit_transform(x)\n",
    "x[0]"
   ]
  },
  {
   "cell_type": "code",
   "execution_count": 91,
   "metadata": {
    "colab": {
     "base_uri": "https://localhost:8080/"
    },
    "executionInfo": {
     "elapsed": 240,
     "status": "ok",
     "timestamp": 1651665322950,
     "user": {
      "displayName": "Zhi jie Qian",
      "userId": "17587581155014799590"
     },
     "user_tz": -120
    },
    "id": "NXFUjmhEh19g",
    "outputId": "aa46eb78-08ef-47d9-8050-bf8e6a4b0662"
   },
   "outputs": [
    {
     "data": {
      "text/plain": [
       "(1066, 19)"
      ]
     },
     "execution_count": 91,
     "metadata": {},
     "output_type": "execute_result"
    }
   ],
   "source": [
    "x.shape"
   ]
  },
  {
   "cell_type": "markdown",
   "metadata": {
    "id": "QKjVzq5PFAa5"
   },
   "source": [
    "### <font color=\"#CA3532\">Definición del modelo</font>\n",
    "\n",
    "- Cada capa del modelo lleva definidas una serie de propiedades (tamaño, función de activación, conectividad, etc.). \n",
    "\n",
    "- Usaremos el modelo secuencial que Keras para crear una red neuronal multicapa con propagación hacia adelante.\n",
    "\n"
   ]
  },
  {
   "cell_type": "code",
   "execution_count": 92,
   "metadata": {
    "executionInfo": {
     "elapsed": 314,
     "status": "ok",
     "timestamp": 1651665330930,
     "user": {
      "displayName": "Zhi jie Qian",
      "userId": "17587581155014799590"
     },
     "user_tz": -120
    },
    "id": "jSiN2kBpfJH2"
   },
   "outputs": [],
   "source": [
    "# Definid el modelo con Keras\n",
    "\n",
    "nn = Sequential()\n",
    "\n",
    "### -------------------------------------------------------------------------------\n",
    "### Añadir la capas completamente conectadas que consideréis al modelo\n",
    "### -------------------------------------------------------------------------------\n",
    "nn.add(Dense(12, activation=\"sigmoid\"))\n",
    "nn.add(Dense(12, activation=\"sigmoid\"))\n",
    "nn.add(Dense(1, activation=\"sigmoid\"))"
   ]
  },
  {
   "cell_type": "markdown",
   "metadata": {
    "id": "XYS0uGZZjLqA"
   },
   "source": [
    "### <font color=\"#CA3532\">Compilación de la red neuronal</font>\n",
    "\n",
    "- La compilación es la operación que contruye la red neuronal.\n",
    "\n",
    "- La compilación incluye aspectos que se tendrán en cuenta en el entrenamiento de la red neuronal.\n",
    "\n",
    "- En la secciones de abajo encontraréis enlaces a la documentación oficial donde podréis encontrar información sobre las distintas estrategias de cada uno de los aspectos.\n",
    "\n",
    "- También es posible definid vuestras propias funciones.\n",
    "\n",
    "#### <font color=\"#CA3532\">Optimizador</font>\n",
    "\n",
    "El optimizador es la estrategia para calcular las correcciones de los pesos.\n",
    "\n",
    "https://keras.io/api/optimizers/\n",
    "\n",
    "\n",
    "#### <font color=\"#CA3532\"> Función de error (*Loss function*)</font>\n",
    "\n",
    "La función de error calcula la cantidad que el modelo debe minimizar durante el entrenamiento.\n",
    "\n",
    "https://keras.io/api/losses/\n",
    "\n",
    "#### <font color=\"#CA3532\">Métricas</font>\n",
    "\n",
    "Una métrica es una función que juzga la actuación del modelo. Son funciones similares a las funciones de error pero, a diferencia de estas, no se aplican durante el entrenamiento, sino sobre los resultados. Aprende al menos el significado y las diferencias de las métricas *accuracy*, *precision*, *recall* y *AUC*. También pueden usarse las funciones de error como metricas.\n",
    "\n",
    "https://keras.io/api/metrics/"
   ]
  },
  {
   "cell_type": "code",
   "execution_count": 93,
   "metadata": {
    "executionInfo": {
     "elapsed": 210,
     "status": "ok",
     "timestamp": 1651665341681,
     "user": {
      "displayName": "Zhi jie Qian",
      "userId": "17587581155014799590"
     },
     "user_tz": -120
    },
    "id": "tU7t0cyMf-pL"
   },
   "outputs": [],
   "source": [
    "# Compilación\n",
    "\n",
    "### -------------------------------------------------------------------------------\n",
    "### Compilad vuestro modelo de red neuronal\n",
    "### -------------------------------------------------------------------------------\n",
    "\n",
    "metrics = [\n",
    "            #keras.metrics.TruePositives(name='tp'),\n",
    "            #keras.metrics.FalsePositives(name='fp'),\n",
    "            #keras.metrics.TrueNegatives(name='tn'),\n",
    "            #keras.metrics.FalseNegatives(name='fn'),\n",
    "            keras.metrics.BinaryAccuracy(name='ACC'),\n",
    "            keras.metrics.Precision(name='Prec'),\n",
    "            keras.metrics.Recall(name='Rec'),\n",
    "            keras.metrics.AUC(name='AUC'),\n",
    "            #keras.metrics.AUC(name='PRC', curve='PR'),\n",
    "          ]\n",
    "\n",
    "nn.compile(optimizer='SGD', loss=\"mse\", metrics=metrics)\n",
    "# nn.compile(optimizer='Adam', loss=\"binary_crossentropy\", metrics=metrics)"
   ]
  },
  {
   "cell_type": "markdown",
   "metadata": {
    "id": "7dRac4W1t69B"
   },
   "source": [
    "### <font color=\"#CA3532\">Conjuntos de entrenamiento y validación</font>\n",
    "\n",
    "Usaremos el 80 % de los datos para entrenamiento y el 20 % para validación. Usaremos también la técnica de muestreo estratificado (también están permitidas otras formas de validación). Averigua qué es y para qué sirve."
   ]
  },
  {
   "cell_type": "code",
   "execution_count": 15,
   "metadata": {
    "executionInfo": {
     "elapsed": 320,
     "status": "ok",
     "timestamp": 1651663935911,
     "user": {
      "displayName": "Zhi jie Qian",
      "userId": "17587581155014799590"
     },
     "user_tz": -120
    },
    "id": "QA3AW4y7j_Ar"
   },
   "outputs": [],
   "source": [
    "# Contrucción de los conjuntos de entrenamiento y validación\n",
    "\n",
    "from sklearn.model_selection import train_test_split\n",
    "\n",
    "x_train, x_val, y_train, y_val = train_test_split(x, y, stratify=y, test_size=0.2) "
   ]
  },
  {
   "cell_type": "code",
   "execution_count": null,
   "metadata": {
    "colab": {
     "base_uri": "https://localhost:8080/"
    },
    "executionInfo": {
     "elapsed": 263,
     "status": "ok",
     "timestamp": 1651447913416,
     "user": {
      "displayName": "Zhi jie Qian",
      "userId": "17587581155014799590"
     },
     "user_tz": -120
    },
    "id": "QG53BRIu2oHY",
    "outputId": "aeeb8df3-182f-4353-b33e-cd433d86172c"
   },
   "outputs": [
    {
     "data": {
      "text/plain": [
       "{0.0: 707, 1.0: 145}"
      ]
     },
     "execution_count": 17,
     "metadata": {},
     "output_type": "execute_result"
    }
   ],
   "source": [
    "unique, counts = np.unique(y_train, return_counts=True)\n",
    "dict(zip(unique, counts))"
   ]
  },
  {
   "cell_type": "code",
   "execution_count": null,
   "metadata": {
    "colab": {
     "base_uri": "https://localhost:8080/"
    },
    "executionInfo": {
     "elapsed": 4,
     "status": "ok",
     "timestamp": 1651447913996,
     "user": {
      "displayName": "Zhi jie Qian",
      "userId": "17587581155014799590"
     },
     "user_tz": -120
    },
    "id": "iChC28EE2oHZ",
    "outputId": "395fde94-b202-411f-b0c1-e6a65975ba03"
   },
   "outputs": [
    {
     "data": {
      "text/plain": [
       "{0.0: 177, 1.0: 37}"
      ]
     },
     "execution_count": 18,
     "metadata": {},
     "output_type": "execute_result"
    }
   ],
   "source": [
    "unique, counts = np.unique(y_val, return_counts=True)\n",
    "dict(zip(unique, counts))"
   ]
  },
  {
   "cell_type": "markdown",
   "metadata": {
    "id": "ZsK6smmS2oHZ"
   },
   "source": [
    "### Respuesta\n",
    "A partir de la técnica de muestreo estratificado los datos se dividen por una característica común, en este caso por la clase objetivo, por ello los datos se obtienen en train y validación de forma equilibrada teniendo en ambos proporcion especificada por test_size para cada clase objetivo\n",
    "\n",
    "Un ejemplo sería que si y tiene 20% de 0s y 80% de 1s, el ramdon split realizado también asegurá que haya 20% de 0s y 80% de 1s."
   ]
  },
  {
   "cell_type": "markdown",
   "metadata": {
    "id": "dDFUBCUVugVj"
   },
   "source": [
    "### <font color=\"#CA3532\">Visualización de resultados</font>\n",
    "\n",
    "Para la visualización de los resultados utilizaremos gráficas con la evolución de la función de pérdida y las métricas en cada época del entrenamiento, tanto para los datos de entrenamiento como para los de validación.\n",
    "\n",
    "También obtendremos la matriz de confusión y alguna métricas sobre cada clase del problema. Observaremos especialmente la medida macro-F1."
   ]
  },
  {
   "cell_type": "code",
   "execution_count": 16,
   "metadata": {
    "executionInfo": {
     "elapsed": 329,
     "status": "ok",
     "timestamp": 1651663938501,
     "user": {
      "displayName": "Zhi jie Qian",
      "userId": "17587581155014799590"
     },
     "user_tz": -120
    },
    "id": "6pgKzRcysRwv"
   },
   "outputs": [],
   "source": [
    "from sklearn.metrics import classification_report, confusion_matrix\n",
    "\n",
    "def show_metrics(history):\n",
    "    for metric in history.history.keys():\n",
    "        if not metric.startswith('val_'):\n",
    "            plt.plot(history.history[metric], label=metric)\n",
    "            plt.plot(history.history[f'val_{metric}'], label=f'val_{metric}')\n",
    "            plt.title(metric)\n",
    "            plt.ylabel('')\n",
    "            plt.xlabel('Epoch')\n",
    "            plt.legend(loc=\"upper left\")\n",
    "            plt.show()"
   ]
  },
  {
   "cell_type": "markdown",
   "metadata": {
    "id": "x-rNfZzqINgY"
   },
   "source": [
    "### <font color=\"#CA3532\">Entrenamiento de la red neuronal y evaluación</font>\n",
    "\n",
    "El método \"fit\" entrena una red neuronal con los datos que se le proporcionen.\n",
    "\n",
    "https://keras.io/api/models/model_training_apis/#fit-method"
   ]
  },
  {
   "cell_type": "code",
   "execution_count": 17,
   "metadata": {
    "colab": {
     "base_uri": "https://localhost:8080/",
     "height": 1000
    },
    "executionInfo": {
     "elapsed": 7744,
     "status": "ok",
     "timestamp": 1651663954859,
     "user": {
      "displayName": "Zhi jie Qian",
      "userId": "17587581155014799590"
     },
     "user_tz": -120
    },
    "id": "iEhDqXzLIISj",
    "outputId": "782b7c2c-797c-4aa1-a534-80a910996a56"
   },
   "outputs": [
    {
     "name": "stdout",
     "output_type": "stream",
     "text": [
      "Model: \"sequential_1\"\n",
      "_________________________________________________________________\n",
      " Layer (type)                Output Shape              Param #   \n",
      "=================================================================\n",
      " dense_3 (Dense)             (None, 12)                120       \n",
      "                                                                 \n",
      " dense_4 (Dense)             (None, 12)                156       \n",
      "                                                                 \n",
      " dense_5 (Dense)             (None, 1)                 13        \n",
      "                                                                 \n",
      "=================================================================\n",
      "Total params: 289\n",
      "Trainable params: 289\n",
      "Non-trainable params: 0\n",
      "_________________________________________________________________\n",
      "\n",
      "\n",
      "\n"
     ]
    },
    {
     "data": {
      "image/png": "[encoded data removed]",
      "text/plain": [
       "<Figure size 432x288 with 1 Axes>"
      ]
     },
     "metadata": {
      "needs_background": "light"
     },
     "output_type": "display_data"
    },
    {
     "data": {
      "image/png": "[encoded data removed]",
      "text/plain": [
       "<Figure size 432x288 with 1 Axes>"
      ]
     },
     "metadata": {
      "needs_background": "light"
     },
     "output_type": "display_data"
    },
    {
     "data": {
      "image/png": "[encoded data removed]",
      "text/plain": [
       "<Figure size 432x288 with 1 Axes>"
      ]
     },
     "metadata": {
      "needs_background": "light"
     },
     "output_type": "display_data"
    },
    {
     "data": {
      "image/png": "[encoded data removed]",
      "text/plain": [
       "<Figure size 432x288 with 1 Axes>"
      ]
     },
     "metadata": {
      "needs_background": "light"
     },
     "output_type": "display_data"
    },
    {
     "data": {
      "image/png": "[encoded data removed]",
      "text/plain": [
       "<Figure size 432x288 with 1 Axes>"
      ]
     },
     "metadata": {
      "needs_background": "light"
     },
     "output_type": "display_data"
    },
    {
     "name": "stdout",
     "output_type": "stream",
     "text": [
      "[[177   0]\n",
      " [ 37   0]]\n",
      "              precision    recall  f1-score   support\n",
      "\n",
      "         0.0       0.83      1.00      0.91       177\n",
      "         1.0       0.00      0.00      0.00        37\n",
      "\n",
      "    accuracy                           0.83       214\n",
      "   macro avg       0.41      0.50      0.45       214\n",
      "weighted avg       0.68      0.83      0.75       214\n",
      "\n"
     ]
    }
   ],
   "source": [
    "# Entrenamiento\n",
    "\n",
    "epochs = 50\n",
    "\n",
    "history = nn.fit(x_train, y_train, epochs=epochs, verbose=0, validation_data=(x_val, y_val))\n",
    "\n",
    "# Predicciones del conjunto de evaluación\n",
    "\n",
    "y_pred = nn.predict(x_val)\n",
    "y_pred = y_pred > 0.5\n",
    "\n",
    "# Detalles de la red neuronal\n",
    "\n",
    "nn.summary()\n",
    "print('\\n\\n')\n",
    "\n",
    "# Visualización de las métricas \n",
    "\n",
    "show_metrics(history)\n",
    "\n",
    "# Matriz de confusión\n",
    "\n",
    "print(confusion_matrix(y_val, y_pred))\n",
    "\n",
    "# Observa la medida macro-f1 del siguiente informe\n",
    "\n",
    "print(classification_report(y_val, y_pred, zero_division=0))\n"
   ]
  },
  {
   "cell_type": "markdown",
   "metadata": {
    "id": "zo8KQlCaGEw9"
   },
   "source": [
    "### <font color=\"#CA3532\">Entrenamiento de la red neuronal y evaluación</font>\n",
    "Como podrás haber observado en problema no está balanceado (o está bastante desequilibrado), porque el número de ejemplos de cada clase es muy diferente."
   ]
  },
  {
   "cell_type": "markdown",
   "metadata": {
    "id": "amDlvLOgHw2J"
   },
   "source": [
    "Existen varias técnicas para abortar este tipo de problemas. Una de ellas consiste seleccionar un subconjunto de datos equilibrados en el que las dos clases esten representadas en la misma proporción.\n"
   ]
  },
  {
   "cell_type": "markdown",
   "metadata": {},
   "source": [
    "## Nota\n",
    "Para esta sección, sólo vamos a comentar las técnicas que utilizamos y para visualizar, dirige a siguientes notebook que son pruebas rápidas de cada técnica aplicando OneHotEncoder o no.\n",
    "\n",
    "- Normal [link](Neuro_P3_normal.ipynb)\n",
    "- OneHotEncoder [link](Neuro_P3_one_hot.ipynb)"
   ]
  },
  {
   "cell_type": "code",
   "execution_count": null,
   "metadata": {},
   "outputs": [],
   "source": [
    "!pip3 install imbalanced-learn"
   ]
  },
  {
   "cell_type": "code",
   "execution_count": null,
   "metadata": {},
   "outputs": [],
   "source": [
    "import imblearn\n",
    "from imblearn.under_sampling import RandomUnderSampler\n",
    "from imblearn.under_sampling import EditedNearestNeighbours\n",
    "from imblearn.under_sampling import TomekLinks\n",
    "from imblearn.over_sampling import RandomOverSampler\n",
    "from imblearn.over_sampling import ADASYN\n",
    "from imblearn.over_sampling import SMOTE\n",
    "from imblearn.combine import SMOTETomek\n",
    "from imblearn.combine import SMOTEENN\n",
    "from collections import Counter"
   ]
  },
  {
   "cell_type": "markdown",
   "metadata": {
    "id": "mjhswZou2oHb"
   },
   "source": [
    "### Separar datos para que haya misma clase de 0 y 1\n",
    "El problema de esta técnica es que estamos desperdiciando los datos, ya que si existiese 1000 datos de clase 0 y 100 de calse 1, tendríamos que tirar 900 datos de clase 0 para poder equilibrarlo. Si llevamos esta situación al extremo como 10k datos de clase 0 y sólo 100 casos de clase 1, por ejemplo aparición de una nueva enfermedad donde sólo unas pocas personas los tiene, no podemos sólo tomar 100 pacientes sanas con 100 pacientes enfermas.\n",
    "\n",
    "Para realizar esto, sólo vamos a despreciar los datos del training, para que se entrena de forma equilibrada y luego validamos el Test con el desequilibro de datos."
   ]
  },
  {
   "cell_type": "markdown",
   "metadata": {
    "id": "tEK6W2Q3B8yv"
   },
   "source": [
    "#### RandomUnderSampler\n",
    "TODO: explicar"
   ]
  },
  {
   "cell_type": "code",
   "execution_count": null,
   "metadata": {},
   "outputs": [],
   "source": [
    "undersample = RandomUnderSampler()\n",
    "X_under_train, y_under_train = undersample.fit_resample(x_train, y_train)\n",
    "print(Counter(y_under_train))"
   ]
  },
  {
   "cell_type": "markdown",
   "metadata": {
    "id": "jGqt7Kc7BCJ-"
   },
   "source": [
    "#### EditedNearestNeighbours\n",
    "TODO: explicar"
   ]
  },
  {
   "cell_type": "code",
   "execution_count": 96,
   "metadata": {
    "colab": {
     "base_uri": "https://localhost:8080/"
    },
    "executionInfo": {
     "elapsed": 14,
     "status": "ok",
     "timestamp": 1651665368547,
     "user": {
      "displayName": "Zhi jie Qian",
      "userId": "17587581155014799590"
     },
     "user_tz": -120
    },
    "id": "EBgW7tymBB0R",
    "outputId": "928e9f46-dd31-43ca-9570-6013348f0219"
   },
   "outputs": [
    {
     "name": "stdout",
     "output_type": "stream",
     "text": [
      "Counter({0.0: 367, 1.0: 145})\n"
     ]
    }
   ],
   "source": [
    "enn = EditedNearestNeighbours()\n",
    "X_under_train, y_under_train = enn.fit_resample(x_train, y_train)\n",
    "print(Counter(y_under_train))"
   ]
  },
  {
   "cell_type": "markdown",
   "metadata": {
    "id": "bPJQ1CBFByj5"
   },
   "source": [
    "#### TomekLinks\n",
    "TODO: explicar"
   ]
  },
  {
   "cell_type": "code",
   "execution_count": 98,
   "metadata": {
    "colab": {
     "base_uri": "https://localhost:8080/"
    },
    "executionInfo": {
     "elapsed": 482,
     "status": "ok",
     "timestamp": 1651665382162,
     "user": {
      "displayName": "Zhi jie Qian",
      "userId": "17587581155014799590"
     },
     "user_tz": -120
    },
    "id": "VdvRN5igB1T8",
    "outputId": "fe897161-4970-4c60-be6a-1c27d23e7e12"
   },
   "outputs": [
    {
     "name": "stdout",
     "output_type": "stream",
     "text": [
      "Counter({0.0: 703, 1.0: 145})\n"
     ]
    }
   ],
   "source": [
    "tl = TomekLinks()\n",
    "X_under_train, y_under_train = tl.fit_resample(x_train, y_train)\n",
    "print(Counter(y_under_train))"
   ]
  },
  {
   "cell_type": "markdown",
   "metadata": {
    "id": "lzOQYVSCkx0g"
   },
   "source": [
    "### Aumentar los datos para que haya misma clase de 0 y 1\n",
    "La técnica planteada es muy parecido al sección anterior, solo que en vez de reducir el dataset para que haya mismo número de 0s y 1s, vamos a aumentar la clase con menor dato para que sea más equilibrado. \n",
    "\n",
    "Lo bueno de esta técnica es que no estamos desperdiciando los datos que quizá son importantes, pero estamos metiendo mucha redundancia al dataset."
   ]
  },
  {
   "cell_type": "markdown",
   "metadata": {
    "id": "9RQMdB-WCDJU"
   },
   "source": [
    "#### RandomOverSampler\n",
    "TODO: explicar"
   ]
  },
  {
   "cell_type": "code",
   "execution_count": 100,
   "metadata": {
    "colab": {
     "base_uri": "https://localhost:8080/"
    },
    "executionInfo": {
     "elapsed": 199,
     "status": "ok",
     "timestamp": 1651665390520,
     "user": {
      "displayName": "Zhi jie Qian",
      "userId": "17587581155014799590"
     },
     "user_tz": -120
    },
    "id": "MR_N0WmEiOwR",
    "outputId": "f04261c8-3f5e-488b-e118-389b66faf496"
   },
   "outputs": [
    {
     "name": "stdout",
     "output_type": "stream",
     "text": [
      "Counter({0.0: 707, 1.0: 707})\n"
     ]
    }
   ],
   "source": [
    "oversample = RandomOverSampler()\n",
    "X_over_train, y_over_train = oversample.fit_resample(x_train, y_train)\n",
    "print(Counter(y_over_train))"
   ]
  },
  {
   "cell_type": "markdown",
   "metadata": {
    "id": "olAub6eqCimx"
   },
   "source": [
    "#### SMOTE\n",
    "TODO: explicar"
   ]
  },
  {
   "cell_type": "code",
   "execution_count": 102,
   "metadata": {
    "colab": {
     "base_uri": "https://localhost:8080/"
    },
    "executionInfo": {
     "elapsed": 279,
     "status": "ok",
     "timestamp": 1651665402621,
     "user": {
      "displayName": "Zhi jie Qian",
      "userId": "17587581155014799590"
     },
     "user_tz": -120
    },
    "id": "qsanL5kICHqz",
    "outputId": "4c3902f9-422c-4f40-9fd1-7b49c01cd99d"
   },
   "outputs": [
    {
     "name": "stdout",
     "output_type": "stream",
     "text": [
      "Counter({0.0: 707, 1.0: 707})\n"
     ]
    }
   ],
   "source": [
    "sm = SMOTE()\n",
    "X_over_train, y_over_train = sm.fit_resample(x_train, y_train)\n",
    "print(Counter(y_over_train))"
   ]
  },
  {
   "cell_type": "markdown",
   "metadata": {
    "id": "jNSAQApYCj_z"
   },
   "source": [
    "#### ADASYN\n",
    "TODO: explicar"
   ]
  },
  {
   "cell_type": "code",
   "execution_count": 104,
   "metadata": {
    "colab": {
     "base_uri": "https://localhost:8080/"
    },
    "executionInfo": {
     "elapsed": 312,
     "status": "ok",
     "timestamp": 1651665415935,
     "user": {
      "displayName": "Zhi jie Qian",
      "userId": "17587581155014799590"
     },
     "user_tz": -120
    },
    "id": "GVhT0WIrCH-e",
    "outputId": "95530a41-f399-44dd-bdd5-4a06a95bb395"
   },
   "outputs": [
    {
     "name": "stdout",
     "output_type": "stream",
     "text": [
      "Counter({1.0: 714, 0.0: 707})\n"
     ]
    }
   ],
   "source": [
    "ada = ADASYN()\n",
    "X_over_train, y_over_train = ada.fit_resample(x_train, y_train)\n",
    "print(Counter(y_over_train))"
   ]
  },
  {
   "cell_type": "markdown",
   "metadata": {
    "id": "eUMBdOam2oHd"
   },
   "source": [
    "### Uso de class_weight pero con paquete que nos proporciona"
   ]
  },
  {
   "cell_type": "markdown",
   "metadata": {
    "id": "UCtSYvuRvpBy"
   },
   "source": [
    "Otra técnica consiste en asignar un peso a cada clase para que lo tenga en cuenta en algoritmo de entrenamiento.\n",
    "Aprende lo que hace el parámetro ```class_weight``` de ```fit``` (https://keras.io/api/models/model_training_apis/#fit-method) y explícalo."
   ]
  },
  {
   "cell_type": "markdown",
   "metadata": {
    "id": "xNJ5dCdTyTBc"
   },
   "source": [
    "Vuelve a entrenar considerando distintos pesos y observa como varía el resultado de la matriz de confusión. Si es posible, intenta conseguir un modelo mejor y describe los resultados alcanzados."
   ]
  },
  {
   "cell_type": "code",
   "execution_count": 106,
   "metadata": {
    "colab": {
     "base_uri": "https://localhost:8080/"
    },
    "executionInfo": {
     "elapsed": 555,
     "status": "ok",
     "timestamp": 1651665429531,
     "user": {
      "displayName": "Zhi jie Qian",
      "userId": "17587581155014799590"
     },
     "user_tz": -120
    },
    "id": "CJfmolAdkGDY",
    "outputId": "41de43bd-1696-42d5-ae59-1e7ce5e73b18"
   },
   "outputs": [
    {
     "name": "stdout",
     "output_type": "stream",
     "text": [
      "{0: 0.6025459688826026, 1: 2.9379310344827587}\n"
     ]
    }
   ],
   "source": [
    "### -------------------------------------------------------------------------------\n",
    "### Assigna diferentes pesos a cada una de las clases\n",
    "### -------------------------------------------------------------------------------\n",
    "\n",
    "from sklearn.utils import class_weight\n",
    "class_weights = class_weight.compute_class_weight('balanced', classes=np.unique(y_train), y=y_train)\n",
    "class_weights = {0: class_weights[0], 1: class_weights[1]}\n",
    "print(class_weights)"
   ]
  },
  {
   "cell_type": "markdown",
   "metadata": {
    "id": "pLyRxSJ92oHe"
   },
   "source": [
    "El modelo para el atributo class_weights lo que hace es mutiplicarlo por el error obtenido en la función de error dependiendo de la clase objetivo, con el fin de que el optimizador, al computar los errores de ciertas clases de forma mayor, tenderá a minimizar el error en esas clases si tienen un weight en class_weights alto."
   ]
  },
  {
   "cell_type": "markdown",
   "metadata": {
    "id": "aeHlBkW9oDdQ"
   },
   "source": [
    "### Aplicar todas las ténicas a la vez."
   ]
  },
  {
   "cell_type": "markdown",
   "metadata": {
    "id": "orwBLXgnCn78"
   },
   "source": [
    "#### RandomUnderSampler + RandomOverSampler\n",
    "\n",
    "La idea es que vamos a intentar reducir algunos datos de la clase mayoritaria pero no eliminar todas sino sólo algunas de ellas para no perder mucha información y vamos a ampliar datos de la clase minoritaria para compensar un poco.\n",
    "Imagina que tenemos un desbalanceo de 1:100, aplicamos oversampling para tener un desbalanceo de 1:10 y luego aplicamos undersampling para eliminar dato y tener un desbalanceo de 1:2.\n",
    "\n",
    "Finalmente, como seguimos teniendo un desbalanceo de datos, usamos class_weight para ajustar."
   ]
  },
  {
   "cell_type": "code",
   "execution_count": 108,
   "metadata": {
    "colab": {
     "base_uri": "https://localhost:8080/"
    },
    "executionInfo": {
     "elapsed": 335,
     "status": "ok",
     "timestamp": 1651665445938,
     "user": {
      "displayName": "Zhi jie Qian",
      "userId": "17587581155014799590"
     },
     "user_tz": -120
    },
    "id": "OhLi7HIpqF0u",
    "outputId": "f044b273-bb5e-4a5e-b341-906b0f377f17"
   },
   "outputs": [
    {
     "name": "stdout",
     "output_type": "stream",
     "text": [
      "Counter({0.0: 707, 1.0: 145})\n",
      "Counter({0.0: 707, 1.0: 282})\n",
      "Counter({0.0: 564, 1.0: 282})\n",
      "{0: 0.75, 1: 1.5}\n"
     ]
    }
   ],
   "source": [
    "print(Counter(y_train))\n",
    "\n",
    "oversample = RandomOverSampler(sampling_strategy=0.4)\n",
    "X_over_train, y_over_train = oversample.fit_resample(x_train, y_train)\n",
    "print(Counter(y_over_train))\n",
    "\n",
    "undersample = RandomUnderSampler(sampling_strategy=0.5)\n",
    "X_ajust_train, y_ajust_train = undersample.fit_resample(X_over_train, y_over_train)\n",
    "print(Counter(y_ajust_train))\n",
    "\n",
    "class_weights = class_weight.compute_class_weight('balanced', classes=np.unique(y_ajust_train), y=y_ajust_train)\n",
    "class_weights = {0: class_weights[0], 1: class_weights[1]}\n",
    "print(class_weights)"
   ]
  },
  {
   "cell_type": "markdown",
   "metadata": {
    "id": "2fCTUQAbCtI3"
   },
   "source": [
    "#### SMOTE + ENN\n",
    "TODO: explicar"
   ]
  },
  {
   "cell_type": "code",
   "execution_count": 111,
   "metadata": {
    "colab": {
     "base_uri": "https://localhost:8080/"
    },
    "executionInfo": {
     "elapsed": 213,
     "status": "ok",
     "timestamp": 1651665512851,
     "user": {
      "displayName": "Zhi jie Qian",
      "userId": "17587581155014799590"
     },
     "user_tz": -120
    },
    "id": "GiQvtEFhDOCr",
    "outputId": "2763c1e5-96dd-47a8-8a1e-c80539de2b48"
   },
   "outputs": [
    {
     "name": "stdout",
     "output_type": "stream",
     "text": [
      "Counter({0.0: 707, 1.0: 707})\n"
     ]
    }
   ],
   "source": [
    "smoteen = SMOTEENN()\n",
    "X_ajust_train, y_ajust_train = sm.fit_resample(x_train, y_train)\n",
    "print(Counter(y_ajust_train))"
   ]
  },
  {
   "cell_type": "markdown",
   "metadata": {
    "id": "ISdM_KH_DApy"
   },
   "source": [
    "#### SMOTE + Tomek\n",
    "TODO: explicar"
   ]
  },
  {
   "cell_type": "code",
   "execution_count": 113,
   "metadata": {
    "colab": {
     "base_uri": "https://localhost:8080/"
    },
    "executionInfo": {
     "elapsed": 446,
     "status": "ok",
     "timestamp": 1651665569071,
     "user": {
      "displayName": "Zhi jie Qian",
      "userId": "17587581155014799590"
     },
     "user_tz": -120
    },
    "id": "wIWEAMG-EFsR",
    "outputId": "d95e0095-cf2e-4844-9915-eecb8861684e"
   },
   "outputs": [
    {
     "name": "stdout",
     "output_type": "stream",
     "text": [
      "Counter({0.0: 707, 1.0: 707})\n"
     ]
    }
   ],
   "source": [
    "smtomek = SMOTETomek(sampling_strategy='all')\n",
    "X_ajust_train, y_ajust_train = sm.fit_resample(x_train, y_train)\n",
    "print(Counter(y_ajust_train))"
   ]
  },
  {
   "cell_type": "markdown",
   "metadata": {
    "id": "Z8E37UJTNqtg"
   },
   "source": [
    "### <font color=\"#CA3532\">Optimización del diseño de la red neuronal</font>\n",
    "\n",
    "- Cambiad la arquitectura de la red neuronal introduciendo más capas y neuronas para conseguir mejores resultados:\n",
    " - Añadid más capas o diferente tipo de capas.\n",
    " - Cambiad las funciones de activación.\n",
    " - Cambiad la función de error o el optimizador.\n",
    "\n",
    "- Utilizad ```tuner``` para la búsqueda de estos hiperparámetros (https://keras.io/keras_tuner/).\n",
    "\n",
    "Para esta parte, tambien dirige a siguientes notebooks para ver los resultados, puesto que son demasiado largos.\n",
    "\n",
    "- Normal_MSE [link](Neuro_P3_normal_mse.ipynb)\n",
    "- OneHot_MSE [link](Neuro_P3_onehot_mse.ipynb)\n",
    "- Normal_Entropy [link](Neuro_P3_normal_entropy.ipynb)\n",
    "- OneHot_Entropy [link](Neuro_P3_onehot_entropy.ipynb)\n",
    "\n",
    "Al principio hemos puesto un número aleatorio de 1 a 100 neuronas para cada capa, pero hemos dado cuenta de que esto no funciona para nada, para ello, hemos decidido siguientes configuraciones para probar.\n",
    "- 1 capa\n",
    "    - hp.Int('units', 5, 40)\n",
    "- 2 capas\n",
    "    - hp.Int('units', 5, 40)\n",
    "    - hp.Int('units', 4, 20)\n",
    "- 3 capas\n",
    "    - hp.Int('units', 5, 40)\n",
    "    - hp.Int('units', 4, 20)\n",
    "    - hp.Int('units', 3, 10)\n",
    "- 4 capas\n",
    "    - hp.Int('units', 5, 40)\n",
    "    - hp.Int('units', 4, 20)\n",
    "    - hp.Int('units', 3, 10)\n",
    "    - hp.Int('units', 2, 5)\n",
    "- 5 capas\n",
    "    - hp.Int('units', 5, 40)\n",
    "    - hp.Int('units', 4, 20)\n",
    "    - hp.Int('units', 3, 10)\n",
    "    - hp.Int('units', 2, 5)\n",
    "\n",
    "La idea de esto es que primero vamos a intentar llevar a un espacio de dimensión mayor y luego poco a poco reduciendo esta dimensión. Como esto es aletorio, también estaremos buscando una red que puede aumentar dimensión, luego bajar, luego aumentar etc. Con todo esto, intentaremos buscar una mejor red que $maximice weighted avg de F1-score$."
   ]
  },
  {
   "cell_type": "markdown",
   "metadata": {
    "id": "NnY8rX6HzZXU"
   },
   "source": [
    "### <font color=\"#CA3532\">Diseño final de la red neuronal</font>\n",
    "Define ahora tu modelo final y muestra los resultados de su evaluación."
   ]
  },
  {
   "cell_type": "code",
   "execution_count": null,
   "metadata": {
    "id": "Dn7fBHo_zfaz",
    "outputId": "1271263b-2dc7-4d01-da4f-eb5940b42279"
   },
   "outputs": [
    {
     "name": "stdout",
     "output_type": "stream",
     "text": [
      "Epoch 1/50\n",
      "27/27 [==============================] - 1s 1ms/step - loss: 0.2805 - auc: 0.5264\n",
      "Epoch 2/50\n",
      "27/27 [==============================] - 0s 1ms/step - loss: 0.2510 - auc: 0.6168\n",
      "Epoch 3/50\n",
      "27/27 [==============================] - 0s 1ms/step - loss: 0.2413 - auc: 0.7237\n",
      "Epoch 4/50\n",
      "27/27 [==============================] - 0s 1ms/step - loss: 0.2354 - auc: 0.7328\n",
      "Epoch 5/50\n",
      "27/27 [==============================] - 0s 1ms/step - loss: 0.2308 - auc: 0.7366\n",
      "Epoch 6/50\n",
      "27/27 [==============================] - 0s 2ms/step - loss: 0.2265 - auc: 0.7371\n",
      "Epoch 7/50\n",
      "27/27 [==============================] - 0s 1ms/step - loss: 0.2232 - auc: 0.7336\n",
      "Epoch 8/50\n",
      "27/27 [==============================] - 0s 1ms/step - loss: 0.2207 - auc: 0.7331\n",
      "Epoch 9/50\n",
      "27/27 [==============================] - 0s 1ms/step - loss: 0.2165 - auc: 0.7427\n",
      "Epoch 10/50\n",
      "27/27 [==============================] - 0s 2ms/step - loss: 0.2136 - auc: 0.7378\n",
      "Epoch 11/50\n",
      "27/27 [==============================] - 0s 2ms/step - loss: 0.2116 - auc: 0.7313\n",
      "Epoch 12/50\n",
      "27/27 [==============================] - 0s 2ms/step - loss: 0.2092 - auc: 0.7396\n",
      "Epoch 13/50\n",
      "27/27 [==============================] - 0s 2ms/step - loss: 0.2075 - auc: 0.7294\n",
      "Epoch 14/50\n",
      "27/27 [==============================] - 0s 1ms/step - loss: 0.2063 - auc: 0.7282\n",
      "Epoch 15/50\n",
      "27/27 [==============================] - 0s 1ms/step - loss: 0.2059 - auc: 0.7246\n",
      "Epoch 16/50\n",
      "27/27 [==============================] - 0s 1ms/step - loss: 0.2047 - auc: 0.7380\n",
      "Epoch 17/50\n",
      "27/27 [==============================] - 0s 2ms/step - loss: 0.2028 - auc: 0.7333\n",
      "Epoch 18/50\n",
      "27/27 [==============================] - 0s 1ms/step - loss: 0.2034 - auc: 0.7316\n",
      "Epoch 19/50\n",
      "27/27 [==============================] - 0s 1ms/step - loss: 0.2016 - auc: 0.7394\n",
      "Epoch 20/50\n",
      "27/27 [==============================] - 0s 2ms/step - loss: 0.2011 - auc: 0.7390\n",
      "Epoch 21/50\n",
      "27/27 [==============================] - 0s 1ms/step - loss: 0.2011 - auc: 0.7348\n",
      "Epoch 22/50\n",
      "27/27 [==============================] - 0s 2ms/step - loss: 0.2003 - auc: 0.7361\n",
      "Epoch 23/50\n",
      "27/27 [==============================] - 0s 1ms/step - loss: 0.2014 - auc: 0.7361\n",
      "Epoch 24/50\n",
      "27/27 [==============================] - 0s 1ms/step - loss: 0.2005 - auc: 0.7320\n",
      "Epoch 25/50\n",
      "27/27 [==============================] - 0s 1ms/step - loss: 0.1996 - auc: 0.7349\n",
      "Epoch 26/50\n",
      "27/27 [==============================] - 0s 1ms/step - loss: 0.1994 - auc: 0.7374\n",
      "Epoch 27/50\n",
      "27/27 [==============================] - 0s 1ms/step - loss: 0.1993 - auc: 0.7351\n",
      "Epoch 28/50\n",
      "27/27 [==============================] - 0s 1ms/step - loss: 0.1994 - auc: 0.7365\n",
      "Epoch 29/50\n",
      "27/27 [==============================] - 0s 2ms/step - loss: 0.1991 - auc: 0.7342\n",
      "Epoch 30/50\n",
      "27/27 [==============================] - 0s 2ms/step - loss: 0.1990 - auc: 0.7261\n",
      "Epoch 31/50\n",
      "27/27 [==============================] - 0s 1ms/step - loss: 0.1991 - auc: 0.7383\n",
      "Epoch 32/50\n",
      "27/27 [==============================] - 0s 1ms/step - loss: 0.1991 - auc: 0.7322\n",
      "Epoch 33/50\n",
      "27/27 [==============================] - 0s 1ms/step - loss: 0.1989 - auc: 0.7346\n",
      "Epoch 34/50\n",
      "27/27 [==============================] - 0s 1ms/step - loss: 0.1989 - auc: 0.7290\n",
      "Epoch 35/50\n",
      "27/27 [==============================] - 0s 1ms/step - loss: 0.1996 - auc: 0.7328\n",
      "Epoch 36/50\n",
      "27/27 [==============================] - 0s 2ms/step - loss: 0.1988 - auc: 0.7279\n",
      "Epoch 37/50\n",
      "27/27 [==============================] - 0s 1ms/step - loss: 0.1992 - auc: 0.7283\n",
      "Epoch 38/50\n",
      "27/27 [==============================] - 0s 1ms/step - loss: 0.1989 - auc: 0.7330\n",
      "Epoch 39/50\n",
      "27/27 [==============================] - 0s 1ms/step - loss: 0.1988 - auc: 0.7278\n",
      "Epoch 40/50\n",
      "27/27 [==============================] - 0s 1ms/step - loss: 0.1987 - auc: 0.7332\n",
      "Epoch 41/50\n",
      "27/27 [==============================] - 0s 1ms/step - loss: 0.1986 - auc: 0.7338\n",
      "Epoch 42/50\n",
      "27/27 [==============================] - 0s 1ms/step - loss: 0.1993 - auc: 0.7289\n",
      "Epoch 43/50\n",
      "27/27 [==============================] - 0s 2ms/step - loss: 0.1989 - auc: 0.7407\n",
      "Epoch 44/50\n",
      "27/27 [==============================] - 0s 2ms/step - loss: 0.1990 - auc: 0.7364\n",
      "Epoch 45/50\n",
      "27/27 [==============================] - 0s 1ms/step - loss: 0.1984 - auc: 0.7313\n",
      "Epoch 46/50\n",
      "27/27 [==============================] - 0s 1ms/step - loss: 0.1983 - auc: 0.7332\n",
      "Epoch 47/50\n",
      "27/27 [==============================] - 0s 1ms/step - loss: 0.1987 - auc: 0.7374\n",
      "Epoch 48/50\n",
      "27/27 [==============================] - 0s 2ms/step - loss: 0.1993 - auc: 0.7277\n",
      "Epoch 49/50\n",
      "27/27 [==============================] - 0s 1ms/step - loss: 0.1984 - auc: 0.7341\n",
      "Epoch 50/50\n",
      "27/27 [==============================] - 0s 2ms/step - loss: 0.1988 - auc: 0.7257\n",
      "[[135  42]\n",
      " [ 17  20]]\n",
      "              precision    recall  f1-score   support\n",
      "\n",
      "         0.0       0.89      0.76      0.82       177\n",
      "         1.0       0.32      0.54      0.40        37\n",
      "\n",
      "    accuracy                           0.72       214\n",
      "   macro avg       0.61      0.65      0.61       214\n",
      "weighted avg       0.79      0.72      0.75       214\n",
      "\n"
     ]
    }
   ],
   "source": [
    "### ---------------------------------------------------------------------------\n",
    "### Modelo final y evaluación\n",
    "### ---------------------------------------------------------------------------\n",
    "\n",
    "nn_final = Sequential()\n",
    "nn_final.add(Dense(x_size, activation=\"sigmoid\"))\n",
    "nn_final.add(Dense(1, activation=\"sigmoid\"))\n",
    "nn_final.add(Dense(1, activation=\"sigmoid\"))\n",
    "nn_final.add(Dense(1, activation=\"sigmoid\"))\n",
    "nn_final.compile(optimizer=keras.optimizers.Adam(learning_rate = 0.01), metrics=[tf.keras.metrics.AUC(from_logits=True)], loss=\"mse\")\n",
    "\n",
    "nn_final.fit(x=x_train, y=y_train, epochs=epochs, class_weight=class_weights)\n",
    "y_pred = nn_final.predict(x_val)\n",
    "y_pred = y_pred > 0.5\n",
    "\n",
    "print(confusion_matrix(y_val, y_pred))\n",
    "print(classification_report(y_val, y_pred, zero_division=0))"
   ]
  },
  {
   "cell_type": "code",
   "execution_count": null,
   "metadata": {
    "id": "QeHeod2g2oHh"
   },
   "outputs": [],
   "source": []
  }
 ],
 "metadata": {
  "accelerator": "TPU",
  "colab": {
   "collapsed_sections": [],
   "name": "Neuro_P3.ipynb",
   "provenance": []
  },
  "kernelspec": {
   "display_name": "Python 3 (ipykernel)",
   "language": "python",
   "name": "python3"
  },
  "language_info": {
   "codemirror_mode": {
    "name": "ipython",
    "version": 3
   },
   "file_extension": ".py",
   "mimetype": "text/x-python",
   "name": "python",
   "nbconvert_exporter": "python",
   "pygments_lexer": "ipython3",
   "version": "3.8.13"
  }
 },
 "nbformat": 4,
 "nbformat_minor": 1
}
