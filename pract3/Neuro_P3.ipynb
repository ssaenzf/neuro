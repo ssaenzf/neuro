{
 "cells": [
  {
   "cell_type": "markdown",
   "metadata": {
    "id": "PTK5XDjA81SI"
   },
   "source": [
    "---\n",
    "# <font color=\"#CA3532\">Práctica 3 de Neurocomputación</font>\n",
    "### Curso 2021-2022\n",
    "### Escuela Politécnica Superior – Universidad Autónoma de Madrid\n",
    "\n",
    "---\n",
    "\n",
    "Fechas de entrega:\n",
    "- Grupo 2462: lunes 16 de mayo de 2022\n",
    "- Grupo 2461: martes 17 de mayo de 2022\n",
    "\n",
    "---\n",
    "\n",
    "Última actualización: 31-03-2022\n",
    "\n",
    "---"
   ]
  },
  {
   "cell_type": "markdown",
   "metadata": {
    "id": "jqWSLi9F9lTn"
   },
   "source": [
    "*Sesión 1*:\n",
    "\n",
    "- Esta práctica está centrada en [Keras](https://keras.io/).\n",
    "\n",
    "- Keras es una biblioteca de redes neuronales de código abierto, diseñada para la experimentación con redes neuronales profundas. Keras es modular, extensible y fácil de usar.\n",
    "\n",
    "- Keras puede usar distintos motores. Aquí se usará con TensorFlow.\n",
    "\n"
   ]
  },
  {
   "cell_type": "code",
   "execution_count": null,
   "metadata": {
    "id": "d7Wiw7iJCbgi"
   },
   "outputs": [],
   "source": [
    "### Incluid vuestros nombres, pareja y grupo aquí:\n",
    "estudiantes = [{'nombre': 'Zhijie Qian', 'pareja': 'P05', 'grupo': '2461'},\n",
    "               {'nombre': 'Santo Saenz Ferrero', 'pareja': 'P05', 'grupo': '2461'}]\n"
   ]
  },
  {
   "cell_type": "markdown",
   "metadata": {
    "id": "Y7vp1DQU_2KC"
   },
   "source": [
    "### <font color=\"#CA3532\">Importación de bibliotecas</font>\n",
    "\n",
    "TensorFlow 2.0 incluye oficialmente Keras."
   ]
  },
  {
   "cell_type": "code",
   "execution_count": 1,
   "metadata": {
    "executionInfo": {
     "elapsed": 6080,
     "status": "ok",
     "timestamp": 1651663841425,
     "user": {
      "displayName": "Zhi jie Qian",
      "userId": "17587581155014799590"
     },
     "user_tz": -120
    },
    "id": "oY36uRqOavkU"
   },
   "outputs": [],
   "source": [
    "# Importaciones\n",
    "\n",
    "import numpy as np\n",
    "import matplotlib.pyplot as plt\n",
    "\n",
    "import tensorflow as tf\n",
    "from tensorflow import keras\n",
    "\n",
    "import keras as k\n",
    "from keras.models import Sequential\n",
    "from keras.layers import Dense"
   ]
  },
  {
   "cell_type": "markdown",
   "metadata": {
    "id": "a4vpTFrKAfG-"
   },
   "source": [
    "### <font color=\"#CA3532\">Datos del problema</font>\n",
    "\n",
    "El problema consiste en predecir si va a haber una erupción solar (*solar flares*) en ciertas regiones solares en función de las características de la región solar. El conjunto datos y la caracterización de sus atributos puede encontrarse en https://www.openml.org/d/40702. El siguiente fragmento de código permite cargar estos datos."
   ]
  },
  {
   "cell_type": "code",
   "execution_count": 2,
   "metadata": {
    "executionInfo": {
     "elapsed": 2563,
     "status": "ok",
     "timestamp": 1651663847828,
     "user": {
      "displayName": "Zhi jie Qian",
      "userId": "17587581155014799590"
     },
     "user_tz": -120
    },
    "id": "nH2J34Gfbv_C"
   },
   "outputs": [],
   "source": [
    "dataset_url = 'https://www.openml.org/data/get_csv/4965303/flare.arff' \n",
    "\n",
    "dataset = np.genfromtxt(dataset_url, delimiter=',', skip_header=1)\n",
    "\n",
    "### -------------------------------------------------------------------------------\n",
    "### Dividid los ejemplos en atributos y clases. Guardad el número de atributos.\n",
    "### -------------------------------------------------------------------------------\n",
    "\n",
    "x = dataset[:,:-1]\n",
    "x_size = x.shape[1]\n",
    "y = dataset[:,-1]"
   ]
  },
  {
   "cell_type": "code",
   "execution_count": 3,
   "metadata": {
    "colab": {
     "base_uri": "https://localhost:8080/"
    },
    "executionInfo": {
     "elapsed": 6,
     "status": "ok",
     "timestamp": 1651663849483,
     "user": {
      "displayName": "Zhi jie Qian",
      "userId": "17587581155014799590"
     },
     "user_tz": -120
    },
    "id": "6bhpFdYNCVKk",
    "outputId": "fc8c1842-72ca-41d2-bd43-40f66148a4c7"
   },
   "outputs": [
    {
     "name": "stdout",
     "output_type": "stream",
     "text": [
      "Ejemplo 0: [5. 4. 3. 1. 3. 1. 1. 2. 1. 1.] 0.0\n",
      "Atributos: 10\n",
      "Clases: [0. 1.]\n",
      "Recuento de clases: 884 182\n",
      "Examplos: 1066\n"
     ]
    }
   ],
   "source": [
    "# Resultados de la división y el número de atributos\n",
    "\n",
    "print('Ejemplo 0:', x[0], y[1])\n",
    "print('Atributos:', x_size)\n",
    "print('Clases:', np.unique(y))\n",
    "print('Recuento de clases:', y.tolist().count(0), y.tolist().count(1))\n",
    "print('Examplos:', len(x))"
   ]
  },
  {
   "cell_type": "code",
   "execution_count": 4,
   "metadata": {
    "colab": {
     "base_uri": "https://localhost:8080/",
     "height": 281
    },
    "executionInfo": {
     "elapsed": 3135,
     "status": "ok",
     "timestamp": 1651663854197,
     "user": {
      "displayName": "Zhi jie Qian",
      "userId": "17587581155014799590"
     },
     "user_tz": -120
    },
    "id": "5oBLBAWR7N92",
    "outputId": "8bb4fbd0-9d5d-44c8-c623-fad425e54c3e"
   },
   "outputs": [
    {
     "data": {
      "image/png": "[encoded data removed]",
      "text/plain": [
       "<Figure size 432x288 with 12 Axes>"
      ]
     },
     "metadata": {
      "needs_background": "light"
     },
     "output_type": "display_data"
    }
   ],
   "source": [
    "# create pairwise scatter plots of numeric input variables\n",
    "from pandas import read_csv\n",
    "from pandas import DataFrame\n",
    "from pandas.plotting import scatter_matrix\n",
    "from matplotlib import pyplot\n",
    "\n",
    "# load the csv file as a data frame\n",
    "df = read_csv(dataset_url, header=1)\n",
    "\n",
    "# histograms of all variables \n",
    "df.hist()\n",
    "pyplot.show()"
   ]
  },
  {
   "cell_type": "code",
   "execution_count": 5,
   "metadata": {
    "id": "Vn7n9Y-12oHV",
    "outputId": "0f42bf72-f2ef-464f-8dac-90847ec34d7a"
   },
   "outputs": [
    {
     "name": "stdout",
     "output_type": "stream",
     "text": [
      "   5  4  3  1  3.1  1.1  1.2  2  1.3  1.4  0\n",
      "0  1  3  1  1    2    1    1  2    1    1  0\n",
      "1  2  3  2  1    3    1    1  2    1    1  1\n",
      "2  5  4  3  2    2    1    2  2    1    1  0\n",
      "3  1  4  2  1    3    1    1  2    1    1  0\n",
      "4  1  4  2  1    2    1    2  2    1    1  0\n"
     ]
    }
   ],
   "source": [
    "print(df.head(5))"
   ]
  },
  {
   "cell_type": "code",
   "execution_count": 6,
   "metadata": {
    "colab": {
     "base_uri": "https://localhost:8080/"
    },
    "executionInfo": {
     "elapsed": 488,
     "status": "ok",
     "timestamp": 1651606474648,
     "user": {
      "displayName": "Zhi jie Qian",
      "userId": "17587581155014799590"
     },
     "user_tz": -120
    },
    "id": "RV-nes8H2oHV",
    "outputId": "b6d375af-4349-4968-aa0a-00d994656672"
   },
   "outputs": [
    {
     "name": "stdout",
     "output_type": "stream",
     "text": [
      "                 5            4            3            1          3.1  \\\n",
      "count  1065.000000  1065.000000  1065.000000  1065.000000  1065.000000   \n",
      "mean      2.625352     2.957746     2.034742     1.153991     2.400939   \n",
      "std       1.844397     1.703904     0.806293     0.361109     0.620604   \n",
      "min       0.000000     0.000000     0.000000     1.000000     1.000000   \n",
      "25%       1.000000     2.000000     2.000000     1.000000     2.000000   \n",
      "50%       2.000000     4.000000     2.000000     1.000000     2.000000   \n",
      "75%       5.000000     4.000000     3.000000     1.000000     3.000000   \n",
      "max       5.000000     5.000000     3.000000     2.000000     3.000000   \n",
      "\n",
      "               1.1          1.2            2          1.3     1.4            0  \n",
      "count  1065.000000  1065.000000  1065.000000  1065.000000  1065.0  1065.000000  \n",
      "mean      1.059155     1.404695     1.875117     1.025352     1.0     0.170892  \n",
      "std       0.320469     0.491063     0.330741     0.157266     0.0     0.376591  \n",
      "min       1.000000     1.000000     1.000000     1.000000     1.0     0.000000  \n",
      "25%       1.000000     1.000000     2.000000     1.000000     1.0     0.000000  \n",
      "50%       1.000000     1.000000     2.000000     1.000000     1.0     0.000000  \n",
      "75%       1.000000     2.000000     2.000000     1.000000     1.0     0.000000  \n",
      "max       3.000000     2.000000     2.000000     2.000000     1.0     1.000000  \n"
     ]
    }
   ],
   "source": [
    "print(df.describe())"
   ]
  },
  {
   "cell_type": "markdown",
   "metadata": {
    "id": "mkghIVUiacnv"
   },
   "source": [
    "### Eliminacion de columnas\n",
    "Visualizando las medias y las desviaciones estándares, la última columna no nos aporta información puesto que siempre su valor se mantiene inmutable en 1, por ello se decide eliminar. Este detalle también se puede ver en la página https://www.openml.org/search?type=data&sort=runs&id=40702&status=active apartado de análisis, donde la columna Area_of_the_largest_spot es irrelevante. \n",
    "\n",
    "También se elimina la columna Area que es la columna 1.3 del df.describe() donde apenas hay datos de valor 2 y se vuelve a tener una desviación mínima.\n",
    "\n",
    "Finalmente, la columna Become_complex se puede eliminar o no, que es la columna 2 del df.describe(). Sin embargo hemos decidido eliminar esta columna por 2 motivos, el primero es que con este atributo, aunque en ocasiones se genera unos resultados buenos, también se generan en muchas ocasiones modelos con resultados aleatorios, en cambio, quitando este atributo, los resultados para los diferentes modelos en general son mejores. El segundo motivo se trata del descrito en la página https://www.openml.org/search?type=data&sort=runs&id=40702&status=active apartado de análisis, la importancia con RandomForest es muy bajo, siendo un atributo sin mucha importancia.\n",
    "\n",
    "Para este apartado tampoco se normalizan los datos puesto que los estos son categóricos."
   ]
  },
  {
   "cell_type": "code",
   "execution_count": 7,
   "metadata": {
    "colab": {
     "base_uri": "https://localhost:8080/"
    },
    "executionInfo": {
     "elapsed": 1182,
     "status": "ok",
     "timestamp": 1651663864381,
     "user": {
      "displayName": "Zhi jie Qian",
      "userId": "17587581155014799590"
     },
     "user_tz": -120
    },
    "id": "V73REDiPbulX",
    "outputId": "37cdf0d1-114d-44d4-b6b8-0ded10c4dca2"
   },
   "outputs": [
    {
     "data": {
      "text/plain": [
       "(1066, 9)"
      ]
     },
     "execution_count": 7,
     "metadata": {},
     "output_type": "execute_result"
    }
   ],
   "source": [
    "x = dataset[:,:-2]\n",
    "df = read_csv(dataset_url, header=1)\n",
    "del df['1.4']\n",
    "x.shape"
   ]
  },
  {
   "cell_type": "code",
   "execution_count": 8,
   "metadata": {
    "colab": {
     "base_uri": "https://localhost:8080/",
     "height": 300
    },
    "executionInfo": {
     "elapsed": 1259,
     "status": "ok",
     "timestamp": 1651606750019,
     "user": {
      "displayName": "Zhi jie Qian",
      "userId": "17587581155014799590"
     },
     "user_tz": -120
    },
    "id": "fMGfFvIEbZ3U",
    "outputId": "1531c70e-bc8b-4962-945c-7b3a9cfd6a0f"
   },
   "outputs": [
    {
     "data": {
      "text/html": [
       "<div>\n",
       "<style scoped>\n",
       "    .dataframe tbody tr th:only-of-type {\n",
       "        vertical-align: middle;\n",
       "    }\n",
       "\n",
       "    .dataframe tbody tr th {\n",
       "        vertical-align: top;\n",
       "    }\n",
       "\n",
       "    .dataframe thead th {\n",
       "        text-align: right;\n",
       "    }\n",
       "</style>\n",
       "<table border=\"1\" class=\"dataframe\">\n",
       "  <thead>\n",
       "    <tr style=\"text-align: right;\">\n",
       "      <th></th>\n",
       "      <th>5</th>\n",
       "      <th>4</th>\n",
       "      <th>3</th>\n",
       "      <th>1</th>\n",
       "      <th>3.1</th>\n",
       "      <th>1.1</th>\n",
       "      <th>1.2</th>\n",
       "      <th>2</th>\n",
       "      <th>1.3</th>\n",
       "      <th>0</th>\n",
       "    </tr>\n",
       "  </thead>\n",
       "  <tbody>\n",
       "    <tr>\n",
       "      <th>count</th>\n",
       "      <td>1065.000000</td>\n",
       "      <td>1065.000000</td>\n",
       "      <td>1065.000000</td>\n",
       "      <td>1065.000000</td>\n",
       "      <td>1065.000000</td>\n",
       "      <td>1065.000000</td>\n",
       "      <td>1065.000000</td>\n",
       "      <td>1065.000000</td>\n",
       "      <td>1065.000000</td>\n",
       "      <td>1065.000000</td>\n",
       "    </tr>\n",
       "    <tr>\n",
       "      <th>mean</th>\n",
       "      <td>2.625352</td>\n",
       "      <td>2.957746</td>\n",
       "      <td>2.034742</td>\n",
       "      <td>1.153991</td>\n",
       "      <td>2.400939</td>\n",
       "      <td>1.059155</td>\n",
       "      <td>1.404695</td>\n",
       "      <td>1.875117</td>\n",
       "      <td>1.025352</td>\n",
       "      <td>0.170892</td>\n",
       "    </tr>\n",
       "    <tr>\n",
       "      <th>std</th>\n",
       "      <td>1.844397</td>\n",
       "      <td>1.703904</td>\n",
       "      <td>0.806293</td>\n",
       "      <td>0.361109</td>\n",
       "      <td>0.620604</td>\n",
       "      <td>0.320469</td>\n",
       "      <td>0.491063</td>\n",
       "      <td>0.330741</td>\n",
       "      <td>0.157266</td>\n",
       "      <td>0.376591</td>\n",
       "    </tr>\n",
       "    <tr>\n",
       "      <th>min</th>\n",
       "      <td>0.000000</td>\n",
       "      <td>0.000000</td>\n",
       "      <td>0.000000</td>\n",
       "      <td>1.000000</td>\n",
       "      <td>1.000000</td>\n",
       "      <td>1.000000</td>\n",
       "      <td>1.000000</td>\n",
       "      <td>1.000000</td>\n",
       "      <td>1.000000</td>\n",
       "      <td>0.000000</td>\n",
       "    </tr>\n",
       "    <tr>\n",
       "      <th>25%</th>\n",
       "      <td>1.000000</td>\n",
       "      <td>2.000000</td>\n",
       "      <td>2.000000</td>\n",
       "      <td>1.000000</td>\n",
       "      <td>2.000000</td>\n",
       "      <td>1.000000</td>\n",
       "      <td>1.000000</td>\n",
       "      <td>2.000000</td>\n",
       "      <td>1.000000</td>\n",
       "      <td>0.000000</td>\n",
       "    </tr>\n",
       "    <tr>\n",
       "      <th>50%</th>\n",
       "      <td>2.000000</td>\n",
       "      <td>4.000000</td>\n",
       "      <td>2.000000</td>\n",
       "      <td>1.000000</td>\n",
       "      <td>2.000000</td>\n",
       "      <td>1.000000</td>\n",
       "      <td>1.000000</td>\n",
       "      <td>2.000000</td>\n",
       "      <td>1.000000</td>\n",
       "      <td>0.000000</td>\n",
       "    </tr>\n",
       "    <tr>\n",
       "      <th>75%</th>\n",
       "      <td>5.000000</td>\n",
       "      <td>4.000000</td>\n",
       "      <td>3.000000</td>\n",
       "      <td>1.000000</td>\n",
       "      <td>3.000000</td>\n",
       "      <td>1.000000</td>\n",
       "      <td>2.000000</td>\n",
       "      <td>2.000000</td>\n",
       "      <td>1.000000</td>\n",
       "      <td>0.000000</td>\n",
       "    </tr>\n",
       "    <tr>\n",
       "      <th>max</th>\n",
       "      <td>5.000000</td>\n",
       "      <td>5.000000</td>\n",
       "      <td>3.000000</td>\n",
       "      <td>2.000000</td>\n",
       "      <td>3.000000</td>\n",
       "      <td>3.000000</td>\n",
       "      <td>2.000000</td>\n",
       "      <td>2.000000</td>\n",
       "      <td>2.000000</td>\n",
       "      <td>1.000000</td>\n",
       "    </tr>\n",
       "  </tbody>\n",
       "</table>\n",
       "</div>"
      ],
      "text/plain": [
       "                 5            4            3            1          3.1  \\\n",
       "count  1065.000000  1065.000000  1065.000000  1065.000000  1065.000000   \n",
       "mean      2.625352     2.957746     2.034742     1.153991     2.400939   \n",
       "std       1.844397     1.703904     0.806293     0.361109     0.620604   \n",
       "min       0.000000     0.000000     0.000000     1.000000     1.000000   \n",
       "25%       1.000000     2.000000     2.000000     1.000000     2.000000   \n",
       "50%       2.000000     4.000000     2.000000     1.000000     2.000000   \n",
       "75%       5.000000     4.000000     3.000000     1.000000     3.000000   \n",
       "max       5.000000     5.000000     3.000000     2.000000     3.000000   \n",
       "\n",
       "               1.1          1.2            2          1.3            0  \n",
       "count  1065.000000  1065.000000  1065.000000  1065.000000  1065.000000  \n",
       "mean      1.059155     1.404695     1.875117     1.025352     0.170892  \n",
       "std       0.320469     0.491063     0.330741     0.157266     0.376591  \n",
       "min       1.000000     1.000000     1.000000     1.000000     0.000000  \n",
       "25%       1.000000     1.000000     2.000000     1.000000     0.000000  \n",
       "50%       1.000000     1.000000     2.000000     1.000000     0.000000  \n",
       "75%       1.000000     2.000000     2.000000     1.000000     0.000000  \n",
       "max       3.000000     2.000000     2.000000     2.000000     1.000000  "
      ]
     },
     "execution_count": 8,
     "metadata": {},
     "output_type": "execute_result"
    }
   ],
   "source": [
    "df.describe()"
   ]
  },
  {
   "cell_type": "code",
   "execution_count": 9,
   "metadata": {
    "id": "CHMR1k6adBxU"
   },
   "outputs": [],
   "source": [
    "# Normalizad los datos (si es necesario)\n",
    "# Los datos se encuentran en diferentes intervalos de valores por lo que el modelo puede tender \n",
    "# a ponderar más los datos con rangos de valores mayores, por ello se ha decidico escalar los \n",
    "# datos de la forma que se nos proporciona.\n",
    "# from sklearn.preprocessing import StandardScaler\n",
    "# scaler = StandardScaler()\n",
    "# scaler.fit(x)\n",
    "# x = scaler.transform(x)"
   ]
  },
  {
   "cell_type": "code",
   "execution_count": 10,
   "metadata": {
    "colab": {
     "base_uri": "https://localhost:8080/"
    },
    "executionInfo": {
     "elapsed": 4,
     "status": "ok",
     "timestamp": 1651607500512,
     "user": {
      "displayName": "Zhi jie Qian",
      "userId": "17587581155014799590"
     },
     "user_tz": -120
    },
    "id": "19yJetIA2oHW",
    "outputId": "69bcab71-a784-4981-d397-07cc8d992100"
   },
   "outputs": [
    {
     "name": "stdout",
     "output_type": "stream",
     "text": [
      "(1066, 9)\n"
     ]
    }
   ],
   "source": [
    "print(x.shape)"
   ]
  },
  {
   "cell_type": "markdown",
   "metadata": {
    "id": "w2luagLKhXi4"
   },
   "source": [
    "### Alternativa, OneHotEncoder\n",
    "En el apartado anterior se han eliminado 3 columnas, pero aun así, los resultados no son tan buenos como se esperaba, por ello, la característica Class_code y Largest_spot_code, las cuales son las 2 primeras columnas, como tienen 6 valores cada uno y además una media y una desviación alta, se van a codificar con OneHot encoder.\n",
    "\n",
    "A partir de la codificación One Hot se transforma el valor de una columna con valores en un determinado conjunto, a un vector con valor 1 para el índice que se corresponde al valor del registro, mientras que para el resto valor 0, consiguiendo que el modelo lo trate como una variable categórica en el que cada valor es independiente del resto. Esto a priori tiene sentido debido a la alta desviación de estas características algo propio de una variable categórica"
   ]
  },
  {
   "cell_type": "code",
   "execution_count": 11,
   "metadata": {
    "executionInfo": {
     "elapsed": 337,
     "status": "ok",
     "timestamp": 1651665317543,
     "user": {
      "displayName": "Zhi jie Qian",
      "userId": "17587581155014799590"
     },
     "user_tz": -120
    },
    "id": "gBOUO3CWhc6O"
   },
   "outputs": [
    {
     "data": {
      "text/plain": [
       "array([0., 0., 0., 0., 0., 1., 0., 0., 0., 0., 1., 0., 3., 1., 3., 1., 1.,\n",
       "       2., 1.])"
      ]
     },
     "execution_count": 11,
     "metadata": {},
     "output_type": "execute_result"
    }
   ],
   "source": [
    "from sklearn.preprocessing import OneHotEncoder\n",
    "from sklearn.compose import ColumnTransformer\n",
    "\n",
    "x = dataset[:,:-2]\n",
    "ct = ColumnTransformer([(\"columns\", OneHotEncoder(), [0,1])], remainder = 'passthrough')\n",
    "x = ct.fit_transform(x)\n",
    "x[0]"
   ]
  },
  {
   "cell_type": "code",
   "execution_count": 12,
   "metadata": {
    "colab": {
     "base_uri": "https://localhost:8080/"
    },
    "executionInfo": {
     "elapsed": 240,
     "status": "ok",
     "timestamp": 1651665322950,
     "user": {
      "displayName": "Zhi jie Qian",
      "userId": "17587581155014799590"
     },
     "user_tz": -120
    },
    "id": "NXFUjmhEh19g",
    "outputId": "aa46eb78-08ef-47d9-8050-bf8e6a4b0662"
   },
   "outputs": [
    {
     "data": {
      "text/plain": [
       "(1066, 19)"
      ]
     },
     "execution_count": 12,
     "metadata": {},
     "output_type": "execute_result"
    }
   ],
   "source": [
    "x.shape"
   ]
  },
  {
   "cell_type": "markdown",
   "metadata": {
    "id": "QKjVzq5PFAa5"
   },
   "source": [
    "### <font color=\"#CA3532\">Definición del modelo</font>\n",
    "\n",
    "- Cada capa del modelo lleva definidas una serie de propiedades (tamaño, función de activación, conectividad, etc.). \n",
    "\n",
    "- Usaremos el modelo secuencial que Keras para crear una red neuronal multicapa con propagación hacia adelante.\n",
    "\n"
   ]
  },
  {
   "cell_type": "code",
   "execution_count": 13,
   "metadata": {
    "executionInfo": {
     "elapsed": 314,
     "status": "ok",
     "timestamp": 1651665330930,
     "user": {
      "displayName": "Zhi jie Qian",
      "userId": "17587581155014799590"
     },
     "user_tz": -120
    },
    "id": "jSiN2kBpfJH2"
   },
   "outputs": [],
   "source": [
    "# Definid el modelo con Keras\n",
    "\n",
    "nn = Sequential()\n",
    "\n",
    "### -------------------------------------------------------------------------------\n",
    "### Añadir la capas completamente conectadas que consideréis al modelo\n",
    "### -------------------------------------------------------------------------------\n",
    "nn.add(Dense(12, activation=\"sigmoid\"))\n",
    "nn.add(Dense(12, activation=\"sigmoid\"))\n",
    "nn.add(Dense(1, activation=\"sigmoid\"))"
   ]
  },
  {
   "cell_type": "markdown",
   "metadata": {
    "id": "XYS0uGZZjLqA"
   },
   "source": [
    "### <font color=\"#CA3532\">Compilación de la red neuronal</font>\n",
    "\n",
    "- La compilación es la operación que contruye la red neuronal.\n",
    "\n",
    "- La compilación incluye aspectos que se tendrán en cuenta en el entrenamiento de la red neuronal.\n",
    "\n",
    "- En la secciones de abajo encontraréis enlaces a la documentación oficial donde podréis encontrar información sobre las distintas estrategias de cada uno de los aspectos.\n",
    "\n",
    "- También es posible definid vuestras propias funciones.\n",
    "\n",
    "#### <font color=\"#CA3532\">Optimizador</font>\n",
    "\n",
    "El optimizador es la estrategia para calcular las correcciones de los pesos.\n",
    "\n",
    "https://keras.io/api/optimizers/\n",
    "\n",
    "\n",
    "#### <font color=\"#CA3532\"> Función de error (*Loss function*)</font>\n",
    "\n",
    "La función de error calcula la cantidad que el modelo debe minimizar durante el entrenamiento.\n",
    "\n",
    "https://keras.io/api/losses/\n",
    "\n",
    "#### <font color=\"#CA3532\">Métricas</font>\n",
    "\n",
    "Una métrica es una función que juzga la actuación del modelo. Son funciones similares a las funciones de error pero, a diferencia de estas, no se aplican durante el entrenamiento, sino sobre los resultados. Aprende al menos el significado y las diferencias de las métricas *accuracy*, *precision*, *recall* y *AUC*. También pueden usarse las funciones de error como metricas.\n",
    "\n",
    "https://keras.io/api/metrics/"
   ]
  },
  {
   "cell_type": "code",
   "execution_count": 14,
   "metadata": {
    "executionInfo": {
     "elapsed": 210,
     "status": "ok",
     "timestamp": 1651665341681,
     "user": {
      "displayName": "Zhi jie Qian",
      "userId": "17587581155014799590"
     },
     "user_tz": -120
    },
    "id": "tU7t0cyMf-pL"
   },
   "outputs": [],
   "source": [
    "# Compilación\n",
    "\n",
    "### -------------------------------------------------------------------------------\n",
    "### Compilad vuestro modelo de red neuronal\n",
    "### -------------------------------------------------------------------------------\n",
    "\n",
    "metrics = [\n",
    "            #keras.metrics.TruePositives(name='tp'),\n",
    "            #keras.metrics.FalsePositives(name='fp'),\n",
    "            #keras.metrics.TrueNegatives(name='tn'),\n",
    "            #keras.metrics.FalseNegatives(name='fn'),\n",
    "            keras.metrics.BinaryAccuracy(name='ACC'),\n",
    "            keras.metrics.Precision(name='Prec'),\n",
    "            keras.metrics.Recall(name='Rec'),\n",
    "            keras.metrics.AUC(name='AUC'),\n",
    "            #keras.metrics.AUC(name='PRC', curve='PR'),\n",
    "          ]\n",
    "\n",
    "nn.compile(optimizer='SGD', loss=\"mse\", metrics=metrics)\n",
    "# nn.compile(optimizer='Adam', loss=\"binary_crossentropy\", metrics=metrics)"
   ]
  },
  {
   "cell_type": "markdown",
   "metadata": {
    "id": "7dRac4W1t69B"
   },
   "source": [
    "### <font color=\"#CA3532\">Conjuntos de entrenamiento y validación</font>\n",
    "\n",
    "Usaremos el 80 % de los datos para entrenamiento y el 20 % para validación. Usaremos también la técnica de muestreo estratificado (también están permitidas otras formas de validación). Averigua qué es y para qué sirve."
   ]
  },
  {
   "cell_type": "code",
   "execution_count": 15,
   "metadata": {
    "executionInfo": {
     "elapsed": 320,
     "status": "ok",
     "timestamp": 1651663935911,
     "user": {
      "displayName": "Zhi jie Qian",
      "userId": "17587581155014799590"
     },
     "user_tz": -120
    },
    "id": "QA3AW4y7j_Ar"
   },
   "outputs": [],
   "source": [
    "# Contrucción de los conjuntos de entrenamiento y validación\n",
    "\n",
    "from sklearn.model_selection import train_test_split\n",
    "\n",
    "x_train, x_val, y_train, y_val = train_test_split(x, y, stratify=y, test_size=0.2) "
   ]
  },
  {
   "cell_type": "code",
   "execution_count": 16,
   "metadata": {
    "colab": {
     "base_uri": "https://localhost:8080/"
    },
    "executionInfo": {
     "elapsed": 263,
     "status": "ok",
     "timestamp": 1651447913416,
     "user": {
      "displayName": "Zhi jie Qian",
      "userId": "17587581155014799590"
     },
     "user_tz": -120
    },
    "id": "QG53BRIu2oHY",
    "outputId": "aeeb8df3-182f-4353-b33e-cd433d86172c"
   },
   "outputs": [
    {
     "data": {
      "text/plain": [
       "{0.0: 707, 1.0: 145}"
      ]
     },
     "execution_count": 16,
     "metadata": {},
     "output_type": "execute_result"
    }
   ],
   "source": [
    "unique, counts = np.unique(y_train, return_counts=True)\n",
    "dict(zip(unique, counts))"
   ]
  },
  {
   "cell_type": "code",
   "execution_count": 17,
   "metadata": {
    "colab": {
     "base_uri": "https://localhost:8080/"
    },
    "executionInfo": {
     "elapsed": 4,
     "status": "ok",
     "timestamp": 1651447913996,
     "user": {
      "displayName": "Zhi jie Qian",
      "userId": "17587581155014799590"
     },
     "user_tz": -120
    },
    "id": "iChC28EE2oHZ",
    "outputId": "395fde94-b202-411f-b0c1-e6a65975ba03"
   },
   "outputs": [
    {
     "data": {
      "text/plain": [
       "{0.0: 177, 1.0: 37}"
      ]
     },
     "execution_count": 17,
     "metadata": {},
     "output_type": "execute_result"
    }
   ],
   "source": [
    "unique, counts = np.unique(y_val, return_counts=True)\n",
    "dict(zip(unique, counts))"
   ]
  },
  {
   "cell_type": "markdown",
   "metadata": {
    "id": "ZsK6smmS2oHZ"
   },
   "source": [
    "### Respuesta\n",
    "A partir de la técnica de muestreo estratificado los datos se dividen por una característica común, en este caso por la clase objetivo, por ello los datos se obtienen en train y validación de forma equilibrada teniendo en ambos proporcion especificada por test_size para cada clase objetivo\n",
    "\n",
    "Un ejemplo sería que si y tiene 20% de 0s y 80% de 1s, el ramdon split realizado también asegurá que haya 20% de 0s y 80% de 1s."
   ]
  },
  {
   "cell_type": "markdown",
   "metadata": {
    "id": "dDFUBCUVugVj"
   },
   "source": [
    "### <font color=\"#CA3532\">Visualización de resultados</font>\n",
    "\n",
    "Para la visualización de los resultados utilizaremos gráficas con la evolución de la función de pérdida y las métricas en cada época del entrenamiento, tanto para los datos de entrenamiento como para los de validación.\n",
    "\n",
    "También obtendremos la matriz de confusión y alguna métricas sobre cada clase del problema. Observaremos especialmente la medida macro-F1."
   ]
  },
  {
   "cell_type": "code",
   "execution_count": 18,
   "metadata": {
    "executionInfo": {
     "elapsed": 329,
     "status": "ok",
     "timestamp": 1651663938501,
     "user": {
      "displayName": "Zhi jie Qian",
      "userId": "17587581155014799590"
     },
     "user_tz": -120
    },
    "id": "6pgKzRcysRwv"
   },
   "outputs": [],
   "source": [
    "from sklearn.metrics import classification_report, confusion_matrix\n",
    "\n",
    "def show_metrics(history):\n",
    "    for metric in history.history.keys():\n",
    "        if not metric.startswith('val_'):\n",
    "            plt.plot(history.history[metric], label=metric)\n",
    "            plt.plot(history.history[f'val_{metric}'], label=f'val_{metric}')\n",
    "            plt.title(metric)\n",
    "            plt.ylabel('')\n",
    "            plt.xlabel('Epoch')\n",
    "            plt.legend(loc=\"upper left\")\n",
    "            plt.show()"
   ]
  },
  {
   "cell_type": "markdown",
   "metadata": {
    "id": "x-rNfZzqINgY"
   },
   "source": [
    "### <font color=\"#CA3532\">Entrenamiento de la red neuronal y evaluación</font>\n",
    "\n",
    "El método \"fit\" entrena una red neuronal con los datos que se le proporcionen.\n",
    "\n",
    "https://keras.io/api/models/model_training_apis/#fit-method"
   ]
  },
  {
   "cell_type": "code",
   "execution_count": 19,
   "metadata": {
    "colab": {
     "base_uri": "https://localhost:8080/",
     "height": 1000
    },
    "executionInfo": {
     "elapsed": 7744,
     "status": "ok",
     "timestamp": 1651663954859,
     "user": {
      "displayName": "Zhi jie Qian",
      "userId": "17587581155014799590"
     },
     "user_tz": -120
    },
    "id": "iEhDqXzLIISj",
    "outputId": "782b7c2c-797c-4aa1-a534-80a910996a56"
   },
   "outputs": [
    {
     "name": "stdout",
     "output_type": "stream",
     "text": [
      "Model: \"sequential\"\n",
      "_________________________________________________________________\n",
      " Layer (type)                Output Shape              Param #   \n",
      "=================================================================\n",
      " dense (Dense)               (None, 12)                240       \n",
      "                                                                 \n",
      " dense_1 (Dense)             (None, 12)                156       \n",
      "                                                                 \n",
      " dense_2 (Dense)             (None, 1)                 13        \n",
      "                                                                 \n",
      "=================================================================\n",
      "Total params: 409\n",
      "Trainable params: 409\n",
      "Non-trainable params: 0\n",
      "_________________________________________________________________\n",
      "\n",
      "\n",
      "\n"
     ]
    },
    {
     "data": {
      "image/png": "[encoded data removed]",
      "text/plain": [
       "<Figure size 432x288 with 1 Axes>"
      ]
     },
     "metadata": {
      "needs_background": "light"
     },
     "output_type": "display_data"
    },
    {
     "data": {
      "image/png": "[encoded data removed]",
      "text/plain": [
       "<Figure size 432x288 with 1 Axes>"
      ]
     },
     "metadata": {
      "needs_background": "light"
     },
     "output_type": "display_data"
    },
    {
     "data": {
      "image/png": "[encoded data removed]",
      "text/plain": [
       "<Figure size 432x288 with 1 Axes>"
      ]
     },
     "metadata": {
      "needs_background": "light"
     },
     "output_type": "display_data"
    },
    {
     "data": {
      "image/png": "[encoded data removed]",
      "text/plain": [
       "<Figure size 432x288 with 1 Axes>"
      ]
     },
     "metadata": {
      "needs_background": "light"
     },
     "output_type": "display_data"
    },
    {
     "data": {
      "image/png": "[encoded data removed]",
      "text/plain": [
       "<Figure size 432x288 with 1 Axes>"
      ]
     },
     "metadata": {
      "needs_background": "light"
     },
     "output_type": "display_data"
    },
    {
     "name": "stdout",
     "output_type": "stream",
     "text": [
      "[[177   0]\n",
      " [ 37   0]]\n",
      "              precision    recall  f1-score   support\n",
      "\n",
      "         0.0       0.83      1.00      0.91       177\n",
      "         1.0       0.00      0.00      0.00        37\n",
      "\n",
      "    accuracy                           0.83       214\n",
      "   macro avg       0.41      0.50      0.45       214\n",
      "weighted avg       0.68      0.83      0.75       214\n",
      "\n"
     ]
    }
   ],
   "source": [
    "# Entrenamiento\n",
    "\n",
    "epochs = 50\n",
    "\n",
    "history = nn.fit(x_train, y_train, epochs=epochs, verbose=0, validation_data=(x_val, y_val))\n",
    "\n",
    "# Predicciones del conjunto de evaluación\n",
    "\n",
    "y_pred = nn.predict(x_val)\n",
    "y_pred = y_pred > 0.5\n",
    "\n",
    "# Detalles de la red neuronal\n",
    "\n",
    "nn.summary()\n",
    "print('\\n\\n')\n",
    "\n",
    "# Visualización de las métricas \n",
    "\n",
    "show_metrics(history)\n",
    "\n",
    "# Matriz de confusión\n",
    "\n",
    "print(confusion_matrix(y_val, y_pred))\n",
    "\n",
    "# Observa la medida macro-f1 del siguiente informe\n",
    "\n",
    "print(classification_report(y_val, y_pred, zero_division=0))\n"
   ]
  },
  {
   "cell_type": "markdown",
   "metadata": {
    "id": "zo8KQlCaGEw9"
   },
   "source": [
    "### <font color=\"#CA3532\">Entrenamiento de la red neuronal y evaluación</font>\n",
    "Como podrás haber observado en problema no está balanceado (o está bastante desequilibrado), porque el número de ejemplos de cada clase es muy diferente."
   ]
  },
  {
   "cell_type": "markdown",
   "metadata": {
    "id": "amDlvLOgHw2J"
   },
   "source": [
    "Existen varias técnicas para abortar este tipo de problemas. Una de ellas consiste seleccionar un subconjunto de datos equilibrados en el que las dos clases esten representadas en la misma proporción.\n"
   ]
  },
  {
   "cell_type": "markdown",
   "metadata": {},
   "source": [
    "## Nota\n",
    "Para esta sección, sólo vamos a comentar las técnicas que utilizamos y para visualizar, dirige a siguientes notebook que son pruebas rápidas de cada técnica aplicando OneHotEncoder o no.\n",
    "\n",
    "- Normal [link](Neuro_P3_normal.ipynb)\n",
    "- OneHotEncoder [link](Neuro_P3_one_hot.ipynb)"
   ]
  },
  {
   "cell_type": "code",
   "execution_count": 20,
   "metadata": {},
   "outputs": [
    {
     "name": "stdout",
     "output_type": "stream",
     "text": [
      "Requirement already satisfied: imbalanced-learn in c:\\users\\30386\\anaconda3\\lib\\site-packages (0.9.0)\n",
      "Requirement already satisfied: joblib>=0.11 in c:\\users\\30386\\appdata\\roaming\\python\\python38\\site-packages (from imbalanced-learn) (1.0.1)\n",
      "Requirement already satisfied: scikit-learn>=1.0.1 in c:\\users\\30386\\anaconda3\\lib\\site-packages (from imbalanced-learn) (1.0.1)\n",
      "Requirement already satisfied: scipy>=1.1.0 in c:\\users\\30386\\anaconda3\\lib\\site-packages (from imbalanced-learn) (1.7.1)\n",
      "Requirement already satisfied: threadpoolctl>=2.0.0 in c:\\users\\30386\\anaconda3\\lib\\site-packages (from imbalanced-learn) (2.2.0)\n",
      "Requirement already satisfied: numpy>=1.14.6 in c:\\users\\30386\\anaconda3\\lib\\site-packages (from imbalanced-learn) (1.20.3)\n"
     ]
    }
   ],
   "source": [
    "!pip3 install imbalanced-learn"
   ]
  },
  {
   "cell_type": "code",
   "execution_count": 21,
   "metadata": {},
   "outputs": [],
   "source": [
    "import imblearn\n",
    "from imblearn.under_sampling import RandomUnderSampler\n",
    "from imblearn.under_sampling import EditedNearestNeighbours\n",
    "from imblearn.under_sampling import TomekLinks\n",
    "from imblearn.over_sampling import RandomOverSampler\n",
    "from imblearn.over_sampling import ADASYN\n",
    "from imblearn.over_sampling import SMOTE\n",
    "from imblearn.combine import SMOTETomek\n",
    "from imblearn.combine import SMOTEENN\n",
    "from collections import Counter"
   ]
  },
  {
   "cell_type": "markdown",
   "metadata": {
    "id": "mjhswZou2oHb"
   },
   "source": [
    "### Alternativa, separar datos para que haya misma cantidad de clase 0 y 1\n",
    "El problema de esta técnica es que se esta desperdiciando los datos que se deshechan de la clase mas numerosa para igualar su numero de datos a la menos numerosa. Si se lleva esta situación al extremo, si existiesen 10k datos de clase 0 y sólo 100 datos de clase 1, no se detectarían ciertos valores objetivos que se detectan con características que tienen un pequeño grupo de los datos, que podrían haber sido justamente deshechados.\n",
    "\n",
    "Para realizar esta técnica sólo se va a despreciar los datos del training, para que se entrena de forma equilibrada y luego se valida el Test con su desequilibro de datos, pero desequilibrio real que existe, para captar con mayor exactitud la precisión del modelo al tener más datos de test"
   ]
  },
  {
   "cell_type": "markdown",
   "metadata": {
    "id": "tEK6W2Q3B8yv"
   },
   "source": [
    "#### RandomUnderSampler\n",
    "Esta técnica se aplica de forma sencilla con la clase imblearn.under_sampling.RandomUnderSampler. Esta para un conjunto de datos los equilibra en número en función de la clase objetivo para lo que elimina registros de las clases mayoritarias, escogiendo de forma aleatorio los registros de estas clases, hasta dejar un conjunto de registros igual en número para las distintas clases objetivos."
   ]
  },
  {
   "cell_type": "code",
   "execution_count": 22,
   "metadata": {},
   "outputs": [
    {
     "name": "stdout",
     "output_type": "stream",
     "text": [
      "Counter({0.0: 145, 1.0: 145})\n"
     ]
    }
   ],
   "source": [
    "undersample = RandomUnderSampler()\n",
    "X_under_train, y_under_train = undersample.fit_resample(x_train, y_train)\n",
    "print(Counter(y_under_train))"
   ]
  },
  {
   "cell_type": "markdown",
   "metadata": {
    "id": "jGqt7Kc7BCJ-"
   },
   "source": [
    "#### EditedNearestNeighbours\n",
    "Esta técnicaa eliminar registros haciendo uso de k-vecinos cercanos, a partir de la que se eliminan registros cercanos a la frontera de decisión para distinguir entre una clase y otra"
   ]
  },
  {
   "cell_type": "code",
   "execution_count": 23,
   "metadata": {
    "colab": {
     "base_uri": "https://localhost:8080/"
    },
    "executionInfo": {
     "elapsed": 14,
     "status": "ok",
     "timestamp": 1651665368547,
     "user": {
      "displayName": "Zhi jie Qian",
      "userId": "17587581155014799590"
     },
     "user_tz": -120
    },
    "id": "EBgW7tymBB0R",
    "outputId": "928e9f46-dd31-43ca-9570-6013348f0219"
   },
   "outputs": [
    {
     "name": "stdout",
     "output_type": "stream",
     "text": [
      "Counter({0.0: 439, 1.0: 145})\n"
     ]
    }
   ],
   "source": [
    "enn = EditedNearestNeighbours()\n",
    "X_under_train, y_under_train = enn.fit_resample(x_train, y_train)\n",
    "print(Counter(y_under_train))"
   ]
  },
  {
   "cell_type": "markdown",
   "metadata": {
    "id": "bPJQ1CBFByj5"
   },
   "source": [
    "#### TomekLinks\n",
    "Esta se trata de otra técnica para la eliminación de registros, en ella se hace uso de los enlaces de Tomek los cuales son enlaces entre registros de diferentes clases que están muy próximas. Para estos registros de la clase mayoritaria con un valor de distancia pequeña en el enlace, se eliminan "
   ]
  },
  {
   "cell_type": "code",
   "execution_count": 24,
   "metadata": {
    "colab": {
     "base_uri": "https://localhost:8080/"
    },
    "executionInfo": {
     "elapsed": 482,
     "status": "ok",
     "timestamp": 1651665382162,
     "user": {
      "displayName": "Zhi jie Qian",
      "userId": "17587581155014799590"
     },
     "user_tz": -120
    },
    "id": "VdvRN5igB1T8",
    "outputId": "fe897161-4970-4c60-be6a-1c27d23e7e12"
   },
   "outputs": [
    {
     "name": "stdout",
     "output_type": "stream",
     "text": [
      "Counter({0.0: 703, 1.0: 145})\n"
     ]
    }
   ],
   "source": [
    "tl = TomekLinks()\n",
    "X_under_train, y_under_train = tl.fit_resample(x_train, y_train)\n",
    "print(Counter(y_under_train))"
   ]
  },
  {
   "cell_type": "markdown",
   "metadata": {
    "id": "lzOQYVSCkx0g"
   },
   "source": [
    "### Alternativa, aumentar los datos para que haya la misma cantidad de registros de la clase de 0 y 1\n",
    "La técnica planteada es parecido a la de la sección anterior, solo que en vez de reducir el dataset para que haya el mismo número de 0s y 1s, se va a aumentar los registros de la clase con menor número de datos para que el número de registros de ambas clases se encuentre equilibrado. \n",
    "\n",
    "Existe 2 enfoques, crear más copias existentes o crear nuevas copias segun un determinado criterio. Para el primer enfoque, el problema que genera es que existe redundancia de datos. Para el segundo enfoque el problema es que se crean datos que quizá no sean válidos y que no se ajustan con exactitud a los que se obtendrían en un entorno de produccón. \n",
    "\n",
    "El aspecto positivo de esta técnica, es que no se está desperdiciando datos y dando al modelo una cantidad de datos equilibrada para las diferentes clases por lo que no sobre estima unas sobre otras.\n"
   ]
  },
  {
   "cell_type": "markdown",
   "metadata": {
    "id": "9RQMdB-WCDJU"
   },
   "source": [
    "#### RandomOverSampler\n",
    "El primer enfoque se desarrolla de manera sencilla con la clase imblearn.over_sampling.RandomOverSampler. Esta para la clase minoritaria escoge registros de manera aleatoria y los introduce al conjunto de registros hasta que existe un equilibrio de registros entre clases"
   ]
  },
  {
   "cell_type": "code",
   "execution_count": 25,
   "metadata": {
    "colab": {
     "base_uri": "https://localhost:8080/"
    },
    "executionInfo": {
     "elapsed": 199,
     "status": "ok",
     "timestamp": 1651665390520,
     "user": {
      "displayName": "Zhi jie Qian",
      "userId": "17587581155014799590"
     },
     "user_tz": -120
    },
    "id": "MR_N0WmEiOwR",
    "outputId": "f04261c8-3f5e-488b-e118-389b66faf496"
   },
   "outputs": [
    {
     "name": "stdout",
     "output_type": "stream",
     "text": [
      "Counter({1.0: 707, 0.0: 707})\n"
     ]
    }
   ],
   "source": [
    "oversample = RandomOverSampler()\n",
    "X_over_train, y_over_train = oversample.fit_resample(x_train, y_train)\n",
    "print(Counter(y_over_train))"
   ]
  },
  {
   "cell_type": "markdown",
   "metadata": {
    "id": "olAub6eqCimx"
   },
   "source": [
    "#### SMOTE y ADASYN\n",
    "\n",
    "Estas técnicas generan muestras de la clase minoritaria a partir de la interpolación. La diferencia entre ambas técnicas se encuentra en los registros que se hacen uso para realizar la interpolación. ADASYN se centra en generar muestras, que se encuentran junto a las muestras originales que se clasifican erróneamente, utilizando una clasificación k-Vecinos más cercanos. Por su parte el algoritmo SMOTE no hace ninguna distinción entre muestras para ser clasificadas utilizando la regla de vecinos más cercanos."
   ]
  },
  {
   "cell_type": "code",
   "execution_count": 26,
   "metadata": {
    "colab": {
     "base_uri": "https://localhost:8080/"
    },
    "executionInfo": {
     "elapsed": 279,
     "status": "ok",
     "timestamp": 1651665402621,
     "user": {
      "displayName": "Zhi jie Qian",
      "userId": "17587581155014799590"
     },
     "user_tz": -120
    },
    "id": "qsanL5kICHqz",
    "outputId": "4c3902f9-422c-4f40-9fd1-7b49c01cd99d"
   },
   "outputs": [
    {
     "name": "stdout",
     "output_type": "stream",
     "text": [
      "Counter({1.0: 707, 0.0: 707})\n"
     ]
    }
   ],
   "source": [
    "sm = SMOTE()\n",
    "X_over_train, y_over_train = sm.fit_resample(x_train, y_train)\n",
    "print(Counter(y_over_train))"
   ]
  },
  {
   "cell_type": "markdown",
   "metadata": {
    "id": "jNSAQApYCj_z"
   },
   "source": [
    "ada = ADASYN()\n",
    "X_over_train, y_over_train = ada.fit_resample(x_train, y_train)\n",
    "print(Counter(y_over_train))"
   ]
  },
  {
   "cell_type": "markdown",
   "metadata": {
    "id": "eUMBdOam2oHd"
   },
   "source": [
    "### Uso de class_weight pero con paquete que nos proporciona"
   ]
  },
  {
   "cell_type": "markdown",
   "metadata": {
    "id": "UCtSYvuRvpBy"
   },
   "source": [
    "Otra técnica consiste en asignar un peso a cada clase para que lo tenga en cuenta en algoritmo de entrenamiento.\n",
    "Aprende lo que hace el parámetro ```class_weight``` de ```fit``` (https://keras.io/api/models/model_training_apis/#fit-method) y explícalo."
   ]
  },
  {
   "cell_type": "markdown",
   "metadata": {
    "id": "xNJ5dCdTyTBc"
   },
   "source": [
    "Vuelve a entrenar considerando distintos pesos y observa como varía el resultado de la matriz de confusión. Si es posible, intenta conseguir un modelo mejor y describe los resultados alcanzados."
   ]
  },
  {
   "cell_type": "code",
   "execution_count": 28,
   "metadata": {
    "colab": {
     "base_uri": "https://localhost:8080/"
    },
    "executionInfo": {
     "elapsed": 555,
     "status": "ok",
     "timestamp": 1651665429531,
     "user": {
      "displayName": "Zhi jie Qian",
      "userId": "17587581155014799590"
     },
     "user_tz": -120
    },
    "id": "CJfmolAdkGDY",
    "outputId": "41de43bd-1696-42d5-ae59-1e7ce5e73b18"
   },
   "outputs": [
    {
     "name": "stdout",
     "output_type": "stream",
     "text": [
      "{0: 0.6025459688826026, 1: 2.9379310344827587}\n"
     ]
    }
   ],
   "source": [
    "### -------------------------------------------------------------------------------\n",
    "### Assigna diferentes pesos a cada una de las clases\n",
    "### -------------------------------------------------------------------------------\n",
    "\n",
    "from sklearn.utils import class_weight\n",
    "class_weights = class_weight.compute_class_weight('balanced', classes=np.unique(y_train), y=y_train)\n",
    "class_weights = {0: class_weights[0], 1: class_weights[1]}\n",
    "print(class_weights)"
   ]
  },
  {
   "cell_type": "markdown",
   "metadata": {
    "id": "pLyRxSJ92oHe"
   },
   "source": [
    "El modelo para el atributo class_weights lo que hace es mutiplicarlo por el error obtenido en la función de error dependiendo de la clase objetivo, con el fin de que el optimizador, al computar los errores de ciertas clases de forma mayor, tenderá a minimizar el error en esas clases si tienen un weight en class_weights alto."
   ]
  },
  {
   "cell_type": "markdown",
   "metadata": {
    "id": "aeHlBkW9oDdQ"
   },
   "source": [
    "### Aplicar todas las ténicas a la vez."
   ]
  },
  {
   "cell_type": "markdown",
   "metadata": {
    "id": "orwBLXgnCn78"
   },
   "source": [
    "#### RandomUnderSampler + RandomOverSampler\n",
    "\n",
    "La idea es que vamos a intentar reducir algunos datos de la clase mayoritaria pero no eliminar todas sino sólo algunas de ellas para no perder mucha información y vamos a ampliar datos de la clase minoritaria para compensar un poco.\n",
    "Imaginando que tuvieramos un desbalanceo de 1:100, aplicamos oversampling para tener un desbalanceo de 1:10 y luego aplicamos undersampling para eliminar dato y tener un desbalanceo de 1:2.\n",
    "\n",
    "Finalmente, como seguimos teniendo un desbalanceo de datos, usamos class_weight para ajustar."
   ]
  },
  {
   "cell_type": "code",
   "execution_count": 29,
   "metadata": {
    "colab": {
     "base_uri": "https://localhost:8080/"
    },
    "executionInfo": {
     "elapsed": 335,
     "status": "ok",
     "timestamp": 1651665445938,
     "user": {
      "displayName": "Zhi jie Qian",
      "userId": "17587581155014799590"
     },
     "user_tz": -120
    },
    "id": "OhLi7HIpqF0u",
    "outputId": "f044b273-bb5e-4a5e-b341-906b0f377f17"
   },
   "outputs": [
    {
     "name": "stdout",
     "output_type": "stream",
     "text": [
      "Counter({0.0: 707, 1.0: 145})\n",
      "Counter({0.0: 707, 1.0: 282})\n",
      "Counter({0.0: 564, 1.0: 282})\n",
      "{0: 0.75, 1: 1.5}\n"
     ]
    }
   ],
   "source": [
    "print(Counter(y_train))\n",
    "\n",
    "oversample = RandomOverSampler(sampling_strategy=0.4)\n",
    "X_over_train, y_over_train = oversample.fit_resample(x_train, y_train)\n",
    "print(Counter(y_over_train))\n",
    "\n",
    "undersample = RandomUnderSampler(sampling_strategy=0.5)\n",
    "X_ajust_train, y_ajust_train = undersample.fit_resample(X_over_train, y_over_train)\n",
    "print(Counter(y_ajust_train))\n",
    "\n",
    "class_weights = class_weight.compute_class_weight('balanced', classes=np.unique(y_ajust_train), y=y_ajust_train)\n",
    "class_weights = {0: class_weights[0], 1: class_weights[1]}\n",
    "print(class_weights)"
   ]
  },
  {
   "cell_type": "markdown",
   "metadata": {
    "id": "2fCTUQAbCtI3"
   },
   "source": [
    "#### SMOTE + EditedNearestNeighbours\n",
    " \n",
    "Estas técnicas se combinan con el fin de reducir el numero de muestras de la clase mayoritaria haciendo uso de EditedNearestNeighbours eliminando los registros de esta clase que se encuentran en la frontera de decisión, y conseguir más muestras de la clase minoritaria con SMOTE como a partir de interpolación"
   ]
  },
  {
   "cell_type": "code",
   "execution_count": 30,
   "metadata": {
    "colab": {
     "base_uri": "https://localhost:8080/"
    },
    "executionInfo": {
     "elapsed": 213,
     "status": "ok",
     "timestamp": 1651665512851,
     "user": {
      "displayName": "Zhi jie Qian",
      "userId": "17587581155014799590"
     },
     "user_tz": -120
    },
    "id": "GiQvtEFhDOCr",
    "outputId": "2763c1e5-96dd-47a8-8a1e-c80539de2b48"
   },
   "outputs": [
    {
     "name": "stdout",
     "output_type": "stream",
     "text": [
      "Counter({0.0: 453, 1.0: 387})\n"
     ]
    }
   ],
   "source": [
    "smoteen = SMOTEENN()\n",
    "X_ajust_train, y_ajust_train = smoteen.fit_resample(x_train, y_train)\n",
    "print(Counter(y_ajust_train))"
   ]
  },
  {
   "cell_type": "markdown",
   "metadata": {
    "id": "ISdM_KH_DApy"
   },
   "source": [
    "#### SMOTE + Tomek\n",
    "\n",
    "Estas técnicas se combinan con el fin de reducir el numero de muestras de la clase mayoritaria haciendo uso de Tomek eliminando los registros de esta clase que se encuentran con enlaces Tomek con un valor de distancia muy pequeño, y conseguir más muestras de la clase minoritaria con SMOTE como a partir de interpolación\n"
   ]
  },
  {
   "cell_type": "code",
   "execution_count": 31,
   "metadata": {
    "colab": {
     "base_uri": "https://localhost:8080/"
    },
    "executionInfo": {
     "elapsed": 446,
     "status": "ok",
     "timestamp": 1651665569071,
     "user": {
      "displayName": "Zhi jie Qian",
      "userId": "17587581155014799590"
     },
     "user_tz": -120
    },
    "id": "wIWEAMG-EFsR",
    "outputId": "d95e0095-cf2e-4844-9915-eecb8861684e"
   },
   "outputs": [
    {
     "name": "stdout",
     "output_type": "stream",
     "text": [
      "Counter({1.0: 707, 0.0: 707})\n"
     ]
    }
   ],
   "source": [
    "smtomek = SMOTETomek(sampling_strategy='all')\n",
    "X_ajust_train, y_ajust_train = smtomek.fit_resample(x_train, y_train)\n",
    "print(Counter(y_ajust_train))"
   ]
  },
  {
   "cell_type": "markdown",
   "metadata": {
    "id": "Z8E37UJTNqtg"
   },
   "source": [
    "### <font color=\"#CA3532\">Optimización del diseño de la red neuronal</font>\n",
    "\n",
    "- Cambiad la arquitectura de la red neuronal introduciendo más capas y neuronas para conseguir mejores resultados:\n",
    " - Añadid más capas o diferente tipo de capas.\n",
    " - Cambiad las funciones de activación.\n",
    " - Cambiad la función de error o el optimizador.\n",
    "\n",
    "- Utilizad ```tuner``` para la búsqueda de estos hiperparámetros (https://keras.io/keras_tuner/).\n",
    "\n",
    "Para esta parte, tambien se dirige a siguientes notebooks para ver los resultados, puesto que son demasiado largos.\n",
    "Sólo vamos a utilizar la versión OneHotEncoder puesto da mejores resultados tanto en el Train como en el Test.\n",
    "También se usa la ténica de SMOTE + EditedNearestNeighbours ya que genera mejores resultados.\n",
    "\n",
    "- OneHot_MSE [link](Neuro_P3_onehot_mse.ipynb)\n",
    "- OneHot_Entropy [link](Neuro_P3_onehot_entropy.ipynb)\n",
    "\n",
    "Al principio hemos puesto un número aleatorio de 1 a 100 neuronas para cada capa, pero hemos dado cuenta de que esto no funciona para nada, para ello, hemos decidido siguientes configuraciones para probar.\n",
    "- 1 capa\n",
    "    - hp.Int('units', 5, 40)\n",
    "- 2 capas\n",
    "    - hp.Int('units', 5, 40)\n",
    "    - hp.Int('units', 4, 20)\n",
    "- 3 capas\n",
    "    - hp.Int('units', 5, 40)\n",
    "    - hp.Int('units', 4, 20)\n",
    "    - hp.Int('units', 3, 10)\n",
    "- 4 capas\n",
    "    - hp.Int('units', 5, 40)\n",
    "    - hp.Int('units', 4, 20)\n",
    "    - hp.Int('units', 3, 10)\n",
    "    - hp.Int('units', 2, 5)\n",
    "\n",
    "La idea de esto es que primero vamos a intentar llevar a un espacio de dimensión mayor y luego poco a poco reduciendo esta dimensión. Como esto es aletorio, también estaremos buscando una red que puede aumentar dimensión, luego bajar, luego aumentar etc. Con todo esto, intentaremos buscar una red que maximice F1-score de clase 0, en el caso de empate, se busca un mejor weighted avg de F1-score."
   ]
  },
  {
   "cell_type": "markdown",
   "metadata": {
    "id": "NnY8rX6HzZXU"
   },
   "source": [
    "### <font color=\"#CA3532\">Diseño final de la red neuronal</font>\n",
    "Define ahora tu modelo final y muestra los resultados de su evaluación."
   ]
  },
  {
   "cell_type": "code",
   "execution_count": 1,
   "metadata": {},
   "outputs": [
    {
     "name": "stderr",
     "output_type": "stream",
     "text": [
      "C:\\Users\\30386\\AppData\\Local\\Temp/ipykernel_6448/2207880746.py:1: DeprecationWarning: `import kerastuner` is deprecated, please use `import keras_tuner`.\n",
      "  from kerastuner.tuners import RandomSearch\n"
     ]
    }
   ],
   "source": [
    "from kerastuner.tuners import RandomSearch\n",
    "\n",
    "import numpy as np\n",
    "import matplotlib.pyplot as plt\n",
    "import tensorflow as tf\n",
    "from tensorflow import keras\n",
    "import keras as k\n",
    "from keras.models import Sequential\n",
    "from keras.layers import Dense\n",
    "from sklearn.metrics import classification_report, confusion_matrix\n",
    "import json\n",
    "from sklearn.metrics import f1_score\n",
    "import imblearn\n",
    "from imblearn.under_sampling import RandomUnderSampler\n",
    "from imblearn.under_sampling import EditedNearestNeighbours\n",
    "from imblearn.under_sampling import TomekLinks\n",
    "from imblearn.over_sampling import RandomOverSampler\n",
    "from imblearn.over_sampling import ADASYN\n",
    "from imblearn.over_sampling import SMOTE\n",
    "from imblearn.combine import SMOTETomek\n",
    "from imblearn.combine import SMOTEENN\n",
    "from collections import Counter\n",
    "from sklearn.metrics import f1_score"
   ]
  },
  {
   "cell_type": "markdown",
   "metadata": {},
   "source": [
    "### Usar GPU en el caso de estar instalado"
   ]
  },
  {
   "cell_type": "code",
   "execution_count": 2,
   "metadata": {},
   "outputs": [],
   "source": [
    "gpu_devices = tf.config.experimental.list_physical_devices('GPU')\n",
    "for device in gpu_devices:\n",
    "    tf.config.experimental.set_memory_growth(device, True)"
   ]
  },
  {
   "cell_type": "markdown",
   "metadata": {},
   "source": [
    "### Importar datos + eliminación de columna + separación de atributo + Onehot"
   ]
  },
  {
   "cell_type": "code",
   "execution_count": 37,
   "metadata": {},
   "outputs": [],
   "source": [
    "dataset_url = 'https://www.openml.org/data/get_csv/4965303/flare.arff' \n",
    "dataset = np.genfromtxt(dataset_url, delimiter=',', skip_header=1)\n",
    "\n",
    "x = dataset[:,:-4]\n",
    "x_size = x.shape[1]\n",
    "y = dataset[:,-1]"
   ]
  },
  {
   "cell_type": "code",
   "execution_count": 38,
   "metadata": {},
   "outputs": [
    {
     "data": {
      "text/plain": [
       "(1066, 17)"
      ]
     },
     "execution_count": 38,
     "metadata": {},
     "output_type": "execute_result"
    }
   ],
   "source": [
    "from sklearn.preprocessing import OneHotEncoder\n",
    "from sklearn.compose import ColumnTransformer\n",
    "\n",
    "ct = ColumnTransformer([(\"columns\", OneHotEncoder(), [0,1])], remainder = 'passthrough')\n",
    "x = ct.fit_transform(x)\n",
    "x.shape"
   ]
  },
  {
   "cell_type": "code",
   "execution_count": 39,
   "metadata": {},
   "outputs": [],
   "source": [
    "# Contrucción de los conjuntos de entrenamiento y validación\n",
    "\n",
    "from sklearn.model_selection import train_test_split\n",
    "\n",
    "x_train, x_val, y_train, y_val = train_test_split(x, y, stratify=y, test_size=0.2) "
   ]
  },
  {
   "cell_type": "code",
   "execution_count": 40,
   "metadata": {},
   "outputs": [
    {
     "name": "stdout",
     "output_type": "stream",
     "text": [
      "Counter({0.0: 456, 1.0: 364})\n"
     ]
    }
   ],
   "source": [
    "smoteen = SMOTEENN()\n",
    "X_ajust_train, y_ajust_train = smoteen.fit_resample(x_train, y_train)\n",
    "print(Counter(y_ajust_train))"
   ]
  },
  {
   "cell_type": "markdown",
   "metadata": {},
   "source": [
    "### Construir Red\n",
    "TODO: esperar encontar mejores, tambien depende mucho de train_test_split"
   ]
  },
  {
   "cell_type": "code",
   "execution_count": 45,
   "metadata": {},
   "outputs": [],
   "source": [
    "# Definid el modelo con Keras\n",
    "\n",
    "nn_final = Sequential()\n",
    "nn_final.add(Dense(11, activation=\"relu\"))\n",
    "nn_final.add(Dense(7, activation=\"relu\"))\n",
    "nn_final.add(Dense(1, activation=\"sigmoid\"))"
   ]
  },
  {
   "cell_type": "code",
   "execution_count": 52,
   "metadata": {},
   "outputs": [],
   "source": [
    "# Compilación\n",
    "\n",
    "### -------------------------------------------------------------------------------\n",
    "### Compilad vuestro modelo de red neuronal\n",
    "### -------------------------------------------------------------------------------\n",
    "\n",
    "metrics = [\n",
    "            #keras.metrics.TruePositives(name='tp'),\n",
    "            #keras.metrics.FalsePositives(name='fp'),\n",
    "            #keras.metrics.TrueNegatives(name='tn'),\n",
    "            #keras.metrics.FalseNegatives(name='fn'),\n",
    "            keras.metrics.BinaryAccuracy(name='ACC'),\n",
    "            keras.metrics.Precision(name='Prec'),\n",
    "            keras.metrics.Recall(name='Rec'),\n",
    "            keras.metrics.AUC(name='AUC'),\n",
    "            #keras.metrics.AUC(name='PRC', curve='PR'),\n",
    "          ]\n",
    "\n",
    "nn_final.compile(optimizer=keras.optimizers.Adam(learning_rate=0.01), loss=\"binary_crossentropy\",  metrics=metrics)"
   ]
  },
  {
   "cell_type": "code",
   "execution_count": 53,
   "metadata": {
    "id": "QeHeod2g2oHh"
   },
   "outputs": [],
   "source": [
    "from sklearn.metrics import classification_report, confusion_matrix\n",
    "\n",
    "def show_metrics(history):\n",
    "    for metric in history.history.keys():\n",
    "        if not metric.startswith('val_'):\n",
    "            plt.plot(history.history[metric], label=metric)\n",
    "            plt.plot(history.history[f'val_{metric}'], label=f'val_{metric}')\n",
    "            plt.title(metric)\n",
    "            plt.ylabel('')\n",
    "            plt.xlabel('Epoch')\n",
    "            plt.legend(loc=\"upper left\")\n",
    "            plt.show()"
   ]
  },
  {
   "cell_type": "code",
   "execution_count": 54,
   "metadata": {},
   "outputs": [
    {
     "name": "stdout",
     "output_type": "stream",
     "text": [
      "Model: \"sequential_4\"\n",
      "_________________________________________________________________\n",
      " Layer (type)                Output Shape              Param #   \n",
      "=================================================================\n",
      " dense_8 (Dense)             (None, 11)                198       \n",
      "                                                                 \n",
      " dense_9 (Dense)             (None, 7)                 84        \n",
      "                                                                 \n",
      " dense_10 (Dense)            (None, 1)                 8         \n",
      "                                                                 \n",
      "=================================================================\n",
      "Total params: 290\n",
      "Trainable params: 290\n",
      "Non-trainable params: 0\n",
      "_________________________________________________________________\n",
      "\n",
      "\n",
      "\n"
     ]
    },
    {
     "data": {
      "image/png": "[encoded data removed]",
      "text/plain": [
       "<Figure size 432x288 with 1 Axes>"
      ]
     },
     "metadata": {
      "needs_background": "light"
     },
     "output_type": "display_data"
    },
    {
     "data": {
      "image/png": "[encoded data removed]",
      "text/plain": [
       "<Figure size 432x288 with 1 Axes>"
      ]
     },
     "metadata": {
      "needs_background": "light"
     },
     "output_type": "display_data"
    },
    {
     "data": {
      "image/png": "[encoded data removed]",
      "text/plain": [
       "<Figure size 432x288 with 1 Axes>"
      ]
     },
     "metadata": {
      "needs_background": "light"
     },
     "output_type": "display_data"
    },
    {
     "data": {
      "image/png": "[encoded data removed]",
      "text/plain": [
       "<Figure size 432x288 with 1 Axes>"
      ]
     },
     "metadata": {
      "needs_background": "light"
     },
     "output_type": "display_data"
    },
    {
     "data": {
      "image/png": "[encoded data removed]",
      "text/plain": [
       "<Figure size 432x288 with 1 Axes>"
      ]
     },
     "metadata": {
      "needs_background": "light"
     },
     "output_type": "display_data"
    },
    {
     "name": "stdout",
     "output_type": "stream",
     "text": [
      "[[163  14]\n",
      " [ 30   7]]\n",
      "              precision    recall  f1-score   support\n",
      "\n",
      "         0.0       0.84      0.92      0.88       177\n",
      "         1.0       0.33      0.19      0.24        37\n",
      "\n",
      "    accuracy                           0.79       214\n",
      "   macro avg       0.59      0.56      0.56       214\n",
      "weighted avg       0.76      0.79      0.77       214\n",
      "\n"
     ]
    }
   ],
   "source": [
    "# Entrenamiento\n",
    "\n",
    "epochs = 75\n",
    "\n",
    "history = nn_final.fit(x_train, y_train, epochs=epochs, verbose=0, validation_data=(x_val, y_val))\n",
    "\n",
    "# Predicciones del conjunto de evaluación\n",
    "\n",
    "y_pred = nn_final.predict(x_val)\n",
    "y_pred = y_pred > 0.5\n",
    "\n",
    "# Detalles de la red neuronal\n",
    "\n",
    "nn_final.summary()\n",
    "print('\\n\\n')\n",
    "\n",
    "# Visualización de las métricas \n",
    "\n",
    "show_metrics(history)\n",
    "\n",
    "# Matriz de confusión\n",
    "\n",
    "print(confusion_matrix(y_val, y_pred))\n",
    "\n",
    "# Observa la medida macro-f1 del siguiente informe\n",
    "\n",
    "print(classification_report(y_val, y_pred, zero_division=0))\n"
   ]
  },
  {
   "cell_type": "markdown",
   "metadata": {},
   "source": [
    "### Resultado y el motivo de esta elección"
   ]
  },
  {
   "cell_type": "code",
   "execution_count": null,
   "metadata": {},
   "outputs": [],
   "source": []
  }
 ],
 "metadata": {
  "accelerator": "TPU",
  "colab": {
   "collapsed_sections": [],
   "name": "Neuro_P3.ipynb",
   "provenance": []
  },
  "kernelspec": {
   "display_name": "Python 3 (ipykernel)",
   "language": "python",
   "name": "python3"
  },
  "language_info": {
   "codemirror_mode": {
    "name": "ipython",
    "version": 3
   },
   "file_extension": ".py",
   "mimetype": "text/x-python",
   "name": "python",
   "nbconvert_exporter": "python",
   "pygments_lexer": "ipython3",
   "version": "3.8.12"
  },
  "latex_envs": {
   "LaTeX_envs_menu_present": true,
   "autoclose": true,
   "autocomplete": true,
   "bibliofile": "biblio.bib",
   "cite_by": "apalike",
   "current_citInitial": 1,
   "eqLabelWithNumbers": true,
   "eqNumInitial": 1,
   "hotkeys": {
    "equation": "Ctrl-E",
    "itemize": "Ctrl-I"
   },
   "labels_anchors": false,
   "latex_user_defs": false,
   "report_style_numbering": false,
   "user_envs_cfg": false
  }
 },
 "nbformat": 4,
 "nbformat_minor": 1
}
