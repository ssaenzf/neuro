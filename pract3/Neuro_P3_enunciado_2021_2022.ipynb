{
 "cells": [
  {
   "cell_type": "markdown",
   "metadata": {
    "id": "PTK5XDjA81SI"
   },
   "source": [
    "---\n",
    "# <font color=\"#CA3532\">Práctica 3 de Neurocomputación</font>\n",
    "### Curso 2021-2022\n",
    "### Escuela Politécnica Superior – Universidad Autónoma de Madrid\n",
    "\n",
    "---\n",
    "\n",
    "Fechas de entrega:\n",
    "- Grupo 2462: lunes 16 de mayo de 2022\n",
    "- Grupo 2461: martes 17 de mayo de 2022\n",
    "\n",
    "---\n",
    "\n",
    "Última actualización: 31-03-2022\n",
    "\n",
    "---"
   ]
  },
  {
   "cell_type": "markdown",
   "metadata": {
    "id": "jqWSLi9F9lTn"
   },
   "source": [
    "*Sesión 1*:\n",
    "\n",
    "- Esta práctica está centrada en [Keras](https://keras.io/).\n",
    "\n",
    "- Keras es una biblioteca de redes neuronales de código abierto, diseñada para la experimentación con redes neuronales profundas. Keras es modular, extensible y fácil de usar.\n",
    "\n",
    "- Keras puede usar distintos motores. Aquí se usará con TensorFlow.\n",
    "\n"
   ]
  },
  {
   "cell_type": "code",
   "execution_count": 918,
   "metadata": {
    "id": "d7Wiw7iJCbgi"
   },
   "outputs": [],
   "source": [
    "### Incluid vuestros nombres, pareja y grupo aquí:\n",
    "estudiantes = [{'nombre': 'Zhijie Qian', 'pareja': 'P05', 'grupo': '2461'},\n",
    "               {'nombre': 'Santo Saenz Ferrero', 'pareja': 'P05', 'grupo': '2461'}]\n"
   ]
  },
  {
   "cell_type": "markdown",
   "metadata": {
    "id": "Y7vp1DQU_2KC"
   },
   "source": [
    "### <font color=\"#CA3532\">Importación de bibliotecas</font>\n",
    "\n",
    "TensorFlow 2.0 incluye oficialmente Keras."
   ]
  },
  {
   "cell_type": "code",
   "execution_count": 919,
   "metadata": {
    "id": "oY36uRqOavkU"
   },
   "outputs": [],
   "source": [
    "# Importaciones\n",
    "\n",
    "import numpy as np\n",
    "import matplotlib.pyplot as plt\n",
    "\n",
    "import tensorflow as tf\n",
    "from tensorflow import keras\n",
    "\n",
    "import keras as k\n",
    "from keras.models import Sequential\n",
    "from keras.layers import Dense"
   ]
  },
  {
   "cell_type": "markdown",
   "metadata": {
    "id": "a4vpTFrKAfG-"
   },
   "source": [
    "### <font color=\"#CA3532\">Datos del problema</font>\n",
    "\n",
    "El problema consiste en predecir si va a haber una erupción solar (*solar flares*) en ciertas regiones solares en función de las características de la región solar. El conjunto datos y la caracterización de sus atributos puede encontrarse en https://www.openml.org/d/40702. El siguiente fragmento de código permite cargar estos datos."
   ]
  },
  {
   "cell_type": "code",
   "execution_count": 920,
   "metadata": {
    "id": "nH2J34Gfbv_C"
   },
   "outputs": [],
   "source": [
    "dataset_url = 'https://www.openml.org/data/get_csv/4965303/flare.arff' \n",
    "\n",
    "dataset = np.genfromtxt(dataset_url, delimiter=',', skip_header=1)\n",
    "\n",
    "### -------------------------------------------------------------------------------\n",
    "### Dividid los ejemplos en atributos y clases. Guardad el número de atributos.\n",
    "### -------------------------------------------------------------------------------\n",
    "\n",
    "x = dataset[:,:-1]\n",
    "x_size = x.shape[1]\n",
    "y = dataset[:,-1]"
   ]
  },
  {
   "cell_type": "code",
   "execution_count": 921,
   "metadata": {
    "id": "6bhpFdYNCVKk"
   },
   "outputs": [
    {
     "name": "stdout",
     "output_type": "stream",
     "text": [
      "Ejemplo 0: [5. 4. 3. 1. 3. 1. 1. 2. 1. 1.] 0.0\n",
      "Atributos: 10\n",
      "Clases: [0. 1.]\n",
      "Recuento de clases: 884 182\n",
      "Examplos: 1066\n"
     ]
    }
   ],
   "source": [
    "# Resultados de la división y el número de atributos\n",
    "\n",
    "print('Ejemplo 0:', x[0], y[1])\n",
    "print('Atributos:', x_size)\n",
    "print('Clases:', np.unique(y))\n",
    "print('Recuento de clases:', y.tolist().count(0), y.tolist().count(1))\n",
    "print('Examplos:', len(x))"
   ]
  },
  {
   "cell_type": "code",
   "execution_count": 922,
   "metadata": {
    "id": "5oBLBAWR7N92"
   },
   "outputs": [
    {
     "data": {
      "image/png": "[encoded data removed]",
      "text/plain": [
       "<Figure size 432x288 with 12 Axes>"
      ]
     },
     "metadata": {
      "needs_background": "light"
     },
     "output_type": "display_data"
    }
   ],
   "source": [
    "# create pairwise scatter plots of numeric input variables\n",
    "from pandas import read_csv\n",
    "from pandas import DataFrame\n",
    "from pandas.plotting import scatter_matrix\n",
    "from matplotlib import pyplot\n",
    "\n",
    "# load the csv file as a data frame\n",
    "df = read_csv(dataset_url, header=1)\n",
    "\n",
    "# histograms of all variables \n",
    "df.hist()\n",
    "pyplot.show()"
   ]
  },
  {
   "cell_type": "code",
   "execution_count": 923,
   "metadata": {},
   "outputs": [
    {
     "name": "stdout",
     "output_type": "stream",
     "text": [
      "    5  4  3  1  3.1  1.1  1.2  2  1.3  1.4  0\n",
      "0   1  3  1  1    2    1    1  2    1    1  0\n",
      "1   2  3  2  1    3    1    1  2    1    1  1\n",
      "2   5  4  3  2    2    1    2  2    1    1  0\n",
      "3   1  4  2  1    3    1    1  2    1    1  0\n",
      "4   1  4  2  1    2    1    2  2    1    1  0\n",
      "5   2  2  1  1    3    1    2  2    1    1  0\n",
      "6   2  3  2  1    3    1    1  2    1    1  0\n",
      "7   0  5  2  1    2    1    1  2    1    1  0\n",
      "8   2  1  2  1    2    1    2  2    1    1  0\n",
      "9   3  0  1  2    2    1    2  2    1    1  0\n",
      "10  2  0  1  2    3    1    2  2    1    1  0\n",
      "11  1  4  2  1    3    1    1  2    1    1  0\n",
      "12  1  3  2  1    2    1    2  2    1    1  0\n",
      "13  5  4  3  1    2    1    1  2    1    1  0\n",
      "14  2  4  2  1    3    1    1  2    1    1  1\n",
      "15  2  0  1  1    3    1    2  2    1    1  0\n",
      "16  3  4  1  1    2    1    2  2    1    1  0\n",
      "17  1  3  2  1    3    1    1  2    1    1  0\n",
      "18  5  4  3  1    1    1    2  2    1    1  0\n",
      "19  5  3  3  1    1    1    1  2    1    1  1\n"
     ]
    }
   ],
   "source": [
    "print(df.head(20))"
   ]
  },
  {
   "cell_type": "code",
   "execution_count": 924,
   "metadata": {},
   "outputs": [
    {
     "name": "stdout",
     "output_type": "stream",
     "text": [
      "                 5            4            3            1          3.1  \\\n",
      "count  1065.000000  1065.000000  1065.000000  1065.000000  1065.000000   \n",
      "mean      2.625352     2.957746     2.034742     1.153991     2.400939   \n",
      "std       1.844397     1.703904     0.806293     0.361109     0.620604   \n",
      "min       0.000000     0.000000     0.000000     1.000000     1.000000   \n",
      "25%       1.000000     2.000000     2.000000     1.000000     2.000000   \n",
      "50%       2.000000     4.000000     2.000000     1.000000     2.000000   \n",
      "75%       5.000000     4.000000     3.000000     1.000000     3.000000   \n",
      "max       5.000000     5.000000     3.000000     2.000000     3.000000   \n",
      "\n",
      "               1.1          1.2            2          1.3     1.4            0  \n",
      "count  1065.000000  1065.000000  1065.000000  1065.000000  1065.0  1065.000000  \n",
      "mean      1.059155     1.404695     1.875117     1.025352     1.0     0.170892  \n",
      "std       0.320469     0.491063     0.330741     0.157266     0.0     0.376591  \n",
      "min       1.000000     1.000000     1.000000     1.000000     1.0     0.000000  \n",
      "25%       1.000000     1.000000     2.000000     1.000000     1.0     0.000000  \n",
      "50%       1.000000     1.000000     2.000000     1.000000     1.0     0.000000  \n",
      "75%       1.000000     2.000000     2.000000     1.000000     1.0     0.000000  \n",
      "max       3.000000     2.000000     2.000000     2.000000     1.0     1.000000  \n"
     ]
    }
   ],
   "source": [
    "print(df.describe())"
   ]
  },
  {
   "cell_type": "code",
   "execution_count": 925,
   "metadata": {
    "id": "CHMR1k6adBxU"
   },
   "outputs": [],
   "source": [
    "# Normalizad los datos (si es necesario)\n",
    "# Los datos se encuentran en diferentes intervalos de valores por lo que el modelo puede tender \n",
    "# a ponderar más los datos con rangos de valores mayores, por ello se ha decidico escalar los \n",
    "# datos de la forma que se nos proporciona.\n",
    "from sklearn.preprocessing import StandardScaler\n",
    "scaler = StandardScaler()\n",
    "scaler.fit(x)\n",
    "x = scaler.transform(x)"
   ]
  },
  {
   "cell_type": "code",
   "execution_count": 926,
   "metadata": {},
   "outputs": [
    {
     "name": "stdout",
     "output_type": "stream",
     "text": [
      "(1066, 10)\n"
     ]
    }
   ],
   "source": [
    "print(x.shape)"
   ]
  },
  {
   "cell_type": "markdown",
   "metadata": {
    "id": "QKjVzq5PFAa5"
   },
   "source": [
    "### <font color=\"#CA3532\">Definición del modelo</font>\n",
    "\n",
    "- Cada capa del modelo lleva definidas una serie de propiedades (tamaño, función de activación, conectividad, etc.). \n",
    "\n",
    "- Usaremos el modelo secuencial que Keras para crear una red neuronal multicapa con propagación hacia adelante.\n",
    "\n"
   ]
  },
  {
   "cell_type": "code",
   "execution_count": 927,
   "metadata": {
    "id": "jSiN2kBpfJH2"
   },
   "outputs": [],
   "source": [
    "# Definid el modelo con Keras\n",
    "\n",
    "nn = Sequential()\n",
    "\n",
    "### -------------------------------------------------------------------------------\n",
    "### Añadir la capas completamente conectadas que consideréis al modelo\n",
    "### -------------------------------------------------------------------------------\n",
    "nn.add(Dense(12, activation=\"sigmoid\"))\n",
    "nn.add(Dense(12, activation=\"sigmoid\"))\n",
    "nn.add(Dense(1, activation=\"sigmoid\"))"
   ]
  },
  {
   "cell_type": "markdown",
   "metadata": {
    "id": "XYS0uGZZjLqA"
   },
   "source": [
    "### <font color=\"#CA3532\">Compilación de la red neuronal</font>\n",
    "\n",
    "- La compilación es la operación que contruye la red neuronal.\n",
    "\n",
    "- La compilación incluye aspectos que se tendrán en cuenta en el entrenamiento de la red neuronal.\n",
    "\n",
    "- En la secciones de abajo encontraréis enlaces a la documentación oficial donde podréis encontrar información sobre las distintas estrategias de cada uno de los aspectos.\n",
    "\n",
    "- También es posible definid vuestras propias funciones.\n",
    "\n",
    "#### <font color=\"#CA3532\">Optimizador</font>\n",
    "\n",
    "El optimizador es la estrategia para calcular las correcciones de los pesos.\n",
    "\n",
    "https://keras.io/api/optimizers/\n",
    "\n",
    "\n",
    "#### <font color=\"#CA3532\"> Función de error (*Loss function*)</font>\n",
    "\n",
    "La función de error calcula la cantidad que el modelo debe minimizar durante el entrenamiento.\n",
    "\n",
    "https://keras.io/api/losses/\n",
    "\n",
    "#### <font color=\"#CA3532\">Métricas</font>\n",
    "\n",
    "Una métrica es una función que juzga la actuación del modelo. Son funciones similares a las funciones de error pero, a diferencia de estas, no se aplican durante el entrenamiento, sino sobre los resultados. Aprende al menos el significado y las diferencias de las métricas *accuracy*, *precision*, *recall* y *AUC*. También pueden usarse las funciones de error como metricas.\n",
    "\n",
    "https://keras.io/api/metrics/"
   ]
  },
  {
   "cell_type": "code",
   "execution_count": 928,
   "metadata": {
    "id": "tU7t0cyMf-pL"
   },
   "outputs": [],
   "source": [
    "# Compilación\n",
    "\n",
    "### -------------------------------------------------------------------------------\n",
    "### Compilad vuestro modelo de red neuronal\n",
    "### -------------------------------------------------------------------------------\n",
    "\n",
    "metrics = [\n",
    "            #keras.metrics.TruePositives(name='tp'),\n",
    "            #keras.metrics.FalsePositives(name='fp'),\n",
    "            #keras.metrics.TrueNegatives(name='tn'),\n",
    "            #keras.metrics.FalseNegatives(name='fn'),\n",
    "            keras.metrics.BinaryAccuracy(name='ACC'),\n",
    "            keras.metrics.Precision(name='Prec'),\n",
    "            keras.metrics.Recall(name='Rec'),\n",
    "            keras.metrics.AUC(name='AUC'),\n",
    "            #keras.metrics.AUC(name='PRC', curve='PR'),\n",
    "          ]\n",
    "\n",
    "nn.compile(optimizer='SGD', loss=\"mse\", metrics=metrics)\n",
    "# nn.compile(optimizer='Adam', loss=\"binary_crossentropy\", metrics=metrics)"
   ]
  },
  {
   "cell_type": "markdown",
   "metadata": {
    "id": "7dRac4W1t69B"
   },
   "source": [
    "### <font color=\"#CA3532\">Conjuntos de entrenamiento y validación</font>\n",
    "\n",
    "Usaremos el 80 % de los datos para entrenamiento y el 20 % para validación. Usaremos también la técnica de muestreo estratificado (también están permitidas otras formas de validación). Averigua qué es y para qué sirve."
   ]
  },
  {
   "cell_type": "code",
   "execution_count": 929,
   "metadata": {
    "id": "QA3AW4y7j_Ar"
   },
   "outputs": [
    {
     "data": {
      "text/plain": [
       "'\\nA partir de la técnica de muestreo estratificado los datos se dividen por una característica \\ncomún, en este caso por la clase objetivo, por ello los datos se obtienen en train y validación \\nde forma equilibrada teniendo en ambos proporcion especificada por test_size para cada clase objetivo\\n'"
      ]
     },
     "execution_count": 929,
     "metadata": {},
     "output_type": "execute_result"
    }
   ],
   "source": [
    "# Contrucción de los conjuntos de entrenamiento y validación\n",
    "\n",
    "from sklearn.model_selection import train_test_split\n",
    "\n",
    "x_train, x_val, y_train, y_val = train_test_split(x, y, stratify=y, test_size=0.2) \n",
    "\"\"\"\n",
    "A partir de la técnica de muestreo estratificado los datos se dividen por una característica \n",
    "común, en este caso por la clase objetivo, por ello los datos se obtienen en train y validación \n",
    "de forma equilibrada teniendo en ambos proporcion especificada por test_size para cada clase objetivo\n",
    "\"\"\""
   ]
  },
  {
   "cell_type": "markdown",
   "metadata": {
    "id": "dDFUBCUVugVj"
   },
   "source": [
    "### <font color=\"#CA3532\">Visualización de resultados</font>\n",
    "\n",
    "Para la visualización de los resultados utilizaremos gráficas con la evolución de la función de pérdida y las métricas en cada época del entrenamiento, tanto para los datos de entrenamiento como para los de validación.\n",
    "\n",
    "También obtendremos la matriz de confusión y alguna métricas sobre cada clase del problema. Observaremos especialmente la medida macro-F1."
   ]
  },
  {
   "cell_type": "code",
   "execution_count": 930,
   "metadata": {
    "id": "6pgKzRcysRwv"
   },
   "outputs": [],
   "source": [
    "from sklearn.metrics import classification_report, confusion_matrix\n",
    "\n",
    "def show_metrics(history):\n",
    "    for metric in history.history.keys():\n",
    "        if not metric.startswith('val_'):\n",
    "            plt.plot(history.history[metric], label=metric)\n",
    "            plt.plot(history.history[f'val_{metric}'], label=f'val_{metric}')\n",
    "            plt.title(metric)\n",
    "            plt.ylabel('')\n",
    "            plt.xlabel('Epoch')\n",
    "            plt.legend(loc=\"upper left\")\n",
    "            plt.show()"
   ]
  },
  {
   "cell_type": "markdown",
   "metadata": {
    "id": "x-rNfZzqINgY"
   },
   "source": [
    "### <font color=\"#CA3532\">Entrenamiento de la red neuronal y evaluación</font>\n",
    "\n",
    "El método \"fit\" entrena una red neuronal con los datos que se le proporcionen.\n",
    "\n",
    "https://keras.io/api/models/model_training_apis/#fit-method"
   ]
  },
  {
   "cell_type": "code",
   "execution_count": 931,
   "metadata": {
    "id": "iEhDqXzLIISj"
   },
   "outputs": [
    {
     "name": "stdout",
     "output_type": "stream",
     "text": [
      "Model: \"sequential_1\"\n",
      "_________________________________________________________________\n",
      " Layer (type)                Output Shape              Param #   \n",
      "=================================================================\n",
      " dense_3 (Dense)             (None, 12)                132       \n",
      "                                                                 \n",
      " dense_4 (Dense)             (None, 12)                156       \n",
      "                                                                 \n",
      " dense_5 (Dense)             (None, 1)                 13        \n",
      "                                                                 \n",
      "=================================================================\n",
      "Total params: 301\n",
      "Trainable params: 301\n",
      "Non-trainable params: 0\n",
      "_________________________________________________________________\n",
      "\n",
      "\n",
      "\n"
     ]
    },
    {
     "data": {
      "image/png": "[encoded data removed]",
      "text/plain": [
       "<Figure size 432x288 with 1 Axes>"
      ]
     },
     "metadata": {
      "needs_background": "light"
     },
     "output_type": "display_data"
    },
    {
     "data": {
      "image/png": "[encoded data removed]",
      "text/plain": [
       "<Figure size 432x288 with 1 Axes>"
      ]
     },
     "metadata": {
      "needs_background": "light"
     },
     "output_type": "display_data"
    },
    {
     "data": {
      "image/png": "[encoded data removed]",
      "text/plain": [
       "<Figure size 432x288 with 1 Axes>"
      ]
     },
     "metadata": {
      "needs_background": "light"
     },
     "output_type": "display_data"
    },
    {
     "data": {
      "image/png": "[encoded data removed]",
      "text/plain": [
       "<Figure size 432x288 with 1 Axes>"
      ]
     },
     "metadata": {
      "needs_background": "light"
     },
     "output_type": "display_data"
    },
    {
     "data": {
      "image/png": "[encoded data removed]",
      "text/plain": [
       "<Figure size 432x288 with 1 Axes>"
      ]
     },
     "metadata": {
      "needs_background": "light"
     },
     "output_type": "display_data"
    },
    {
     "name": "stdout",
     "output_type": "stream",
     "text": [
      "[[177   0]\n",
      " [ 37   0]]\n",
      "              precision    recall  f1-score   support\n",
      "\n",
      "         0.0       0.83      1.00      0.91       177\n",
      "         1.0       0.00      0.00      0.00        37\n",
      "\n",
      "    accuracy                           0.83       214\n",
      "   macro avg       0.41      0.50      0.45       214\n",
      "weighted avg       0.68      0.83      0.75       214\n",
      "\n"
     ]
    }
   ],
   "source": [
    "# Entrenamiento\n",
    "\n",
    "epochs = 50\n",
    "\n",
    "history = nn.fit(x_train, y_train, epochs=epochs, verbose=0, validation_data=(x_val, y_val))\n",
    "\n",
    "# Predicciones del conjunto de evaluación\n",
    "\n",
    "y_pred = nn.predict(x_val)\n",
    "y_pred = y_pred > 0.5\n",
    "\n",
    "# Detalles de la red neuronal\n",
    "\n",
    "nn.summary()\n",
    "print('\\n\\n')\n",
    "\n",
    "# Visualización de las métricas \n",
    "\n",
    "show_metrics(history)\n",
    "\n",
    "# Matriz de confusión\n",
    "\n",
    "print(confusion_matrix(y_val, y_pred))\n",
    "\n",
    "# Observa la medida macro-f1 del siguiente informe\n",
    "\n",
    "print(classification_report(y_val, y_pred, zero_division=0))\n"
   ]
  },
  {
   "cell_type": "markdown",
   "metadata": {
    "id": "zo8KQlCaGEw9"
   },
   "source": [
    "### <font color=\"#CA3532\">Entrenamiento de la red neuronal y evaluación</font>\n",
    "Como podrás haber observado en problema no está balanceado (o está bastante desequilibrado), porque el número de ejemplos de cada clase es muy diferente."
   ]
  },
  {
   "cell_type": "markdown",
   "metadata": {
    "id": "amDlvLOgHw2J"
   },
   "source": [
    "Existen varias técnicas para abortar este tipo de problemas. Una de ellas consiste seleccionar un subconjunto de datos equilibrados en el que las dos clases esten representadas en la misma proporción.\n"
   ]
  },
  {
   "cell_type": "code",
   "execution_count": 932,
   "metadata": {},
   "outputs": [],
   "source": [
    "# En este caso de encima, el dataset se divide en dos subconjuntos con la misma proporción para sus distintas clases\n",
    "from sklearn.model_selection import StratifiedKFold, KFold\n",
    "skf = StratifiedKFold(n_splits=2)\n",
    "skf.get_n_splits(x, y)\n",
    "for train_index, test_index in skf.split(x, y):\n",
    "    #print(\"TRAIN:\", train_index, \"TEST:\", test_index)\n",
    "    X_train, X_test = x[train_index], x[test_index]\n",
    "    y_train, y_test = y[train_index], y[test_index]"
   ]
  },
  {
   "cell_type": "code",
   "execution_count": 933,
   "metadata": {},
   "outputs": [],
   "source": [
    "# En este caso además de dividir el dataset en 5 subconjutnos con la misma proporción de clases, los datos se han \n",
    "# mezclado para que los datos de cada subconjunto no tengan porque estar ordenados secuencialmente de la forma que \n",
    "# venían en su dataset\n",
    "from sklearn.model_selection import StratifiedShuffleSplit\n",
    "sss = StratifiedShuffleSplit(n_splits=5, test_size=0.2, random_state=0)\n",
    "for train_index, test_index in sss.split(x, y):\n",
    "    X_train, X_test = x[train_index], x[test_index]\n",
    "    y_train, y_test = y[train_index], y[test_index]"
   ]
  },
  {
   "cell_type": "code",
   "execution_count": 934,
   "metadata": {
    "id": "rhdYlNseGFh0"
   },
   "outputs": [],
   "source": [
    "### -------------------------------------------------------------------------------\n",
    "### Assigna diferentes pesos a cada una de las clases\n",
    "### -------------------------------------------------------------------------------\n",
    "# Se hara solo u split para conseguir una division de los datos porporcional en cuanto al numero de clases a obtener\n",
    "# en el conjunto de train y de test, no hacen falta más divisiones, si se hicieran más se desaprovecharía datos. \n",
    "# Por otra parte se utilizará randomized para que los datos en cada subconjunto no estén ordenados secuencialmente.\n",
    "from sklearn.model_selection import StratifiedShuffleSplit\n",
    "sss = StratifiedShuffleSplit(n_splits=1, test_size=0.2, random_state=0)\n",
    "for train_index, test_index in sss.split(x, y):\n",
    "    x_train_balanceado, x_val_balanceado = x[train_index], x[test_index]\n",
    "    y_train_balanceado, y_val_balanceado = y[train_index], y[test_index]\n",
    "\n",
    "# Debido a que la proporcion de datos segun la clase es de 177/37 a favor de la clase 0, con el fin de que el modelo no\n",
    "# sobre estime para la clase 0 se le dará a la clase 0 un valor 1 y a la clase 1 un valor 177/37 que aproximadamente deberñia\n",
    "# ser un valor óptimo para el peso de esta clase\n",
    "class_weights = { 0 : 0.206 , 1 : 177/37}"
   ]
  },
  {
   "cell_type": "code",
   "execution_count": 935,
   "metadata": {},
   "outputs": [
    {
     "name": "stdout",
     "output_type": "stream",
     "text": [
      "707 177\n",
      "145 37\n"
     ]
    }
   ],
   "source": [
    "print(y_train_balanceado.tolist().count(0), y_val_balanceado.tolist().count(0))\n",
    "print(y_train_balanceado.tolist().count(1), y_val_balanceado.tolist().count(1))\n",
    "# Balanceado siendo la validacion 20% y train 80%"
   ]
  },
  {
   "cell_type": "markdown",
   "metadata": {
    "id": "WFXPn9gEIqCa"
   },
   "source": [
    "Vuelve a entrenar con este nuevo conjunto de datos y observa como varía el resultado de la matriz de confusión. Si es posible, intenta conseguir un modelo mejor y describe los resultados alcanzados."
   ]
  },
  {
   "cell_type": "code",
   "execution_count": 936,
   "metadata": {
    "id": "q6Q365wEIhQg"
   },
   "outputs": [
    {
     "name": "stdout",
     "output_type": "stream",
     "text": [
      "Model: \"sequential_1\"\n",
      "_________________________________________________________________\n",
      " Layer (type)                Output Shape              Param #   \n",
      "=================================================================\n",
      " dense_3 (Dense)             (None, 12)                132       \n",
      "                                                                 \n",
      " dense_4 (Dense)             (None, 12)                156       \n",
      "                                                                 \n",
      " dense_5 (Dense)             (None, 1)                 13        \n",
      "                                                                 \n",
      "=================================================================\n",
      "Total params: 301\n",
      "Trainable params: 301\n",
      "Non-trainable params: 0\n",
      "_________________________________________________________________\n",
      "\n",
      "\n",
      "\n",
      "[[0.8135359 ]\n",
      " [0.8137009 ]\n",
      " [0.82021356]\n",
      " [0.8127833 ]\n",
      " [0.82021356]\n",
      " [0.8157928 ]\n",
      " [0.81381977]\n",
      " [0.8157207 ]\n",
      " [0.8147751 ]\n",
      " [0.81382763]\n",
      " [0.8077593 ]\n",
      " [0.8148954 ]\n",
      " [0.8244077 ]\n",
      " [0.81379735]\n",
      " [0.8193105 ]\n",
      " [0.8077593 ]\n",
      " [0.8198946 ]\n",
      " [0.81381977]\n",
      " [0.8136904 ]\n",
      " [0.8144865 ]\n",
      " [0.81401914]\n",
      " [0.8071389 ]\n",
      " [0.8159883 ]\n",
      " [0.8247992 ]\n",
      " [0.82021356]\n",
      " [0.81556135]\n",
      " [0.81385493]\n",
      " [0.8135811 ]\n",
      " [0.80985683]\n",
      " [0.81109047]\n",
      " [0.8197263 ]\n",
      " [0.8197263 ]\n",
      " [0.80842423]\n",
      " [0.8077593 ]\n",
      " [0.8151076 ]\n",
      " [0.8085172 ]\n",
      " [0.8157207 ]\n",
      " [0.8135811 ]\n",
      " [0.8163322 ]\n",
      " [0.81381977]\n",
      " [0.8198946 ]\n",
      " [0.8197263 ]\n",
      " [0.8072355 ]\n",
      " [0.8188205 ]\n",
      " [0.8075148 ]\n",
      " [0.8197263 ]\n",
      " [0.8131918 ]\n",
      " [0.8157928 ]\n",
      " [0.82494473]\n",
      " [0.81573397]\n",
      " [0.8198483 ]\n",
      " [0.81293   ]\n",
      " [0.8148491 ]\n",
      " [0.81573397]\n",
      " [0.8163322 ]\n",
      " [0.8145374 ]\n",
      " [0.8168372 ]\n",
      " [0.81385493]\n",
      " [0.80847424]\n",
      " [0.82494473]\n",
      " [0.8247992 ]\n",
      " [0.8182819 ]\n",
      " [0.81278324]\n",
      " [0.81293   ]\n",
      " [0.8157207 ]\n",
      " [0.82021356]\n",
      " [0.8140913 ]\n",
      " [0.8077593 ]\n",
      " [0.81937957]\n",
      " [0.81940925]\n",
      " [0.8197068 ]\n",
      " [0.80842423]\n",
      " [0.8109943 ]\n",
      " [0.8077593 ]\n",
      " [0.8085172 ]\n",
      " [0.8198946 ]\n",
      " [0.80842423]\n",
      " [0.8197263 ]\n",
      " [0.8247992 ]\n",
      " [0.80842423]\n",
      " [0.80767894]\n",
      " [0.8181156 ]\n",
      " [0.81966156]\n",
      " [0.82021356]\n",
      " [0.815789  ]\n",
      " [0.8157207 ]\n",
      " [0.81406015]\n",
      " [0.8200815 ]\n",
      " [0.8147644 ]\n",
      " [0.8075148 ]\n",
      " [0.8140913 ]\n",
      " [0.8197263 ]\n",
      " [0.81209433]\n",
      " [0.81379735]\n",
      " [0.8087652 ]\n",
      " [0.8193923 ]\n",
      " [0.8142012 ]\n",
      " [0.8142012 ]\n",
      " [0.81913114]\n",
      " [0.8247992 ]\n",
      " [0.8200815 ]\n",
      " [0.8244077 ]\n",
      " [0.81940925]\n",
      " [0.8247992 ]\n",
      " [0.8188205 ]\n",
      " [0.81061435]\n",
      " [0.8197263 ]\n",
      " [0.8200815 ]\n",
      " [0.80814016]\n",
      " [0.8140913 ]\n",
      " [0.81940925]\n",
      " [0.81381977]\n",
      " [0.82494473]\n",
      " [0.8181156 ]\n",
      " [0.81898713]\n",
      " [0.8135673 ]\n",
      " [0.8187954 ]\n",
      " [0.8163322 ]\n",
      " [0.8198483 ]\n",
      " [0.8197263 ]\n",
      " [0.8234921 ]\n",
      " [0.8197068 ]\n",
      " [0.8077593 ]\n",
      " [0.8075148 ]\n",
      " [0.8109943 ]\n",
      " [0.81094706]\n",
      " [0.8206533 ]\n",
      " [0.81127954]\n",
      " [0.8136598 ]\n",
      " [0.8116903 ]\n",
      " [0.8200815 ]\n",
      " [0.8197263 ]\n",
      " [0.81382006]\n",
      " [0.81379735]\n",
      " [0.8192597 ]\n",
      " [0.8187954 ]\n",
      " [0.81357956]\n",
      " [0.8197263 ]\n",
      " [0.81357956]\n",
      " [0.81385493]\n",
      " [0.8072355 ]\n",
      " [0.8176142 ]\n",
      " [0.8136598 ]\n",
      " [0.82494473]\n",
      " [0.80831194]\n",
      " [0.81556135]\n",
      " [0.8197263 ]\n",
      " [0.8077593 ]\n",
      " [0.81385493]\n",
      " [0.81728315]\n",
      " [0.8197263 ]\n",
      " [0.81061435]\n",
      " [0.8143368 ]\n",
      " [0.81053096]\n",
      " [0.8137991 ]\n",
      " [0.81456304]\n",
      " [0.8198946 ]\n",
      " [0.82425284]\n",
      " [0.81913114]\n",
      " [0.81379735]\n",
      " [0.81401914]\n",
      " [0.8315204 ]\n",
      " [0.8143559 ]\n",
      " [0.81573397]\n",
      " [0.82425284]\n",
      " [0.8107996 ]\n",
      " [0.81555796]\n",
      " [0.80842423]\n",
      " [0.8197263 ]\n",
      " [0.81847125]\n",
      " [0.8139899 ]\n",
      " [0.81940925]\n",
      " [0.8093914 ]\n",
      " [0.8093257 ]\n",
      " [0.8054246 ]\n",
      " [0.8197263 ]\n",
      " [0.80836743]\n",
      " [0.8144339 ]\n",
      " [0.80444086]\n",
      " [0.80746377]\n",
      " [0.81385493]\n",
      " [0.8144339 ]\n",
      " [0.81940925]\n",
      " [0.81216705]\n",
      " [0.81913114]\n",
      " [0.8197263 ]\n",
      " [0.80842423]\n",
      " [0.8198483 ]\n",
      " [0.8197263 ]\n",
      " [0.81127954]\n",
      " [0.8267857 ]\n",
      " [0.8197068 ]\n",
      " [0.8187954 ]\n",
      " [0.82251227]\n",
      " [0.8140913 ]\n",
      " [0.8197068 ]\n",
      " [0.81937957]\n",
      " [0.815789  ]\n",
      " [0.8155315 ]\n",
      " [0.81401914]\n",
      " [0.8198946 ]\n",
      " [0.8136231 ]\n",
      " [0.81573397]\n",
      " [0.815789  ]\n",
      " [0.81841767]\n",
      " [0.8193923 ]\n",
      " [0.8089373 ]\n",
      " [0.81379735]\n",
      " [0.8197263 ]\n",
      " [0.8200815 ]\n",
      " [0.8192036 ]\n",
      " [0.8077593 ]\n",
      " [0.8157207 ]\n",
      " [0.8197068 ]]\n",
      "              precision    recall  f1-score   support\n",
      "\n",
      "         0.0       0.00      0.00      0.00       177\n",
      "         1.0       0.17      1.00      0.29        37\n",
      "\n",
      "    accuracy                           0.17       214\n",
      "   macro avg       0.09      0.50      0.15       214\n",
      "weighted avg       0.03      0.17      0.05       214\n",
      "\n",
      "[[  0 177]\n",
      " [  0  37]]\n"
     ]
    }
   ],
   "source": [
    "history = nn.fit(x_train_balanceado, y_train_balanceado, epochs=epochs, verbose=0, class_weight=class_weights, validation_data=(x_val_balanceado, y_val_balanceado))\n",
    "\n",
    "# Detalles de la red neuronal\n",
    "\n",
    "nn.summary()\n",
    "print('\\n\\n')\n",
    "\n",
    "y_pred = nn.predict(x_val_balanceado)\n",
    "print(y_pred)\n",
    "y_pred = y_pred > 0.5\n",
    "\n",
    "print(classification_report(y_val_balanceado, y_pred, zero_division=0))\n",
    "\n",
    "print(confusion_matrix(y_val_balanceado, y_pred))\n",
    "# La matriz de confusión en funcion del valor se le de a los pesos tiene una \n",
    "# precisión total para los registros de una clase y precisión nula para la otra clase"
   ]
  },
  {
   "cell_type": "markdown",
   "metadata": {
    "id": "UCtSYvuRvpBy"
   },
   "source": [
    "Otra técnica consiste en asignar un peso a cada clase para que lo tenga en cuenta en algoritmo de entrenamiento.\n",
    "Aprende lo que hace el parámetro ```class_weight``` de ```fit``` (https://keras.io/api/models/model_training_apis/#fit-method) y explícalo."
   ]
  },
  {
   "cell_type": "code",
   "execution_count": 937,
   "metadata": {
    "id": "CJfmolAdkGDY"
   },
   "outputs": [
    {
     "name": "stdout",
     "output_type": "stream",
     "text": [
      "{0: 0.6025459688826026, 1: 2.9379310344827587}\n"
     ]
    }
   ],
   "source": [
    "### -------------------------------------------------------------------------------\n",
    "### Assigna diferentes pesos a cada una de las clases\n",
    "### -------------------------------------------------------------------------------\n",
    "\n",
    "from sklearn.utils import class_weight\n",
    "\n",
    "class_weights = class_weight.compute_class_weight('balanced', classes=np.unique(y_train_balanceado), y=y_train_balanceado)\n",
    "\n",
    "class_weights = {0: class_weights[0], 1: class_weights[1]}\n",
    "\n",
    "print(class_weights)\n",
    "# El modelo para el atributo class_weights lo que hace es mutiplicarlo por el error obtenido en la función de error dependiendo de \n",
    "# la clase objetivo, con el fin de que el optimizador, al computar los errores de ciertas clases de forma mayor, tenderá a minimizar el\n",
    "# error en esas clases si tienen un weight en class_weights alto"
   ]
  },
  {
   "cell_type": "markdown",
   "metadata": {
    "id": "xNJ5dCdTyTBc"
   },
   "source": [
    "Vuelve a entrenar considerando distintos pesos y observa como varía el resultado de la matriz de confusión. Si es posible, intenta conseguir un modelo mejor y describe los resultados alcanzados."
   ]
  },
  {
   "cell_type": "code",
   "execution_count": 938,
   "metadata": {
    "id": "j4hMiyuSkQgK"
   },
   "outputs": [
    {
     "name": "stdout",
     "output_type": "stream",
     "text": [
      "Model: \"sequential_1\"\n",
      "_________________________________________________________________\n",
      " Layer (type)                Output Shape              Param #   \n",
      "=================================================================\n",
      " dense_3 (Dense)             (None, 12)                132       \n",
      "                                                                 \n",
      " dense_4 (Dense)             (None, 12)                156       \n",
      "                                                                 \n",
      " dense_5 (Dense)             (None, 1)                 13        \n",
      "                                                                 \n",
      "=================================================================\n",
      "Total params: 301\n",
      "Trainable params: 301\n",
      "Non-trainable params: 0\n",
      "_________________________________________________________________\n",
      "\n",
      "\n",
      "\n",
      "[[0.5075648 ]\n",
      " [0.5065116 ]\n",
      " [0.4938955 ]\n",
      " [0.49521345]\n",
      " [0.5064566 ]\n",
      " [0.5011777 ]\n",
      " [0.4885501 ]\n",
      " [0.47912097]\n",
      " [0.49483946]\n",
      " [0.50206256]\n",
      " [0.5108307 ]\n",
      " [0.5034348 ]\n",
      " [0.50401074]\n",
      " [0.48128778]\n",
      " [0.4987133 ]\n",
      " [0.48925135]\n",
      " [0.5149227 ]\n",
      " [0.5007137 ]\n",
      " [0.50162417]\n",
      " [0.48128778]\n",
      " [0.48772582]\n",
      " [0.48128778]\n",
      " [0.48128778]\n",
      " [0.49702582]\n",
      " [0.4958831 ]\n",
      " [0.48814178]\n",
      " [0.50508434]\n",
      " [0.49677694]\n",
      " [0.4965458 ]\n",
      " [0.50401074]\n",
      " [0.49521345]\n",
      " [0.4851944 ]\n",
      " [0.50166976]\n",
      " [0.48772582]\n",
      " [0.48589623]\n",
      " [0.51228106]\n",
      " [0.5255547 ]\n",
      " [0.49483946]\n",
      " [0.502669  ]\n",
      " [0.48304302]\n",
      " [0.49493948]\n",
      " [0.5073397 ]\n",
      " [0.49961424]\n",
      " [0.50401074]\n",
      " [0.50513345]\n",
      " [0.49974033]\n",
      " [0.50401074]\n",
      " [0.48716566]\n",
      " [0.5063164 ]\n",
      " [0.49605685]\n",
      " [0.5057763 ]\n",
      " [0.50040567]\n",
      " [0.4958831 ]\n",
      " [0.5115083 ]\n",
      " [0.4938955 ]\n",
      " [0.5063377 ]\n",
      " [0.51255727]\n",
      " [0.50184834]\n",
      " [0.50390965]\n",
      " [0.49483946]\n",
      " [0.5063377 ]\n",
      " [0.48814178]\n",
      " [0.49620017]\n",
      " [0.48716566]\n",
      " [0.50401074]\n",
      " [0.5042334 ]\n",
      " [0.5063164 ]\n",
      " [0.49521345]\n",
      " [0.50401074]\n",
      " [0.48608795]\n",
      " [0.48304302]\n",
      " [0.50401074]\n",
      " [0.5078067 ]\n",
      " [0.48743647]\n",
      " [0.50206256]\n",
      " [0.5042334 ]\n",
      " [0.50498724]\n",
      " [0.50508434]\n",
      " [0.5042334 ]\n",
      " [0.49677694]\n",
      " [0.4892946 ]\n",
      " [0.48883966]\n",
      " [0.48128778]\n",
      " [0.50040567]\n",
      " [0.50925225]\n",
      " [0.47912097]\n",
      " [0.4930115 ]\n",
      " [0.4930115 ]\n",
      " [0.47912097]\n",
      " [0.49961424]\n",
      " [0.50498724]\n",
      " [0.5065116 ]\n",
      " [0.5073397 ]\n",
      " [0.4960386 ]\n",
      " [0.49483946]\n",
      " [0.49605685]\n",
      " [0.49378207]\n",
      " [0.50916195]\n",
      " [0.49521345]\n",
      " [0.50508434]\n",
      " [0.49446684]\n",
      " [0.49223715]\n",
      " [0.48445398]\n",
      " [0.48128778]\n",
      " [0.50392383]\n",
      " [0.4950821 ]\n",
      " [0.49669683]\n",
      " [0.50546104]\n",
      " [0.49521345]\n",
      " [0.5026568 ]\n",
      " [0.50184834]\n",
      " [0.4960459 ]\n",
      " [0.4938955 ]\n",
      " [0.50401074]\n",
      " [0.5078415 ]\n",
      " [0.49755868]\n",
      " [0.49633983]\n",
      " [0.50401074]\n",
      " [0.49521345]\n",
      " [0.5042334 ]\n",
      " [0.50531095]\n",
      " [0.50401074]\n",
      " [0.4990995 ]\n",
      " [0.4892946 ]\n",
      " [0.5042334 ]\n",
      " [0.50961274]\n",
      " [0.48772582]\n",
      " [0.5012814 ]\n",
      " [0.49989   ]\n",
      " [0.50531095]\n",
      " [0.5063377 ]\n",
      " [0.49521345]\n",
      " [0.4995885 ]\n",
      " [0.5092619 ]\n",
      " [0.49904156]\n",
      " [0.5064535 ]\n",
      " [0.49810413]\n",
      " [0.51142067]\n",
      " [0.49605685]\n",
      " [0.49605685]\n",
      " [0.4892946 ]\n",
      " [0.5063377 ]\n",
      " [0.49483946]\n",
      " [0.50401074]\n",
      " [0.48716566]\n",
      " [0.50184834]\n",
      " [0.49980104]\n",
      " [0.47912097]\n",
      " [0.48837474]\n",
      " [0.5019442 ]\n",
      " [0.50401074]\n",
      " [0.50206256]\n",
      " [0.48445398]\n",
      " [0.49961424]\n",
      " [0.5065116 ]\n",
      " [0.5063377 ]\n",
      " [0.48128778]\n",
      " [0.50401074]\n",
      " [0.50401074]\n",
      " [0.5025058 ]\n",
      " [0.49811703]\n",
      " [0.5090662 ]\n",
      " [0.49521345]\n",
      " [0.4892946 ]\n",
      " [0.49521345]\n",
      " [0.49493948]\n",
      " [0.50401074]\n",
      " [0.49521345]\n",
      " [0.5092619 ]\n",
      " [0.4864451 ]\n",
      " [0.49521345]\n",
      " [0.4864451 ]\n",
      " [0.50401074]\n",
      " [0.50401074]\n",
      " [0.49980104]\n",
      " [0.49677694]\n",
      " [0.50401074]\n",
      " [0.50401074]\n",
      " [0.50401074]\n",
      " [0.50392526]\n",
      " [0.50750047]\n",
      " [0.50546104]\n",
      " [0.49402624]\n",
      " [0.4892946 ]\n",
      " [0.5017217 ]\n",
      " [0.48883966]\n",
      " [0.49605685]\n",
      " [0.50670624]\n",
      " [0.5064941 ]\n",
      " [0.50546104]\n",
      " [0.5109258 ]\n",
      " [0.5064565 ]\n",
      " [0.50546104]\n",
      " [0.50401074]\n",
      " [0.49677694]\n",
      " [0.50531095]\n",
      " [0.49421751]\n",
      " [0.4992056 ]\n",
      " [0.5064566 ]\n",
      " [0.49456403]\n",
      " [0.4954753 ]\n",
      " [0.49521345]\n",
      " [0.5063377 ]\n",
      " [0.486309  ]\n",
      " [0.51069295]\n",
      " [0.49521345]\n",
      " [0.4930115 ]\n",
      " [0.51178545]\n",
      " [0.49483946]\n",
      " [0.5082859 ]\n",
      " [0.49521345]\n",
      " [0.5078415 ]\n",
      " [0.5065116 ]\n",
      " [0.48128778]]\n",
      "              precision    recall  f1-score   support\n",
      "\n",
      "         0.0       0.90      0.56      0.69       177\n",
      "         1.0       0.25      0.70      0.37        37\n",
      "\n",
      "    accuracy                           0.58       214\n",
      "   macro avg       0.57      0.63      0.53       214\n",
      "weighted avg       0.79      0.58      0.63       214\n",
      "\n",
      "[[99 78]\n",
      " [11 26]]\n"
     ]
    }
   ],
   "source": [
    "history = nn.fit(x_train_balanceado, y_train_balanceado, epochs=epochs, verbose=0, class_weight=class_weights, validation_data=(x_val_balanceado, y_val_balanceado))\n",
    "\n",
    "# Detalles de la red neuronal\n",
    "\n",
    "nn.summary()\n",
    "print('\\n\\n')\n",
    "\n",
    "y_pred = nn.predict(x_val)\n",
    "print(y_pred)\n",
    "y_pred = y_pred > 0.5\n",
    "print(classification_report(y_val, y_pred, zero_division=0))\n",
    "\n",
    "print(confusion_matrix(y_val, y_pred))"
   ]
  },
  {
   "cell_type": "markdown",
   "metadata": {
    "id": "Z8E37UJTNqtg"
   },
   "source": [
    "### <font color=\"#CA3532\">Optimización del diseño de la red neuronal</font>\n",
    "\n",
    "- Cambiad la arquitectura de la red neuronal introduciendo más capas y neuronas para conseguir mejores resultados:\n",
    " - Añadid más capas o diferente tipo de capas.\n",
    " - Cambiad las funciones de activación.\n",
    " - Cambiad la función de error o el optimizador.\n",
    "\n",
    "- Utilizad ```tuner``` para la búsqueda de estos hiperparámetros (https://keras.io/keras_tuner/).\n"
   ]
  },
  {
   "cell_type": "code",
   "execution_count": 939,
   "metadata": {
    "id": "i0iByM16ywAk"
   },
   "outputs": [
    {
     "name": "stdout",
     "output_type": "stream",
     "text": [
      "Requirement already satisfied: keras-tuner in c:\\users\\santo\\anaconda3\\lib\\site-packages (1.1.2)\n",
      "Requirement already satisfied: requests in c:\\users\\santo\\anaconda3\\lib\\site-packages (from keras-tuner) (2.26.0)\n",
      "Requirement already satisfied: tensorboard in c:\\users\\santo\\anaconda3\\lib\\site-packages (from keras-tuner) (2.8.0)\n",
      "Requirement already satisfied: ipython in c:\\users\\santo\\anaconda3\\lib\\site-packages (from keras-tuner) (7.29.0)\n",
      "Requirement already satisfied: packaging in c:\\users\\santo\\anaconda3\\lib\\site-packages (from keras-tuner) (21.0)\n",
      "Requirement already satisfied: numpy in c:\\users\\santo\\anaconda3\\lib\\site-packages (from keras-tuner) (1.20.3)\n",
      "Requirement already satisfied: kt-legacy in c:\\users\\santo\\anaconda3\\lib\\site-packages (from keras-tuner) (1.0.4)\n",
      "Requirement already satisfied: jedi>=0.16 in c:\\users\\santo\\anaconda3\\lib\\site-packages (from ipython->keras-tuner) (0.18.0)\n",
      "Requirement already satisfied: pygments in c:\\users\\santo\\anaconda3\\lib\\site-packages (from ipython->keras-tuner) (2.10.0)\n",
      "Requirement already satisfied: backcall in c:\\users\\santo\\anaconda3\\lib\\site-packages (from ipython->keras-tuner) (0.2.0)\n",
      "Requirement already satisfied: setuptools>=18.5 in c:\\users\\santo\\anaconda3\\lib\\site-packages (from ipython->keras-tuner) (58.0.4)\n",
      "Requirement already satisfied: pickleshare in c:\\users\\santo\\anaconda3\\lib\\site-packages (from ipython->keras-tuner) (0.7.5)\n",
      "Requirement already satisfied: matplotlib-inline in c:\\users\\santo\\anaconda3\\lib\\site-packages (from ipython->keras-tuner) (0.1.2)\n",
      "Requirement already satisfied: colorama in c:\\users\\santo\\anaconda3\\lib\\site-packages (from ipython->keras-tuner) (0.4.4)\n",
      "Requirement already satisfied: prompt-toolkit!=3.0.0,!=3.0.1,<3.1.0,>=2.0.0 in c:\\users\\santo\\anaconda3\\lib\\site-packages (from ipython->keras-tuner) (3.0.20)\n",
      "Requirement already satisfied: traitlets>=4.2 in c:\\users\\santo\\anaconda3\\lib\\site-packages (from ipython->keras-tuner) (5.1.0)\n",
      "Requirement already satisfied: decorator in c:\\users\\santo\\anaconda3\\lib\\site-packages (from ipython->keras-tuner) (5.1.0)\n",
      "Requirement already satisfied: parso<0.9.0,>=0.8.0 in c:\\users\\santo\\anaconda3\\lib\\site-packages (from jedi>=0.16->ipython->keras-tuner) (0.8.2)\n",
      "Requirement already satisfied: wcwidth in c:\\users\\santo\\anaconda3\\lib\\site-packages (from prompt-toolkit!=3.0.0,!=3.0.1,<3.1.0,>=2.0.0->ipython->keras-tuner) (0.2.5)\n",
      "Requirement already satisfied: pyparsing>=2.0.2 in c:\\users\\santo\\anaconda3\\lib\\site-packages (from packaging->keras-tuner) (3.0.4)\n",
      "Requirement already satisfied: urllib3<1.27,>=1.21.1 in c:\\users\\santo\\anaconda3\\lib\\site-packages (from requests->keras-tuner) (1.26.7)\n",
      "Requirement already satisfied: certifi>=2017.4.17 in c:\\users\\santo\\anaconda3\\lib\\site-packages (from requests->keras-tuner) (2021.10.8)\n",
      "Requirement already satisfied: charset-normalizer~=2.0.0 in c:\\users\\santo\\anaconda3\\lib\\site-packages (from requests->keras-tuner) (2.0.4)\n",
      "Requirement already satisfied: idna<4,>=2.5 in c:\\users\\santo\\anaconda3\\lib\\site-packages (from requests->keras-tuner) (3.2)\n",
      "Requirement already satisfied: tensorboard-data-server<0.7.0,>=0.6.0 in c:\\users\\santo\\anaconda3\\lib\\site-packages (from tensorboard->keras-tuner) (0.6.1)\n",
      "Requirement already satisfied: markdown>=2.6.8 in c:\\users\\santo\\anaconda3\\lib\\site-packages (from tensorboard->keras-tuner) (3.3.6)\n",
      "Requirement already satisfied: protobuf>=3.6.0 in c:\\users\\santo\\anaconda3\\lib\\site-packages (from tensorboard->keras-tuner) (3.19.4)\n",
      "Requirement already satisfied: wheel>=0.26 in c:\\users\\santo\\anaconda3\\lib\\site-packages (from tensorboard->keras-tuner) (0.37.0)\n",
      "Requirement already satisfied: google-auth<3,>=1.6.3 in c:\\users\\santo\\anaconda3\\lib\\site-packages (from tensorboard->keras-tuner) (2.6.0)\n",
      "Requirement already satisfied: absl-py>=0.4 in c:\\users\\santo\\anaconda3\\lib\\site-packages (from tensorboard->keras-tuner) (1.0.0)\n",
      "Requirement already satisfied: grpcio>=1.24.3 in c:\\users\\santo\\anaconda3\\lib\\site-packages (from tensorboard->keras-tuner) (1.44.0)\n",
      "Requirement already satisfied: google-auth-oauthlib<0.5,>=0.4.1 in c:\\users\\santo\\anaconda3\\lib\\site-packages (from tensorboard->keras-tuner) (0.4.6)\n",
      "Requirement already satisfied: werkzeug>=0.11.15 in c:\\users\\santo\\anaconda3\\lib\\site-packages (from tensorboard->keras-tuner) (2.0.2)\n",
      "Requirement already satisfied: tensorboard-plugin-wit>=1.6.0 in c:\\users\\santo\\anaconda3\\lib\\site-packages (from tensorboard->keras-tuner) (1.8.1)\n",
      "Requirement already satisfied: six in c:\\users\\santo\\anaconda3\\lib\\site-packages (from absl-py>=0.4->tensorboard->keras-tuner) (1.16.0)\n",
      "Requirement already satisfied: rsa<5,>=3.1.4 in c:\\users\\santo\\anaconda3\\lib\\site-packages (from google-auth<3,>=1.6.3->tensorboard->keras-tuner) (4.8)\n",
      "Requirement already satisfied: cachetools<6.0,>=2.0.0 in c:\\users\\santo\\anaconda3\\lib\\site-packages (from google-auth<3,>=1.6.3->tensorboard->keras-tuner) (5.0.0)\n",
      "Requirement already satisfied: pyasn1-modules>=0.2.1 in c:\\users\\santo\\anaconda3\\lib\\site-packages (from google-auth<3,>=1.6.3->tensorboard->keras-tuner) (0.2.8)\n",
      "Requirement already satisfied: requests-oauthlib>=0.7.0 in c:\\users\\santo\\anaconda3\\lib\\site-packages (from google-auth-oauthlib<0.5,>=0.4.1->tensorboard->keras-tuner) (1.3.1)\n",
      "Requirement already satisfied: importlib-metadata>=4.4 in c:\\users\\santo\\anaconda3\\lib\\site-packages (from markdown>=2.6.8->tensorboard->keras-tuner) (4.8.1)\n",
      "Requirement already satisfied: zipp>=0.5 in c:\\users\\santo\\anaconda3\\lib\\site-packages (from importlib-metadata>=4.4->markdown>=2.6.8->tensorboard->keras-tuner) (3.6.0)\n",
      "Requirement already satisfied: pyasn1<0.5.0,>=0.4.6 in c:\\users\\santo\\anaconda3\\lib\\site-packages (from pyasn1-modules>=0.2.1->google-auth<3,>=1.6.3->tensorboard->keras-tuner) (0.4.8)\n",
      "Requirement already satisfied: oauthlib>=3.0.0 in c:\\users\\santo\\anaconda3\\lib\\site-packages (from requests-oauthlib>=0.7.0->google-auth-oauthlib<0.5,>=0.4.1->tensorboard->keras-tuner) (3.2.0)\n"
     ]
    }
   ],
   "source": [
    "!pip install -U keras-tuner\n",
    "import keras_tuner\n",
    "from kerastuner.tuners import RandomSearch"
   ]
  },
  {
   "cell_type": "code",
   "execution_count": 1008,
   "metadata": {
    "id": "uLcr7sg8M4RH"
   },
   "outputs": [
    {
     "name": "stdout",
     "output_type": "stream",
     "text": [
      "INFO:tensorflow:Reloading Oracle from existing project .\\untitled_project\\oracle.json\n",
      "INFO:tensorflow:Reloading Tuner from .\\untitled_project\\tuner0.json\n",
      "Search space summary\n",
      "Default search space size: 1\n",
      "learning_rate (Choice)\n",
      "{'default': 0.01, 'conditions': [], 'values': [0.01, 0.001, 0.0001], 'ordered': True}\n",
      "INFO:tensorflow:Oracle triggered exit\n",
      "Results summary\n",
      "Results in .\\untitled_project\n",
      "Showing 10 best trials\n",
      "<keras_tuner.engine.objective.Objective object at 0x000001624CA10280>\n",
      "Trial summary\n",
      "Hyperparameters:\n",
      "learning_rate: 0.01\n",
      "Score: 0.7943925261497498\n",
      "Trial summary\n",
      "Hyperparameters:\n",
      "learning_rate: 0.001\n",
      "Score: 0.7897196213404337\n",
      "Trial summary\n",
      "Hyperparameters:\n",
      "learning_rate: 0.0001\n",
      "Score: 0.66978191335996\n",
      "WARNING:tensorflow:Detecting that an object or model or tf.train.Checkpoint is being deleted with unrestored values. See the following logs for the specific values in question. To silence these warnings, use `status.expect_partial()`. See https://www.tensorflow.org/api_docs/python/tf/train/Checkpoint#restorefor details about the status object returned by the restore function.\n",
      "WARNING:tensorflow:Value in checkpoint could not be found in the restored object: (root).optimizer.iter\n",
      "WARNING:tensorflow:Value in checkpoint could not be found in the restored object: (root).optimizer.beta_1\n",
      "WARNING:tensorflow:Value in checkpoint could not be found in the restored object: (root).optimizer.beta_2\n",
      "WARNING:tensorflow:Value in checkpoint could not be found in the restored object: (root).optimizer.decay\n",
      "WARNING:tensorflow:Value in checkpoint could not be found in the restored object: (root).optimizer.learning_rate\n",
      "WARNING:tensorflow:Value in checkpoint could not be found in the restored object: (root).optimizer's state 'm' for (root).layer_with_weights-0.kernel\n",
      "WARNING:tensorflow:Value in checkpoint could not be found in the restored object: (root).optimizer's state 'm' for (root).layer_with_weights-0.bias\n",
      "WARNING:tensorflow:Value in checkpoint could not be found in the restored object: (root).optimizer's state 'm' for (root).layer_with_weights-1.kernel\n",
      "WARNING:tensorflow:Value in checkpoint could not be found in the restored object: (root).optimizer's state 'm' for (root).layer_with_weights-1.bias\n",
      "WARNING:tensorflow:Value in checkpoint could not be found in the restored object: (root).optimizer's state 'm' for (root).layer_with_weights-2.kernel\n",
      "WARNING:tensorflow:Value in checkpoint could not be found in the restored object: (root).optimizer's state 'm' for (root).layer_with_weights-2.bias\n",
      "WARNING:tensorflow:Value in checkpoint could not be found in the restored object: (root).optimizer's state 'm' for (root).layer_with_weights-3.kernel\n",
      "WARNING:tensorflow:Value in checkpoint could not be found in the restored object: (root).optimizer's state 'm' for (root).layer_with_weights-3.bias\n",
      "WARNING:tensorflow:Value in checkpoint could not be found in the restored object: (root).optimizer's state 'v' for (root).layer_with_weights-0.kernel\n",
      "WARNING:tensorflow:Value in checkpoint could not be found in the restored object: (root).optimizer's state 'v' for (root).layer_with_weights-0.bias\n",
      "WARNING:tensorflow:Value in checkpoint could not be found in the restored object: (root).optimizer's state 'v' for (root).layer_with_weights-1.kernel\n",
      "WARNING:tensorflow:Value in checkpoint could not be found in the restored object: (root).optimizer's state 'v' for (root).layer_with_weights-1.bias\n",
      "WARNING:tensorflow:Value in checkpoint could not be found in the restored object: (root).optimizer's state 'v' for (root).layer_with_weights-2.kernel\n",
      "WARNING:tensorflow:Value in checkpoint could not be found in the restored object: (root).optimizer's state 'v' for (root).layer_with_weights-2.bias\n",
      "WARNING:tensorflow:Value in checkpoint could not be found in the restored object: (root).optimizer's state 'v' for (root).layer_with_weights-3.kernel\n",
      "WARNING:tensorflow:Value in checkpoint could not be found in the restored object: (root).optimizer's state 'v' for (root).layer_with_weights-3.bias\n",
      "[[123  54]\n",
      " [  9  28]]\n",
      "              precision    recall  f1-score   support\n",
      "\n",
      "         0.0       0.93      0.69      0.80       177\n",
      "         1.0       0.34      0.76      0.47        37\n",
      "\n",
      "    accuracy                           0.71       214\n",
      "   macro avg       0.64      0.73      0.63       214\n",
      "weighted avg       0.83      0.71      0.74       214\n",
      "\n"
     ]
    }
   ],
   "source": [
    "### -------------------------------------------------------\n",
    "### Define tu hipermodelo\n",
    "### -------------------------------------------------------\n",
    "\n",
    "# La combinación de la precisión y recall es lo que identifica el modelo con\n",
    "# mejor rendimiento para la clasificación binaria. Debido a que la métrica F-beta, \n",
    "# la cual es una combinación entre precisión y recall no se encuentra implementada\n",
    "# por Keras se ha diseñado una metrica personalizada apondandonos en la librería\n",
    "# sklearn la cual tiene una implementación para esta función\n",
    "from sklearn.metrics import fbeta_score\n",
    "def binary_fbeta(ytrue, ypred, beta=1.0, threshold=0.5):\n",
    "    ypred = np.array(ypred >= threshold, dtype=np.float32)\n",
    "    return fbeta_score(ytrue, ypred, beta)\n",
    "\n",
    "\n",
    "def build_model(hp):\n",
    "    nn = Sequential()\n",
    "    nn.add(Dense(hp.Int('units', 1, 100), activation=\"sigmoid\"))\n",
    "    nn.add(Dense(hp.Int('units', 1, 100), activation=\"sigmoid\"))\n",
    "    nn.add(Dense(hp.Int('units', 1, 100), activation=\"sigmoid\"))\n",
    "    nn.add(Dense(1, activation=\"sigmoid\"))\n",
    "    nn.compile(optimizer=keras.optimizers.Adam(hp.Choice('learning_rate', values=[1e-2, 1e-3, 1e-4])), loss=\"mse\", metrics=binary_fbeta)\n",
    "    return nn\n",
    "\n",
    "### -------------------------------------------------------\n",
    "### Pon en marcha la búsqueda de hiperparámetros, elije el \n",
    "### objetivo más adecuado.\n",
    "### -------------------------------------------------------\n",
    "\n",
    "tuner = RandomSearch(build_model, objective='val_ACC', max_trials=50, executions_per_trial=3) \n",
    "\n",
    "tuner.search_space_summary()\n",
    "\n",
    "tuner.search(x_train_balanceado, y_train_balanceado, epochs=epochs, class_weight=class_weights, validation_data=(x_val_balanceado, y_val_balanceado), verbose=0)\n",
    "\n",
    "tuner.results_summary()\n",
    "\n",
    "best_nn = tuner.get_best_models(num_models=1)\n",
    "\n",
    "y_pred = best_nn[0].predict(x_val)\n",
    "y_pred = y_pred > 0.452\n",
    "\n",
    "print(confusion_matrix(y_val, y_pred))\n",
    "\n",
    "print(classification_report(y_val, y_pred, zero_division=0))"
   ]
  },
  {
   "cell_type": "code",
   "execution_count": 1019,
   "metadata": {},
   "outputs": [],
   "source": [
    "# Import packages\n",
    "import numpy as np\n",
    "import pandas as pd\n",
    "import matplotlib.pyplot as plt\n",
    "import seaborn as sns\n",
    "from sklearn.model_selection import train_test_split\n",
    "from sklearn.model_selection import cross_val_score\n",
    "from keras.models import Sequential\n",
    "from keras.layers import Dense, BatchNormalization, Dropout\n",
    "from tensorflow.keras.optimizers import Adam, SGD, RMSprop, Adadelta, Adagrad, Adamax, Nadam, Ftrl\n",
    "from keras.callbacks import EarlyStopping, ModelCheckpoint\n",
    "from keras.wrappers.scikit_learn import KerasClassifier\n",
    "from math import floor\n",
    "from sklearn.metrics import make_scorer, accuracy_score\n",
    "from sklearn.metrics import mean_absolute_error\n",
    "from bayes_opt import BayesianOptimization\n",
    "from sklearn.model_selection import StratifiedKFold\n",
    "from keras.layers import LeakyReLU\n",
    "LeakyReLU = LeakyReLU(alpha=0.1)\n",
    "import warnings\n",
    "warnings.filterwarnings('ignore')\n",
    "pd.set_option(\"display.max_columns\", None)"
   ]
  },
  {
   "cell_type": "code",
   "execution_count": 1016,
   "metadata": {},
   "outputs": [
    {
     "name": "stdout",
     "output_type": "stream",
     "text": [
      "Model: \"sequential\"\n",
      "_________________________________________________________________\n",
      " Layer (type)                Output Shape              Param #   \n",
      "=================================================================\n",
      " dense (Dense)               (None, 1)                 11        \n",
      "                                                                 \n",
      " dense_1 (Dense)             (None, 1)                 2         \n",
      "                                                                 \n",
      " dense_2 (Dense)             (None, 1)                 2         \n",
      "                                                                 \n",
      " dense_3 (Dense)             (None, 1)                 2         \n",
      "                                                                 \n",
      "=================================================================\n",
      "Total params: 17\n",
      "Trainable params: 17\n",
      "Non-trainable params: 0\n",
      "_________________________________________________________________\n"
     ]
    }
   ],
   "source": [
    "best_nn[0].summary()"
   ]
  },
  {
   "cell_type": "markdown",
   "metadata": {
    "id": "NnY8rX6HzZXU"
   },
   "source": [
    "### <font color=\"#CA3532\">Diseño final de la red neuronal</font>\n",
    "Define ahora tu modelo final y muestra los resultados de su evaluación."
   ]
  },
  {
   "cell_type": "code",
   "execution_count": 1022,
   "metadata": {
    "id": "Dn7fBHo_zfaz"
   },
   "outputs": [
    {
     "name": "stdout",
     "output_type": "stream",
     "text": [
      "Epoch 1/50\n"
     ]
    },
    {
     "ename": "NotImplementedError",
     "evalue": "in user code:\n\n    File \"C:\\Users\\santo\\anaconda3\\lib\\site-packages\\keras\\engine\\training.py\", line 1021, in train_function  *\n        return step_function(self, iterator)\n    File \"C:\\Users\\santo\\AppData\\Local\\Temp/ipykernel_20152/4089334182.py\", line 12, in binary_fbeta  *\n        ypred = np.array(ypred >= threshold, dtype=np.float32)\n\n    NotImplementedError: Cannot convert a symbolic Tensor (GreaterEqual:0) to a numpy array. This error may indicate that you're trying to pass a Tensor to a NumPy call, which is not supported\n",
     "output_type": "error",
     "traceback": [
      "\u001b[1;31m---------------------------------------------------------------------------\u001b[0m",
      "\u001b[1;31mNotImplementedError\u001b[0m                       Traceback (most recent call last)",
      "\u001b[1;32m~\\AppData\\Local\\Temp/ipykernel_20152/3867794333.py\u001b[0m in \u001b[0;36m<module>\u001b[1;34m\u001b[0m\n\u001b[0;32m     10\u001b[0m \u001b[0mnn_final\u001b[0m\u001b[1;33m.\u001b[0m\u001b[0mcompile\u001b[0m\u001b[1;33m(\u001b[0m\u001b[0moptimizer\u001b[0m\u001b[1;33m=\u001b[0m\u001b[0mkeras\u001b[0m\u001b[1;33m.\u001b[0m\u001b[0moptimizers\u001b[0m\u001b[1;33m.\u001b[0m\u001b[0mAdam\u001b[0m\u001b[1;33m(\u001b[0m\u001b[0mlearning_rate\u001b[0m \u001b[1;33m=\u001b[0m \u001b[1;36m0.01\u001b[0m\u001b[1;33m)\u001b[0m\u001b[1;33m,\u001b[0m \u001b[0mmetrics\u001b[0m\u001b[1;33m=\u001b[0m\u001b[0mbinary_fbeta\u001b[0m\u001b[1;33m,\u001b[0m  \u001b[0mloss\u001b[0m\u001b[1;33m=\u001b[0m\u001b[1;34m\"mse\"\u001b[0m\u001b[1;33m)\u001b[0m\u001b[1;33m\u001b[0m\u001b[1;33m\u001b[0m\u001b[0m\n\u001b[0;32m     11\u001b[0m \u001b[1;33m\u001b[0m\u001b[0m\n\u001b[1;32m---> 12\u001b[1;33m \u001b[0mnn_final\u001b[0m\u001b[1;33m.\u001b[0m\u001b[0mfit\u001b[0m\u001b[1;33m(\u001b[0m\u001b[0mx\u001b[0m\u001b[1;33m=\u001b[0m\u001b[0mx_train_balanceado\u001b[0m\u001b[1;33m,\u001b[0m \u001b[0my\u001b[0m\u001b[1;33m=\u001b[0m\u001b[0my_train_balanceado\u001b[0m\u001b[1;33m,\u001b[0m \u001b[0mepochs\u001b[0m\u001b[1;33m=\u001b[0m\u001b[0mepochs\u001b[0m\u001b[1;33m,\u001b[0m \u001b[0mclass_weight\u001b[0m\u001b[1;33m=\u001b[0m\u001b[0mclass_weights\u001b[0m\u001b[1;33m,\u001b[0m \u001b[0mvalidation_data\u001b[0m\u001b[1;33m=\u001b[0m\u001b[1;33m(\u001b[0m\u001b[0mx_val_balanceado\u001b[0m\u001b[1;33m,\u001b[0m \u001b[0my_val_balanceado\u001b[0m\u001b[1;33m)\u001b[0m\u001b[1;33m)\u001b[0m\u001b[1;33m\u001b[0m\u001b[1;33m\u001b[0m\u001b[0m\n\u001b[0m\u001b[0;32m     13\u001b[0m \u001b[0my_pred\u001b[0m \u001b[1;33m=\u001b[0m \u001b[0mnn_final\u001b[0m\u001b[1;33m.\u001b[0m\u001b[0mpredict\u001b[0m\u001b[1;33m(\u001b[0m\u001b[0mx_val\u001b[0m\u001b[1;33m)\u001b[0m\u001b[1;33m\u001b[0m\u001b[1;33m\u001b[0m\u001b[0m\n\u001b[0;32m     14\u001b[0m \u001b[0my_pred\u001b[0m \u001b[1;33m=\u001b[0m \u001b[0my_pred\u001b[0m \u001b[1;33m>\u001b[0m \u001b[1;36m0.452\u001b[0m\u001b[1;33m\u001b[0m\u001b[1;33m\u001b[0m\u001b[0m\n",
      "\u001b[1;32m~\\anaconda3\\lib\\site-packages\\keras\\utils\\traceback_utils.py\u001b[0m in \u001b[0;36merror_handler\u001b[1;34m(*args, **kwargs)\u001b[0m\n\u001b[0;32m     65\u001b[0m     \u001b[1;32mexcept\u001b[0m \u001b[0mException\u001b[0m \u001b[1;32mas\u001b[0m \u001b[0me\u001b[0m\u001b[1;33m:\u001b[0m  \u001b[1;31m# pylint: disable=broad-except\u001b[0m\u001b[1;33m\u001b[0m\u001b[1;33m\u001b[0m\u001b[0m\n\u001b[0;32m     66\u001b[0m       \u001b[0mfiltered_tb\u001b[0m \u001b[1;33m=\u001b[0m \u001b[0m_process_traceback_frames\u001b[0m\u001b[1;33m(\u001b[0m\u001b[0me\u001b[0m\u001b[1;33m.\u001b[0m\u001b[0m__traceback__\u001b[0m\u001b[1;33m)\u001b[0m\u001b[1;33m\u001b[0m\u001b[1;33m\u001b[0m\u001b[0m\n\u001b[1;32m---> 67\u001b[1;33m       \u001b[1;32mraise\u001b[0m \u001b[0me\u001b[0m\u001b[1;33m.\u001b[0m\u001b[0mwith_traceback\u001b[0m\u001b[1;33m(\u001b[0m\u001b[0mfiltered_tb\u001b[0m\u001b[1;33m)\u001b[0m \u001b[1;32mfrom\u001b[0m \u001b[1;32mNone\u001b[0m\u001b[1;33m\u001b[0m\u001b[1;33m\u001b[0m\u001b[0m\n\u001b[0m\u001b[0;32m     68\u001b[0m     \u001b[1;32mfinally\u001b[0m\u001b[1;33m:\u001b[0m\u001b[1;33m\u001b[0m\u001b[1;33m\u001b[0m\u001b[0m\n\u001b[0;32m     69\u001b[0m       \u001b[1;32mdel\u001b[0m \u001b[0mfiltered_tb\u001b[0m\u001b[1;33m\u001b[0m\u001b[1;33m\u001b[0m\u001b[0m\n",
      "\u001b[1;32m~\\anaconda3\\lib\\site-packages\\tensorflow\\python\\framework\\func_graph.py\u001b[0m in \u001b[0;36mautograph_handler\u001b[1;34m(*args, **kwargs)\u001b[0m\n\u001b[0;32m   1145\u001b[0m           \u001b[1;32mexcept\u001b[0m \u001b[0mException\u001b[0m \u001b[1;32mas\u001b[0m \u001b[0me\u001b[0m\u001b[1;33m:\u001b[0m  \u001b[1;31m# pylint:disable=broad-except\u001b[0m\u001b[1;33m\u001b[0m\u001b[1;33m\u001b[0m\u001b[0m\n\u001b[0;32m   1146\u001b[0m             \u001b[1;32mif\u001b[0m \u001b[0mhasattr\u001b[0m\u001b[1;33m(\u001b[0m\u001b[0me\u001b[0m\u001b[1;33m,\u001b[0m \u001b[1;34m\"ag_error_metadata\"\u001b[0m\u001b[1;33m)\u001b[0m\u001b[1;33m:\u001b[0m\u001b[1;33m\u001b[0m\u001b[1;33m\u001b[0m\u001b[0m\n\u001b[1;32m-> 1147\u001b[1;33m               \u001b[1;32mraise\u001b[0m \u001b[0me\u001b[0m\u001b[1;33m.\u001b[0m\u001b[0mag_error_metadata\u001b[0m\u001b[1;33m.\u001b[0m\u001b[0mto_exception\u001b[0m\u001b[1;33m(\u001b[0m\u001b[0me\u001b[0m\u001b[1;33m)\u001b[0m\u001b[1;33m\u001b[0m\u001b[1;33m\u001b[0m\u001b[0m\n\u001b[0m\u001b[0;32m   1148\u001b[0m             \u001b[1;32melse\u001b[0m\u001b[1;33m:\u001b[0m\u001b[1;33m\u001b[0m\u001b[1;33m\u001b[0m\u001b[0m\n\u001b[0;32m   1149\u001b[0m               \u001b[1;32mraise\u001b[0m\u001b[1;33m\u001b[0m\u001b[1;33m\u001b[0m\u001b[0m\n",
      "\u001b[1;31mNotImplementedError\u001b[0m: in user code:\n\n    File \"C:\\Users\\santo\\anaconda3\\lib\\site-packages\\keras\\engine\\training.py\", line 1021, in train_function  *\n        return step_function(self, iterator)\n    File \"C:\\Users\\santo\\AppData\\Local\\Temp/ipykernel_20152/4089334182.py\", line 12, in binary_fbeta  *\n        ypred = np.array(ypred >= threshold, dtype=np.float32)\n\n    NotImplementedError: Cannot convert a symbolic Tensor (GreaterEqual:0) to a numpy array. This error may indicate that you're trying to pass a Tensor to a NumPy call, which is not supported\n"
     ]
    }
   ],
   "source": [
    "### ---------------------------------------------------------------------------\n",
    "### Modelo final y evaluación\n",
    "### ---------------------------------------------------------------------------\n",
    "\n",
    "nn_final = Sequential()\n",
    "nn_final.add(Dense(1, activation=\"sigmoid\"))\n",
    "nn_final.add(Dense(1, activation=\"sigmoid\"))\n",
    "nn_final.add(Dense(1, activation=\"sigmoid\"))\n",
    "nn_final.add(Dense(1, activation=\"sigmoid\"))\n",
    "nn_final.compile(optimizer=keras.optimizers.Adam(learning_rate = 0.01), metrics=binary_fbeta,  loss=\"mse\")\n",
    "\n",
    "nn_final.fit(x=x_train_balanceado, y=y_train_balanceado, epochs=epochs, class_weight=class_weights, validation_data=(x_val_balanceado, y_val_balanceado))\n",
    "y_pred = nn_final.predict(x_val)\n",
    "y_pred = y_pred > 0.452\n",
    "\n",
    "print(confusion_matrix(y_val, y_pred))\n",
    "\n",
    "print(classification_report(y_val, y_pred, zero_division=0))"
   ]
  }
 ],
 "metadata": {
  "accelerator": "GPU",
  "colab": {
   "collapsed_sections": [],
   "name": "Neuro-P3-enunciado 2021-2022.ipynb",
   "provenance": [],
   "toc_visible": true
  },
  "kernelspec": {
   "display_name": "Python 3 (ipykernel)",
   "language": "python",
   "name": "python3"
  },
  "language_info": {
   "codemirror_mode": {
    "name": "ipython",
    "version": 3
   },
   "file_extension": ".py",
   "mimetype": "text/x-python",
   "name": "python",
   "nbconvert_exporter": "python",
   "pygments_lexer": "ipython3",
   "version": "3.9.7"
  }
 },
 "nbformat": 4,
 "nbformat_minor": 1
}
