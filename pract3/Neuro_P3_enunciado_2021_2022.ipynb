{
 "cells": [
  {
   "cell_type": "markdown",
   "metadata": {
    "id": "PTK5XDjA81SI"
   },
   "source": [
    "---\n",
    "# <font color=\"#CA3532\">Práctica 3 de Neurocomputación</font>\n",
    "### Curso 2021-2022\n",
    "### Escuela Politécnica Superior – Universidad Autónoma de Madrid\n",
    "\n",
    "---\n",
    "\n",
    "Fechas de entrega:\n",
    "- Grupo 2462: lunes 16 de mayo de 2022\n",
    "- Grupo 2461: martes 17 de mayo de 2022\n",
    "\n",
    "---\n",
    "\n",
    "Última actualización: 31-03-2022\n",
    "\n",
    "---"
   ]
  },
  {
   "cell_type": "markdown",
   "metadata": {
    "id": "jqWSLi9F9lTn"
   },
   "source": [
    "*Sesión 1*:\n",
    "\n",
    "- Esta práctica está centrada en [Keras](https://keras.io/).\n",
    "\n",
    "- Keras es una biblioteca de redes neuronales de código abierto, diseñada para la experimentación con redes neuronales profundas. Keras es modular, extensible y fácil de usar.\n",
    "\n",
    "- Keras puede usar distintos motores. Aquí se usará con TensorFlow.\n",
    "\n"
   ]
  },
  {
   "cell_type": "code",
   "execution_count": 33,
   "metadata": {
    "id": "d7Wiw7iJCbgi"
   },
   "outputs": [],
   "source": [
    "### Incluid vuestros nombres, pareja y grupo aquí:\n",
    "estudiantes = [{'nombre': 'Zhijie Qian', 'pareja': 'P05', 'grupo': '2461'},\n",
    "               {'nombre': 'Santo Saenz Ferrero', 'pareja': 'P05', 'grupo': '2461'}]\n"
   ]
  },
  {
   "cell_type": "markdown",
   "metadata": {
    "id": "Y7vp1DQU_2KC"
   },
   "source": [
    "### <font color=\"#CA3532\">Importación de bibliotecas</font>\n",
    "\n",
    "TensorFlow 2.0 incluye oficialmente Keras."
   ]
  },
  {
   "cell_type": "code",
   "execution_count": 34,
   "metadata": {
    "id": "oY36uRqOavkU"
   },
   "outputs": [],
   "source": [
    "# Importaciones\n",
    "\n",
    "import numpy as np\n",
    "import matplotlib.pyplot as plt\n",
    "\n",
    "import tensorflow as tf\n",
    "from tensorflow import keras\n",
    "\n",
    "import keras as k\n",
    "from keras.models import Sequential\n",
    "from keras.layers import Dense"
   ]
  },
  {
   "cell_type": "markdown",
   "metadata": {
    "id": "a4vpTFrKAfG-"
   },
   "source": [
    "### <font color=\"#CA3532\">Datos del problema</font>\n",
    "\n",
    "El problema consiste en predecir si va a haber una erupción solar (*solar flares*) en ciertas regiones solares en función de las características de la región solar. El conjunto datos y la caracterización de sus atributos puede encontrarse en https://www.openml.org/d/40702. El siguiente fragmento de código permite cargar estos datos."
   ]
  },
  {
   "cell_type": "code",
   "execution_count": 35,
   "metadata": {
    "id": "nH2J34Gfbv_C"
   },
   "outputs": [],
   "source": [
    "dataset_url = 'https://www.openml.org/data/get_csv/4965303/flare.arff' \n",
    "\n",
    "dataset = np.genfromtxt(dataset_url, delimiter=',', skip_header=1)\n",
    "\n",
    "### -------------------------------------------------------------------------------\n",
    "### Dividid los ejemplos en atributos y clases. Guardad el número de atributos.\n",
    "### -------------------------------------------------------------------------------\n",
    "\n",
    "x = dataset[:,:-1]\n",
    "x_size = x.shape[1]\n",
    "y = dataset[:,-1]"
   ]
  },
  {
   "cell_type": "code",
   "execution_count": 36,
   "metadata": {
    "id": "6bhpFdYNCVKk"
   },
   "outputs": [
    {
     "name": "stdout",
     "output_type": "stream",
     "text": [
      "Ejemplo 0: [5. 4. 3. 1. 3. 1. 1. 2. 1. 1.] 0.0\n",
      "Atributos: 10\n",
      "Clases: [0. 1.]\n",
      "Recuento de clases: 884 182\n",
      "Examplos: 1066\n"
     ]
    }
   ],
   "source": [
    "# Resultados de la división y el número de atributos\n",
    "\n",
    "print('Ejemplo 0:', x[0], y[1])\n",
    "print('Atributos:', x_size)\n",
    "print('Clases:', np.unique(y))\n",
    "print('Recuento de clases:', y.tolist().count(0), y.tolist().count(1))\n",
    "print('Examplos:', len(x))"
   ]
  },
  {
   "cell_type": "code",
   "execution_count": 37,
   "metadata": {
    "id": "5oBLBAWR7N92"
   },
   "outputs": [
    {
     "data": {
      "image/png": "[encoded data removed]",
      "text/plain": [
       "<Figure size 432x288 with 12 Axes>"
      ]
     },
     "metadata": {
      "needs_background": "light"
     },
     "output_type": "display_data"
    }
   ],
   "source": [
    "# create pairwise scatter plots of numeric input variables\n",
    "from pandas import read_csv\n",
    "from pandas import DataFrame\n",
    "from pandas.plotting import scatter_matrix\n",
    "from matplotlib import pyplot\n",
    "\n",
    "# load the csv file as a data frame\n",
    "df = read_csv(dataset_url, header=1)\n",
    "\n",
    "# histograms of all variables \n",
    "df.hist()\n",
    "pyplot.show()"
   ]
  },
  {
   "cell_type": "code",
   "execution_count": 38,
   "metadata": {},
   "outputs": [
    {
     "name": "stdout",
     "output_type": "stream",
     "text": [
      "    5  4  3  1  3.1  1.1  1.2  2  1.3  1.4  0\n",
      "0   1  3  1  1    2    1    1  2    1    1  0\n",
      "1   2  3  2  1    3    1    1  2    1    1  1\n",
      "2   5  4  3  2    2    1    2  2    1    1  0\n",
      "3   1  4  2  1    3    1    1  2    1    1  0\n",
      "4   1  4  2  1    2    1    2  2    1    1  0\n",
      "5   2  2  1  1    3    1    2  2    1    1  0\n",
      "6   2  3  2  1    3    1    1  2    1    1  0\n",
      "7   0  5  2  1    2    1    1  2    1    1  0\n",
      "8   2  1  2  1    2    1    2  2    1    1  0\n",
      "9   3  0  1  2    2    1    2  2    1    1  0\n",
      "10  2  0  1  2    3    1    2  2    1    1  0\n",
      "11  1  4  2  1    3    1    1  2    1    1  0\n",
      "12  1  3  2  1    2    1    2  2    1    1  0\n",
      "13  5  4  3  1    2    1    1  2    1    1  0\n",
      "14  2  4  2  1    3    1    1  2    1    1  1\n",
      "15  2  0  1  1    3    1    2  2    1    1  0\n",
      "16  3  4  1  1    2    1    2  2    1    1  0\n",
      "17  1  3  2  1    3    1    1  2    1    1  0\n",
      "18  5  4  3  1    1    1    2  2    1    1  0\n",
      "19  5  3  3  1    1    1    1  2    1    1  1\n"
     ]
    }
   ],
   "source": [
    "print(df.head(20))"
   ]
  },
  {
   "cell_type": "code",
   "execution_count": 39,
   "metadata": {},
   "outputs": [
    {
     "name": "stdout",
     "output_type": "stream",
     "text": [
      "                 5            4            3            1          3.1  \\\n",
      "count  1065.000000  1065.000000  1065.000000  1065.000000  1065.000000   \n",
      "mean      2.625352     2.957746     2.034742     1.153991     2.400939   \n",
      "std       1.844397     1.703904     0.806293     0.361109     0.620604   \n",
      "min       0.000000     0.000000     0.000000     1.000000     1.000000   \n",
      "25%       1.000000     2.000000     2.000000     1.000000     2.000000   \n",
      "50%       2.000000     4.000000     2.000000     1.000000     2.000000   \n",
      "75%       5.000000     4.000000     3.000000     1.000000     3.000000   \n",
      "max       5.000000     5.000000     3.000000     2.000000     3.000000   \n",
      "\n",
      "               1.1          1.2            2          1.3     1.4            0  \n",
      "count  1065.000000  1065.000000  1065.000000  1065.000000  1065.0  1065.000000  \n",
      "mean      1.059155     1.404695     1.875117     1.025352     1.0     0.170892  \n",
      "std       0.320469     0.491063     0.330741     0.157266     0.0     0.376591  \n",
      "min       1.000000     1.000000     1.000000     1.000000     1.0     0.000000  \n",
      "25%       1.000000     1.000000     2.000000     1.000000     1.0     0.000000  \n",
      "50%       1.000000     1.000000     2.000000     1.000000     1.0     0.000000  \n",
      "75%       1.000000     2.000000     2.000000     1.000000     1.0     0.000000  \n",
      "max       3.000000     2.000000     2.000000     2.000000     1.0     1.000000  \n"
     ]
    }
   ],
   "source": [
    "print(df.describe())"
   ]
  },
  {
   "cell_type": "code",
   "execution_count": 40,
   "metadata": {
    "id": "CHMR1k6adBxU"
   },
   "outputs": [],
   "source": [
    "# Normalizad los datos (si es necesario)\n",
    "# Los datos se encuentran en diferentes intervalos de valores por lo que el modelo puede tender \n",
    "# a ponderar más los datos con rangos de valores mayores, por ello se ha decidico escalar los \n",
    "# datos de la forma que se nos proporciona.\n",
    "from sklearn.preprocessing import StandardScaler\n",
    "scaler = StandardScaler()\n",
    "scaler.fit(x)\n",
    "x = scaler.transform(x)"
   ]
  },
  {
   "cell_type": "code",
   "execution_count": 41,
   "metadata": {},
   "outputs": [
    {
     "name": "stdout",
     "output_type": "stream",
     "text": [
      "(1066, 10)\n"
     ]
    }
   ],
   "source": [
    "print(x.shape)"
   ]
  },
  {
   "cell_type": "markdown",
   "metadata": {
    "id": "QKjVzq5PFAa5"
   },
   "source": [
    "### <font color=\"#CA3532\">Definición del modelo</font>\n",
    "\n",
    "- Cada capa del modelo lleva definidas una serie de propiedades (tamaño, función de activación, conectividad, etc.). \n",
    "\n",
    "- Usaremos el modelo secuencial que Keras para crear una red neuronal multicapa con propagación hacia adelante.\n",
    "\n"
   ]
  },
  {
   "cell_type": "code",
   "execution_count": 42,
   "metadata": {
    "id": "jSiN2kBpfJH2"
   },
   "outputs": [],
   "source": [
    "# Definid el modelo con Keras\n",
    "\n",
    "nn = Sequential()\n",
    "\n",
    "### -------------------------------------------------------------------------------\n",
    "### Añadir la capas completamente conectadas que consideréis al modelo\n",
    "### -------------------------------------------------------------------------------\n",
    "nn.add(Dense(12, activation=\"sigmoid\"))\n",
    "nn.add(Dense(12, activation=\"sigmoid\"))\n",
    "nn.add(Dense(1, activation=\"sigmoid\"))"
   ]
  },
  {
   "cell_type": "markdown",
   "metadata": {
    "id": "XYS0uGZZjLqA"
   },
   "source": [
    "### <font color=\"#CA3532\">Compilación de la red neuronal</font>\n",
    "\n",
    "- La compilación es la operación que contruye la red neuronal.\n",
    "\n",
    "- La compilación incluye aspectos que se tendrán en cuenta en el entrenamiento de la red neuronal.\n",
    "\n",
    "- En la secciones de abajo encontraréis enlaces a la documentación oficial donde podréis encontrar información sobre las distintas estrategias de cada uno de los aspectos.\n",
    "\n",
    "- También es posible definid vuestras propias funciones.\n",
    "\n",
    "#### <font color=\"#CA3532\">Optimizador</font>\n",
    "\n",
    "El optimizador es la estrategia para calcular las correcciones de los pesos.\n",
    "\n",
    "https://keras.io/api/optimizers/\n",
    "\n",
    "\n",
    "#### <font color=\"#CA3532\"> Función de error (*Loss function*)</font>\n",
    "\n",
    "La función de error calcula la cantidad que el modelo debe minimizar durante el entrenamiento.\n",
    "\n",
    "https://keras.io/api/losses/\n",
    "\n",
    "#### <font color=\"#CA3532\">Métricas</font>\n",
    "\n",
    "Una métrica es una función que juzga la actuación del modelo. Son funciones similares a las funciones de error pero, a diferencia de estas, no se aplican durante el entrenamiento, sino sobre los resultados. Aprende al menos el significado y las diferencias de las métricas *accuracy*, *precision*, *recall* y *AUC*. También pueden usarse las funciones de error como metricas.\n",
    "\n",
    "https://keras.io/api/metrics/"
   ]
  },
  {
   "cell_type": "code",
   "execution_count": 43,
   "metadata": {
    "id": "tU7t0cyMf-pL"
   },
   "outputs": [],
   "source": [
    "# Compilación\n",
    "\n",
    "### -------------------------------------------------------------------------------\n",
    "### Compilad vuestro modelo de red neuronal\n",
    "### -------------------------------------------------------------------------------\n",
    "\n",
    "metrics = [\n",
    "            #keras.metrics.TruePositives(name='tp'),\n",
    "            #keras.metrics.FalsePositives(name='fp'),\n",
    "            #keras.metrics.TrueNegatives(name='tn'),\n",
    "            #keras.metrics.FalseNegatives(name='fn'),\n",
    "            keras.metrics.BinaryAccuracy(name='ACC'),\n",
    "            keras.metrics.Precision(name='Prec'),\n",
    "            keras.metrics.Recall(name='Rec'),\n",
    "            keras.metrics.AUC(name='AUC'),\n",
    "            #keras.metrics.AUC(name='PRC', curve='PR'),\n",
    "          ]\n",
    "\n",
    "nn.compile(optimizer='SGD', loss=\"mse\", metrics=metrics)\n",
    "# nn.compile(optimizer='Adam', loss=\"binary_crossentropy\", metrics=metrics)"
   ]
  },
  {
   "cell_type": "markdown",
   "metadata": {
    "id": "7dRac4W1t69B"
   },
   "source": [
    "### <font color=\"#CA3532\">Conjuntos de entrenamiento y validación</font>\n",
    "\n",
    "Usaremos el 80 % de los datos para entrenamiento y el 20 % para validación. Usaremos también la técnica de muestreo estratificado (también están permitidas otras formas de validación). Averigua qué es y para qué sirve."
   ]
  },
  {
   "cell_type": "code",
   "execution_count": 44,
   "metadata": {
    "id": "QA3AW4y7j_Ar"
   },
   "outputs": [
    {
     "data": {
      "text/plain": [
       "'\\nA partir de la técnica de muestreo estratificado los datos se dividen por una característica \\ncomún, en este caso por la clase objetivo, por ello los datos se obtienen en train y validación \\nde forma equilibrada teniendo en ambos proporcion especificada por test_size para cada clase objetivo\\n'"
      ]
     },
     "execution_count": 44,
     "metadata": {},
     "output_type": "execute_result"
    }
   ],
   "source": [
    "# Contrucción de los conjuntos de entrenamiento y validación\n",
    "\n",
    "from sklearn.model_selection import train_test_split\n",
    "\n",
    "x_train, x_val, y_train, y_val = train_test_split(x, y, stratify=y, test_size=0.2) \n",
    "\"\"\"\n",
    "A partir de la técnica de muestreo estratificado los datos se dividen por una característica \n",
    "común, en este caso por la clase objetivo, por ello los datos se obtienen en train y validación \n",
    "de forma equilibrada teniendo en ambos proporcion especificada por test_size para cada clase objetivo\n",
    "\"\"\""
   ]
  },
  {
   "cell_type": "markdown",
   "metadata": {
    "id": "dDFUBCUVugVj"
   },
   "source": [
    "### <font color=\"#CA3532\">Visualización de resultados</font>\n",
    "\n",
    "Para la visualización de los resultados utilizaremos gráficas con la evolución de la función de pérdida y las métricas en cada época del entrenamiento, tanto para los datos de entrenamiento como para los de validación.\n",
    "\n",
    "También obtendremos la matriz de confusión y alguna métricas sobre cada clase del problema. Observaremos especialmente la medida macro-F1."
   ]
  },
  {
   "cell_type": "code",
   "execution_count": 45,
   "metadata": {
    "id": "6pgKzRcysRwv"
   },
   "outputs": [],
   "source": [
    "from sklearn.metrics import classification_report, confusion_matrix\n",
    "\n",
    "def show_metrics(history):\n",
    "    for metric in history.history.keys():\n",
    "        if not metric.startswith('val_'):\n",
    "            plt.plot(history.history[metric], label=metric)\n",
    "            plt.plot(history.history[f'val_{metric}'], label=f'val_{metric}')\n",
    "            plt.title(metric)\n",
    "            plt.ylabel('')\n",
    "            plt.xlabel('Epoch')\n",
    "            plt.legend(loc=\"upper left\")\n",
    "            plt.show()"
   ]
  },
  {
   "cell_type": "markdown",
   "metadata": {
    "id": "x-rNfZzqINgY"
   },
   "source": [
    "### <font color=\"#CA3532\">Entrenamiento de la red neuronal y evaluación</font>\n",
    "\n",
    "El método \"fit\" entrena una red neuronal con los datos que se le proporcionen.\n",
    "\n",
    "https://keras.io/api/models/model_training_apis/#fit-method"
   ]
  },
  {
   "cell_type": "code",
   "execution_count": 46,
   "metadata": {
    "id": "iEhDqXzLIISj"
   },
   "outputs": [
    {
     "name": "stdout",
     "output_type": "stream",
     "text": [
      "Model: \"sequential_2\"\n",
      "_________________________________________________________________\n",
      " Layer (type)                Output Shape              Param #   \n",
      "=================================================================\n",
      " dense_8 (Dense)             (None, 12)                132       \n",
      "                                                                 \n",
      " dense_9 (Dense)             (None, 12)                156       \n",
      "                                                                 \n",
      " dense_10 (Dense)            (None, 1)                 13        \n",
      "                                                                 \n",
      "=================================================================\n",
      "Total params: 301\n",
      "Trainable params: 301\n",
      "Non-trainable params: 0\n",
      "_________________________________________________________________\n",
      "\n",
      "\n",
      "\n"
     ]
    },
    {
     "data": {
      "image/png": "[encoded data removed]",
      "text/plain": [
       "<Figure size 432x288 with 1 Axes>"
      ]
     },
     "metadata": {
      "needs_background": "light"
     },
     "output_type": "display_data"
    },
    {
     "data": {
      "image/png": "[encoded data removed]",
      "text/plain": [
       "<Figure size 432x288 with 1 Axes>"
      ]
     },
     "metadata": {
      "needs_background": "light"
     },
     "output_type": "display_data"
    },
    {
     "data": {
      "image/png": "[encoded data removed]",
      "text/plain": [
       "<Figure size 432x288 with 1 Axes>"
      ]
     },
     "metadata": {
      "needs_background": "light"
     },
     "output_type": "display_data"
    },
    {
     "data": {
      "image/png": "[encoded data removed]",
      "text/plain": [
       "<Figure size 432x288 with 1 Axes>"
      ]
     },
     "metadata": {
      "needs_background": "light"
     },
     "output_type": "display_data"
    },
    {
     "data": {
      "image/png": "[encoded data removed]",
      "text/plain": [
       "<Figure size 432x288 with 1 Axes>"
      ]
     },
     "metadata": {
      "needs_background": "light"
     },
     "output_type": "display_data"
    },
    {
     "name": "stdout",
     "output_type": "stream",
     "text": [
      "[[177   0]\n",
      " [ 37   0]]\n",
      "              precision    recall  f1-score   support\n",
      "\n",
      "         0.0       0.83      1.00      0.91       177\n",
      "         1.0       0.00      0.00      0.00        37\n",
      "\n",
      "    accuracy                           0.83       214\n",
      "   macro avg       0.41      0.50      0.45       214\n",
      "weighted avg       0.68      0.83      0.75       214\n",
      "\n"
     ]
    }
   ],
   "source": [
    "# Entrenamiento\n",
    "\n",
    "epochs = 50\n",
    "\n",
    "history = nn.fit(x_train, y_train, epochs=epochs, verbose=0, validation_data=(x_val, y_val))\n",
    "\n",
    "# Predicciones del conjunto de evaluación\n",
    "\n",
    "y_pred = nn.predict(x_val)\n",
    "y_pred = y_pred > 0.5\n",
    "\n",
    "# Detalles de la red neuronal\n",
    "\n",
    "nn.summary()\n",
    "print('\\n\\n')\n",
    "\n",
    "# Visualización de las métricas \n",
    "\n",
    "show_metrics(history)\n",
    "\n",
    "# Matriz de confusión\n",
    "\n",
    "print(confusion_matrix(y_val, y_pred))\n",
    "\n",
    "# Observa la medida macro-f1 del siguiente informe\n",
    "\n",
    "print(classification_report(y_val, y_pred, zero_division=0))\n"
   ]
  },
  {
   "cell_type": "markdown",
   "metadata": {
    "id": "zo8KQlCaGEw9"
   },
   "source": [
    "### <font color=\"#CA3532\">Entrenamiento de la red neuronal y evaluación</font>\n",
    "Como podrás haber observado en problema no está balanceado (o está bastante desequilibrado), porque el número de ejemplos de cada clase es muy diferente."
   ]
  },
  {
   "cell_type": "markdown",
   "metadata": {
    "id": "amDlvLOgHw2J"
   },
   "source": [
    "Existen varias técnicas para abortar este tipo de problemas. Una de ellas consiste seleccionar un subconjunto de datos equilibrados en el que las dos clases esten representadas en la misma proporción.\n"
   ]
  },
  {
   "cell_type": "code",
   "execution_count": 47,
   "metadata": {},
   "outputs": [],
   "source": [
    "# En este caso de encima, el dataset se divide en dos subconjuntos con la misma proporción para sus distintas clases\n",
    "from sklearn.model_selection import StratifiedKFold, KFold\n",
    "skf = StratifiedKFold(n_splits=2)\n",
    "skf.get_n_splits(x, y)\n",
    "for train_index, test_index in skf.split(x, y):\n",
    "    #print(\"TRAIN:\", train_index, \"TEST:\", test_index)\n",
    "    X_train, X_test = x[train_index], x[test_index]\n",
    "    y_train, y_test = y[train_index], y[test_index]"
   ]
  },
  {
   "cell_type": "code",
   "execution_count": 48,
   "metadata": {},
   "outputs": [],
   "source": [
    "# En este caso además de dividir el dataset en 5 subconjutnos con la misma proporción de clases, los datos se han \n",
    "# mezclado para que los datos de cada subconjunto no tengan porque estar ordenados secuencialmente de la forma que \n",
    "# venían en su dataset\n",
    "from sklearn.model_selection import StratifiedShuffleSplit\n",
    "sss = StratifiedShuffleSplit(n_splits=5, test_size=0.2, random_state=0)\n",
    "for train_index, test_index in sss.split(x, y):\n",
    "    X_train, X_test = x[train_index], x[test_index]\n",
    "    y_train, y_test = y[train_index], y[test_index]"
   ]
  },
  {
   "cell_type": "code",
   "execution_count": 49,
   "metadata": {
    "id": "rhdYlNseGFh0"
   },
   "outputs": [],
   "source": [
    "### -------------------------------------------------------------------------------\n",
    "### Assigna diferentes pesos a cada una de las clases\n",
    "### -------------------------------------------------------------------------------\n",
    "# Se hara solo u split para conseguir una division de los datos porporcional en cuanto al numero de clases a obtener\n",
    "# en el conjunto de train y de test, no hacen falta más divisiones, si se hicieran más se desaprovecharía datos. \n",
    "# Por otra parte se utilizará randomized para que los datos en cada subconjunto no estén ordenados secuencialmente.\n",
    "from sklearn.model_selection import StratifiedShuffleSplit\n",
    "sss = StratifiedShuffleSplit(n_splits=1, test_size=0.2, random_state=0)\n",
    "for train_index, test_index in sss.split(x, y):\n",
    "    x_train_balanceado, x_val_balanceado = x[train_index], x[test_index]\n",
    "    y_train_balanceado, y_val_balanceado = y[train_index], y[test_index]\n",
    "\n",
    "# Debido a que la proporcion de datos segun la clase es de 177/37 a favor de la clase 0, con el fin de que el modelo no\n",
    "# sobre estime para la clase 0 se le dará a la clase 0 un valor 1 y a la clase 1 un valor 177/37 que aproximadamente deberñia\n",
    "# ser un valor óptimo para el peso de esta clase\n",
    "class_weights = { 0 : 0.206 , 1 : 177/37}"
   ]
  },
  {
   "cell_type": "code",
   "execution_count": 50,
   "metadata": {},
   "outputs": [
    {
     "name": "stdout",
     "output_type": "stream",
     "text": [
      "707 177\n",
      "145 37\n"
     ]
    }
   ],
   "source": [
    "print(y_train_balanceado.tolist().count(0), y_val_balanceado.tolist().count(0))\n",
    "print(y_train_balanceado.tolist().count(1), y_val_balanceado.tolist().count(1))\n",
    "# Balanceado siendo la validacion 20% y train 80%"
   ]
  },
  {
   "cell_type": "markdown",
   "metadata": {
    "id": "WFXPn9gEIqCa"
   },
   "source": [
    "Vuelve a entrenar con este nuevo conjunto de datos y observa como varía el resultado de la matriz de confusión. Si es posible, intenta conseguir un modelo mejor y describe los resultados alcanzados."
   ]
  },
  {
   "cell_type": "code",
   "execution_count": 51,
   "metadata": {
    "id": "q6Q365wEIhQg"
   },
   "outputs": [
    {
     "name": "stdout",
     "output_type": "stream",
     "text": [
      "Model: \"sequential_2\"\n",
      "_________________________________________________________________\n",
      " Layer (type)                Output Shape              Param #   \n",
      "=================================================================\n",
      " dense_8 (Dense)             (None, 12)                132       \n",
      "                                                                 \n",
      " dense_9 (Dense)             (None, 12)                156       \n",
      "                                                                 \n",
      " dense_10 (Dense)            (None, 1)                 13        \n",
      "                                                                 \n",
      "=================================================================\n",
      "Total params: 301\n",
      "Trainable params: 301\n",
      "Non-trainable params: 0\n",
      "_________________________________________________________________\n",
      "\n",
      "\n",
      "\n",
      "[[0.807575  ]\n",
      " [0.77078176]\n",
      " [0.8256415 ]\n",
      " [0.8328825 ]\n",
      " [0.8256415 ]\n",
      " [0.82684314]\n",
      " [0.7836854 ]\n",
      " [0.8226291 ]\n",
      " [0.8099773 ]\n",
      " [0.81189036]\n",
      " [0.79196334]\n",
      " [0.8158262 ]\n",
      " [0.8147744 ]\n",
      " [0.8176507 ]\n",
      " [0.82712126]\n",
      " [0.79196334]\n",
      " [0.8297725 ]\n",
      " [0.7836854 ]\n",
      " [0.79683566]\n",
      " [0.8007363 ]\n",
      " [0.8190461 ]\n",
      " [0.81934905]\n",
      " [0.82571983]\n",
      " [0.8061439 ]\n",
      " [0.8256415 ]\n",
      " [0.8321384 ]\n",
      " [0.8248782 ]\n",
      " [0.7825661 ]\n",
      " [0.79888046]\n",
      " [0.81919384]\n",
      " [0.83440685]\n",
      " [0.83440685]\n",
      " [0.801088  ]\n",
      " [0.79196334]\n",
      " [0.7871629 ]\n",
      " [0.8059456 ]\n",
      " [0.8226291 ]\n",
      " [0.7825661 ]\n",
      " [0.8285672 ]\n",
      " [0.7836854 ]\n",
      " [0.8297725 ]\n",
      " [0.83440685]\n",
      " [0.8265005 ]\n",
      " [0.8293196 ]\n",
      " [0.8151133 ]\n",
      " [0.83440685]\n",
      " [0.83643985]\n",
      " [0.82684314]\n",
      " [0.80756104]\n",
      " [0.8281217 ]\n",
      " [0.802776  ]\n",
      " [0.80324423]\n",
      " [0.8091415 ]\n",
      " [0.8281217 ]\n",
      " [0.8285672 ]\n",
      " [0.8084066 ]\n",
      " [0.801689  ]\n",
      " [0.8248782 ]\n",
      " [0.83511883]\n",
      " [0.80756104]\n",
      " [0.8061439 ]\n",
      " [0.79209566]\n",
      " [0.8328825 ]\n",
      " [0.80324423]\n",
      " [0.8226291 ]\n",
      " [0.8256415 ]\n",
      " [0.82428634]\n",
      " [0.79196334]\n",
      " [0.83338994]\n",
      " [0.79559565]\n",
      " [0.8285691 ]\n",
      " [0.801088  ]\n",
      " [0.81379837]\n",
      " [0.79196334]\n",
      " [0.8059456 ]\n",
      " [0.8297725 ]\n",
      " [0.801088  ]\n",
      " [0.83440685]\n",
      " [0.8061439 ]\n",
      " [0.801088  ]\n",
      " [0.814342  ]\n",
      " [0.8360555 ]\n",
      " [0.8303007 ]\n",
      " [0.8256415 ]\n",
      " [0.8331928 ]\n",
      " [0.8226291 ]\n",
      " [0.83253944]\n",
      " [0.82432175]\n",
      " [0.80661166]\n",
      " [0.8151133 ]\n",
      " [0.82428634]\n",
      " [0.83440685]\n",
      " [0.82432663]\n",
      " [0.8176507 ]\n",
      " [0.8039801 ]\n",
      " [0.81996304]\n",
      " [0.8127372 ]\n",
      " [0.8127372 ]\n",
      " [0.79424167]\n",
      " [0.8061439 ]\n",
      " [0.82432175]\n",
      " [0.8147744 ]\n",
      " [0.79559565]\n",
      " [0.8061439 ]\n",
      " [0.8293196 ]\n",
      " [0.81846476]\n",
      " [0.83440685]\n",
      " [0.82432175]\n",
      " [0.8128758 ]\n",
      " [0.82428634]\n",
      " [0.79559565]\n",
      " [0.7836854 ]\n",
      " [0.80756104]\n",
      " [0.8360555 ]\n",
      " [0.82417274]\n",
      " [0.8110589 ]\n",
      " [0.7969944 ]\n",
      " [0.8285672 ]\n",
      " [0.802776  ]\n",
      " [0.83440685]\n",
      " [0.8091055 ]\n",
      " [0.8285691 ]\n",
      " [0.79196334]\n",
      " [0.8151133 ]\n",
      " [0.81379837]\n",
      " [0.81656456]\n",
      " [0.7731102 ]\n",
      " [0.81608456]\n",
      " [0.81951463]\n",
      " [0.830637  ]\n",
      " [0.82432175]\n",
      " [0.83440685]\n",
      " [0.8089315 ]\n",
      " [0.8176507 ]\n",
      " [0.82563704]\n",
      " [0.7969944 ]\n",
      " [0.84010565]\n",
      " [0.83440685]\n",
      " [0.84010565]\n",
      " [0.8248782 ]\n",
      " [0.8265005 ]\n",
      " [0.777643  ]\n",
      " [0.81951463]\n",
      " [0.80756104]\n",
      " [0.79156893]\n",
      " [0.8321384 ]\n",
      " [0.83440685]\n",
      " [0.79196334]\n",
      " [0.8248782 ]\n",
      " [0.83962405]\n",
      " [0.83440685]\n",
      " [0.81846476]\n",
      " [0.7900933 ]\n",
      " [0.7943675 ]\n",
      " [0.8233267 ]\n",
      " [0.8392652 ]\n",
      " [0.8297725 ]\n",
      " [0.8133632 ]\n",
      " [0.79424167]\n",
      " [0.8176507 ]\n",
      " [0.8190461 ]\n",
      " [0.81008756]\n",
      " [0.8102493 ]\n",
      " [0.8281217 ]\n",
      " [0.8133632 ]\n",
      " [0.823581  ]\n",
      " [0.8309647 ]\n",
      " [0.801088  ]\n",
      " [0.83440685]\n",
      " [0.83203256]\n",
      " [0.81504273]\n",
      " [0.79559565]\n",
      " [0.8283865 ]\n",
      " [0.80411327]\n",
      " [0.80820394]\n",
      " [0.83440685]\n",
      " [0.8139864 ]\n",
      " [0.8141786 ]\n",
      " [0.7808094 ]\n",
      " [0.8331401 ]\n",
      " [0.8248782 ]\n",
      " [0.8141786 ]\n",
      " [0.79559565]\n",
      " [0.75987214]\n",
      " [0.79424167]\n",
      " [0.83440685]\n",
      " [0.801088  ]\n",
      " [0.802776  ]\n",
      " [0.83440685]\n",
      " [0.81608456]\n",
      " [0.8033706 ]\n",
      " [0.8285691 ]\n",
      " [0.7969944 ]\n",
      " [0.8193886 ]\n",
      " [0.82428634]\n",
      " [0.8285691 ]\n",
      " [0.83338994]\n",
      " [0.8331928 ]\n",
      " [0.83915854]\n",
      " [0.8190461 ]\n",
      " [0.8297725 ]\n",
      " [0.7851348 ]\n",
      " [0.8281217 ]\n",
      " [0.8331928 ]\n",
      " [0.8358522 ]\n",
      " [0.81996304]\n",
      " [0.80276865]\n",
      " [0.8176507 ]\n",
      " [0.83440685]\n",
      " [0.82432175]\n",
      " [0.8257835 ]\n",
      " [0.79196334]\n",
      " [0.8226291 ]\n",
      " [0.8285691 ]]\n",
      "              precision    recall  f1-score   support\n",
      "\n",
      "         0.0       0.00      0.00      0.00       177\n",
      "         1.0       0.17      1.00      0.29        37\n",
      "\n",
      "    accuracy                           0.17       214\n",
      "   macro avg       0.09      0.50      0.15       214\n",
      "weighted avg       0.03      0.17      0.05       214\n",
      "\n",
      "[[  0 177]\n",
      " [  0  37]]\n"
     ]
    }
   ],
   "source": [
    "history = nn.fit(x_train_balanceado, y_train_balanceado, epochs=epochs, verbose=0, class_weight=class_weights, validation_data=(x_val_balanceado, y_val_balanceado))\n",
    "\n",
    "# Detalles de la red neuronal\n",
    "\n",
    "nn.summary()\n",
    "print('\\n\\n')\n",
    "\n",
    "y_pred = nn.predict(x_val_balanceado)\n",
    "print(y_pred)\n",
    "y_pred = y_pred > 0.5\n",
    "\n",
    "print(classification_report(y_val_balanceado, y_pred, zero_division=0))\n",
    "\n",
    "print(confusion_matrix(y_val_balanceado, y_pred))\n",
    "# La matriz de confusión en funcion del valor se le de a los pesos tiene una \n",
    "# precisión total para los registros de una clase y precisión nula para la otra clase"
   ]
  },
  {
   "cell_type": "markdown",
   "metadata": {
    "id": "UCtSYvuRvpBy"
   },
   "source": [
    "Otra técnica consiste en asignar un peso a cada clase para que lo tenga en cuenta en algoritmo de entrenamiento.\n",
    "Aprende lo que hace el parámetro ```class_weight``` de ```fit``` (https://keras.io/api/models/model_training_apis/#fit-method) y explícalo."
   ]
  },
  {
   "cell_type": "code",
   "execution_count": 52,
   "metadata": {
    "id": "CJfmolAdkGDY"
   },
   "outputs": [
    {
     "name": "stdout",
     "output_type": "stream",
     "text": [
      "{0: 0.6025459688826026, 1: 2.9379310344827587}\n"
     ]
    }
   ],
   "source": [
    "### -------------------------------------------------------------------------------\n",
    "### Assigna diferentes pesos a cada una de las clases\n",
    "### -------------------------------------------------------------------------------\n",
    "\n",
    "from sklearn.utils import class_weight\n",
    "\n",
    "class_weights = class_weight.compute_class_weight('balanced', classes=np.unique(y_train_balanceado), y=y_train_balanceado)\n",
    "\n",
    "class_weights = {0: class_weights[0], 1: class_weights[1]}\n",
    "\n",
    "print(class_weights)\n",
    "# El modelo para el atributo class_weights lo que hace es mutiplicarlo por el error obtenido en la función de error dependiendo de \n",
    "# la clase objetivo, con el fin de que el optimizador, al computar los errores de ciertas clases de forma mayor, tenderá a minimizar el\n",
    "# error en esas clases si tienen un weight en class_weights alto"
   ]
  },
  {
   "cell_type": "markdown",
   "metadata": {
    "id": "xNJ5dCdTyTBc"
   },
   "source": [
    "Vuelve a entrenar considerando distintos pesos y observa como varía el resultado de la matriz de confusión. Si es posible, intenta conseguir un modelo mejor y describe los resultados alcanzados."
   ]
  },
  {
   "cell_type": "code",
   "execution_count": 53,
   "metadata": {
    "id": "j4hMiyuSkQgK"
   },
   "outputs": [
    {
     "name": "stdout",
     "output_type": "stream",
     "text": [
      "Model: \"sequential_2\"\n",
      "_________________________________________________________________\n",
      " Layer (type)                Output Shape              Param #   \n",
      "=================================================================\n",
      " dense_8 (Dense)             (None, 12)                132       \n",
      "                                                                 \n",
      " dense_9 (Dense)             (None, 12)                156       \n",
      "                                                                 \n",
      " dense_10 (Dense)            (None, 1)                 13        \n",
      "                                                                 \n",
      "=================================================================\n",
      "Total params: 301\n",
      "Trainable params: 301\n",
      "Non-trainable params: 0\n",
      "_________________________________________________________________\n",
      "\n",
      "\n",
      "\n",
      "[[0.45036194]\n",
      " [0.47146556]\n",
      " [0.48943388]\n",
      " [0.51654196]\n",
      " [0.47146556]\n",
      " [0.49387464]\n",
      " [0.51548564]\n",
      " [0.5031908 ]\n",
      " [0.45036194]\n",
      " [0.43385798]\n",
      " [0.51269805]\n",
      " [0.46584988]\n",
      " [0.4873763 ]\n",
      " [0.47761458]\n",
      " [0.50227994]\n",
      " [0.4810891 ]\n",
      " [0.5181898 ]\n",
      " [0.46584988]\n",
      " [0.5066065 ]\n",
      " [0.5136123 ]\n",
      " [0.5146269 ]\n",
      " [0.5206741 ]\n",
      " [0.4851255 ]\n",
      " [0.5167299 ]\n",
      " [0.47146556]\n",
      " [0.5167299 ]\n",
      " [0.52241737]\n",
      " [0.4737748 ]\n",
      " [0.522197  ]\n",
      " [0.5181298 ]\n",
      " [0.4980098 ]\n",
      " [0.4985598 ]\n",
      " [0.5166121 ]\n",
      " [0.522197  ]\n",
      " [0.47048044]\n",
      " [0.5167299 ]\n",
      " [0.554709  ]\n",
      " [0.5061661 ]\n",
      " [0.4885429 ]\n",
      " [0.49196917]\n",
      " [0.5612046 ]\n",
      " [0.5146269 ]\n",
      " [0.5019235 ]\n",
      " [0.49196917]\n",
      " [0.5350863 ]\n",
      " [0.52814496]\n",
      " [0.5206741 ]\n",
      " [0.5234415 ]\n",
      " [0.49472478]\n",
      " [0.5206741 ]\n",
      " [0.52205664]\n",
      " [0.4851255 ]\n",
      " [0.4851255 ]\n",
      " [0.48943388]\n",
      " [0.5274507 ]\n",
      " [0.49301246]\n",
      " [0.5273174 ]\n",
      " [0.5237403 ]\n",
      " [0.45036194]\n",
      " [0.5166121 ]\n",
      " [0.5181298 ]\n",
      " [0.5237403 ]\n",
      " [0.5136123 ]\n",
      " [0.44679672]\n",
      " [0.5181298 ]\n",
      " [0.4873763 ]\n",
      " [0.47048044]\n",
      " [0.4851255 ]\n",
      " [0.5612046 ]\n",
      " [0.47048044]\n",
      " [0.5052501 ]\n",
      " [0.5181298 ]\n",
      " [0.46584988]\n",
      " [0.4810891 ]\n",
      " [0.52108634]\n",
      " [0.49758255]\n",
      " [0.5167299 ]\n",
      " [0.46584988]\n",
      " [0.47048044]\n",
      " [0.5070415 ]\n",
      " [0.5167299 ]\n",
      " [0.49758255]\n",
      " [0.5181016 ]\n",
      " [0.47146556]\n",
      " [0.53526187]\n",
      " [0.46584988]\n",
      " [0.48330796]\n",
      " [0.4851255 ]\n",
      " [0.46289438]\n",
      " [0.51211166]\n",
      " [0.49847576]\n",
      " [0.51239413]\n",
      " [0.525599  ]\n",
      " [0.50290096]\n",
      " [0.51239413]\n",
      " [0.4851255 ]\n",
      " [0.44327864]\n",
      " [0.51239413]\n",
      " [0.5136123 ]\n",
      " [0.5234724 ]\n",
      " [0.5167299 ]\n",
      " [0.5176032 ]\n",
      " [0.52241737]\n",
      " [0.49387464]\n",
      " [0.51548564]\n",
      " [0.43808863]\n",
      " [0.47816634]\n",
      " [0.5298505 ]\n",
      " [0.47761458]\n",
      " [0.4934964 ]\n",
      " [0.49196917]\n",
      " [0.5034803 ]\n",
      " [0.45910114]\n",
      " [0.55151105]\n",
      " [0.48236066]\n",
      " [0.5400781 ]\n",
      " [0.51453406]\n",
      " [0.52120864]\n",
      " [0.49196917]\n",
      " [0.5440895 ]\n",
      " [0.5176032 ]\n",
      " [0.46584988]\n",
      " [0.5101741 ]\n",
      " [0.5167299 ]\n",
      " [0.4810891 ]\n",
      " [0.4789878 ]\n",
      " [0.52241737]\n",
      " [0.51735   ]\n",
      " [0.5166121 ]\n",
      " [0.51548564]\n",
      " [0.5274507 ]\n",
      " [0.5167299 ]\n",
      " [0.5648458 ]\n",
      " [0.49847576]\n",
      " [0.5234415 ]\n",
      " [0.45987684]\n",
      " [0.47048044]\n",
      " [0.49140403]\n",
      " [0.49385533]\n",
      " [0.5110045 ]\n",
      " [0.49140403]\n",
      " [0.50768435]\n",
      " [0.51548564]\n",
      " [0.4851255 ]\n",
      " [0.5167299 ]\n",
      " [0.4868942 ]\n",
      " [0.49758255]\n",
      " [0.51210064]\n",
      " [0.47542253]\n",
      " [0.5275748 ]\n",
      " [0.5274507 ]\n",
      " [0.5274507 ]\n",
      " [0.5113606 ]\n",
      " [0.5029768 ]\n",
      " [0.5151306 ]\n",
      " [0.5181016 ]\n",
      " [0.4317406 ]\n",
      " [0.5400549 ]\n",
      " [0.5274506 ]\n",
      " [0.49983755]\n",
      " [0.48470858]\n",
      " [0.51918834]\n",
      " [0.51055044]\n",
      " [0.5645776 ]\n",
      " [0.49838313]\n",
      " [0.4829617 ]\n",
      " [0.52462626]\n",
      " [0.47981238]\n",
      " [0.52411413]\n",
      " [0.47146556]\n",
      " [0.5258643 ]\n",
      " [0.5244103 ]\n",
      " [0.50254506]\n",
      " [0.47613424]\n",
      " [0.5167299 ]\n",
      " [0.49196917]\n",
      " [0.49385533]\n",
      " [0.46584988]\n",
      " [0.5181298 ]\n",
      " [0.47048044]\n",
      " [0.49765983]\n",
      " [0.5181298 ]\n",
      " [0.4851255 ]\n",
      " [0.51548564]\n",
      " [0.49387464]\n",
      " [0.47048044]\n",
      " [0.52884823]\n",
      " [0.5302455 ]\n",
      " [0.4851255 ]\n",
      " [0.5052501 ]\n",
      " [0.4318651 ]\n",
      " [0.51548564]\n",
      " [0.49472478]\n",
      " [0.46730945]\n",
      " [0.56292003]\n",
      " [0.5181298 ]\n",
      " [0.4789878 ]\n",
      " [0.5260724 ]\n",
      " [0.4851255 ]\n",
      " [0.5274507 ]\n",
      " [0.47146556]\n",
      " [0.44679672]\n",
      " [0.47400755]\n",
      " [0.46289438]\n",
      " [0.5181298 ]\n",
      " [0.51735   ]\n",
      " [0.51211166]\n",
      " [0.47761458]\n",
      " [0.46584988]\n",
      " [0.5242903 ]\n",
      " [0.47146556]\n",
      " [0.5181298 ]\n",
      " [0.47307822]\n",
      " [0.4810891 ]]\n",
      "              precision    recall  f1-score   support\n",
      "\n",
      "         0.0       0.96      0.54      0.69       177\n",
      "         1.0       0.29      0.89      0.43        37\n",
      "\n",
      "    accuracy                           0.60       214\n",
      "   macro avg       0.62      0.71      0.56       214\n",
      "weighted avg       0.84      0.60      0.64       214\n",
      "\n",
      "[[95 82]\n",
      " [ 4 33]]\n"
     ]
    }
   ],
   "source": [
    "history = nn.fit(x_train_balanceado, y_train_balanceado, epochs=epochs, verbose=0, class_weight=class_weights, validation_data=(x_val_balanceado, y_val_balanceado))\n",
    "\n",
    "# Detalles de la red neuronal\n",
    "\n",
    "nn.summary()\n",
    "print('\\n\\n')\n",
    "\n",
    "y_pred = nn.predict(x_val)\n",
    "print(y_pred)\n",
    "y_pred = y_pred > 0.5\n",
    "print(classification_report(y_val, y_pred, zero_division=0))\n",
    "\n",
    "print(confusion_matrix(y_val, y_pred))"
   ]
  },
  {
   "cell_type": "markdown",
   "metadata": {
    "id": "Z8E37UJTNqtg"
   },
   "source": [
    "### <font color=\"#CA3532\">Optimización del diseño de la red neuronal</font>\n",
    "\n",
    "- Cambiad la arquitectura de la red neuronal introduciendo más capas y neuronas para conseguir mejores resultados:\n",
    " - Añadid más capas o diferente tipo de capas.\n",
    " - Cambiad las funciones de activación.\n",
    " - Cambiad la función de error o el optimizador.\n",
    "\n",
    "- Utilizad ```tuner``` para la búsqueda de estos hiperparámetros (https://keras.io/keras_tuner/).\n"
   ]
  },
  {
   "cell_type": "code",
   "execution_count": 87,
   "metadata": {
    "id": "i0iByM16ywAk"
   },
   "outputs": [
    {
     "name": "stdout",
     "output_type": "stream",
     "text": [
      "Collecting package metadata (current_repodata.json): ...working... done\n",
      "Solving environment: ...working... failed with initial frozen solve. Retrying with flexible solve.\n",
      "Collecting package metadata (repodata.json): ...working... done\n",
      "Solving environment: ...working... failed with initial frozen solve. Retrying with flexible solve.\n"
     ]
    },
    {
     "name": "stderr",
     "output_type": "stream",
     "text": [
      "\n",
      "PackagesNotFoundError: The following packages are not available from current channels:\n",
      "\n",
      "  - python=3.6.0\n",
      "\n",
      "Current channels:\n",
      "\n",
      "  - https://repo.anaconda.com/pkgs/main/win-64\n",
      "  - https://repo.anaconda.com/pkgs/main/noarch\n",
      "  - https://repo.anaconda.com/pkgs/r/win-64\n",
      "  - https://repo.anaconda.com/pkgs/r/noarch\n",
      "  - https://repo.anaconda.com/pkgs/msys2/win-64\n",
      "  - https://repo.anaconda.com/pkgs/msys2/noarch\n",
      "\n",
      "To search for alternate channels that may provide the conda package you're\n",
      "looking for, navigate to\n",
      "\n",
      "    https://anaconda.org\n",
      "\n",
      "and use the search bar at the top of the page.\n",
      "\n",
      "\n"
     ]
    },
    {
     "name": "stdout",
     "output_type": "stream",
     "text": [
      "Collecting numpy==1.19.1\n",
      "  Using cached numpy-1.19.1.zip (7.3 MB)\n",
      "  Installing build dependencies: started\n",
      "  Installing build dependencies: finished with status 'done'\n",
      "  Getting requirements to build wheel: started\n",
      "  Getting requirements to build wheel: finished with status 'done'\n",
      "    Preparing wheel metadata: started\n",
      "    Preparing wheel metadata: finished with status 'error'\n"
     ]
    },
    {
     "name": "stderr",
     "output_type": "stream",
     "text": [
      "    ERROR: Command errored out with exit status 1:\n",
      "     command: 'C:\\Users\\santo\\anaconda3\\python.exe' 'C:\\Users\\santo\\anaconda3\\lib\\site-packages\\pip\\_vendor\\pep517\\in_process\\_in_process.py' prepare_metadata_for_build_wheel 'C:\\Users\\santo\\AppData\\Local\\Temp\\tmpz2g5zeh9'\n",
      "         cwd: C:\\Users\\santo\\AppData\\Local\\Temp\\pip-install-nbxkf2r8\\numpy_b3ed6f35b31c44e9ad8ccbf70f338afd\n",
      "    Complete output (204 lines):\n",
      "    Running from numpy source directory.\n",
      "    setup.py:470: UserWarning: Unrecognized setuptools command, proceeding with generating Cython sources and expanding templates\n",
      "      run_build = parse_setuppy_commands()\n",
      "    Cythonizing sources\n",
      "    Processing numpy/random\\_bounded_integers.pxd.in\n",
      "    Processing numpy/random\\bit_generator.pyx\n",
      "    C:\\Users\\santo\\AppData\\Local\\Temp\\pip-install-nbxkf2r8\\numpy_b3ed6f35b31c44e9ad8ccbf70f338afd\\tools\\cythonize.py:73: DeprecationWarning: distutils Version classes are deprecated. Use packaging.version instead.\n",
      "      required_version = LooseVersion('0.29.21')\n",
      "    C:\\Users\\santo\\AppData\\Local\\Temp\\pip-install-nbxkf2r8\\numpy_b3ed6f35b31c44e9ad8ccbf70f338afd\\tools\\cythonize.py:75: DeprecationWarning: distutils Version classes are deprecated. Use packaging.version instead.\n",
      "      if LooseVersion(cython_version) < required_version:\n",
      "    Processing numpy/random\\mtrand.pyx\n",
      "    Processing numpy/random\\_bounded_integers.pyx.in\n",
      "    Processing numpy/random\\_common.pyx\n",
      "    Processing numpy/random\\_generator.pyx\n",
      "    Processing numpy/random\\_mt19937.pyx\n",
      "    Processing numpy/random\\_pcg64.pyx\n",
      "    Processing numpy/random\\_philox.pyx\n",
      "    Processing numpy/random\\_sfc64.pyx\n",
      "    blas_opt_info:\n",
      "    blas_mkl_info:\n",
      "    No module named 'numpy.distutils._msvccompiler' in numpy.distutils; trying from distutils\n",
      "    customize MSVCCompiler\n",
      "      libraries mkl_rt not found in ['C:\\\\Users\\\\santo\\\\anaconda3\\\\lib', 'C:\\\\', 'C:\\\\Users\\\\santo\\\\anaconda3\\\\libs']\n",
      "      NOT AVAILABLE\n",
      "    \n",
      "    blis_info:\n",
      "      libraries blis not found in ['C:\\\\Users\\\\santo\\\\anaconda3\\\\lib', 'C:\\\\', 'C:\\\\Users\\\\santo\\\\anaconda3\\\\libs']\n",
      "      NOT AVAILABLE\n",
      "    \n",
      "    openblas_info:\n",
      "      libraries openblas not found in ['C:\\\\Users\\\\santo\\\\anaconda3\\\\lib', 'C:\\\\', 'C:\\\\Users\\\\santo\\\\anaconda3\\\\libs']\n",
      "    get_default_fcompiler: matching types: '['gnu', 'intelv', 'absoft', 'compaqv', 'intelev', 'gnu95', 'g95', 'intelvem', 'intelem', 'flang']'\n",
      "    customize GnuFCompiler\n",
      "    Could not locate executable g77\n",
      "    Could not locate executable f77\n",
      "    customize IntelVisualFCompiler\n",
      "    Could not locate executable ifort\n",
      "    Could not locate executable ifl\n",
      "    customize AbsoftFCompiler\n",
      "    Could not locate executable f90\n",
      "    customize CompaqVisualFCompiler\n",
      "    Could not locate executable DF\n",
      "    customize IntelItaniumVisualFCompiler\n",
      "    Could not locate executable efl\n",
      "    customize Gnu95FCompiler\n",
      "    Could not locate executable gfortran\n",
      "    Could not locate executable f95\n",
      "    customize G95FCompiler\n",
      "    Could not locate executable g95\n",
      "    customize IntelEM64VisualFCompiler\n",
      "    customize IntelEM64TFCompiler\n",
      "    Could not locate executable efort\n",
      "    Could not locate executable efc\n",
      "    customize PGroupFlangCompiler\n",
      "    Could not locate executable flang\n",
      "    don't know how to compile Fortran code on platform 'nt'\n",
      "      NOT AVAILABLE\n",
      "    \n",
      "    atlas_3_10_blas_threads_info:\n",
      "    Setting PTATLAS=ATLAS\n",
      "      libraries tatlas not found in ['C:\\\\Users\\\\santo\\\\anaconda3\\\\lib', 'C:\\\\', 'C:\\\\Users\\\\santo\\\\anaconda3\\\\libs']\n",
      "      NOT AVAILABLE\n",
      "    \n",
      "    atlas_3_10_blas_info:\n",
      "      libraries satlas not found in ['C:\\\\Users\\\\santo\\\\anaconda3\\\\lib', 'C:\\\\', 'C:\\\\Users\\\\santo\\\\anaconda3\\\\libs']\n",
      "      NOT AVAILABLE\n",
      "    \n",
      "    atlas_blas_threads_info:\n",
      "    Setting PTATLAS=ATLAS\n",
      "      libraries ptf77blas,ptcblas,atlas not found in ['C:\\\\Users\\\\santo\\\\anaconda3\\\\lib', 'C:\\\\', 'C:\\\\Users\\\\santo\\\\anaconda3\\\\libs']\n",
      "      NOT AVAILABLE\n",
      "    \n",
      "    atlas_blas_info:\n",
      "      libraries f77blas,cblas,atlas not found in ['C:\\\\Users\\\\santo\\\\anaconda3\\\\lib', 'C:\\\\', 'C:\\\\Users\\\\santo\\\\anaconda3\\\\libs']\n",
      "      NOT AVAILABLE\n",
      "    \n",
      "    accelerate_info:\n",
      "      NOT AVAILABLE\n",
      "    \n",
      "    C:\\Users\\santo\\AppData\\Local\\Temp\\pip-install-nbxkf2r8\\numpy_b3ed6f35b31c44e9ad8ccbf70f338afd\\numpy\\distutils\\system_info.py:1914: UserWarning:\n",
      "        Optimized (vendor) Blas libraries are not found.\n",
      "        Falls back to netlib Blas library which has worse performance.\n",
      "        A better performance should be easily gained by switching\n",
      "        Blas library.\n",
      "      if self._calc_info(blas):\n",
      "    blas_info:\n",
      "      libraries blas not found in ['C:\\\\Users\\\\santo\\\\anaconda3\\\\lib', 'C:\\\\', 'C:\\\\Users\\\\santo\\\\anaconda3\\\\libs']\n",
      "      NOT AVAILABLE\n",
      "    \n",
      "    C:\\Users\\santo\\AppData\\Local\\Temp\\pip-install-nbxkf2r8\\numpy_b3ed6f35b31c44e9ad8ccbf70f338afd\\numpy\\distutils\\system_info.py:1914: UserWarning:\n",
      "        Blas (http://www.netlib.org/blas/) libraries not found.\n",
      "        Directories to search for the libraries can be specified in the\n",
      "        numpy/distutils/site.cfg file (section [blas]) or by setting\n",
      "        the BLAS environment variable.\n",
      "      if self._calc_info(blas):\n",
      "    blas_src_info:\n",
      "      NOT AVAILABLE\n",
      "    \n",
      "    C:\\Users\\santo\\AppData\\Local\\Temp\\pip-install-nbxkf2r8\\numpy_b3ed6f35b31c44e9ad8ccbf70f338afd\\numpy\\distutils\\system_info.py:1914: UserWarning:\n",
      "        Blas (http://www.netlib.org/blas/) sources not found.\n",
      "        Directories to search for the sources can be specified in the\n",
      "        numpy/distutils/site.cfg file (section [blas_src]) or by setting\n",
      "        the BLAS_SRC environment variable.\n",
      "      if self._calc_info(blas):\n",
      "      NOT AVAILABLE\n",
      "    \n",
      "    non-existing path in 'numpy\\\\distutils': 'site.cfg'\n",
      "    lapack_opt_info:\n",
      "    lapack_mkl_info:\n",
      "      libraries mkl_rt not found in ['C:\\\\Users\\\\santo\\\\anaconda3\\\\lib', 'C:\\\\', 'C:\\\\Users\\\\santo\\\\anaconda3\\\\libs']\n",
      "      NOT AVAILABLE\n",
      "    \n",
      "    openblas_lapack_info:\n",
      "      libraries openblas not found in ['C:\\\\Users\\\\santo\\\\anaconda3\\\\lib', 'C:\\\\', 'C:\\\\Users\\\\santo\\\\anaconda3\\\\libs']\n",
      "      NOT AVAILABLE\n",
      "    \n",
      "    openblas_clapack_info:\n",
      "      libraries openblas,lapack not found in ['C:\\\\Users\\\\santo\\\\anaconda3\\\\lib', 'C:\\\\', 'C:\\\\Users\\\\santo\\\\anaconda3\\\\libs']\n",
      "      NOT AVAILABLE\n",
      "    \n",
      "    flame_info:\n",
      "      libraries flame not found in ['C:\\\\Users\\\\santo\\\\anaconda3\\\\lib', 'C:\\\\', 'C:\\\\Users\\\\santo\\\\anaconda3\\\\libs']\n",
      "      NOT AVAILABLE\n",
      "    \n",
      "    atlas_3_10_threads_info:\n",
      "    Setting PTATLAS=ATLAS\n",
      "      libraries lapack_atlas not found in C:\\Users\\santo\\anaconda3\\lib\n",
      "      libraries tatlas,tatlas not found in C:\\Users\\santo\\anaconda3\\lib\n",
      "      libraries lapack_atlas not found in C:\\\n",
      "      libraries tatlas,tatlas not found in C:\\\n",
      "      libraries lapack_atlas not found in C:\\Users\\santo\\anaconda3\\libs\n",
      "      libraries tatlas,tatlas not found in C:\\Users\\santo\\anaconda3\\libs\n",
      "    <class 'numpy.distutils.system_info.atlas_3_10_threads_info'>\n",
      "      NOT AVAILABLE\n",
      "    \n",
      "    atlas_3_10_info:\n",
      "      libraries lapack_atlas not found in C:\\Users\\santo\\anaconda3\\lib\n",
      "      libraries satlas,satlas not found in C:\\Users\\santo\\anaconda3\\lib\n",
      "      libraries lapack_atlas not found in C:\\\n",
      "      libraries satlas,satlas not found in C:\\\n",
      "      libraries lapack_atlas not found in C:\\Users\\santo\\anaconda3\\libs\n",
      "      libraries satlas,satlas not found in C:\\Users\\santo\\anaconda3\\libs\n",
      "    <class 'numpy.distutils.system_info.atlas_3_10_info'>\n",
      "      NOT AVAILABLE\n",
      "    \n",
      "    atlas_threads_info:\n",
      "    Setting PTATLAS=ATLAS\n",
      "      libraries lapack_atlas not found in C:\\Users\\santo\\anaconda3\\lib\n",
      "      libraries ptf77blas,ptcblas,atlas not found in C:\\Users\\santo\\anaconda3\\lib\n",
      "      libraries lapack_atlas not found in C:\\\n",
      "      libraries ptf77blas,ptcblas,atlas not found in C:\\\n",
      "      libraries lapack_atlas not found in C:\\Users\\santo\\anaconda3\\libs\n",
      "      libraries ptf77blas,ptcblas,atlas not found in C:\\Users\\santo\\anaconda3\\libs\n",
      "    <class 'numpy.distutils.system_info.atlas_threads_info'>\n",
      "      NOT AVAILABLE\n",
      "    \n",
      "    atlas_info:\n",
      "      libraries lapack_atlas not found in C:\\Users\\santo\\anaconda3\\lib\n",
      "      libraries f77blas,cblas,atlas not found in C:\\Users\\santo\\anaconda3\\lib\n",
      "      libraries lapack_atlas not found in C:\\\n",
      "      libraries f77blas,cblas,atlas not found in C:\\\n",
      "      libraries lapack_atlas not found in C:\\Users\\santo\\anaconda3\\libs\n",
      "      libraries f77blas,cblas,atlas not found in C:\\Users\\santo\\anaconda3\\libs\n",
      "    <class 'numpy.distutils.system_info.atlas_info'>\n",
      "      NOT AVAILABLE\n",
      "    \n",
      "    lapack_info:\n",
      "      libraries lapack not found in ['C:\\\\Users\\\\santo\\\\anaconda3\\\\lib', 'C:\\\\', 'C:\\\\Users\\\\santo\\\\anaconda3\\\\libs']\n",
      "      NOT AVAILABLE\n",
      "    \n",
      "    C:\\Users\\santo\\AppData\\Local\\Temp\\pip-install-nbxkf2r8\\numpy_b3ed6f35b31c44e9ad8ccbf70f338afd\\numpy\\distutils\\system_info.py:1748: UserWarning:\n",
      "        Lapack (http://www.netlib.org/lapack/) libraries not found.\n",
      "        Directories to search for the libraries can be specified in the\n",
      "        numpy/distutils/site.cfg file (section [lapack]) or by setting\n",
      "        the LAPACK environment variable.\n",
      "      return getattr(self, '_calc_info_{}'.format(name))()\n",
      "    lapack_src_info:\n",
      "      NOT AVAILABLE\n",
      "    \n",
      "    C:\\Users\\santo\\AppData\\Local\\Temp\\pip-install-nbxkf2r8\\numpy_b3ed6f35b31c44e9ad8ccbf70f338afd\\numpy\\distutils\\system_info.py:1748: UserWarning:\n",
      "        Lapack (http://www.netlib.org/lapack/) sources not found.\n",
      "        Directories to search for the sources can be specified in the\n",
      "        numpy/distutils/site.cfg file (section [lapack_src]) or by setting\n",
      "        the LAPACK_SRC environment variable.\n",
      "      return getattr(self, '_calc_info_{}'.format(name))()\n",
      "      NOT AVAILABLE\n",
      "    \n",
      "    numpy_linalg_lapack_lite:\n",
      "      FOUND:\n",
      "        language = c\n",
      "        define_macros = [('HAVE_BLAS_ILP64', None), ('BLAS_SYMBOL_SUFFIX', '64_')]\n",
      "    \n",
      "    C:\\Users\\santo\\AppData\\Local\\Temp\\pip-build-env-n9qwkhwh\\overlay\\Lib\\site-packages\\setuptools\\_distutils\\dist.py:275: UserWarning: Unknown distribution option: 'define_macros'\n",
      "      warnings.warn(msg)\n",
      "    running dist_info\n",
      "    running build_src\n",
      "    build_src\n",
      "    building py_modules sources\n",
      "    creating build\n",
      "    creating build\\src.win-amd64-3.9\n",
      "    creating build\\src.win-amd64-3.9\\numpy\n",
      "    creating build\\src.win-amd64-3.9\\numpy\\distutils\n",
      "    building library \"npymath\" sources\n",
      "    error: Microsoft Visual C++ 14.0 or greater is required. Get it with \"Microsoft C++ Build Tools\": https://visualstudio.microsoft.com/visual-cpp-build-tools/\n",
      "    ----------------------------------------\n",
      "WARNING: Discarding https://files.pythonhosted.org/packages/2c/2f/7b4d0b639a42636362827e611cfeba67975ec875ae036dd846d459d52652/numpy-1.19.1.zip#sha256=b8456987b637232602ceb4d663cb34106f7eb780e247d51a260b84760fd8f491 (from https://pypi.org/simple/numpy/) (requires-python:>=3.6). Command errored out with exit status 1: 'C:\\Users\\santo\\anaconda3\\python.exe' 'C:\\Users\\santo\\anaconda3\\lib\\site-packages\\pip\\_vendor\\pep517\\in_process\\_in_process.py' prepare_metadata_for_build_wheel 'C:\\Users\\santo\\AppData\\Local\\Temp\\tmpz2g5zeh9' Check the logs for full command output.\n",
      "ERROR: Could not find a version that satisfies the requirement numpy==1.19.1 (from versions: 1.3.0, 1.4.1, 1.5.0, 1.5.1, 1.6.0, 1.6.1, 1.6.2, 1.7.0, 1.7.1, 1.7.2, 1.8.0, 1.8.1, 1.8.2, 1.9.0, 1.9.1, 1.9.2, 1.9.3, 1.10.0.post2, 1.10.1, 1.10.2, 1.10.4, 1.11.0, 1.11.1, 1.11.2, 1.11.3, 1.12.0, 1.12.1, 1.13.0rc1, 1.13.0rc2, 1.13.0, 1.13.1, 1.13.3, 1.14.0rc1, 1.14.0, 1.14.1, 1.14.2, 1.14.3, 1.14.4, 1.14.5, 1.14.6, 1.15.0rc1, 1.15.0rc2, 1.15.0, 1.15.1, 1.15.2, 1.15.3, 1.15.4, 1.16.0rc1, 1.16.0rc2, 1.16.0, 1.16.1, 1.16.2, 1.16.3, 1.16.4, 1.16.5, 1.16.6, 1.17.0rc1, 1.17.0rc2, 1.17.0, 1.17.1, 1.17.2, 1.17.3, 1.17.4, 1.17.5, 1.18.0rc1, 1.18.0, 1.18.1, 1.18.2, 1.18.3, 1.18.4, 1.18.5, 1.19.0rc1, 1.19.0rc2, 1.19.0, 1.19.1, 1.19.2, 1.19.3, 1.19.4, 1.19.5, 1.20.0rc1, 1.20.0rc2, 1.20.0, 1.20.1, 1.20.2, 1.20.3, 1.21.0rc1, 1.21.0rc2, 1.21.0, 1.21.1, 1.21.2, 1.21.3, 1.21.4, 1.21.5, 1.21.6, 1.22.0rc1, 1.22.0rc2, 1.22.0rc3, 1.22.0, 1.22.1, 1.22.2, 1.22.3)\n",
      "ERROR: No matching distribution found for numpy==1.19.1\n"
     ]
    }
   ],
   "source": [
    "!pip3 install -U keras-tuner\n",
    "!conda install python=3.6.0\n",
    "!pip3 install numpy==1.19.1\n",
    "import keras_tuner\n",
    "from kerastuner.tuners import RandomSearch"
   ]
  },
  {
   "cell_type": "code",
   "execution_count": 101,
   "metadata": {
    "id": "uLcr7sg8M4RH"
   },
   "outputs": [
    {
     "name": "stdout",
     "output_type": "stream",
     "text": [
      "INFO:tensorflow:Reloading Oracle from existing project .\\untitled_project\\oracle.json\n",
      "INFO:tensorflow:Reloading Tuner from .\\untitled_project\\tuner0.json\n",
      "Search space summary\n",
      "Default search space size: 1\n",
      "learning_rate (Choice)\n",
      "{'default': 0.01, 'conditions': [], 'values': [0.01, 0.001, 0.0001], 'ordered': True}\n",
      "INFO:tensorflow:Oracle triggered exit\n",
      "Results summary\n",
      "Results in .\\untitled_project\n",
      "Showing 10 best trials\n",
      "<keras_tuner.engine.objective.Objective object at 0x0000024FF4A1ACD0>\n",
      "Trial summary\n",
      "Hyperparameters:\n",
      "learning_rate: 0.01\n",
      "Score: 0.7943925261497498\n",
      "Trial summary\n",
      "Hyperparameters:\n",
      "learning_rate: 0.001\n",
      "Score: 0.7897196213404337\n",
      "Trial summary\n",
      "Hyperparameters:\n",
      "learning_rate: 0.0001\n",
      "Score: 0.66978191335996\n",
      "WARNING:tensorflow:Detecting that an object or model or tf.train.Checkpoint is being deleted with unrestored values. See the following logs for the specific values in question. To silence these warnings, use `status.expect_partial()`. See https://www.tensorflow.org/api_docs/python/tf/train/Checkpoint#restorefor details about the status object returned by the restore function.\n",
      "WARNING:tensorflow:Value in checkpoint could not be found in the restored object: (root).optimizer.iter\n",
      "WARNING:tensorflow:Value in checkpoint could not be found in the restored object: (root).optimizer.beta_1\n",
      "WARNING:tensorflow:Value in checkpoint could not be found in the restored object: (root).optimizer.beta_2\n",
      "WARNING:tensorflow:Value in checkpoint could not be found in the restored object: (root).optimizer.decay\n",
      "WARNING:tensorflow:Value in checkpoint could not be found in the restored object: (root).optimizer.learning_rate\n",
      "WARNING:tensorflow:Value in checkpoint could not be found in the restored object: (root).optimizer's state 'm' for (root).layer_with_weights-0.kernel\n",
      "WARNING:tensorflow:Value in checkpoint could not be found in the restored object: (root).optimizer's state 'm' for (root).layer_with_weights-0.bias\n",
      "WARNING:tensorflow:Value in checkpoint could not be found in the restored object: (root).optimizer's state 'm' for (root).layer_with_weights-1.kernel\n",
      "WARNING:tensorflow:Value in checkpoint could not be found in the restored object: (root).optimizer's state 'm' for (root).layer_with_weights-1.bias\n",
      "WARNING:tensorflow:Value in checkpoint could not be found in the restored object: (root).optimizer's state 'm' for (root).layer_with_weights-2.kernel\n",
      "WARNING:tensorflow:Value in checkpoint could not be found in the restored object: (root).optimizer's state 'm' for (root).layer_with_weights-2.bias\n",
      "WARNING:tensorflow:Value in checkpoint could not be found in the restored object: (root).optimizer's state 'm' for (root).layer_with_weights-3.kernel\n",
      "WARNING:tensorflow:Value in checkpoint could not be found in the restored object: (root).optimizer's state 'm' for (root).layer_with_weights-3.bias\n",
      "WARNING:tensorflow:Value in checkpoint could not be found in the restored object: (root).optimizer's state 'v' for (root).layer_with_weights-0.kernel\n",
      "WARNING:tensorflow:Value in checkpoint could not be found in the restored object: (root).optimizer's state 'v' for (root).layer_with_weights-0.bias\n",
      "WARNING:tensorflow:Value in checkpoint could not be found in the restored object: (root).optimizer's state 'v' for (root).layer_with_weights-1.kernel\n",
      "WARNING:tensorflow:Value in checkpoint could not be found in the restored object: (root).optimizer's state 'v' for (root).layer_with_weights-1.bias\n",
      "WARNING:tensorflow:Value in checkpoint could not be found in the restored object: (root).optimizer's state 'v' for (root).layer_with_weights-2.kernel\n",
      "WARNING:tensorflow:Value in checkpoint could not be found in the restored object: (root).optimizer's state 'v' for (root).layer_with_weights-2.bias\n",
      "WARNING:tensorflow:Value in checkpoint could not be found in the restored object: (root).optimizer's state 'v' for (root).layer_with_weights-3.kernel\n",
      "WARNING:tensorflow:Value in checkpoint could not be found in the restored object: (root).optimizer's state 'v' for (root).layer_with_weights-3.bias\n",
      "[[113  64]\n",
      " [  7  30]]\n",
      "              precision    recall  f1-score   support\n",
      "\n",
      "         0.0       0.94      0.64      0.76       177\n",
      "         1.0       0.32      0.81      0.46        37\n",
      "\n",
      "    accuracy                           0.67       214\n",
      "   macro avg       0.63      0.72      0.61       214\n",
      "weighted avg       0.83      0.67      0.71       214\n",
      "\n"
     ]
    }
   ],
   "source": [
    "### -------------------------------------------------------\n",
    "### Define tu hipermodelo\n",
    "### -------------------------------------------------------\n",
    "\n",
    "# Función en stand by porque tiene un bug extraño\n",
    "\"\"\"\n",
    "# La combinación de la precisión y recall es lo que identifica el modelo con\n",
    "# mejor rendimiento para la clasificación binaria. Debido a que la métrica F-beta, \n",
    "# la cual es una combinación entre precisión y recall no se encuentra implementada\n",
    "# por Keras se ha diseñado una metrica personalizada apondandonos en la librería\n",
    "# sklearn la cual tiene una implementación para esta función\n",
    "from sklearn.metrics import fbeta_score\n",
    "def binary_fbeta(ytrue, ypred, beta=1.0, threshold=0.5):\n",
    "    ypred >= threshold\n",
    "    array = []\n",
    "    for i in y_pred[0]:\n",
    "        array.append(i)\n",
    "    #ypred = np.array(ypred)\n",
    "    print(ytrue)\n",
    "    print(array)\n",
    "    return fbeta_score(ytrue, array, beta)\n",
    "\"\"\"\n",
    "\n",
    "def build_model(hp):\n",
    "    nn = Sequential()\n",
    "    nn.add(Dense(hp.Int('units', 1, 100), activation=\"sigmoid\"))\n",
    "    nn.add(Dense(hp.Int('units', 1, 100), activation=\"sigmoid\"))\n",
    "    nn.add(Dense(hp.Int('units', 1, 100), activation=\"sigmoid\"))\n",
    "    nn.add(Dense(1, activation=\"sigmoid\"))\n",
    "    nn.compile(optimizer=keras.optimizers.Adam(hp.Choice('learning_rate', values=[1e-2, 1e-3, 1e-4])), loss=\"mse\", metrics=[tf.keras.metrics.AUC(from_logits=True)])\n",
    "    return nn\n",
    "\n",
    "### -------------------------------------------------------\n",
    "### Pon en marcha la búsqueda de hiperparámetros, elije el \n",
    "### objetivo más adecuado.\n",
    "### -------------------------------------------------------\n",
    "\n",
    "tuner = RandomSearch(build_model, objective='val_ACC', max_trials=50, executions_per_trial=3) \n",
    "\n",
    "tuner.search_space_summary()\n",
    "\n",
    "tuner.search(x_train_balanceado, y_train_balanceado, epochs=epochs, class_weight=class_weights, validation_data=(x_val_balanceado, y_val_balanceado), verbose=0)\n",
    "\n",
    "tuner.results_summary()\n",
    "\n",
    "best_nn = tuner.get_best_models(num_models=1)\n",
    "\n",
    "y_pred = best_nn[0].predict(x_val)\n",
    "y_pred = y_pred > 0.452\n",
    "\n",
    "print(confusion_matrix(y_val, y_pred))\n",
    "\n",
    "print(classification_report(y_val, y_pred, zero_division=0))"
   ]
  },
  {
   "cell_type": "code",
   "execution_count": 98,
   "metadata": {},
   "outputs": [],
   "source": [
    "# Import packages\n",
    "import numpy as np\n",
    "import pandas as pd\n",
    "import matplotlib.pyplot as plt\n",
    "import seaborn as sns\n",
    "from sklearn.model_selection import train_test_split\n",
    "from sklearn.model_selection import cross_val_score\n",
    "from keras.models import Sequential\n",
    "from keras.layers import Dense, BatchNormalization, Dropout\n",
    "from tensorflow.keras.optimizers import Adam, SGD, RMSprop, Adadelta, Adagrad, Adamax, Nadam, Ftrl\n",
    "from keras.callbacks import EarlyStopping, ModelCheckpoint\n",
    "from keras.wrappers.scikit_learn import KerasClassifier\n",
    "from math import floor\n",
    "from sklearn.metrics import make_scorer, accuracy_score\n",
    "from sklearn.metrics import mean_absolute_error\n",
    "from bayes_opt import BayesianOptimization\n",
    "from sklearn.model_selection import StratifiedKFold\n",
    "from keras.layers import LeakyReLU\n",
    "LeakyReLU = LeakyReLU(alpha=0.1)\n",
    "import warnings\n",
    "warnings.filterwarnings('ignore')\n",
    "pd.set_option(\"display.max_columns\", None)"
   ]
  },
  {
   "cell_type": "code",
   "execution_count": 99,
   "metadata": {},
   "outputs": [
    {
     "name": "stdout",
     "output_type": "stream",
     "text": [
      "Model: \"sequential\"\n",
      "_________________________________________________________________\n",
      " Layer (type)                Output Shape              Param #   \n",
      "=================================================================\n",
      " dense (Dense)               (None, 1)                 11        \n",
      "                                                                 \n",
      " dense_1 (Dense)             (None, 1)                 2         \n",
      "                                                                 \n",
      " dense_2 (Dense)             (None, 1)                 2         \n",
      "                                                                 \n",
      " dense_3 (Dense)             (None, 1)                 2         \n",
      "                                                                 \n",
      "=================================================================\n",
      "Total params: 17\n",
      "Trainable params: 17\n",
      "Non-trainable params: 0\n",
      "_________________________________________________________________\n"
     ]
    }
   ],
   "source": [
    "best_nn[0].summary()"
   ]
  },
  {
   "cell_type": "markdown",
   "metadata": {
    "id": "NnY8rX6HzZXU"
   },
   "source": [
    "### <font color=\"#CA3532\">Diseño final de la red neuronal</font>\n",
    "Define ahora tu modelo final y muestra los resultados de su evaluación."
   ]
  },
  {
   "cell_type": "code",
   "execution_count": 102,
   "metadata": {
    "id": "Dn7fBHo_zfaz"
   },
   "outputs": [
    {
     "name": "stdout",
     "output_type": "stream",
     "text": [
      "Epoch 1/50\n",
      "27/27 [==============================] - 1s 1ms/step - loss: 0.2527 - auc_1: 0.4961\n",
      "Epoch 2/50\n",
      "27/27 [==============================] - 0s 1ms/step - loss: 0.2502 - auc_1: 0.5040\n",
      "Epoch 3/50\n",
      "27/27 [==============================] - 0s 2ms/step - loss: 0.2495 - auc_1: 0.5279\n",
      "Epoch 4/50\n",
      "27/27 [==============================] - 0s 2ms/step - loss: 0.2493 - auc_1: 0.5527\n",
      "Epoch 5/50\n",
      "27/27 [==============================] - 0s 2ms/step - loss: 0.2490 - auc_1: 0.5711\n",
      "Epoch 6/50\n",
      "27/27 [==============================] - 0s 2ms/step - loss: 0.2485 - auc_1: 0.5910\n",
      "Epoch 7/50\n",
      "27/27 [==============================] - 0s 1ms/step - loss: 0.2473 - auc_1: 0.6502\n",
      "Epoch 8/50\n",
      "27/27 [==============================] - 0s 2ms/step - loss: 0.2460 - auc_1: 0.6933\n",
      "Epoch 9/50\n",
      "27/27 [==============================] - 0s 1ms/step - loss: 0.2445 - auc_1: 0.6931\n",
      "Epoch 10/50\n",
      "27/27 [==============================] - 0s 2ms/step - loss: 0.2431 - auc_1: 0.6882\n",
      "Epoch 11/50\n",
      "27/27 [==============================] - 0s 2ms/step - loss: 0.2406 - auc_1: 0.7010\n",
      "Epoch 12/50\n",
      "27/27 [==============================] - 0s 1ms/step - loss: 0.2382 - auc_1: 0.7033\n",
      "Epoch 13/50\n",
      "27/27 [==============================] - 0s 1ms/step - loss: 0.2354 - auc_1: 0.7031\n",
      "Epoch 14/50\n",
      "27/27 [==============================] - 0s 1ms/step - loss: 0.2322 - auc_1: 0.7064\n",
      "Epoch 15/50\n",
      "27/27 [==============================] - 0s 2ms/step - loss: 0.2292 - auc_1: 0.7075\n",
      "Epoch 16/50\n",
      "27/27 [==============================] - 0s 1ms/step - loss: 0.2264 - auc_1: 0.7101\n",
      "Epoch 17/50\n",
      "27/27 [==============================] - 0s 2ms/step - loss: 0.2234 - auc_1: 0.7088\n",
      "Epoch 18/50\n",
      "27/27 [==============================] - 0s 1ms/step - loss: 0.2209 - auc_1: 0.7130\n",
      "Epoch 19/50\n",
      "27/27 [==============================] - 0s 1ms/step - loss: 0.2189 - auc_1: 0.7213\n",
      "Epoch 20/50\n",
      "27/27 [==============================] - 0s 2ms/step - loss: 0.2170 - auc_1: 0.7161\n",
      "Epoch 21/50\n",
      "27/27 [==============================] - 0s 1ms/step - loss: 0.2157 - auc_1: 0.7117\n",
      "Epoch 22/50\n",
      "27/27 [==============================] - 0s 2ms/step - loss: 0.2146 - auc_1: 0.7151\n",
      "Epoch 23/50\n",
      "27/27 [==============================] - 0s 1ms/step - loss: 0.2142 - auc_1: 0.6974\n",
      "Epoch 24/50\n",
      "27/27 [==============================] - 0s 1ms/step - loss: 0.2130 - auc_1: 0.7105\n",
      "Epoch 25/50\n",
      "27/27 [==============================] - 0s 1ms/step - loss: 0.2125 - auc_1: 0.7112\n",
      "Epoch 26/50\n",
      "27/27 [==============================] - 0s 1ms/step - loss: 0.2117 - auc_1: 0.7118\n",
      "Epoch 27/50\n",
      "27/27 [==============================] - 0s 1ms/step - loss: 0.2114 - auc_1: 0.7077\n",
      "Epoch 28/50\n",
      "27/27 [==============================] - 0s 1ms/step - loss: 0.2111 - auc_1: 0.7082\n",
      "Epoch 29/50\n",
      "27/27 [==============================] - 0s 1ms/step - loss: 0.2110 - auc_1: 0.7035\n",
      "Epoch 30/50\n",
      "27/27 [==============================] - 0s 1ms/step - loss: 0.2107 - auc_1: 0.7285\n",
      "Epoch 31/50\n",
      "27/27 [==============================] - 0s 1ms/step - loss: 0.2104 - auc_1: 0.7153\n",
      "Epoch 32/50\n",
      "27/27 [==============================] - 0s 1ms/step - loss: 0.2109 - auc_1: 0.7046\n",
      "Epoch 33/50\n",
      "27/27 [==============================] - 0s 1ms/step - loss: 0.2101 - auc_1: 0.7020\n",
      "Epoch 34/50\n",
      "27/27 [==============================] - 0s 2ms/step - loss: 0.2114 - auc_1: 0.6988\n",
      "Epoch 35/50\n",
      "27/27 [==============================] - 0s 1ms/step - loss: 0.2110 - auc_1: 0.7035\n",
      "Epoch 36/50\n",
      "27/27 [==============================] - 0s 2ms/step - loss: 0.2101 - auc_1: 0.7035\n",
      "Epoch 37/50\n",
      "27/27 [==============================] - 0s 2ms/step - loss: 0.2097 - auc_1: 0.7089\n",
      "Epoch 38/50\n",
      "27/27 [==============================] - 0s 1ms/step - loss: 0.2104 - auc_1: 0.6974\n",
      "Epoch 39/50\n",
      "27/27 [==============================] - 0s 2ms/step - loss: 0.2098 - auc_1: 0.7145\n",
      "Epoch 40/50\n",
      "27/27 [==============================] - 0s 1ms/step - loss: 0.2096 - auc_1: 0.7084\n",
      "Epoch 41/50\n",
      "27/27 [==============================] - 0s 1ms/step - loss: 0.2100 - auc_1: 0.7022\n",
      "Epoch 42/50\n",
      "27/27 [==============================] - 0s 1ms/step - loss: 0.2096 - auc_1: 0.7120\n",
      "Epoch 43/50\n",
      "27/27 [==============================] - 0s 1ms/step - loss: 0.2096 - auc_1: 0.7077\n",
      "Epoch 44/50\n",
      "27/27 [==============================] - 0s 1ms/step - loss: 0.2101 - auc_1: 0.6997\n",
      "Epoch 45/50\n",
      "27/27 [==============================] - 0s 1ms/step - loss: 0.2095 - auc_1: 0.7042\n",
      "Epoch 46/50\n",
      "27/27 [==============================] - 0s 1ms/step - loss: 0.2102 - auc_1: 0.7192\n",
      "Epoch 47/50\n",
      "27/27 [==============================] - 0s 2ms/step - loss: 0.2099 - auc_1: 0.7080\n",
      "Epoch 48/50\n",
      "27/27 [==============================] - 0s 1ms/step - loss: 0.2095 - auc_1: 0.7056\n",
      "Epoch 49/50\n",
      "27/27 [==============================] - 0s 2ms/step - loss: 0.2094 - auc_1: 0.7014\n",
      "Epoch 50/50\n",
      "27/27 [==============================] - 0s 1ms/step - loss: 0.2098 - auc_1: 0.6859\n",
      "[[121  56]\n",
      " [  6  31]]\n",
      "              precision    recall  f1-score   support\n",
      "\n",
      "         0.0       0.95      0.68      0.80       177\n",
      "         1.0       0.36      0.84      0.50        37\n",
      "\n",
      "    accuracy                           0.71       214\n",
      "   macro avg       0.65      0.76      0.65       214\n",
      "weighted avg       0.85      0.71      0.74       214\n",
      "\n"
     ]
    }
   ],
   "source": [
    "### ---------------------------------------------------------------------------\n",
    "### Modelo final y evaluación\n",
    "### ---------------------------------------------------------------------------\n",
    "\n",
    "nn_final = Sequential()\n",
    "nn_final.add(Dense(1, activation=\"sigmoid\"))\n",
    "nn_final.add(Dense(1, activation=\"sigmoid\"))\n",
    "nn_final.add(Dense(1, activation=\"sigmoid\"))\n",
    "nn_final.add(Dense(1, activation=\"sigmoid\"))\n",
    "nn_final.compile(optimizer=keras.optimizers.Adam(learning_rate = 0.01), metrics=[tf.keras.metrics.AUC(from_logits=True)], loss=\"mse\")\n",
    "\n",
    "nn_final.fit(x=x_train_balanceado, y=y_train_balanceado, epochs=epochs, class_weight=class_weights)\n",
    "y_pred = nn_final.predict(x_val)\n",
    "y_pred = y_pred > 0.452\n",
    "\n",
    "print(confusion_matrix(y_val, y_pred))\n",
    "print(classification_report(y_val, y_pred, zero_division=0))"
   ]
  }
 ],
 "metadata": {
  "accelerator": "GPU",
  "colab": {
   "collapsed_sections": [],
   "name": "Neuro-P3-enunciado 2021-2022.ipynb",
   "provenance": [],
   "toc_visible": true
  },
  "kernelspec": {
   "display_name": "Python 3 (ipykernel)",
   "language": "python",
   "name": "python3"
  },
  "language_info": {
   "codemirror_mode": {
    "name": "ipython",
    "version": 3
   },
   "file_extension": ".py",
   "mimetype": "text/x-python",
   "name": "python",
   "nbconvert_exporter": "python",
   "pygments_lexer": "ipython3",
   "version": "3.9.7"
  }
 },
 "nbformat": 4,
 "nbformat_minor": 1
}
