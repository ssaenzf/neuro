{
 "cells": [
  {
   "cell_type": "markdown",
   "metadata": {
    "id": "PTK5XDjA81SI"
   },
   "source": [
    "---\n",
    "# <font color=\"#CA3532\">Práctica 3 de Neurocomputación</font>\n",
    "### Curso 2021-2022\n",
    "### Escuela Politécnica Superior – Universidad Autónoma de Madrid\n",
    "\n",
    "---\n",
    "\n",
    "Fechas de entrega:\n",
    "- Grupo 2462: lunes 16 de mayo de 2022\n",
    "- Grupo 2461: martes 17 de mayo de 2022\n",
    "\n",
    "---\n",
    "\n",
    "Última actualización: 31-03-2022\n",
    "\n",
    "---"
   ]
  },
  {
   "cell_type": "markdown",
   "metadata": {
    "id": "jqWSLi9F9lTn"
   },
   "source": [
    "*Sesión 1*:\n",
    "\n",
    "- Esta práctica está centrada en [Keras](https://keras.io/).\n",
    "\n",
    "- Keras es una biblioteca de redes neuronales de código abierto, diseñada para la experimentación con redes neuronales profundas. Keras es modular, extensible y fácil de usar.\n",
    "\n",
    "- Keras puede usar distintos motores. Aquí se usará con TensorFlow.\n",
    "\n"
   ]
  },
  {
   "cell_type": "code",
   "execution_count": 160,
   "metadata": {
    "id": "d7Wiw7iJCbgi"
   },
   "outputs": [],
   "source": [
    "### Incluid vuestros nombres, pareja y grupo aquí:\n",
    "estudiantes = [{'nombre': 'Zhijie Qian', 'pareja': 'P05', 'grupo': '2461'},\n",
    "               {'nombre': 'Santo Saenz Ferrero', 'pareja': 'P05', 'grupo': '2461'}]\n"
   ]
  },
  {
   "cell_type": "markdown",
   "metadata": {
    "id": "Y7vp1DQU_2KC"
   },
   "source": [
    "### <font color=\"#CA3532\">Importación de bibliotecas</font>\n",
    "\n",
    "TensorFlow 2.0 incluye oficialmente Keras."
   ]
  },
  {
   "cell_type": "code",
   "execution_count": 161,
   "metadata": {
    "id": "oY36uRqOavkU"
   },
   "outputs": [],
   "source": [
    "# Importaciones\n",
    "\n",
    "import numpy as np\n",
    "import matplotlib.pyplot as plt\n",
    "\n",
    "import tensorflow as tf\n",
    "from tensorflow import keras\n",
    "\n",
    "import keras as k\n",
    "from keras.models import Sequential\n",
    "from keras.layers import Dense"
   ]
  },
  {
   "cell_type": "markdown",
   "metadata": {
    "id": "a4vpTFrKAfG-"
   },
   "source": [
    "### <font color=\"#CA3532\">Datos del problema</font>\n",
    "\n",
    "El problema consiste en predecir si va a haber una erupción solar (*solar flares*) en ciertas regiones solares en función de las características de la región solar. El conjunto datos y la caracterización de sus atributos puede encontrarse en https://www.openml.org/d/40702. El siguiente fragmento de código permite cargar estos datos."
   ]
  },
  {
   "cell_type": "code",
   "execution_count": 162,
   "metadata": {
    "id": "nH2J34Gfbv_C"
   },
   "outputs": [],
   "source": [
    "dataset_url = 'https://www.openml.org/data/get_csv/4965303/flare.arff' \n",
    "\n",
    "dataset = np.genfromtxt(dataset_url, delimiter=',', skip_header=1)\n",
    "\n",
    "### -------------------------------------------------------------------------------\n",
    "### Dividid los ejemplos en atributos y clases. Guardad el número de atributos.\n",
    "### -------------------------------------------------------------------------------\n",
    "\n",
    "x = dataset[:,:-1]\n",
    "x_size = x.shape[1]\n",
    "y = dataset[:,-1]"
   ]
  },
  {
   "cell_type": "code",
   "execution_count": 163,
   "metadata": {
    "id": "6bhpFdYNCVKk"
   },
   "outputs": [
    {
     "name": "stdout",
     "output_type": "stream",
     "text": [
      "Ejemplo 0: [5. 4. 3. 1. 3. 1. 1. 2. 1. 1.] 0.0\n",
      "Atributos: 10\n",
      "Clases: [0. 1.]\n",
      "Recuento de clases: 884 182\n",
      "Examplos: 1066\n"
     ]
    }
   ],
   "source": [
    "# Resultados de la división y el número de atributos\n",
    "\n",
    "print('Ejemplo 0:', x[0], y[1])\n",
    "print('Atributos:', x_size)\n",
    "print('Clases:', np.unique(y))\n",
    "print('Recuento de clases:', y.tolist().count(0), y.tolist().count(1))\n",
    "print('Examplos:', len(x))"
   ]
  },
  {
   "cell_type": "code",
   "execution_count": 164,
   "metadata": {
    "id": "5oBLBAWR7N92"
   },
   "outputs": [
    {
     "data": {
      "image/png": "[encoded data removed]",
      "text/plain": [
       "<Figure size 432x288 with 12 Axes>"
      ]
     },
     "metadata": {
      "needs_background": "light"
     },
     "output_type": "display_data"
    }
   ],
   "source": [
    "# create pairwise scatter plots of numeric input variables\n",
    "from pandas import read_csv\n",
    "from pandas import DataFrame\n",
    "from pandas.plotting import scatter_matrix\n",
    "from matplotlib import pyplot\n",
    "\n",
    "# load the csv file as a data frame\n",
    "df = read_csv(dataset_url, header=1)\n",
    "\n",
    "# histograms of all variables \n",
    "df.hist()\n",
    "pyplot.show()"
   ]
  },
  {
   "cell_type": "code",
   "execution_count": 165,
   "metadata": {},
   "outputs": [
    {
     "name": "stdout",
     "output_type": "stream",
     "text": [
      "    5  4  3  1  3.1  1.1  1.2  2  1.3  1.4  0\n",
      "0   1  3  1  1    2    1    1  2    1    1  0\n",
      "1   2  3  2  1    3    1    1  2    1    1  1\n",
      "2   5  4  3  2    2    1    2  2    1    1  0\n",
      "3   1  4  2  1    3    1    1  2    1    1  0\n",
      "4   1  4  2  1    2    1    2  2    1    1  0\n",
      "5   2  2  1  1    3    1    2  2    1    1  0\n",
      "6   2  3  2  1    3    1    1  2    1    1  0\n",
      "7   0  5  2  1    2    1    1  2    1    1  0\n",
      "8   2  1  2  1    2    1    2  2    1    1  0\n",
      "9   3  0  1  2    2    1    2  2    1    1  0\n",
      "10  2  0  1  2    3    1    2  2    1    1  0\n",
      "11  1  4  2  1    3    1    1  2    1    1  0\n",
      "12  1  3  2  1    2    1    2  2    1    1  0\n",
      "13  5  4  3  1    2    1    1  2    1    1  0\n",
      "14  2  4  2  1    3    1    1  2    1    1  1\n",
      "15  2  0  1  1    3    1    2  2    1    1  0\n",
      "16  3  4  1  1    2    1    2  2    1    1  0\n",
      "17  1  3  2  1    3    1    1  2    1    1  0\n",
      "18  5  4  3  1    1    1    2  2    1    1  0\n",
      "19  5  3  3  1    1    1    1  2    1    1  1\n"
     ]
    }
   ],
   "source": [
    "print(df.head(20))"
   ]
  },
  {
   "cell_type": "markdown",
   "metadata": {},
   "source": [
    "Los datos se encuentran en diferentes intervalos de valores por lo que el modelo puede tender a ponderar más los datos con rangos de valores mayores, por ello se ha decidico escalar los datos de la forma que se nos proporciona."
   ]
  },
  {
   "cell_type": "code",
   "execution_count": 166,
   "metadata": {
    "id": "CHMR1k6adBxU"
   },
   "outputs": [],
   "source": [
    "# Normalizad los datos (si es necesario)\n",
    "\n",
    "from sklearn.preprocessing import StandardScaler\n",
    "scaler = StandardScaler()\n",
    "scaler.fit(x)\n",
    "x = scaler.transform(x)"
   ]
  },
  {
   "cell_type": "code",
   "execution_count": 167,
   "metadata": {},
   "outputs": [
    {
     "name": "stdout",
     "output_type": "stream",
     "text": [
      "(1066, 10)\n"
     ]
    }
   ],
   "source": [
    "print(x.shape)"
   ]
  },
  {
   "cell_type": "markdown",
   "metadata": {
    "id": "QKjVzq5PFAa5"
   },
   "source": [
    "### <font color=\"#CA3532\">Definición del modelo</font>\n",
    "\n",
    "- Cada capa del modelo lleva definidas una serie de propiedades (tamaño, función de activación, conectividad, etc.). \n",
    "\n",
    "- Usaremos el modelo secuencial que Keras para crear una red neuronal multicapa con propagación hacia adelante.\n",
    "\n"
   ]
  },
  {
   "cell_type": "code",
   "execution_count": 168,
   "metadata": {
    "id": "jSiN2kBpfJH2"
   },
   "outputs": [],
   "source": [
    "# Definid el modelo con Keras\n",
    "\n",
    "nn = Sequential()\n",
    "\n",
    "### -------------------------------------------------------------------------------\n",
    "### Añadir la capas completamente conectadas que consideréis al modelo\n",
    "### -------------------------------------------------------------------------------\n",
    "nn.add(Dense(1066, activation=\"sigmoid\"))\n",
    "nn.add(Dense(6, activation=\"sigmoid\"))\n",
    "nn.add(Dense(6, activation='sigmoid'))\n",
    "nn.add(Dense(4, activation='sigmoid'))\n",
    "nn.add(Dense(2, activation='sigmoid'))\n",
    "nn.add(Dense(2, activation='sigmoid'))\n",
    "nn.add(Dense(3, activation='sigmoid'))\n",
    "nn.add(Dense(3, activation='sigmoid'))\n",
    "nn.add(Dense(1, activation=\"sigmoid\"))"
   ]
  },
  {
   "cell_type": "markdown",
   "metadata": {},
   "source": [
    "Se ha decidido añadir una capa por cada característica, dentro de cada capa una neurona por cada alternativa"
   ]
  },
  {
   "cell_type": "markdown",
   "metadata": {
    "id": "XYS0uGZZjLqA"
   },
   "source": [
    "### <font color=\"#CA3532\">Compilación de la red neuronal</font>\n",
    "\n",
    "- La compilación es la operación que contruye la red neuronal.\n",
    "\n",
    "- La compilación incluye aspectos que se tendrán en cuenta en el entrenamiento de la red neuronal.\n",
    "\n",
    "- En la secciones de abajo encontraréis enlaces a la documentación oficial donde podréis encontrar información sobre las distintas estrategias de cada uno de los aspectos.\n",
    "\n",
    "- También es posible definid vuestras propias funciones.\n",
    "\n",
    "#### <font color=\"#CA3532\">Optimizador</font>\n",
    "\n",
    "El optimizador es la estrategia para calcular las correcciones de los pesos.\n",
    "\n",
    "https://keras.io/api/optimizers/\n",
    "\n",
    "\n",
    "#### <font color=\"#CA3532\"> Función de error (*Loss function*)</font>\n",
    "\n",
    "La función de error calcula la cantidad que el modelo debe minimizar durante el entrenamiento.\n",
    "\n",
    "https://keras.io/api/losses/\n",
    "\n",
    "#### <font color=\"#CA3532\">Métricas</font>\n",
    "\n",
    "Una métrica es una función que juzga la actuación del modelo. Son funciones similares a las funciones de error pero, a diferencia de estas, no se aplican durante el entrenamiento, sino sobre los resultados. Aprende al menos el significado y las diferencias de las métricas *accuracy*, *precision*, *recall* y *AUC*. También pueden usarse las funciones de error como metricas.\n",
    "\n",
    "https://keras.io/api/metrics/"
   ]
  },
  {
   "cell_type": "code",
   "execution_count": 169,
   "metadata": {
    "id": "tU7t0cyMf-pL"
   },
   "outputs": [],
   "source": [
    "# Compilación\n",
    "\n",
    "### -------------------------------------------------------------------------------\n",
    "### Compilad vuestro modelo de red neuronal\n",
    "### -------------------------------------------------------------------------------\n",
    "\n",
    "metrics = [\n",
    "            #keras.metrics.TruePositives(name='tp'),\n",
    "            #keras.metrics.FalsePositives(name='fp'),\n",
    "            #keras.metrics.TrueNegatives(name='tn'),\n",
    "            #keras.metrics.FalseNegatives(name='fn'),\n",
    "            keras.metrics.BinaryAccuracy(name='ACC'),\n",
    "            keras.metrics.Precision(name='Prec'),\n",
    "            keras.metrics.Recall(name='Rec'),\n",
    "            keras.metrics.AUC(name='AUC'),\n",
    "            #keras.metrics.AUC(name='PRC', curve='PR'),\n",
    "          ]\n",
    "\n",
    "nn.compile(optimizer='SGD', loss=\"mse\", metrics=metrics)\n",
    "# nn.compile(optimizer='Adam', loss=\"binary_crossentropy\", metrics=metrics)"
   ]
  },
  {
   "cell_type": "markdown",
   "metadata": {
    "id": "7dRac4W1t69B"
   },
   "source": [
    "### <font color=\"#CA3532\">Conjuntos de entrenamiento y validación</font>\n",
    "\n",
    "Usaremos el 80 % de los datos para entrenamiento y el 20 % para validación. Usaremos también la técnica de muestreo estratificado (también están permitidas otras formas de validación). Averigua qué es y para qué sirve."
   ]
  },
  {
   "cell_type": "code",
   "execution_count": 170,
   "metadata": {
    "id": "QA3AW4y7j_Ar"
   },
   "outputs": [],
   "source": [
    "# Contrucción de los conjuntos de entrenamiento y validación\n",
    "\n",
    "from sklearn.model_selection import train_test_split\n",
    "\n",
    "x_train, x_val, y_train, y_val = train_test_split(x, y, stratify=y, test_size=0.2) "
   ]
  },
  {
   "cell_type": "markdown",
   "metadata": {},
   "source": [
    "A partir de la técnica de muestreo estratificado los datos se dividen por una característica común, en este caso por la clase objetivo, por ello los datos se obtienen en train y validación de forma equilibrada teniendo en ambos proporcion especificada por test_size para cada clase objetivo"
   ]
  },
  {
   "cell_type": "markdown",
   "metadata": {
    "id": "dDFUBCUVugVj"
   },
   "source": [
    "### <font color=\"#CA3532\">Visualización de resultados</font>\n",
    "\n",
    "Para la visualización de los resultados utilizaremos gráficas con la evolución de la función de pérdida y las métricas en cada época del entrenamiento, tanto para los datos de entrenamiento como para los de validación.\n",
    "\n",
    "También obtendremos la matriz de confusión y alguna métricas sobre cada clase del problema. Observaremos especialmente la medida macro-F1."
   ]
  },
  {
   "cell_type": "code",
   "execution_count": 171,
   "metadata": {
    "id": "6pgKzRcysRwv"
   },
   "outputs": [],
   "source": [
    "from sklearn.metrics import classification_report, confusion_matrix\n",
    "\n",
    "def show_metrics(history):\n",
    "    for metric in history.history.keys():\n",
    "        if not metric.startswith('val_'):\n",
    "            plt.plot(history.history[metric], label=metric)\n",
    "            plt.plot(history.history[f'val_{metric}'], label=f'val_{metric}')\n",
    "            plt.title(metric)\n",
    "            plt.ylabel('')\n",
    "            plt.xlabel('Epoch')\n",
    "            plt.legend(loc=\"upper left\")\n",
    "            plt.show()"
   ]
  },
  {
   "cell_type": "markdown",
   "metadata": {
    "id": "x-rNfZzqINgY"
   },
   "source": [
    "### <font color=\"#CA3532\">Entrenamiento de la red neuronal y evaluación</font>\n",
    "\n",
    "El método \"fit\" entrena una red neuronal con los datos que se le proporcionen.\n",
    "\n",
    "https://keras.io/api/models/model_training_apis/#fit-method"
   ]
  },
  {
   "cell_type": "code",
   "execution_count": 172,
   "metadata": {
    "id": "iEhDqXzLIISj"
   },
   "outputs": [
    {
     "name": "stdout",
     "output_type": "stream",
     "text": [
      "Model: \"sequential_20\"\n",
      "_________________________________________________________________\n",
      " Layer (type)                Output Shape              Param #   \n",
      "=================================================================\n",
      " dense_180 (Dense)           (None, 1066)              11726     \n",
      "                                                                 \n",
      " dense_181 (Dense)           (None, 6)                 6402      \n",
      "                                                                 \n",
      " dense_182 (Dense)           (None, 6)                 42        \n",
      "                                                                 \n",
      " dense_183 (Dense)           (None, 4)                 28        \n",
      "                                                                 \n",
      " dense_184 (Dense)           (None, 2)                 10        \n",
      "                                                                 \n",
      " dense_185 (Dense)           (None, 2)                 6         \n",
      "                                                                 \n",
      " dense_186 (Dense)           (None, 3)                 9         \n",
      "                                                                 \n",
      " dense_187 (Dense)           (None, 3)                 12        \n",
      "                                                                 \n",
      " dense_188 (Dense)           (None, 1)                 4         \n",
      "                                                                 \n",
      "=================================================================\n",
      "Total params: 18,239\n",
      "Trainable params: 18,239\n",
      "Non-trainable params: 0\n",
      "_________________________________________________________________\n",
      "\n",
      "\n",
      "\n"
     ]
    },
    {
     "data": {
      "image/png": "[encoded data removed]",
      "text/plain": [
       "<Figure size 432x288 with 1 Axes>"
      ]
     },
     "metadata": {
      "needs_background": "light"
     },
     "output_type": "display_data"
    },
    {
     "data": {
      "image/png": "[encoded data removed]",
      "text/plain": [
       "<Figure size 432x288 with 1 Axes>"
      ]
     },
     "metadata": {
      "needs_background": "light"
     },
     "output_type": "display_data"
    },
    {
     "data": {
      "image/png": "[encoded data removed]",
      "text/plain": [
       "<Figure size 432x288 with 1 Axes>"
      ]
     },
     "metadata": {
      "needs_background": "light"
     },
     "output_type": "display_data"
    },
    {
     "data": {
      "image/png": "[encoded data removed]",
      "text/plain": [
       "<Figure size 432x288 with 1 Axes>"
      ]
     },
     "metadata": {
      "needs_background": "light"
     },
     "output_type": "display_data"
    },
    {
     "data": {
      "image/png": "[encoded data removed]",
      "text/plain": [
       "<Figure size 432x288 with 1 Axes>"
      ]
     },
     "metadata": {
      "needs_background": "light"
     },
     "output_type": "display_data"
    },
    {
     "name": "stdout",
     "output_type": "stream",
     "text": [
      "[[177   0]\n",
      " [ 37   0]]\n",
      "              precision    recall  f1-score   support\n",
      "\n",
      "         0.0       0.83      1.00      0.91       177\n",
      "         1.0       0.00      0.00      0.00        37\n",
      "\n",
      "    accuracy                           0.83       214\n",
      "   macro avg       0.41      0.50      0.45       214\n",
      "weighted avg       0.68      0.83      0.75       214\n",
      "\n"
     ]
    }
   ],
   "source": [
    "# Entrenamiento\n",
    "\n",
    "epochs = 100\n",
    "\n",
    "history = nn.fit(x_train, y_train, epochs=epochs, verbose=0, validation_data=(x_val, y_val))\n",
    "\n",
    "# Predicciones del conjunto de evaluación\n",
    "\n",
    "y_pred = nn.predict(x_val)\n",
    "y_pred = y_pred > 0.5\n",
    "\n",
    "# Detalles de la red neuronal\n",
    "\n",
    "nn.summary()\n",
    "print('\\n\\n')\n",
    "\n",
    "# Visualización de las métricas \n",
    "\n",
    "show_metrics(history)\n",
    "\n",
    "# Matriz de confusión\n",
    "\n",
    "print(confusion_matrix(y_val, y_pred))\n",
    "\n",
    "# Observa la medida macro-f1 del siguiente informe\n",
    "\n",
    "print(classification_report(y_val, y_pred, zero_division=0))\n"
   ]
  },
  {
   "cell_type": "markdown",
   "metadata": {
    "id": "zo8KQlCaGEw9"
   },
   "source": [
    "### <font color=\"#CA3532\">Entrenamiento de la red neuronal y evaluación</font>\n",
    "Como podrás haber observado en problema no está balanceado (o está bastante desequilibrado), porque el número de ejemplos de cada clase es muy diferente."
   ]
  },
  {
   "cell_type": "markdown",
   "metadata": {
    "id": "amDlvLOgHw2J"
   },
   "source": [
    "Existen varias técnicas para abortar este tipo de problemas. Una de ellas consiste seleccionar un subconjunto de datos equilibrados en el que las dos clases esten representadas en la misma proporción.\n"
   ]
  },
  {
   "cell_type": "code",
   "execution_count": 173,
   "metadata": {},
   "outputs": [],
   "source": [
    "from sklearn.model_selection import StratifiedKFold, KFold\n",
    "skf = StratifiedKFold(n_splits=2)\n",
    "skf.get_n_splits(x, y)\n",
    "for train_index, test_index in skf.split(x, y):\n",
    "#     print(\"TRAIN:\", train_index, \"TEST:\", test_index)\n",
    "    X_train, X_test = x[train_index], x[test_index]\n",
    "    y_train, y_test = y[train_index], y[test_index]"
   ]
  },
  {
   "cell_type": "code",
   "execution_count": 174,
   "metadata": {},
   "outputs": [],
   "source": [
    "from sklearn.model_selection import StratifiedShuffleSplit\n",
    "sss = StratifiedShuffleSplit(n_splits=5, test_size=0.2, random_state=0)\n",
    "for train_index, test_index in sss.split(x, y):\n",
    "    X_train, X_test = x[train_index], x[test_index]\n",
    "    y_train, y_test = y[train_index], y[test_index]"
   ]
  },
  {
   "cell_type": "code",
   "execution_count": 175,
   "metadata": {
    "id": "rhdYlNseGFh0"
   },
   "outputs": [],
   "source": [
    "### -------------------------------------------------------------------------------\n",
    "### Assigna diferentes pesos a cada una de las clases\n",
    "### -------------------------------------------------------------------------------\n",
    "\n",
    "x_train_balanceado = ...\n",
    "y_train_banceado = ...\n",
    "\n",
    "x_val_balanceado = ...\n",
    "y_val_banceado = ..."
   ]
  },
  {
   "cell_type": "markdown",
   "metadata": {
    "id": "WFXPn9gEIqCa"
   },
   "source": [
    "Vuelve a entrenar con este nuevo conjunto de datos y observa como varía el resultado de la matriz de confusión. Si es posible, intenta conseguir un modelo mejor y describe los resultados alcanzados."
   ]
  },
  {
   "cell_type": "code",
   "execution_count": 176,
   "metadata": {
    "id": "q6Q365wEIhQg"
   },
   "outputs": [
    {
     "ename": "NameError",
     "evalue": "name 'y_train_balanceado' is not defined",
     "output_type": "error",
     "traceback": [
      "\u001b[1;31m---------------------------------------------------------------------------\u001b[0m",
      "\u001b[1;31mNameError\u001b[0m                                 Traceback (most recent call last)",
      "\u001b[1;32m~\\AppData\\Local\\Temp/ipykernel_10544/2282064808.py\u001b[0m in \u001b[0;36m<module>\u001b[1;34m\u001b[0m\n\u001b[1;32m----> 1\u001b[1;33m \u001b[0mhistory\u001b[0m \u001b[1;33m=\u001b[0m \u001b[0mnn\u001b[0m\u001b[1;33m.\u001b[0m\u001b[0mfit\u001b[0m\u001b[1;33m(\u001b[0m\u001b[0mx_train_balanceado\u001b[0m\u001b[1;33m,\u001b[0m \u001b[0my_train_balanceado\u001b[0m\u001b[1;33m,\u001b[0m \u001b[0mepochs\u001b[0m\u001b[1;33m=\u001b[0m\u001b[0mepochs\u001b[0m\u001b[1;33m,\u001b[0m \u001b[0mverbose\u001b[0m\u001b[1;33m=\u001b[0m\u001b[1;36m0\u001b[0m\u001b[1;33m,\u001b[0m \u001b[0mclass_weight\u001b[0m\u001b[1;33m=\u001b[0m\u001b[0mclass_weights\u001b[0m\u001b[1;33m,\u001b[0m \u001b[0mvalidation_data\u001b[0m\u001b[1;33m=\u001b[0m\u001b[1;33m(\u001b[0m\u001b[0mx_val_balanceado\u001b[0m\u001b[1;33m,\u001b[0m \u001b[0my_val_balanceado\u001b[0m\u001b[1;33m)\u001b[0m\u001b[1;33m)\u001b[0m\u001b[1;33m\u001b[0m\u001b[1;33m\u001b[0m\u001b[0m\n\u001b[0m\u001b[0;32m      2\u001b[0m \u001b[1;33m\u001b[0m\u001b[0m\n\u001b[0;32m      3\u001b[0m \u001b[1;31m# Detalles de la red neuronal\u001b[0m\u001b[1;33m\u001b[0m\u001b[1;33m\u001b[0m\u001b[0m\n\u001b[0;32m      4\u001b[0m \u001b[1;33m\u001b[0m\u001b[0m\n\u001b[0;32m      5\u001b[0m \u001b[0mnn\u001b[0m\u001b[1;33m.\u001b[0m\u001b[0msummary\u001b[0m\u001b[1;33m(\u001b[0m\u001b[1;33m)\u001b[0m\u001b[1;33m\u001b[0m\u001b[1;33m\u001b[0m\u001b[0m\n",
      "\u001b[1;31mNameError\u001b[0m: name 'y_train_balanceado' is not defined"
     ]
    }
   ],
   "source": [
    "history = nn.fit(x_train_balanceado, y_train_balanceado, epochs=epochs, verbose=0, class_weight=class_weights, validation_data=(x_val_balanceado, y_val_balanceado))\n",
    "\n",
    "# Detalles de la red neuronal\n",
    "\n",
    "nn.summary()\n",
    "print('\\n\\n')\n",
    "\n",
    "y_pred = nn.predict(x_val_balanceado)\n",
    "y_pred = y_pred > 0.5\n",
    "\n",
    "print(classification_report(y_val_balanceado, y_pred, zero_division=0))\n",
    "\n",
    "print(confusion_matrix(y_val_balanceado, y_pred))"
   ]
  },
  {
   "cell_type": "markdown",
   "metadata": {
    "id": "UCtSYvuRvpBy"
   },
   "source": [
    "Otra técnica consiste en asignar un peso a cada clase para que lo tenga en cuenta en algoritmo de entrenamiento.\n",
    "Aprende lo que hace el parámetro ```class_weight``` de ```fit``` (https://keras.io/api/models/model_training_apis/#fit-method) y explícalo."
   ]
  },
  {
   "cell_type": "code",
   "execution_count": null,
   "metadata": {
    "id": "CJfmolAdkGDY"
   },
   "outputs": [],
   "source": [
    "### -------------------------------------------------------------------------------\n",
    "### Assigna diferentes pesos a cada una de las clases\n",
    "### -------------------------------------------------------------------------------\n",
    "\n",
    "from sklearn.utils import class_weight\n",
    "\n",
    "class_weights = class_weight.compute_class_weight('balanced', classes=np.unique(y_train), y=y_train)\n",
    "\n",
    "class_weights = {0: class_weights[0], 1: class_weights[1]}\n",
    "\n",
    "print(class_weights)"
   ]
  },
  {
   "cell_type": "markdown",
   "metadata": {
    "id": "xNJ5dCdTyTBc"
   },
   "source": [
    "Vuelve a entrenar considerando distintos pesos y observa como varía el resultado de la matriz de confusión. Si es posible, intenta conseguir un modelo mejor y describe los resultados alcanzados."
   ]
  },
  {
   "cell_type": "code",
   "execution_count": null,
   "metadata": {
    "id": "j4hMiyuSkQgK"
   },
   "outputs": [],
   "source": [
    "history = nn.fit(x_train, y_train, epochs=epochs, verbose=0, class_weight=class_weights, validation_data=(x_val, y_val))\n",
    "\n",
    "# Detalles de la red neuronal\n",
    "\n",
    "nn.summary()\n",
    "print('\\n\\n')\n",
    "\n",
    "y_pred = nn.predict(x_val)\n",
    "y_pred = y_pred > 0.5\n",
    "\n",
    "print(classification_report(y_val, y_pred, zero_division=0))\n",
    "\n",
    "print(confusion_matrix(y_val, y_pred))"
   ]
  },
  {
   "cell_type": "markdown",
   "metadata": {
    "id": "Z8E37UJTNqtg"
   },
   "source": [
    "### <font color=\"#CA3532\">Optimización del diseño de la red neuronal</font>\n",
    "\n",
    "- Cambiad la arquitectura de la red neuronal introduciendo más capas y neuronas para conseguir mejores resultados:\n",
    " - Añadid más capas o diferente tipo de capas.\n",
    " - Cambiad las funciones de activación.\n",
    " - Cambiad la función de error o el optimizador.\n",
    "\n",
    "- Utilizad ```tuner``` para la búsqueda de estos hiperparámetros (https://keras.io/keras_tuner/).\n"
   ]
  },
  {
   "cell_type": "code",
   "execution_count": null,
   "metadata": {
    "id": "i0iByM16ywAk"
   },
   "outputs": [
    {
     "name": "stdout",
     "output_type": "stream",
     "text": [
      "Collecting keras-tuner\n",
      "  Downloading keras_tuner-1.1.2-py3-none-any.whl (133 kB)\n",
      "Collecting kt-legacy\n",
      "  Downloading kt_legacy-1.0.4-py3-none-any.whl (9.6 kB)\n",
      "Requirement already satisfied: ipython in c:\\users\\santo\\anaconda3\\lib\\site-packages (from keras-tuner) (7.29.0)\n",
      "Requirement already satisfied: requests in c:\\users\\santo\\anaconda3\\lib\\site-packages (from keras-tuner) (2.26.0)\n",
      "Requirement already satisfied: numpy in c:\\users\\santo\\anaconda3\\lib\\site-packages (from keras-tuner) (1.20.3)\n",
      "Requirement already satisfied: packaging in c:\\users\\santo\\anaconda3\\lib\\site-packages (from keras-tuner) (21.0)\n",
      "Requirement already satisfied: tensorboard in c:\\users\\santo\\anaconda3\\lib\\site-packages (from keras-tuner) (2.8.0)\n",
      "Requirement already satisfied: pygments in c:\\users\\santo\\anaconda3\\lib\\site-packages (from ipython->keras-tuner) (2.10.0)\n",
      "Requirement already satisfied: setuptools>=18.5 in c:\\users\\santo\\anaconda3\\lib\\site-packages (from ipython->keras-tuner) (58.0.4)\n",
      "Requirement already satisfied: decorator in c:\\users\\santo\\anaconda3\\lib\\site-packages (from ipython->keras-tuner) (5.1.0)\n",
      "Requirement already satisfied: backcall in c:\\users\\santo\\anaconda3\\lib\\site-packages (from ipython->keras-tuner) (0.2.0)\n",
      "Requirement already satisfied: matplotlib-inline in c:\\users\\santo\\anaconda3\\lib\\site-packages (from ipython->keras-tuner) (0.1.2)\n",
      "Requirement already satisfied: traitlets>=4.2 in c:\\users\\santo\\anaconda3\\lib\\site-packages (from ipython->keras-tuner) (5.1.0)\n",
      "Requirement already satisfied: prompt-toolkit!=3.0.0,!=3.0.1,<3.1.0,>=2.0.0 in c:\\users\\santo\\anaconda3\\lib\\site-packages (from ipython->keras-tuner) (3.0.20)\n",
      "Requirement already satisfied: jedi>=0.16 in c:\\users\\santo\\anaconda3\\lib\\site-packages (from ipython->keras-tuner) (0.18.0)\n",
      "Requirement already satisfied: pickleshare in c:\\users\\santo\\anaconda3\\lib\\site-packages (from ipython->keras-tuner) (0.7.5)\n",
      "Requirement already satisfied: colorama in c:\\users\\santo\\anaconda3\\lib\\site-packages (from ipython->keras-tuner) (0.4.4)\n",
      "Requirement already satisfied: parso<0.9.0,>=0.8.0 in c:\\users\\santo\\anaconda3\\lib\\site-packages (from jedi>=0.16->ipython->keras-tuner) (0.8.2)\n",
      "Requirement already satisfied: wcwidth in c:\\users\\santo\\anaconda3\\lib\\site-packages (from prompt-toolkit!=3.0.0,!=3.0.1,<3.1.0,>=2.0.0->ipython->keras-tuner) (0.2.5)\n",
      "Requirement already satisfied: pyparsing>=2.0.2 in c:\\users\\santo\\anaconda3\\lib\\site-packages (from packaging->keras-tuner) (3.0.4)\n",
      "Requirement already satisfied: idna<4,>=2.5 in c:\\users\\santo\\anaconda3\\lib\\site-packages (from requests->keras-tuner) (3.2)\n",
      "Requirement already satisfied: charset-normalizer~=2.0.0 in c:\\users\\santo\\anaconda3\\lib\\site-packages (from requests->keras-tuner) (2.0.4)\n",
      "Requirement already satisfied: certifi>=2017.4.17 in c:\\users\\santo\\anaconda3\\lib\\site-packages (from requests->keras-tuner) (2021.10.8)\n",
      "Requirement already satisfied: urllib3<1.27,>=1.21.1 in c:\\users\\santo\\anaconda3\\lib\\site-packages (from requests->keras-tuner) (1.26.7)\n",
      "Requirement already satisfied: protobuf>=3.6.0 in c:\\users\\santo\\anaconda3\\lib\\site-packages (from tensorboard->keras-tuner) (3.19.4)\n",
      "Requirement already satisfied: absl-py>=0.4 in c:\\users\\santo\\anaconda3\\lib\\site-packages (from tensorboard->keras-tuner) (1.0.0)\n",
      "Requirement already satisfied: google-auth-oauthlib<0.5,>=0.4.1 in c:\\users\\santo\\anaconda3\\lib\\site-packages (from tensorboard->keras-tuner) (0.4.6)\n",
      "Requirement already satisfied: google-auth<3,>=1.6.3 in c:\\users\\santo\\anaconda3\\lib\\site-packages (from tensorboard->keras-tuner) (2.6.0)\n",
      "Requirement already satisfied: tensorboard-plugin-wit>=1.6.0 in c:\\users\\santo\\anaconda3\\lib\\site-packages (from tensorboard->keras-tuner) (1.8.1)\n",
      "Requirement already satisfied: wheel>=0.26 in c:\\users\\santo\\anaconda3\\lib\\site-packages (from tensorboard->keras-tuner) (0.37.0)\n",
      "Requirement already satisfied: werkzeug>=0.11.15 in c:\\users\\santo\\anaconda3\\lib\\site-packages (from tensorboard->keras-tuner) (2.0.2)\n",
      "Requirement already satisfied: markdown>=2.6.8 in c:\\users\\santo\\anaconda3\\lib\\site-packages (from tensorboard->keras-tuner) (3.3.6)\n",
      "Requirement already satisfied: tensorboard-data-server<0.7.0,>=0.6.0 in c:\\users\\santo\\anaconda3\\lib\\site-packages (from tensorboard->keras-tuner) (0.6.1)\n",
      "Requirement already satisfied: grpcio>=1.24.3 in c:\\users\\santo\\anaconda3\\lib\\site-packages (from tensorboard->keras-tuner) (1.44.0)\n",
      "Requirement already satisfied: six in c:\\users\\santo\\anaconda3\\lib\\site-packages (from absl-py>=0.4->tensorboard->keras-tuner) (1.16.0)\n",
      "Requirement already satisfied: pyasn1-modules>=0.2.1 in c:\\users\\santo\\anaconda3\\lib\\site-packages (from google-auth<3,>=1.6.3->tensorboard->keras-tuner) (0.2.8)\n",
      "Requirement already satisfied: cachetools<6.0,>=2.0.0 in c:\\users\\santo\\anaconda3\\lib\\site-packages (from google-auth<3,>=1.6.3->tensorboard->keras-tuner) (5.0.0)\n",
      "Requirement already satisfied: rsa<5,>=3.1.4 in c:\\users\\santo\\anaconda3\\lib\\site-packages (from google-auth<3,>=1.6.3->tensorboard->keras-tuner) (4.8)\n",
      "Requirement already satisfied: requests-oauthlib>=0.7.0 in c:\\users\\santo\\anaconda3\\lib\\site-packages (from google-auth-oauthlib<0.5,>=0.4.1->tensorboard->keras-tuner) (1.3.1)\n",
      "Requirement already satisfied: importlib-metadata>=4.4 in c:\\users\\santo\\anaconda3\\lib\\site-packages (from markdown>=2.6.8->tensorboard->keras-tuner) (4.8.1)\n",
      "Requirement already satisfied: zipp>=0.5 in c:\\users\\santo\\anaconda3\\lib\\site-packages (from importlib-metadata>=4.4->markdown>=2.6.8->tensorboard->keras-tuner) (3.6.0)\n",
      "Requirement already satisfied: pyasn1<0.5.0,>=0.4.6 in c:\\users\\santo\\anaconda3\\lib\\site-packages (from pyasn1-modules>=0.2.1->google-auth<3,>=1.6.3->tensorboard->keras-tuner) (0.4.8)\n",
      "Requirement already satisfied: oauthlib>=3.0.0 in c:\\users\\santo\\anaconda3\\lib\\site-packages (from requests-oauthlib>=0.7.0->google-auth-oauthlib<0.5,>=0.4.1->tensorboard->keras-tuner) (3.2.0)\n",
      "Installing collected packages: kt-legacy, keras-tuner\n",
      "Successfully installed keras-tuner-1.1.2 kt-legacy-1.0.4\n"
     ]
    },
    {
     "name": "stderr",
     "output_type": "stream",
     "text": [
      "C:\\Users\\santo\\AppData\\Local\\Temp/ipykernel_10544/3035793469.py:3: DeprecationWarning: `import kerastuner` is deprecated, please use `import keras_tuner`.\n",
      "  from kerastuner.tuners import RandomSearch\n"
     ]
    }
   ],
   "source": [
    "!pip install -U keras-tuner\n",
    "import keras_tuner\n",
    "from kerastuner.tuners import RandomSearch"
   ]
  },
  {
   "cell_type": "code",
   "execution_count": null,
   "metadata": {
    "id": "uLcr7sg8M4RH"
   },
   "outputs": [],
   "source": [
    "### -------------------------------------------------------\n",
    "### Define tu hipermodelo\n",
    "### -------------------------------------------------------\n",
    "\n",
    "def build_model(hp):\n",
    "    nn = Sequential()\n",
    "    nn.add(Dense(hp.Int('units', ...), ...)\n",
    "    nn.add(Dense(1, activation=\"sigmoid\"))\n",
    "    nn.compile(optimizer=keras.optimizers.Adam(hp.Choice('learning_rate', values=[1e-2, 1e-3, 1e-4])), loss=..., metrics=metrics)\n",
    "    return nn\n",
    "\n",
    "### -------------------------------------------------------\n",
    "### Pon en marcha la búsqueda de hiperparámetros, elije el \n",
    "### objetivo más adecuado.\n",
    "### -------------------------------------------------------\n",
    "\n",
    "tuner = RandomSearch(build_model, objective='val_ACC', max_trials=50, executions_per_trial=3) \n",
    "\n",
    "tuner.search_space_summary()\n",
    "\n",
    "tuner.search(x_train, y_train, epochs=epochs, class_weight=class_weights, validation_data=(x_val, y_val), verbose=0)\n",
    "\n",
    "tuner.results_summary()\n",
    "\n",
    "best_nn = tuner.get_best_models(num_models=1)\n",
    "\n",
    "y_pred = best_nn[0].predict(x_val)\n",
    "y_pred = y_pred > 0.5\n",
    "\n",
    "print(confusion_matrix(y_val, y_pred))\n",
    "\n",
    "print(classification_report(y_val, y_pred, zero_division=0))"
   ]
  },
  {
   "cell_type": "markdown",
   "metadata": {
    "id": "NnY8rX6HzZXU"
   },
   "source": [
    "### <font color=\"#CA3532\">Diseño final de la red neuronal</font>\n",
    "Define ahora tu modelo final y muestra los resultados de su evaluación."
   ]
  },
  {
   "cell_type": "code",
   "execution_count": null,
   "metadata": {
    "id": "Dn7fBHo_zfaz"
   },
   "outputs": [],
   "source": [
    "### ---------------------------------------------------------------------------\n",
    "### Modelo final y evaluación\n",
    "### ---------------------------------------------------------------------------\n",
    "\n",
    "nn_final = Sequential()\n",
    "nn_final.add(...)\n",
    "\n",
    "nn_final.compile(..., metrics=metrics)\n",
    "\n",
    "history = nn_final.fit(x_train, y_train, epochs=epochs, class_weight=class_weights, validation_data=(x_val, y_val), verbose=0)\n",
    "\n",
    "y_pred = nn_final.predict(x_val)\n",
    "y_pred = y_pred > 0.5\n",
    "\n",
    "print(confusion_matrix(y_val, y_pred))\n",
    "\n",
    "print(classification_report(y_val, y_pred, zero_division=0))"
   ]
  }
 ],
 "metadata": {
  "accelerator": "GPU",
  "colab": {
   "collapsed_sections": [],
   "name": "Neuro-P3-enunciado 2021-2022.ipynb",
   "provenance": [],
   "toc_visible": true
  },
  "kernelspec": {
   "display_name": "Python 3 (ipykernel)",
   "language": "python",
   "name": "python3"
  },
  "language_info": {
   "codemirror_mode": {
    "name": "ipython",
    "version": 3
   },
   "file_extension": ".py",
   "mimetype": "text/x-python",
   "name": "python",
   "nbconvert_exporter": "python",
   "pygments_lexer": "ipython3",
   "version": "3.9.7"
  }
 },
 "nbformat": 4,
 "nbformat_minor": 1
}
