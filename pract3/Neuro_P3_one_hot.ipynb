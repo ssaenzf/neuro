{
 "cells": [
  {
   "cell_type": "code",
   "execution_count": null,
   "metadata": {},
   "outputs": [],
   "source": [
    "# !pip3 install -U keras-tuner\n",
    "# !pip3 install tensorflow\n",
    "# !pip3 install imblearn"
   ]
  },
  {
   "cell_type": "code",
   "execution_count": 32,
   "metadata": {
    "executionInfo": {
     "elapsed": 7872,
     "status": "ok",
     "timestamp": 1651675307590,
     "user": {
      "displayName": "Zhi jie Qian",
      "userId": "17587581155014799590"
     },
     "user_tz": -120
    },
    "id": "oY36uRqOavkU"
   },
   "outputs": [],
   "source": [
    "import numpy as np\n",
    "import matplotlib.pyplot as plt\n",
    "import tensorflow as tf\n",
    "from tensorflow import keras\n",
    "import keras as k\n",
    "from keras.models import Sequential\n",
    "from keras.layers import Dense\n",
    "from sklearn.metrics import classification_report, confusion_matrix\n",
    "import json"
   ]
  },
  {
   "cell_type": "code",
   "execution_count": 2,
   "metadata": {},
   "outputs": [],
   "source": [
    "gpu_devices = tf.config.experimental.list_physical_devices('GPU')\n",
    "for device in gpu_devices:\n",
    "    tf.config.experimental.set_memory_growth(device, True)"
   ]
  },
  {
   "cell_type": "code",
   "execution_count": 3,
   "metadata": {
    "executionInfo": {
     "elapsed": 5,
     "status": "ok",
     "timestamp": 1651676016479,
     "user": {
      "displayName": "Zhi jie Qian",
      "userId": "17587581155014799590"
     },
     "user_tz": -120
    },
    "id": "nH2J34Gfbv_C"
   },
   "outputs": [],
   "source": [
    "dataset_url = 'https://www.openml.org/data/get_csv/4965303/flare.arff' \n",
    "dataset = np.genfromtxt(dataset_url, delimiter=',', skip_header=1)\n",
    "\n",
    "x = dataset[:,:-4]\n",
    "x_size = x.shape[1]\n",
    "y = dataset[:,-1]"
   ]
  },
  {
   "cell_type": "code",
   "execution_count": 4,
   "metadata": {
    "colab": {
     "base_uri": "https://localhost:8080/"
    },
    "executionInfo": {
     "elapsed": 3,
     "status": "ok",
     "timestamp": 1651675536088,
     "user": {
      "displayName": "Zhi jie Qian",
      "userId": "17587581155014799590"
     },
     "user_tz": -120
    },
    "id": "B_ubQqvR99Z5",
    "outputId": "12eeacf6-e697-43f8-f7f6-a5a9de7adab4"
   },
   "outputs": [
    {
     "data": {
      "text/plain": [
       "(1066, 7)"
      ]
     },
     "execution_count": 4,
     "metadata": {},
     "output_type": "execute_result"
    }
   ],
   "source": [
    "x.shape"
   ]
  },
  {
   "cell_type": "code",
   "execution_count": 5,
   "metadata": {
    "colab": {
     "base_uri": "https://localhost:8080/"
    },
    "executionInfo": {
     "elapsed": 358,
     "status": "ok",
     "timestamp": 1651676017682,
     "user": {
      "displayName": "Zhi jie Qian",
      "userId": "17587581155014799590"
     },
     "user_tz": -120
    },
    "id": "CRUJEdzv98V8",
    "outputId": "a137837d-c9f4-44f8-e8d0-2f8cab077af6"
   },
   "outputs": [
    {
     "data": {
      "text/plain": [
       "array([0., 0., 0., 0., 0., 1., 0., 0., 0., 0., 1., 0., 3., 1., 3., 1., 1.])"
      ]
     },
     "execution_count": 5,
     "metadata": {},
     "output_type": "execute_result"
    }
   ],
   "source": [
    "from sklearn.preprocessing import OneHotEncoder\n",
    "from sklearn.compose import ColumnTransformer\n",
    "\n",
    "ct = ColumnTransformer([(\"columns\", OneHotEncoder(), [0,1])], remainder = 'passthrough')\n",
    "x = ct.fit_transform(x)\n",
    "x[0]"
   ]
  },
  {
   "cell_type": "code",
   "execution_count": 6,
   "metadata": {
    "colab": {
     "base_uri": "https://localhost:8080/"
    },
    "executionInfo": {
     "elapsed": 230,
     "status": "ok",
     "timestamp": 1651675848286,
     "user": {
      "displayName": "Zhi jie Qian",
      "userId": "17587581155014799590"
     },
     "user_tz": -120
    },
    "id": "NXFUjmhEh19g",
    "outputId": "931044a4-9a0f-4056-8ef9-d5242bb50cbd"
   },
   "outputs": [
    {
     "data": {
      "text/plain": [
       "(1066, 17)"
      ]
     },
     "execution_count": 6,
     "metadata": {},
     "output_type": "execute_result"
    }
   ],
   "source": [
    "x.shape"
   ]
  },
  {
   "cell_type": "markdown",
   "metadata": {
    "id": "QKjVzq5PFAa5"
   },
   "source": [
    "### <font color=\"#CA3532\">Definición del modelo</font>\n"
   ]
  },
  {
   "cell_type": "code",
   "execution_count": 7,
   "metadata": {
    "executionInfo": {
     "elapsed": 214,
     "status": "ok",
     "timestamp": 1651676035947,
     "user": {
      "displayName": "Zhi jie Qian",
      "userId": "17587581155014799590"
     },
     "user_tz": -120
    },
    "id": "jSiN2kBpfJH2"
   },
   "outputs": [],
   "source": [
    "# Definid el modelo con Keras\n",
    "\n",
    "nn = Sequential()\n",
    "\n",
    "### -------------------------------------------------------------------------------\n",
    "### Añadir la capas completamente conectadas que consideréis al modelo\n",
    "### -------------------------------------------------------------------------------\n",
    "nn.add(Dense(12, activation=\"sigmoid\"))\n",
    "nn.add(Dense(12, activation=\"sigmoid\"))\n",
    "nn.add(Dense(1, activation=\"sigmoid\"))"
   ]
  },
  {
   "cell_type": "code",
   "execution_count": 8,
   "metadata": {
    "executionInfo": {
     "elapsed": 612,
     "status": "ok",
     "timestamp": 1651676038074,
     "user": {
      "displayName": "Zhi jie Qian",
      "userId": "17587581155014799590"
     },
     "user_tz": -120
    },
    "id": "tU7t0cyMf-pL"
   },
   "outputs": [],
   "source": [
    "metrics = [\n",
    "            keras.metrics.BinaryAccuracy(name='ACC'),\n",
    "            keras.metrics.Precision(name='Prec'),\n",
    "            keras.metrics.Recall(name='Rec'),\n",
    "            keras.metrics.AUC(name='AUC'),\n",
    "          ]\n",
    "\n",
    "nn.compile(optimizer='SGD', loss=\"mse\", metrics=metrics)\n",
    "# nn.compile(optimizer='Adam', loss=\"binary_crossentropy\", metrics=metrics)"
   ]
  },
  {
   "cell_type": "markdown",
   "metadata": {
    "id": "7dRac4W1t69B"
   },
   "source": [
    "### <font color=\"#CA3532\">Conjuntos de entrenamiento y validación</font>"
   ]
  },
  {
   "cell_type": "code",
   "execution_count": 9,
   "metadata": {
    "executionInfo": {
     "elapsed": 221,
     "status": "ok",
     "timestamp": 1651676518928,
     "user": {
      "displayName": "Zhi jie Qian",
      "userId": "17587581155014799590"
     },
     "user_tz": -120
    },
    "id": "QA3AW4y7j_Ar"
   },
   "outputs": [],
   "source": [
    "# Contrucción de los conjuntos de entrenamiento y validación\n",
    "\n",
    "from sklearn.model_selection import train_test_split\n",
    "\n",
    "x_train, x_val, y_train, y_val = train_test_split(x, y, stratify=y, test_size=0.2) "
   ]
  },
  {
   "cell_type": "markdown",
   "metadata": {
    "id": "dDFUBCUVugVj"
   },
   "source": [
    "### <font color=\"#CA3532\">Visualización de resultados</font>"
   ]
  },
  {
   "cell_type": "code",
   "execution_count": 10,
   "metadata": {
    "executionInfo": {
     "elapsed": 227,
     "status": "ok",
     "timestamp": 1651675333028,
     "user": {
      "displayName": "Zhi jie Qian",
      "userId": "17587581155014799590"
     },
     "user_tz": -120
    },
    "id": "6pgKzRcysRwv"
   },
   "outputs": [],
   "source": [
    "from sklearn.metrics import classification_report, confusion_matrix\n",
    "\n",
    "def show_metrics(history):\n",
    "    for metric in history.history.keys():\n",
    "        if not metric.startswith('val_'):\n",
    "            plt.plot(history.history[metric], label=metric)\n",
    "            plt.plot(history.history[f'val_{metric}'], label=f'val_{metric}')\n",
    "            plt.title(metric)\n",
    "            plt.ylabel('')\n",
    "            plt.xlabel('Epoch')\n",
    "            plt.legend(loc=\"upper left\")\n",
    "            plt.show()"
   ]
  },
  {
   "cell_type": "markdown",
   "metadata": {
    "id": "zo8KQlCaGEw9"
   },
   "source": [
    "### <font color=\"#CA3532\">Entrenamiento de la red neuronal y evaluación</font>\n",
    "Como podrás haber observado en problema no está balanceado (o está bastante desequilibrado), porque el número de ejemplos de cada clase es muy diferente."
   ]
  },
  {
   "cell_type": "code",
   "execution_count": 11,
   "metadata": {
    "executionInfo": {
     "elapsed": 563,
     "status": "ok",
     "timestamp": 1651675334910,
     "user": {
      "displayName": "Zhi jie Qian",
      "userId": "17587581155014799590"
     },
     "user_tz": -120
    },
    "id": "5BGYvZXUivZb"
   },
   "outputs": [],
   "source": [
    "import imblearn\n",
    "from imblearn.under_sampling import RandomUnderSampler\n",
    "from imblearn.under_sampling import EditedNearestNeighbours\n",
    "from imblearn.under_sampling import TomekLinks\n",
    "from imblearn.over_sampling import RandomOverSampler\n",
    "from imblearn.over_sampling import ADASYN\n",
    "from imblearn.over_sampling import SMOTE\n",
    "from imblearn.combine import SMOTETomek\n",
    "from imblearn.combine import SMOTEENN\n",
    "from collections import Counter\n",
    "from sklearn.metrics import f1_score"
   ]
  },
  {
   "cell_type": "markdown",
   "metadata": {
    "id": "tEK6W2Q3B8yv"
   },
   "source": [
    "#### RandomUnderSampler"
   ]
  },
  {
   "cell_type": "code",
   "execution_count": 34,
   "metadata": {
    "colab": {
     "base_uri": "https://localhost:8080/"
    },
    "executionInfo": {
     "elapsed": 367,
     "status": "ok",
     "timestamp": 1651666218657,
     "user": {
      "displayName": "Zhi jie Qian",
      "userId": "17587581155014799590"
     },
     "user_tz": -120
    },
    "id": "Bxm0VENEjiO1",
    "outputId": "411d3e9f-6ea7-4388-b261-3e5dd9c57143"
   },
   "outputs": [
    {
     "name": "stdout",
     "output_type": "stream",
     "text": [
      "Counter({0.0: 145, 1.0: 145})\n"
     ]
    }
   ],
   "source": [
    "undersample = RandomUnderSampler()\n",
    "X_under_train, y_under_train = undersample.fit_resample(x_train, y_train)\n",
    "print(Counter(y_under_train))"
   ]
  },
  {
   "cell_type": "code",
   "execution_count": 35,
   "metadata": {
    "colab": {
     "base_uri": "https://localhost:8080/"
    },
    "executionInfo": {
     "elapsed": 16120,
     "status": "ok",
     "timestamp": 1651666236067,
     "user": {
      "displayName": "Zhi jie Qian",
      "userId": "17587581155014799590"
     },
     "user_tz": -120
    },
    "id": "5V5-pLhikC2R",
    "outputId": "0d2eeb36-8e41-4631-e764-3a21ae01f725"
   },
   "outputs": [
    {
     "name": "stdout",
     "output_type": "stream",
     "text": [
      "Train\n",
      "              precision    recall  f1-score   support\n",
      "\n",
      "         0.0       0.70      0.74      0.72       145\n",
      "         1.0       0.72      0.69      0.71       145\n",
      "\n",
      "    accuracy                           0.71       290\n",
      "   macro avg       0.71      0.71      0.71       290\n",
      "weighted avg       0.71      0.71      0.71       290\n",
      "\n",
      "Test\n",
      "              precision    recall  f1-score   support\n",
      "\n",
      "         0.0       0.90      0.68      0.78       177\n",
      "         1.0       0.29      0.62      0.40        37\n",
      "\n",
      "    accuracy                           0.67       214\n",
      "   macro avg       0.59      0.65      0.59       214\n",
      "weighted avg       0.79      0.67      0.71       214\n",
      "\n",
      "[[121  56]\n",
      " [ 14  23]]\n"
     ]
    }
   ],
   "source": [
    "epochs = 50\n",
    "history = nn.fit(X_under_train, y_under_train, epochs=epochs, verbose=0, validation_data=(x_val, y_val))\n",
    "\n",
    "y_pred_train = nn.predict(X_under_train)\n",
    "y_pred_train = y_pred_train > 0.5\n",
    "y_pred = nn.predict(x_val)\n",
    "y_pred = y_pred > 0.5\n",
    "\n",
    "# show_metrics(history)\n",
    "print(\"Train\")\n",
    "print(classification_report(y_under_train, y_pred_train, zero_division=0))\n",
    "print(\"Test\")\n",
    "print(classification_report(y_val, y_pred, zero_division=0))\n",
    "\n",
    "print(confusion_matrix(y_val, y_pred))\n",
    "# La matriz de confusión en funcion del valor se le de a los pesos tiene una \n",
    "# precisión total para los registros de una clase y precisión nula para la otra clase"
   ]
  },
  {
   "cell_type": "markdown",
   "metadata": {
    "id": "jGqt7Kc7BCJ-"
   },
   "source": [
    "#### EditedNearestNeighbours\n"
   ]
  },
  {
   "cell_type": "code",
   "execution_count": 14,
   "metadata": {
    "colab": {
     "base_uri": "https://localhost:8080/"
    },
    "executionInfo": {
     "elapsed": 412,
     "status": "ok",
     "timestamp": 1651666245650,
     "user": {
      "displayName": "Zhi jie Qian",
      "userId": "17587581155014799590"
     },
     "user_tz": -120
    },
    "id": "EBgW7tymBB0R",
    "outputId": "40a7412d-054d-4cbc-f07a-a68b3291c5ed"
   },
   "outputs": [
    {
     "name": "stdout",
     "output_type": "stream",
     "text": [
      "Counter({0.0: 506, 1.0: 145})\n"
     ]
    }
   ],
   "source": [
    "enn = EditedNearestNeighbours()\n",
    "X_under_train, y_under_train = enn.fit_resample(x_train, y_train)\n",
    "print(Counter(y_under_train))"
   ]
  },
  {
   "cell_type": "code",
   "execution_count": 15,
   "metadata": {
    "colab": {
     "base_uri": "https://localhost:8080/"
    },
    "executionInfo": {
     "elapsed": 8890,
     "status": "ok",
     "timestamp": 1651666255302,
     "user": {
      "displayName": "Zhi jie Qian",
      "userId": "17587581155014799590"
     },
     "user_tz": -120
    },
    "id": "dqhOZTUxCXzH",
    "outputId": "afa03536-6390-45ec-bb92-9c1d82e34d8d"
   },
   "outputs": [
    {
     "name": "stdout",
     "output_type": "stream",
     "text": [
      "Train\n",
      "              precision    recall  f1-score   support\n",
      "\n",
      "         0.0       0.78      1.00      0.87       506\n",
      "         1.0       0.00      0.00      0.00       145\n",
      "\n",
      "    accuracy                           0.78       651\n",
      "   macro avg       0.39      0.50      0.44       651\n",
      "weighted avg       0.60      0.78      0.68       651\n",
      "\n",
      "Test\n",
      "              precision    recall  f1-score   support\n",
      "\n",
      "         0.0       0.83      1.00      0.91       177\n",
      "         1.0       0.00      0.00      0.00        37\n",
      "\n",
      "    accuracy                           0.83       214\n",
      "   macro avg       0.41      0.50      0.45       214\n",
      "weighted avg       0.68      0.83      0.75       214\n",
      "\n",
      "[[177   0]\n",
      " [ 37   0]]\n"
     ]
    }
   ],
   "source": [
    "epochs = 50\n",
    "history = nn.fit(X_under_train, y_under_train, epochs=epochs, verbose=0, validation_data=(x_val, y_val))\n",
    "\n",
    "y_pred_train = nn.predict(X_under_train)\n",
    "y_pred_train = y_pred_train > 0.5\n",
    "y_pred = nn.predict(x_val)\n",
    "y_pred = y_pred > 0.5\n",
    "\n",
    "# show_metrics(history)\n",
    "print(\"Train\")\n",
    "print(classification_report(y_under_train, y_pred_train, zero_division=0))\n",
    "print(\"Test\")\n",
    "print(classification_report(y_val, y_pred, zero_division=0))\n",
    "print(confusion_matrix(y_val, y_pred))"
   ]
  },
  {
   "cell_type": "markdown",
   "metadata": {
    "id": "bPJQ1CBFByj5"
   },
   "source": [
    "#### TomekLinks"
   ]
  },
  {
   "cell_type": "code",
   "execution_count": 16,
   "metadata": {
    "colab": {
     "base_uri": "https://localhost:8080/"
    },
    "executionInfo": {
     "elapsed": 497,
     "status": "ok",
     "timestamp": 1651666266858,
     "user": {
      "displayName": "Zhi jie Qian",
      "userId": "17587581155014799590"
     },
     "user_tz": -120
    },
    "id": "VdvRN5igB1T8",
    "outputId": "a251b598-ea62-4f8a-fa00-721a194cb767"
   },
   "outputs": [
    {
     "name": "stdout",
     "output_type": "stream",
     "text": [
      "Counter({0.0: 706, 1.0: 145})\n"
     ]
    }
   ],
   "source": [
    "tl = TomekLinks()\n",
    "X_under_train, y_under_train = tl.fit_resample(x_train, y_train)\n",
    "print(Counter(y_under_train))"
   ]
  },
  {
   "cell_type": "code",
   "execution_count": 17,
   "metadata": {
    "colab": {
     "base_uri": "https://localhost:8080/"
    },
    "executionInfo": {
     "elapsed": 21028,
     "status": "ok",
     "timestamp": 1651666289449,
     "user": {
      "displayName": "Zhi jie Qian",
      "userId": "17587581155014799590"
     },
     "user_tz": -120
    },
    "id": "LMLvM57tCfsj",
    "outputId": "fae2b407-bb52-47cc-98ea-67fc2c492914"
   },
   "outputs": [
    {
     "name": "stdout",
     "output_type": "stream",
     "text": [
      "Train\n",
      "              precision    recall  f1-score   support\n",
      "\n",
      "         0.0       0.83      1.00      0.91       706\n",
      "         1.0       0.00      0.00      0.00       145\n",
      "\n",
      "    accuracy                           0.83       851\n",
      "   macro avg       0.41      0.50      0.45       851\n",
      "weighted avg       0.69      0.83      0.75       851\n",
      "\n",
      "Test\n",
      "              precision    recall  f1-score   support\n",
      "\n",
      "         0.0       0.83      1.00      0.91       177\n",
      "         1.0       0.00      0.00      0.00        37\n",
      "\n",
      "    accuracy                           0.83       214\n",
      "   macro avg       0.41      0.50      0.45       214\n",
      "weighted avg       0.68      0.83      0.75       214\n",
      "\n",
      "[[177   0]\n",
      " [ 37   0]]\n"
     ]
    }
   ],
   "source": [
    "epochs = 50\n",
    "history = nn.fit(X_under_train, y_under_train, epochs=epochs, verbose=0, validation_data=(x_val, y_val))\n",
    "\n",
    "y_pred_train = nn.predict(X_under_train)\n",
    "y_pred_train = y_pred_train > 0.5\n",
    "y_pred = nn.predict(x_val)\n",
    "y_pred = y_pred > 0.5\n",
    "\n",
    "# show_metrics(history)\n",
    "print(\"Train\")\n",
    "print(classification_report(y_under_train, y_pred_train, zero_division=0))\n",
    "print(\"Test\")\n",
    "print(classification_report(y_val, y_pred, zero_division=0))\n",
    "print(confusion_matrix(y_val, y_pred))"
   ]
  },
  {
   "cell_type": "markdown",
   "metadata": {
    "id": "9RQMdB-WCDJU"
   },
   "source": [
    "#### RandomOverSampler"
   ]
  },
  {
   "cell_type": "code",
   "execution_count": 18,
   "metadata": {
    "colab": {
     "base_uri": "https://localhost:8080/"
    },
    "executionInfo": {
     "elapsed": 479,
     "status": "ok",
     "timestamp": 1651666299813,
     "user": {
      "displayName": "Zhi jie Qian",
      "userId": "17587581155014799590"
     },
     "user_tz": -120
    },
    "id": "MR_N0WmEiOwR",
    "outputId": "0de1ed94-b754-414c-ce08-3e2d7668c707"
   },
   "outputs": [
    {
     "name": "stdout",
     "output_type": "stream",
     "text": [
      "Counter({0.0: 707, 1.0: 707})\n"
     ]
    }
   ],
   "source": [
    "oversample = RandomOverSampler()\n",
    "X_over_train, y_over_train = oversample.fit_resample(x_train, y_train)\n",
    "print(Counter(y_over_train))"
   ]
  },
  {
   "cell_type": "code",
   "execution_count": 19,
   "metadata": {
    "colab": {
     "base_uri": "https://localhost:8080/"
    },
    "executionInfo": {
     "elapsed": 17680,
     "status": "ok",
     "timestamp": 1651666319361,
     "user": {
      "displayName": "Zhi jie Qian",
      "userId": "17587581155014799590"
     },
     "user_tz": -120
    },
    "id": "Y1__o4r8CTK6",
    "outputId": "96ff30cb-1463-45c6-dd01-6ff1fa38a8ab"
   },
   "outputs": [
    {
     "name": "stdout",
     "output_type": "stream",
     "text": [
      "Train\n",
      "              precision    recall  f1-score   support\n",
      "\n",
      "         0.0       0.71      0.72      0.72       707\n",
      "         1.0       0.72      0.71      0.71       707\n",
      "\n",
      "    accuracy                           0.71      1414\n",
      "   macro avg       0.72      0.71      0.71      1414\n",
      "weighted avg       0.72      0.71      0.71      1414\n",
      "\n",
      "Test\n",
      "              precision    recall  f1-score   support\n",
      "\n",
      "         0.0       0.89      0.66      0.75       177\n",
      "         1.0       0.27      0.59      0.37        37\n",
      "\n",
      "    accuracy                           0.64       214\n",
      "   macro avg       0.58      0.62      0.56       214\n",
      "weighted avg       0.78      0.64      0.69       214\n",
      "\n",
      "[[116  61]\n",
      " [ 15  22]]\n"
     ]
    }
   ],
   "source": [
    "epochs = 50\n",
    "history = nn.fit(X_over_train, y_over_train, epochs=epochs, verbose=0, validation_data=(x_val, y_val))\n",
    "\n",
    "y_pred_train = nn.predict(X_over_train)\n",
    "y_pred_train = y_pred_train > 0.5\n",
    "y_pred = nn.predict(x_val)\n",
    "y_pred = y_pred > 0.5\n",
    "\n",
    "# show_metrics(history)\n",
    "print(\"Train\")\n",
    "print(classification_report(y_over_train, y_pred_train, zero_division=0))\n",
    "print(\"Test\")\n",
    "print(classification_report(y_val, y_pred, zero_division=0))\n",
    "print(confusion_matrix(y_val, y_pred))"
   ]
  },
  {
   "cell_type": "markdown",
   "metadata": {
    "id": "olAub6eqCimx"
   },
   "source": [
    "#### SMOTE"
   ]
  },
  {
   "cell_type": "code",
   "execution_count": 20,
   "metadata": {
    "colab": {
     "base_uri": "https://localhost:8080/"
    },
    "executionInfo": {
     "elapsed": 417,
     "status": "ok",
     "timestamp": 1651666324242,
     "user": {
      "displayName": "Zhi jie Qian",
      "userId": "17587581155014799590"
     },
     "user_tz": -120
    },
    "id": "qsanL5kICHqz",
    "outputId": "6d6bd594-4b6b-428e-d6f5-42ffd29e665e"
   },
   "outputs": [
    {
     "name": "stdout",
     "output_type": "stream",
     "text": [
      "Counter({0.0: 707, 1.0: 707})\n"
     ]
    }
   ],
   "source": [
    "sm = SMOTE()\n",
    "X_over_train, y_over_train = sm.fit_resample(x_train, y_train)\n",
    "print(Counter(y_over_train))"
   ]
  },
  {
   "cell_type": "code",
   "execution_count": 21,
   "metadata": {
    "colab": {
     "base_uri": "https://localhost:8080/"
    },
    "executionInfo": {
     "elapsed": 41149,
     "status": "ok",
     "timestamp": 1651666367248,
     "user": {
      "displayName": "Zhi jie Qian",
      "userId": "17587581155014799590"
     },
     "user_tz": -120
    },
    "id": "ATfGBRFBCUPw",
    "outputId": "560ae9ec-9e16-4177-f0b2-5606f0c7f4bf"
   },
   "outputs": [
    {
     "name": "stdout",
     "output_type": "stream",
     "text": [
      "Train\n",
      "              precision    recall  f1-score   support\n",
      "\n",
      "         0.0       0.70      0.72      0.71       707\n",
      "         1.0       0.71      0.69      0.70       707\n",
      "\n",
      "    accuracy                           0.71      1414\n",
      "   macro avg       0.71      0.71      0.71      1414\n",
      "weighted avg       0.71      0.71      0.71      1414\n",
      "\n",
      "Test\n",
      "              precision    recall  f1-score   support\n",
      "\n",
      "         0.0       0.88      0.65      0.75       177\n",
      "         1.0       0.26      0.59      0.36        37\n",
      "\n",
      "    accuracy                           0.64       214\n",
      "   macro avg       0.57      0.62      0.56       214\n",
      "weighted avg       0.78      0.64      0.68       214\n",
      "\n",
      "[[115  62]\n",
      " [ 15  22]]\n"
     ]
    }
   ],
   "source": [
    "epochs = 50\n",
    "history = nn.fit(X_over_train, y_over_train, epochs=epochs, verbose=0, validation_data=(x_val, y_val))\n",
    "\n",
    "y_pred_train = nn.predict(X_over_train)\n",
    "y_pred_train = y_pred_train > 0.5\n",
    "y_pred = nn.predict(x_val)\n",
    "y_pred = y_pred > 0.5\n",
    "\n",
    "# show_metrics(history)\n",
    "print(\"Train\")\n",
    "print(classification_report(y_over_train, y_pred_train, zero_division=0))\n",
    "print(\"Test\")\n",
    "print(classification_report(y_val, y_pred, zero_division=0))\n",
    "print(confusion_matrix(y_val, y_pred))"
   ]
  },
  {
   "cell_type": "markdown",
   "metadata": {
    "id": "jNSAQApYCj_z"
   },
   "source": [
    "#### ADASYN"
   ]
  },
  {
   "cell_type": "code",
   "execution_count": 22,
   "metadata": {
    "colab": {
     "base_uri": "https://localhost:8080/"
    },
    "executionInfo": {
     "elapsed": 13,
     "status": "ok",
     "timestamp": 1651666367249,
     "user": {
      "displayName": "Zhi jie Qian",
      "userId": "17587581155014799590"
     },
     "user_tz": -120
    },
    "id": "GVhT0WIrCH-e",
    "outputId": "a50edd21-90cc-4e23-aafc-455bd9e43c8a"
   },
   "outputs": [
    {
     "name": "stdout",
     "output_type": "stream",
     "text": [
      "Counter({0.0: 707, 1.0: 688})\n"
     ]
    }
   ],
   "source": [
    "ada = ADASYN()\n",
    "X_over_train, y_over_train = ada.fit_resample(x_train, y_train)\n",
    "print(Counter(y_over_train))"
   ]
  },
  {
   "cell_type": "code",
   "execution_count": 23,
   "metadata": {
    "colab": {
     "base_uri": "https://localhost:8080/"
    },
    "executionInfo": {
     "elapsed": 20608,
     "status": "ok",
     "timestamp": 1651666387848,
     "user": {
      "displayName": "Zhi jie Qian",
      "userId": "17587581155014799590"
     },
     "user_tz": -120
    },
    "id": "7J2rLncm2oHc",
    "outputId": "e03fe7e1-2a1a-463b-8058-c514afc6c595"
   },
   "outputs": [
    {
     "name": "stdout",
     "output_type": "stream",
     "text": [
      "Train\n",
      "              precision    recall  f1-score   support\n",
      "\n",
      "         0.0       0.65      0.72      0.68       707\n",
      "         1.0       0.68      0.61      0.64       688\n",
      "\n",
      "    accuracy                           0.66      1395\n",
      "   macro avg       0.67      0.66      0.66      1395\n",
      "weighted avg       0.67      0.66      0.66      1395\n",
      "\n",
      "Test\n",
      "              precision    recall  f1-score   support\n",
      "\n",
      "         0.0       0.89      0.66      0.75       177\n",
      "         1.0       0.27      0.59      0.37        37\n",
      "\n",
      "    accuracy                           0.64       214\n",
      "   macro avg       0.58      0.62      0.56       214\n",
      "weighted avg       0.78      0.64      0.69       214\n",
      "\n",
      "[[116  61]\n",
      " [ 15  22]]\n"
     ]
    }
   ],
   "source": [
    "epochs = 50\n",
    "history = nn.fit(X_over_train, y_over_train, epochs=epochs, verbose=0, validation_data=(x_val, y_val))\n",
    "\n",
    "y_pred_train = nn.predict(X_over_train)\n",
    "y_pred_train = y_pred_train > 0.5\n",
    "y_pred = nn.predict(x_val)\n",
    "y_pred = y_pred > 0.5\n",
    "\n",
    "# show_metrics(history)\n",
    "print(\"Train\")\n",
    "print(classification_report(y_over_train, y_pred_train, zero_division=0))\n",
    "print(\"Test\")\n",
    "print(classification_report(y_val, y_pred, zero_division=0))\n",
    "print(confusion_matrix(y_val, y_pred))"
   ]
  },
  {
   "cell_type": "markdown",
   "metadata": {
    "id": "Pda7CUUZ_CsK"
   },
   "source": [
    "### Conclusion\n",
    "TODO:"
   ]
  },
  {
   "cell_type": "markdown",
   "metadata": {
    "id": "eUMBdOam2oHd"
   },
   "source": [
    "### Uso de class_weight pero con paquete que nos proporciona"
   ]
  },
  {
   "cell_type": "code",
   "execution_count": 24,
   "metadata": {
    "colab": {
     "base_uri": "https://localhost:8080/"
    },
    "executionInfo": {
     "elapsed": 201,
     "status": "ok",
     "timestamp": 1651675344201,
     "user": {
      "displayName": "Zhi jie Qian",
      "userId": "17587581155014799590"
     },
     "user_tz": -120
    },
    "id": "CJfmolAdkGDY",
    "outputId": "badcea20-e9d3-4ea9-a735-088e7ec9a65a"
   },
   "outputs": [
    {
     "name": "stdout",
     "output_type": "stream",
     "text": [
      "{0: 0.6025459688826026, 1: 2.9379310344827587}\n"
     ]
    }
   ],
   "source": [
    "from sklearn.utils import class_weight\n",
    "class_weights = class_weight.compute_class_weight('balanced', classes=np.unique(y_train), y=y_train)\n",
    "class_weights = {0: class_weights[0], 1: class_weights[1]}\n",
    "print(class_weights)"
   ]
  },
  {
   "cell_type": "code",
   "execution_count": 25,
   "metadata": {
    "colab": {
     "base_uri": "https://localhost:8080/"
    },
    "executionInfo": {
     "elapsed": 15830,
     "status": "ok",
     "timestamp": 1651666403667,
     "user": {
      "displayName": "Zhi jie Qian",
      "userId": "17587581155014799590"
     },
     "user_tz": -120
    },
    "id": "j4hMiyuSkQgK",
    "outputId": "001d0d16-4854-4856-9de8-6408e188b023"
   },
   "outputs": [
    {
     "name": "stdout",
     "output_type": "stream",
     "text": [
      "Train\n",
      "              precision    recall  f1-score   support\n",
      "\n",
      "         0.0       0.92      0.74      0.82       707\n",
      "         1.0       0.35      0.70      0.47       145\n",
      "\n",
      "    accuracy                           0.73       852\n",
      "   macro avg       0.64      0.72      0.64       852\n",
      "weighted avg       0.83      0.73      0.76       852\n",
      "\n",
      "Test\n",
      "              precision    recall  f1-score   support\n",
      "\n",
      "         0.0       0.89      0.67      0.77       177\n",
      "         1.0       0.28      0.59      0.38        37\n",
      "\n",
      "    accuracy                           0.66       214\n",
      "   macro avg       0.58      0.63      0.57       214\n",
      "weighted avg       0.78      0.66      0.70       214\n",
      "\n",
      "[[119  58]\n",
      " [ 15  22]]\n"
     ]
    }
   ],
   "source": [
    "epochs = 50\n",
    "\n",
    "history = nn.fit(x_train, y_train, epochs=epochs, verbose=0, class_weight=class_weights, validation_data=(x_val, y_val))\n",
    "\n",
    "y_pred_train = nn.predict(x_train)\n",
    "y_pred_train = y_pred_train > 0.5\n",
    "y_pred = nn.predict(x_val)\n",
    "y_pred = y_pred > 0.5\n",
    "\n",
    "# show_metrics(history)\n",
    "print(\"Train\")\n",
    "print(classification_report(y_train, y_pred_train, zero_division=0))\n",
    "print(\"Test\")\n",
    "print(classification_report(y_val, y_pred, zero_division=0))\n",
    "print(confusion_matrix(y_val, y_pred))"
   ]
  },
  {
   "cell_type": "markdown",
   "metadata": {
    "id": "HUpe3H9W_H4K"
   },
   "source": [
    "### Conclusion\n",
    "TODO:"
   ]
  },
  {
   "cell_type": "markdown",
   "metadata": {
    "id": "aeHlBkW9oDdQ"
   },
   "source": [
    "### Aplicar todas las ténicas a la vez.\n"
   ]
  },
  {
   "cell_type": "markdown",
   "metadata": {
    "id": "orwBLXgnCn78"
   },
   "source": [
    "#### RandomUnderSampler + RandomOverSampler"
   ]
  },
  {
   "cell_type": "code",
   "execution_count": 26,
   "metadata": {
    "colab": {
     "base_uri": "https://localhost:8080/"
    },
    "executionInfo": {
     "elapsed": 243,
     "status": "ok",
     "timestamp": 1651676300819,
     "user": {
      "displayName": "Zhi jie Qian",
      "userId": "17587581155014799590"
     },
     "user_tz": -120
    },
    "id": "OhLi7HIpqF0u",
    "outputId": "5ced1a7c-aaf1-4456-f17e-6011c7b17eb2"
   },
   "outputs": [
    {
     "name": "stdout",
     "output_type": "stream",
     "text": [
      "Counter({0.0: 707, 1.0: 145})\n",
      "Counter({0.0: 707, 1.0: 282})\n",
      "Counter({0.0: 564, 1.0: 282})\n",
      "{0: 0.75, 1: 1.5}\n"
     ]
    }
   ],
   "source": [
    "print(Counter(y_train))\n",
    "\n",
    "oversample = RandomOverSampler(sampling_strategy=0.4)\n",
    "X_over_train, y_over_train = oversample.fit_resample(x_train, y_train)\n",
    "print(Counter(y_over_train))\n",
    "\n",
    "undersample = RandomUnderSampler(sampling_strategy=0.5)\n",
    "X_ajust_train, y_ajust_train = undersample.fit_resample(X_over_train, y_over_train)\n",
    "print(Counter(y_ajust_train))\n",
    "\n",
    "class_weights = class_weight.compute_class_weight('balanced', classes=np.unique(y_ajust_train), y=y_ajust_train)\n",
    "class_weights = {0: class_weights[0], 1: class_weights[1]}\n",
    "print(class_weights)"
   ]
  },
  {
   "cell_type": "code",
   "execution_count": 27,
   "metadata": {
    "colab": {
     "base_uri": "https://localhost:8080/"
    },
    "executionInfo": {
     "elapsed": 20810,
     "status": "ok",
     "timestamp": 1651676322679,
     "user": {
      "displayName": "Zhi jie Qian",
      "userId": "17587581155014799590"
     },
     "user_tz": -120
    },
    "id": "6wsZ4r5Oul7o",
    "outputId": "c1e159d0-ec64-4529-f455-88b840810f20"
   },
   "outputs": [
    {
     "name": "stdout",
     "output_type": "stream",
     "text": [
      "Train\n",
      "              precision    recall  f1-score   support\n",
      "\n",
      "         0.0       0.82      0.73      0.77       564\n",
      "         1.0       0.56      0.69      0.61       282\n",
      "\n",
      "    accuracy                           0.71       846\n",
      "   macro avg       0.69      0.71      0.69       846\n",
      "weighted avg       0.73      0.71      0.72       846\n",
      "\n",
      "Test\n",
      "              precision    recall  f1-score   support\n",
      "\n",
      "         0.0       0.89      0.67      0.77       177\n",
      "         1.0       0.28      0.59      0.38        37\n",
      "\n",
      "    accuracy                           0.66       214\n",
      "   macro avg       0.58      0.63      0.57       214\n",
      "weighted avg       0.78      0.66      0.70       214\n",
      "\n",
      "[[119  58]\n",
      " [ 15  22]]\n"
     ]
    }
   ],
   "source": [
    "epochs = 50\n",
    "\n",
    "history = nn.fit(X_ajust_train, y_ajust_train, epochs=epochs, verbose=0, class_weight=class_weights, validation_data=(x_val, y_val))\n",
    "\n",
    "y_pred_train = nn.predict(X_ajust_train)\n",
    "y_pred_train = y_pred_train > 0.5\n",
    "y_pred = nn.predict(x_val)\n",
    "y_pred = y_pred > 0.5\n",
    "\n",
    "# show_metrics(history)\n",
    "print(\"Train\")\n",
    "print(classification_report(y_ajust_train, y_pred_train, zero_division=0))\n",
    "print(\"Test\")\n",
    "print(classification_report(y_val, y_pred, zero_division=0))\n",
    "print(confusion_matrix(y_val, y_pred))"
   ]
  },
  {
   "cell_type": "markdown",
   "metadata": {
    "id": "2fCTUQAbCtI3"
   },
   "source": [
    "#### SMOTE + ENN"
   ]
  },
  {
   "cell_type": "code",
   "execution_count": 28,
   "metadata": {
    "colab": {
     "base_uri": "https://localhost:8080/"
    },
    "executionInfo": {
     "elapsed": 207,
     "status": "ok",
     "timestamp": 1651675880028,
     "user": {
      "displayName": "Zhi jie Qian",
      "userId": "17587581155014799590"
     },
     "user_tz": -120
    },
    "id": "GiQvtEFhDOCr",
    "outputId": "f4fa3d6b-a64b-4d8b-c720-d152836f077a"
   },
   "outputs": [
    {
     "name": "stdout",
     "output_type": "stream",
     "text": [
      "Counter({1.0: 393, 0.0: 355})\n"
     ]
    }
   ],
   "source": [
    "smoteen = SMOTEENN()\n",
    "X_ajust_train, y_ajust_train = smoteen.fit_resample(x_train, y_train)\n",
    "print(Counter(y_ajust_train))"
   ]
  },
  {
   "cell_type": "code",
   "execution_count": 29,
   "metadata": {
    "colab": {
     "base_uri": "https://localhost:8080/"
    },
    "executionInfo": {
     "elapsed": 20956,
     "status": "ok",
     "timestamp": 1651675902165,
     "user": {
      "displayName": "Zhi jie Qian",
      "userId": "17587581155014799590"
     },
     "user_tz": -120
    },
    "id": "RMOU0OBefmfo",
    "outputId": "b944302b-67bc-4970-9d83-adbe0ab06fda"
   },
   "outputs": [
    {
     "name": "stdout",
     "output_type": "stream",
     "text": [
      "Train\n",
      "              precision    recall  f1-score   support\n",
      "\n",
      "         0.0       0.79      0.79      0.79       355\n",
      "         1.0       0.81      0.81      0.81       393\n",
      "\n",
      "    accuracy                           0.80       748\n",
      "   macro avg       0.80      0.80      0.80       748\n",
      "weighted avg       0.80      0.80      0.80       748\n",
      "\n",
      "Test\n",
      "              precision    recall  f1-score   support\n",
      "\n",
      "         0.0       0.90      0.68      0.78       177\n",
      "         1.0       0.29      0.62      0.40        37\n",
      "\n",
      "    accuracy                           0.67       214\n",
      "   macro avg       0.59      0.65      0.59       214\n",
      "weighted avg       0.79      0.67      0.71       214\n",
      "\n",
      "[[121  56]\n",
      " [ 14  23]]\n"
     ]
    }
   ],
   "source": [
    "epochs = 50\n",
    "\n",
    "history = nn.fit(X_ajust_train, y_ajust_train, epochs=epochs, verbose=0, validation_data=(x_val, y_val))\n",
    "\n",
    "y_pred_train = nn.predict(X_ajust_train)\n",
    "y_pred_train = y_pred_train > 0.5\n",
    "y_pred = nn.predict(x_val)\n",
    "y_pred = y_pred > 0.5\n",
    "\n",
    "# show_metrics(history)\n",
    "print(\"Train\")\n",
    "print(classification_report(y_ajust_train, y_pred_train, zero_division=0))\n",
    "print(\"Test\")\n",
    "print(classification_report(y_val, y_pred, zero_division=0))\n",
    "print(confusion_matrix(y_val, y_pred))"
   ]
  },
  {
   "cell_type": "markdown",
   "metadata": {
    "id": "ISdM_KH_DApy"
   },
   "source": [
    "#### SMOTE + Tomek"
   ]
  },
  {
   "cell_type": "code",
   "execution_count": 30,
   "metadata": {
    "colab": {
     "base_uri": "https://localhost:8080/"
    },
    "executionInfo": {
     "elapsed": 214,
     "status": "ok",
     "timestamp": 1651676524107,
     "user": {
      "displayName": "Zhi jie Qian",
      "userId": "17587581155014799590"
     },
     "user_tz": -120
    },
    "id": "wIWEAMG-EFsR",
    "outputId": "85b6a4b2-0be4-4836-83e4-0703b68fbfc8"
   },
   "outputs": [
    {
     "name": "stdout",
     "output_type": "stream",
     "text": [
      "Counter({0.0: 706, 1.0: 706})\n"
     ]
    }
   ],
   "source": [
    "smtomek = SMOTETomek()\n",
    "X_ajust_train, y_ajust_train = smtomek.fit_resample(x_train, y_train)\n",
    "print(Counter(y_ajust_train))"
   ]
  },
  {
   "cell_type": "code",
   "execution_count": 31,
   "metadata": {
    "colab": {
     "base_uri": "https://localhost:8080/"
    },
    "executionInfo": {
     "elapsed": 17346,
     "status": "ok",
     "timestamp": 1651676543470,
     "user": {
      "displayName": "Zhi jie Qian",
      "userId": "17587581155014799590"
     },
     "user_tz": -120
    },
    "id": "ZgwSbTteDOhN",
    "outputId": "61048d44-fdf2-4f15-c388-be82831b8593"
   },
   "outputs": [
    {
     "name": "stdout",
     "output_type": "stream",
     "text": [
      "Train\n",
      "              precision    recall  f1-score   support\n",
      "\n",
      "         0.0       0.72      0.74      0.73       706\n",
      "         1.0       0.74      0.72      0.73       706\n",
      "\n",
      "    accuracy                           0.73      1412\n",
      "   macro avg       0.73      0.73      0.73      1412\n",
      "weighted avg       0.73      0.73      0.73      1412\n",
      "\n",
      "Test\n",
      "              precision    recall  f1-score   support\n",
      "\n",
      "         0.0       0.90      0.68      0.78       177\n",
      "         1.0       0.29      0.62      0.40        37\n",
      "\n",
      "    accuracy                           0.67       214\n",
      "   macro avg       0.59      0.65      0.59       214\n",
      "weighted avg       0.79      0.67      0.71       214\n",
      "\n",
      "[[121  56]\n",
      " [ 14  23]]\n"
     ]
    }
   ],
   "source": [
    "epochs = 50\n",
    "\n",
    "history = nn.fit(X_ajust_train, y_ajust_train, epochs=epochs, verbose=0, validation_data=(x_val, y_val))\n",
    "\n",
    "y_pred_train = nn.predict(X_ajust_train)\n",
    "y_pred_train = y_pred_train > 0.5\n",
    "y_pred = nn.predict(x_val)\n",
    "y_pred = y_pred > 0.5\n",
    "\n",
    "# show_metrics(history)\n",
    "print(\"Train\")\n",
    "print(classification_report(y_ajust_train, y_pred_train, zero_division=0))\n",
    "print(\"Test\")\n",
    "print(classification_report(y_val, y_pred, zero_division=0))\n",
    "print(confusion_matrix(y_val, y_pred))"
   ]
  },
  {
   "cell_type": "markdown",
   "metadata": {
    "id": "dSCawZ36_OGp"
   },
   "source": [
    "### Conclusion\n",
    "TODO:"
   ]
  }
 ],
 "metadata": {
  "accelerator": "GPU",
  "colab": {
   "collapsed_sections": [],
   "name": "Neuro_P3_one_hot.ipynb",
   "provenance": []
  },
  "kernelspec": {
   "display_name": "Python 3 (ipykernel)",
   "language": "python",
   "name": "python3"
  },
  "language_info": {
   "codemirror_mode": {
    "name": "ipython",
    "version": 3
   },
   "file_extension": ".py",
   "mimetype": "text/x-python",
   "name": "python",
   "nbconvert_exporter": "python",
   "pygments_lexer": "ipython3",
   "version": "3.8.0"
  },
  "latex_envs": {
   "LaTeX_envs_menu_present": true,
   "autoclose": true,
   "autocomplete": true,
   "bibliofile": "biblio.bib",
   "cite_by": "apalike",
   "current_citInitial": 1,
   "eqLabelWithNumbers": true,
   "eqNumInitial": 1,
   "hotkeys": {
    "equation": "Ctrl-E",
    "itemize": "Ctrl-I"
   },
   "labels_anchors": false,
   "latex_user_defs": false,
   "report_style_numbering": false,
   "user_envs_cfg": false
  }
 },
 "nbformat": 4,
 "nbformat_minor": 1
}
