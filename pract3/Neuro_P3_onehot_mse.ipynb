{
 "cells": [
  {
   "cell_type": "code",
   "execution_count": null,
   "metadata": {},
   "outputs": [],
   "source": [
    "# !pip3 install -U keras-tuner\n",
    "# !pip3 install tensorflow\n",
    "# !pip3 install imblearn"
   ]
  },
  {
   "cell_type": "code",
   "execution_count": 6,
   "metadata": {
    "colab": {
     "base_uri": "https://localhost:8080/"
    },
    "executionInfo": {
     "elapsed": 24663,
     "status": "ok",
     "timestamp": 1651496205077,
     "user": {
      "displayName": "Zhi jie Qian",
      "userId": "17587581155014799590"
     },
     "user_tz": -120
    },
    "id": "i0iByM16ywAk",
    "outputId": "4c0f4d4f-1ad4-4ab2-d935-57062922946a"
   },
   "outputs": [],
   "source": [
    "from kerastuner.tuners import RandomSearch\n",
    "\n",
    "import numpy as np\n",
    "import matplotlib.pyplot as plt\n",
    "import tensorflow as tf\n",
    "from tensorflow import keras\n",
    "import keras as k\n",
    "from keras.models import Sequential\n",
    "from keras.layers import Dense\n",
    "from sklearn.metrics import classification_report, confusion_matrix\n",
    "import json\n",
    "from sklearn.metrics import f1_score"
   ]
  },
  {
   "cell_type": "code",
   "execution_count": 7,
   "metadata": {},
   "outputs": [],
   "source": [
    "import imblearn\n",
    "from imblearn.under_sampling import RandomUnderSampler\n",
    "from imblearn.under_sampling import EditedNearestNeighbours\n",
    "from imblearn.under_sampling import TomekLinks\n",
    "from imblearn.over_sampling import RandomOverSampler\n",
    "from imblearn.over_sampling import ADASYN\n",
    "from imblearn.over_sampling import SMOTE\n",
    "from imblearn.combine import SMOTETomek\n",
    "from imblearn.combine import SMOTEENN\n",
    "from collections import Counter\n",
    "from sklearn.metrics import f1_score"
   ]
  },
  {
   "cell_type": "code",
   "execution_count": 8,
   "metadata": {},
   "outputs": [],
   "source": [
    "# gpu_devices = tf.config.experimental.list_physical_devices('GPU')\n",
    "# for device in gpu_devices:\n",
    "#     tf.config.experimental.set_memory_growth(device, True)"
   ]
  },
  {
   "cell_type": "code",
   "execution_count": 9,
   "metadata": {
    "colab": {
     "base_uri": "https://localhost:8080/"
    },
    "executionInfo": {
     "elapsed": 27,
     "status": "ok",
     "timestamp": 1651496205078,
     "user": {
      "displayName": "Zhi jie Qian",
      "userId": "17587581155014799590"
     },
     "user_tz": -120
    },
    "id": "mVMv6vx9D5dS",
    "outputId": "f3502884-b9b5-419f-d8b5-128c3b03c2d0"
   },
   "outputs": [],
   "source": [
    "dataset_url = 'https://www.openml.org/data/get_csv/4965303/flare.arff' \n",
    "dataset = np.genfromtxt(dataset_url, delimiter=',', skip_header=1)\n",
    "\n",
    "x = dataset[:,:-4]\n",
    "x_size = x.shape[1]\n",
    "y = dataset[:,-1]"
   ]
  },
  {
   "cell_type": "code",
   "execution_count": 10,
   "metadata": {},
   "outputs": [
    {
     "data": {
      "text/plain": [
       "array([0., 0., 0., 0., 0., 1., 0., 0., 0., 0., 1., 0., 3., 1., 3., 1., 1.])"
      ]
     },
     "execution_count": 10,
     "metadata": {},
     "output_type": "execute_result"
    }
   ],
   "source": [
    "from sklearn.preprocessing import OneHotEncoder\n",
    "from sklearn.compose import ColumnTransformer\n",
    "\n",
    "ct = ColumnTransformer([(\"columns\", OneHotEncoder(), [0,1])], remainder = 'passthrough')\n",
    "x = ct.fit_transform(x)\n",
    "x[0]"
   ]
  },
  {
   "cell_type": "code",
   "execution_count": 11,
   "metadata": {},
   "outputs": [
    {
     "data": {
      "text/plain": [
       "(1066, 17)"
      ]
     },
     "execution_count": 11,
     "metadata": {},
     "output_type": "execute_result"
    }
   ],
   "source": [
    "x.shape"
   ]
  },
  {
   "cell_type": "code",
   "execution_count": 12,
   "metadata": {},
   "outputs": [],
   "source": [
    "# Contrucción de los conjuntos de entrenamiento y validación\n",
    "\n",
    "from sklearn.model_selection import train_test_split\n",
    "\n",
    "x_train, x_val, y_train, y_val = train_test_split(x, y, stratify=y, test_size=0.2) "
   ]
  },
  {
   "cell_type": "code",
   "execution_count": 13,
   "metadata": {},
   "outputs": [
    {
     "name": "stdout",
     "output_type": "stream",
     "text": [
      "Counter({0.0: 417, 1.0: 417})\n"
     ]
    }
   ],
   "source": [
    "smoteen = SMOTEENN()\n",
    "X_ajust_train, y_ajust_train = smoteen.fit_resample(x_train, y_train)\n",
    "print(Counter(y_ajust_train))"
   ]
  },
  {
   "cell_type": "code",
   "execution_count": 14,
   "metadata": {
    "executionInfo": {
     "elapsed": 2717,
     "status": "ok",
     "timestamp": 1651496207789,
     "user": {
      "displayName": "Zhi jie Qian",
      "userId": "17587581155014799590"
     },
     "user_tz": -120
    },
    "id": "1G20DLNTERXh"
   },
   "outputs": [],
   "source": [
    "metrics = [keras.metrics.BinaryAccuracy(name='ACC')]"
   ]
  },
  {
   "cell_type": "code",
   "execution_count": 22,
   "metadata": {
    "executionInfo": {
     "elapsed": 26,
     "status": "ok",
     "timestamp": 1651496207791,
     "user": {
      "displayName": "Zhi jie Qian",
      "userId": "17587581155014799590"
     },
     "user_tz": -120
    },
    "id": "RZD1IJBTClgw"
   },
   "outputs": [],
   "source": [
    "def work(build_model, max_trials=50, epochs=75):\n",
    "    !rm -rf untitled_project/\n",
    "    tuner = RandomSearch(build_model, objective='val_ACC', max_trials=max_trials, executions_per_trial=3)\n",
    "    tuner.search_space_summary()\n",
    "    tuner.search(x_train, y_train, epochs=epochs, validation_data=(x_val, y_val), verbose=0)\n",
    "    tuner.results_summary()\n",
    "    return tuner"
   ]
  },
  {
   "cell_type": "code",
   "execution_count": 23,
   "metadata": {},
   "outputs": [],
   "source": [
    "def find_F1_score(tuner):\n",
    "    best_nn = tuner.get_best_models()\n",
    "    best_model = None\n",
    "    best_score1 = 0\n",
    "    best_score2 = 0\n",
    "    for model in best_nn:\n",
    "        y_pred = model.predict(x_val)\n",
    "        y_pred = y_pred > 0.5\n",
    "        f1_score1 = f1_score(y_val, y_pred, average='binary')\n",
    "        f1_score2 = f1_score(y_val, y_pred, average='weighted')\n",
    "        if f1_score1 > best_score1:\n",
    "            best_model = model\n",
    "            best_score1 = f1_score1\n",
    "            best_score2 = f1_score2\n",
    "        elif f1_score1 == best_score1:\n",
    "            if f1_score2 > best_score2:\n",
    "                best_model = model\n",
    "                best_score2 = f1_score2\n",
    "            \n",
    "\n",
    "\n",
    "    y_pred = best_model.predict(x_val)\n",
    "    y_pred = y_pred > 0.5\n",
    "    print(confusion_matrix(y_val, y_pred))\n",
    "    print(classification_report(y_val, y_pred, zero_division=0))\n",
    "    config = json.dumps(best_model.get_config(), indent=2)\n",
    "    print(config)"
   ]
  },
  {
   "cell_type": "markdown",
   "metadata": {
    "id": "5sZft7AQFToI"
   },
   "source": [
    "### Loss = binary_crossentropy"
   ]
  },
  {
   "cell_type": "code",
   "execution_count": 25,
   "metadata": {
    "colab": {
     "base_uri": "https://localhost:8080/",
     "height": 522
    },
    "executionInfo": {
     "elapsed": 7844,
     "status": "error",
     "timestamp": 1651491003895,
     "user": {
      "displayName": "Zhi jie Qian",
      "userId": "17587581155014799590"
     },
     "user_tz": -120
    },
    "id": "Yi9hlEqpGBSH",
    "outputId": "c7052264-30bd-46e5-bea3-621e1a53bc87"
   },
   "outputs": [
    {
     "name": "stdout",
     "output_type": "stream",
     "text": [
      "Search space summary\n",
      "Default search space size: 3\n",
      "units (Int)\n",
      "{'default': None, 'conditions': [], 'min_value': 5, 'max_value': 40, 'step': 1, 'sampling': None}\n",
      "dense_activation1 (Choice)\n",
      "{'default': 'relu', 'conditions': [], 'values': ['relu', 'tanh', 'sigmoid'], 'ordered': False}\n",
      "learning_rate (Choice)\n",
      "{'default': 0.01, 'conditions': [], 'values': [0.01, 0.003, 0.001, 0.0003, 0.0001], 'ordered': True}\n",
      "WARNING:tensorflow:Detecting that an object or model or tf.train.Checkpoint is being deleted with unrestored values. See the following logs for the specific values in question. To silence these warnings, use `status.expect_partial()`. See https://www.tensorflow.org/api_docs/python/tf/train/Checkpoint#restorefor details about the status object returned by the restore function.\n",
      "WARNING:tensorflow:Value in checkpoint could not be found in the restored object: (root).optimizer.iter\n",
      "WARNING:tensorflow:Value in checkpoint could not be found in the restored object: (root).optimizer.beta_1\n",
      "WARNING:tensorflow:Value in checkpoint could not be found in the restored object: (root).optimizer.beta_2\n",
      "WARNING:tensorflow:Value in checkpoint could not be found in the restored object: (root).optimizer.decay\n",
      "WARNING:tensorflow:Value in checkpoint could not be found in the restored object: (root).optimizer.learning_rate\n",
      "WARNING:tensorflow:Value in checkpoint could not be found in the restored object: (root).optimizer's state 'm' for (root).layer_with_weights-0.kernel\n",
      "WARNING:tensorflow:Value in checkpoint could not be found in the restored object: (root).optimizer's state 'm' for (root).layer_with_weights-0.bias\n",
      "WARNING:tensorflow:Value in checkpoint could not be found in the restored object: (root).optimizer's state 'm' for (root).layer_with_weights-1.kernel\n",
      "WARNING:tensorflow:Value in checkpoint could not be found in the restored object: (root).optimizer's state 'm' for (root).layer_with_weights-1.bias\n",
      "WARNING:tensorflow:Value in checkpoint could not be found in the restored object: (root).optimizer's state 'v' for (root).layer_with_weights-0.kernel\n",
      "WARNING:tensorflow:Value in checkpoint could not be found in the restored object: (root).optimizer's state 'v' for (root).layer_with_weights-0.bias\n",
      "WARNING:tensorflow:Value in checkpoint could not be found in the restored object: (root).optimizer's state 'v' for (root).layer_with_weights-1.kernel\n",
      "WARNING:tensorflow:Value in checkpoint could not be found in the restored object: (root).optimizer's state 'v' for (root).layer_with_weights-1.bias\n"
     ]
    },
    {
     "name": "stderr",
     "output_type": "stream",
     "text": [
      "'rm' 不是内部或外部命令，也不是可运行的程序\n",
      "或批处理文件。\n"
     ]
    },
    {
     "name": "stdout",
     "output_type": "stream",
     "text": [
      "INFO:tensorflow:Oracle triggered exit\n",
      "Results summary\n",
      "Results in .\\untitled_project\n",
      "Showing 10 best trials\n",
      "<keras_tuner.engine.objective.Objective object at 0x000001CB7705A160>\n",
      "Trial summary\n",
      "Hyperparameters:\n",
      "units: 6\n",
      "dense_activation1: relu\n",
      "learning_rate: 0.001\n",
      "Score: 0.8395638664563497\n",
      "Trial summary\n",
      "Hyperparameters:\n",
      "units: 14\n",
      "dense_activation1: relu\n",
      "learning_rate: 0.003\n",
      "Score: 0.836448609828949\n",
      "Trial summary\n",
      "Hyperparameters:\n",
      "units: 38\n",
      "dense_activation1: relu\n",
      "learning_rate: 0.0003\n",
      "Score: 0.8333333333333334\n",
      "Trial summary\n",
      "Hyperparameters:\n",
      "units: 16\n",
      "dense_activation1: relu\n",
      "learning_rate: 0.0001\n",
      "Score: 0.8317757050196329\n",
      "Trial summary\n",
      "Hyperparameters:\n",
      "units: 29\n",
      "dense_activation1: tanh\n",
      "learning_rate: 0.01\n",
      "Score: 0.8302180568377177\n",
      "[[174   3]\n",
      " [ 29   8]]\n",
      "              precision    recall  f1-score   support\n",
      "\n",
      "         0.0       0.86      0.98      0.92       177\n",
      "         1.0       0.73      0.22      0.33        37\n",
      "\n",
      "    accuracy                           0.85       214\n",
      "   macro avg       0.79      0.60      0.62       214\n",
      "weighted avg       0.83      0.85      0.82       214\n",
      "\n",
      "{\n",
      "  \"name\": \"sequential\",\n",
      "  \"layers\": [\n",
      "    {\n",
      "      \"class_name\": \"InputLayer\",\n",
      "      \"config\": {\n",
      "        \"batch_input_shape\": [\n",
      "          null,\n",
      "          17\n",
      "        ],\n",
      "        \"dtype\": \"float32\",\n",
      "        \"sparse\": false,\n",
      "        \"ragged\": false,\n",
      "        \"name\": \"dense_input\"\n",
      "      }\n",
      "    },\n",
      "    {\n",
      "      \"class_name\": \"Dense\",\n",
      "      \"config\": {\n",
      "        \"name\": \"dense\",\n",
      "        \"trainable\": true,\n",
      "        \"dtype\": \"float32\",\n",
      "        \"units\": 6,\n",
      "        \"activation\": \"relu\",\n",
      "        \"use_bias\": true,\n",
      "        \"kernel_initializer\": {\n",
      "          \"class_name\": \"GlorotUniform\",\n",
      "          \"config\": {\n",
      "            \"seed\": null\n",
      "          }\n",
      "        },\n",
      "        \"bias_initializer\": {\n",
      "          \"class_name\": \"Zeros\",\n",
      "          \"config\": {}\n",
      "        },\n",
      "        \"kernel_regularizer\": null,\n",
      "        \"bias_regularizer\": null,\n",
      "        \"activity_regularizer\": null,\n",
      "        \"kernel_constraint\": null,\n",
      "        \"bias_constraint\": null\n",
      "      }\n",
      "    },\n",
      "    {\n",
      "      \"class_name\": \"Dense\",\n",
      "      \"config\": {\n",
      "        \"name\": \"dense_1\",\n",
      "        \"trainable\": true,\n",
      "        \"dtype\": \"float32\",\n",
      "        \"units\": 1,\n",
      "        \"activation\": \"sigmoid\",\n",
      "        \"use_bias\": true,\n",
      "        \"kernel_initializer\": {\n",
      "          \"class_name\": \"GlorotUniform\",\n",
      "          \"config\": {\n",
      "            \"seed\": null\n",
      "          }\n",
      "        },\n",
      "        \"bias_initializer\": {\n",
      "          \"class_name\": \"Zeros\",\n",
      "          \"config\": {}\n",
      "        },\n",
      "        \"kernel_regularizer\": null,\n",
      "        \"bias_regularizer\": null,\n",
      "        \"activity_regularizer\": null,\n",
      "        \"kernel_constraint\": null,\n",
      "        \"bias_constraint\": null\n",
      "      }\n",
      "    }\n",
      "  ]\n",
      "}\n"
     ]
    }
   ],
   "source": [
    "def build_model_mse_1(hp):\n",
    "    nn = Sequential()\n",
    "    nn.add(Dense(units=hp.Int('units', 5, 40), activation=hp.Choice('dense_activation1', values= ['relu', \"tanh\", 'sigmoid'])))\n",
    "    nn.add(Dense(1, activation=\"sigmoid\"))\n",
    "    nn.compile(optimizer=keras.optimizers.Adam(hp.Choice('learning_rate', values=[0.01, 0.003, 0.001, 0.0003, 0.0001])), loss=\"mse\", metrics=metrics)\n",
    "    return nn\n",
    "\n",
    "tuner = work(build_model_mse_1, max_trials=1000)\n",
    "find_F1_score(tuner)"
   ]
  },
  {
   "cell_type": "code",
   "execution_count": null,
   "metadata": {
    "colab": {
     "base_uri": "https://localhost:8080/"
    },
    "executionInfo": {
     "elapsed": 34695,
     "status": "ok",
     "timestamp": 1651450183979,
     "user": {
      "displayName": "Zhi jie Qian",
      "userId": "17587581155014799590"
     },
     "user_tz": -120
    },
    "id": "hX-g6IXdF_qd",
    "outputId": "ffa61bee-8168-4dbe-b4d6-b5d8241826e8"
   },
   "outputs": [],
   "source": [
    "def build_model_mse_2(hp):\n",
    "    nn = Sequential()\n",
    "    nn.add(Dense(units=hp.Int('units_1', 5, 40), activation=hp.Choice(f\"activation_1\", [\"relu\", \"tanh\", 'sigmoid'])))\n",
    "    nn.add(Dense(units=hp.Int('units_2', 4, 20), activation=hp.Choice(f\"activation_2\", [\"relu\", \"tanh\", 'sigmoid'])))\n",
    "    nn.add(Dense(1, activation=\"sigmoid\"))\n",
    "    nn.compile(optimizer=keras.optimizers.Adam(hp.Choice('learning_rate', values=[0.01, 0.003, 0.001, 0.0003, 0.0001])), loss=\"mse\", metrics=metrics)\n",
    "    return nn\n",
    "\n",
    "tuner = work(build_model_mse_2, max_trials=1000)\n",
    "find_F1_score(tuner)"
   ]
  },
  {
   "cell_type": "code",
   "execution_count": null,
   "metadata": {
    "id": "0XoP7wLsF90-"
   },
   "outputs": [],
   "source": [
    "def build_model_mse_3(hp):\n",
    "    nn = Sequential()\n",
    "    nn.add(Dense(units=hp.Int('units_1', 5, 40), activation=hp.Choice(f\"activation_1\", [\"relu\", \"tanh\", 'sigmoid'])))\n",
    "    nn.add(Dense(units=hp.Int('units_2', 4, 20), activation=hp.Choice(f\"activation_2\", [\"relu\", \"tanh\", 'sigmoid'])))\n",
    "    nn.add(Dense(units=hp.Int('units_3', 3, 10), activation=hp.Choice(f\"activation_3\", [\"relu\", \"tanh\", 'sigmoid'])))\n",
    "    nn.add(Dense(1, activation=\"sigmoid\"))\n",
    "    nn.compile(optimizer=keras.optimizers.Adam(hp.Choice('learning_rate', values=[0.01, 0.003, 0.001, 0.0003, 0.0001])), loss=\"mse\", metrics=metrics)\n",
    "    return nn\n",
    "\n",
    "tuner = work(build_model_mse_3, max_trials=500)\n",
    "find_F1_score(tuner)"
   ]
  },
  {
   "cell_type": "code",
   "execution_count": null,
   "metadata": {
    "colab": {
     "base_uri": "https://localhost:8080/"
    },
    "id": "z5blFah2F7tu",
    "outputId": "60c3c199-8a4d-45ee-c879-1bb9f23b9a20"
   },
   "outputs": [],
   "source": [
    "def build_model_mse_4(hp):\n",
    "    nn = Sequential()\n",
    "    nn.add(Dense(units=hp.Int('units_1', 5, 40), activation=hp.Choice(f\"activation_1\", [\"relu\", \"tanh\", 'sigmoid'])))\n",
    "    nn.add(Dense(units=hp.Int('units_2', 4, 20), activation=hp.Choice(f\"activation_2\", [\"relu\", \"tanh\", 'sigmoid'])))\n",
    "    nn.add(Dense(units=hp.Int('units_3', 3, 10), activation=hp.Choice(f\"activation_3\", [\"relu\", \"tanh\", 'sigmoid'])))\n",
    "    nn.add(Dense(units=hp.Int('units_4', 2, 5), activation=hp.Choice(f\"activation_4\", [\"relu\", \"tanh\", 'sigmoid'])))\n",
    "    nn.add(Dense(1, activation=\"sigmoid\"))\n",
    "    nn.compile(optimizer=keras.optimizers.Adam(hp.Choice('learning_rate', values=[0.01, 0.003, 0.001, 0.0003, 0.0001)), loss=\"mse\", metrics=metrics)\n",
    "    return nn\n",
    "\n",
    "tuner = work(build_model_mse_4, max_trials=500)\n",
    "find_F1_score(tuner)"
   ]
  },
  {
   "cell_type": "code",
   "execution_count": null,
   "metadata": {},
   "outputs": [],
   "source": []
  }
 ],
 "metadata": {
  "accelerator": "GPU",
  "colab": {
   "collapsed_sections": [],
   "name": "Neuro_P3_mse.ipynb",
   "provenance": []
  },
  "kernelspec": {
   "display_name": "Python 3 (ipykernel)",
   "language": "python",
   "name": "python3"
  },
  "language_info": {
   "codemirror_mode": {
    "name": "ipython",
    "version": 3
   },
   "file_extension": ".py",
   "mimetype": "text/x-python",
   "name": "python",
   "nbconvert_exporter": "python",
   "pygments_lexer": "ipython3",
   "version": "3.8.12"
  },
  "latex_envs": {
   "LaTeX_envs_menu_present": true,
   "autoclose": true,
   "autocomplete": true,
   "bibliofile": "biblio.bib",
   "cite_by": "apalike",
   "current_citInitial": 1,
   "eqLabelWithNumbers": true,
   "eqNumInitial": 1,
   "hotkeys": {
    "equation": "Ctrl-E",
    "itemize": "Ctrl-I"
   },
   "labels_anchors": false,
   "latex_user_defs": false,
   "report_style_numbering": false,
   "user_envs_cfg": false
  }
 },
 "nbformat": 4,
 "nbformat_minor": 1
}
